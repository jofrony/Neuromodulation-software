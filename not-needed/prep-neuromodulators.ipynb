{
 "cells": [
  {
   "cell_type": "code",
   "execution_count": 2,
   "metadata": {},
   "outputs": [],
   "source": [
    "from neuromodulation import utils\n",
    "import pathlib\n",
    "import os\n",
    "import shutil\n",
    "import json\n",
    "import glob"
   ]
  },
  {
   "cell_type": "code",
   "execution_count": 54,
   "metadata": {},
   "outputs": [],
   "source": [
    "snudda = pathlib.Path(os.path.abspath('/home/jofrony/Documents/Repositories/BasalGangliaData/data/synapses/striatum/'))\n"
   ]
  },
  {
   "cell_type": "markdown",
   "metadata": {},
   "source": [
    "# FSN"
   ]
  },
  {
   "cell_type": "code",
   "execution_count": 85,
   "metadata": {},
   "outputs": [],
   "source": [
    "fs = pathlib.Path(os.path.abspath('../Neuromodulation/optimisation/FSN/fns/str-fs-e160628_FS2-mMTC180800A-IDB-v20190226/acetylcholine/receptor-modulations.json'))"
   ]
  },
  {
   "cell_type": "code",
   "execution_count": 86,
   "metadata": {},
   "outputs": [],
   "source": [
    "Glutamate = [1.0,1.0, 'no source, likely reduced trough presynaptic effect?']   \n",
    "GABA = [0.6, '1 source ~ -40%']"
   ]
  },
  {
   "cell_type": "code",
   "execution_count": 87,
   "metadata": {},
   "outputs": [],
   "source": [
    "maxModDA = 1\n",
    "failRateDA = 0"
   ]
  },
  {
   "cell_type": "code",
   "execution_count": 88,
   "metadata": {},
   "outputs": [
    {
     "name": "stdout",
     "output_type": "stream",
     "text": [
      "/home/jofrony/Documents/Repositories/BasalGangliaData/data/synapses/striatum/TH_Analysis_191001.h5-parameters-FS.json\n",
      "['TH_Analysis_191001', 'h5-parameters-FS', 'json']\n",
      "/home/jofrony/Documents/Repositories/BasalGangliaData/data/synapses/striatum/TH_Analysis_191001_h5-parameters-FS_modulation.json\n",
      "/home/jofrony/Documents/Repositories/BasalGangliaData/data/synapses/striatum/M1LH_Analysis_191001.h5-parameters-FS.json\n",
      "['M1LH_Analysis_191001', 'h5-parameters-FS', 'json']\n",
      "/home/jofrony/Documents/Repositories/BasalGangliaData/data/synapses/striatum/M1LH_Analysis_191001_h5-parameters-FS_modulation.json\n",
      "/home/jofrony/Documents/Repositories/BasalGangliaData/data/synapses/striatum/M1RH_Analysis_190925.h5-parameters-FS.json\n",
      "['M1RH_Analysis_190925', 'h5-parameters-FS', 'json']\n",
      "/home/jofrony/Documents/Repositories/BasalGangliaData/data/synapses/striatum/M1RH_Analysis_190925_h5-parameters-FS_modulation.json\n",
      "/home/jofrony/Documents/Repositories/BasalGangliaData/data/synapses/striatum/S1_Analysis_191001.h5-parameters-FS.json\n",
      "['S1_Analysis_191001', 'h5-parameters-FS', 'json']\n",
      "/home/jofrony/Documents/Repositories/BasalGangliaData/data/synapses/striatum/S1_Analysis_191001_h5-parameters-FS_modulation.json\n"
     ]
    }
   ],
   "source": [
    "for f in snudda.iterdir():\n",
    "    if 'FS' in os.path.abspath(f) and 'modulation' not in os.path.abspath(f):\n",
    "        print(f)\n",
    "        json_load = json.load(open(f,'rb'))\n",
    "        \n",
    "        for num, param in json_load.items():\n",
    "            json_load[num][\"synapse\"].update({'maxModDA_NMDA' : maxModDA, 'failRateDA' : failRateDA,\n",
    "                                             'maxModDA_AMPA' : maxModDA})\n",
    "        print(f.name.split('.'))\n",
    "        name = os.path.abspath(f.parent / '_'.join([f.name.split('.')[0],f.name.split('.')[1], 'modulation.' + f.name.split('.')[-1]]))\n",
    "        print(name)\n",
    "        with open(name,'w') as f:\n",
    "            json.dump(json_load,f)"
   ]
  },
  {
   "cell_type": "code",
   "execution_count": null,
   "metadata": {},
   "outputs": [],
   "source": []
  },
  {
   "cell_type": "code",
   "execution_count": 59,
   "metadata": {},
   "outputs": [],
   "source": [
    "maxModDA = 0.6\n",
    "failRateDA = 0"
   ]
  },
  {
   "cell_type": "code",
   "execution_count": 60,
   "metadata": {},
   "outputs": [
    {
     "name": "stdout",
     "output_type": "stream",
     "text": [
      "/home/jofrony/Documents/Repositories/BasalGangliaData/data/synapses/striatum/PlanertFitting-FI-tmgaba-fit.json\n",
      "/home/jofrony/Documents/Repositories/BasalGangliaData/data/synapses/striatum/PlanertFitting-FD-tmgaba-fit.json\n"
     ]
    }
   ],
   "source": [
    "for f in snudda.iterdir():\n",
    "    if 'tmgaba' in os.path.abspath(f) and '-F' in os.path.abspath(f) and 'modulation' not in os.path.abspath(f):\n",
    "        print(f)\n",
    "        json_load = json.load(open(f,'rb'))\n",
    "        \n",
    "        for num, param in json_load.items():\n",
    "            json_load[num][\"synapse\"].update({'maxModDA' : maxModDA, 'failRateDA' : failRateDA})\n",
    "\n",
    "        name = os.path.abspath(f.parent / '_'.join([f.name.split('.')[0], 'modulation.' + f.name.split('.')[-1]]))\n",
    "        json.dump(json_load,open(name,'w'))"
   ]
  },
  {
   "cell_type": "markdown",
   "metadata": {},
   "source": [
    "# dSPN"
   ]
  },
  {
   "cell_type": "code",
   "execution_count": 79,
   "metadata": {},
   "outputs": [],
   "source": [
    "Glutamate =  [1.2,1.3, '~a:+0-30%; ~n:+20-50% -> see Lindroos et al., 2018'] # Glutamate\n",
    "GABA = [0.8, '~-15-30% -> see Lindroos et al., 2018'] #GABA"
   ]
  },
  {
   "cell_type": "code",
   "execution_count": 80,
   "metadata": {},
   "outputs": [],
   "source": [
    "maxModDA = 0.8\n",
    "failRateDA = 0"
   ]
  },
  {
   "cell_type": "code",
   "execution_count": 81,
   "metadata": {},
   "outputs": [],
   "source": [
    "for f in snudda.iterdir():\n",
    "    if 'tmgaba' in os.path.abspath(f) and '-D' in os.path.abspath(f) and 'modulation' not in os.path.abspath(f):\n",
    "        json_load = json.load(open(f,'rb'))\n",
    "        \n",
    "        for num, param in json_load.items():\n",
    "            json_load[num][\"synapse\"].update({'maxModDA' : maxModDA, 'failRateDa' : failRateDA})\n",
    "\n",
    "        name = os.path.abspath(f.parent / '_'.join([f.name.split('.')[0], 'modulation.' + f.name.split('.')[-1]]))\n",
    "        json.dump(json_load,open(name,'w'))"
   ]
  },
  {
   "cell_type": "code",
   "execution_count": 89,
   "metadata": {},
   "outputs": [],
   "source": [
    "maxModDA = 1.25\n",
    "failRateDa = 0"
   ]
  },
  {
   "cell_type": "code",
   "execution_count": 90,
   "metadata": {},
   "outputs": [
    {
     "name": "stdout",
     "output_type": "stream",
     "text": [
      "/home/jofrony/Documents/Repositories/BasalGangliaData/data/synapses/striatum/M1RH_Analysis_190925.h5-parameters-MS.json\n",
      "/home/jofrony/Documents/Repositories/BasalGangliaData/data/synapses/striatum/M1RH_Analysis_190925_h5-parameters-MS_d-modulation.json\n",
      "/home/jofrony/Documents/Repositories/BasalGangliaData/data/synapses/striatum/S1_Analysis_191001.h5-parameters-MS.json\n",
      "/home/jofrony/Documents/Repositories/BasalGangliaData/data/synapses/striatum/S1_Analysis_191001_h5-parameters-MS_d-modulation.json\n",
      "/home/jofrony/Documents/Repositories/BasalGangliaData/data/synapses/striatum/M1LH_Analysis_191001.h5-parameters-MS.json\n",
      "/home/jofrony/Documents/Repositories/BasalGangliaData/data/synapses/striatum/M1LH_Analysis_191001_h5-parameters-MS_d-modulation.json\n",
      "/home/jofrony/Documents/Repositories/BasalGangliaData/data/synapses/striatum/TH_Analysis_191001.h5-parameters-MS.json\n",
      "/home/jofrony/Documents/Repositories/BasalGangliaData/data/synapses/striatum/TH_Analysis_191001_h5-parameters-MS_d-modulation.json\n"
     ]
    }
   ],
   "source": [
    "for f in snudda.iterdir():\n",
    "    if 'MS' in os.path.abspath(f) and 'modulation' not in os.path.abspath(f):\n",
    "        print(f)\n",
    "        json_load = json.load(open(f,'rb'))\n",
    "        \n",
    "        for num, param in json_load.items():\n",
    "            json_load[num][\"synapse\"].update({'maxModDA_NMDA' : maxModDA, 'failRateDA' : failRateDA,\n",
    "                                             'maxModDA_AMPA' : maxModDA})\n",
    "\n",
    "        name = os.path.abspath(f.parent / '_'.join([f.name.split('.')[0],f.name.split('.')[1], 'd-modulation.' + f.name.split('.')[-1]]))\n",
    "        print(name)\n",
    "        json.dump(json_load,open(name,'w'))"
   ]
  },
  {
   "cell_type": "markdown",
   "metadata": {},
   "source": [
    "# iSPN"
   ]
  },
  {
   "cell_type": "code",
   "execution_count": 66,
   "metadata": {},
   "outputs": [],
   "source": [
    "Glutamate = [0.8,0.8, '~a:-30-0%; ~n:-40-0%']\n",
    "GABA = [1.0, 'no source. GABAb reduced ~60%']"
   ]
  },
  {
   "cell_type": "code",
   "execution_count": 67,
   "metadata": {},
   "outputs": [],
   "source": [
    "maxModDA = 1.0\n",
    "failRateDA = 0"
   ]
  },
  {
   "cell_type": "code",
   "execution_count": 68,
   "metadata": {},
   "outputs": [
    {
     "name": "stdout",
     "output_type": "stream",
     "text": [
      "/home/jofrony/Documents/Repositories/BasalGangliaData/data/synapses/striatum/PlanertFitting-ID-tmgaba-fit.json\n",
      "/home/jofrony/Documents/Repositories/BasalGangliaData/data/synapses/striatum/PlanertFitting-II-tmgaba-fit.json\n"
     ]
    }
   ],
   "source": [
    "for f in snudda.iterdir():\n",
    "    if 'tmgaba' in os.path.abspath(f) and '-I' in os.path.abspath(f) and 'modulation' not in os.path.abspath(f):\n",
    "        print(f)\n",
    "        json_load = json.load(open(f,'rb'))\n",
    "        \n",
    "        for num, param in json_load.items():\n",
    "            json_load[num][\"synapse\"].update({'maxModDA' : maxModDA, 'failRateDA' : failRateDA})\n",
    "\n",
    "        name = os.path.abspath(f.parent / '.'.join([f.name.split('.')[0]+ '-modulation', f.name.split('.')[-1]]))\n",
    "        json.dump(json_load,open(name,'w'))"
   ]
  },
  {
   "cell_type": "code",
   "execution_count": 91,
   "metadata": {},
   "outputs": [],
   "source": [
    "maxModDA = 0.8\n",
    "failRateDA = 0"
   ]
  },
  {
   "cell_type": "code",
   "execution_count": 92,
   "metadata": {},
   "outputs": [
    {
     "name": "stdout",
     "output_type": "stream",
     "text": [
      "/home/jofrony/Documents/Repositories/BasalGangliaData/data/synapses/striatum/M1RH_Analysis_190925.h5-parameters-MS.json\n",
      "/home/jofrony/Documents/Repositories/BasalGangliaData/data/synapses/striatum/M1RH_Analysis_190925_h5-parameters-MS_i-modulation.json\n",
      "/home/jofrony/Documents/Repositories/BasalGangliaData/data/synapses/striatum/S1_Analysis_191001.h5-parameters-MS.json\n",
      "/home/jofrony/Documents/Repositories/BasalGangliaData/data/synapses/striatum/S1_Analysis_191001_h5-parameters-MS_i-modulation.json\n",
      "/home/jofrony/Documents/Repositories/BasalGangliaData/data/synapses/striatum/M1LH_Analysis_191001.h5-parameters-MS.json\n",
      "/home/jofrony/Documents/Repositories/BasalGangliaData/data/synapses/striatum/M1LH_Analysis_191001_h5-parameters-MS_i-modulation.json\n",
      "/home/jofrony/Documents/Repositories/BasalGangliaData/data/synapses/striatum/TH_Analysis_191001.h5-parameters-MS.json\n",
      "/home/jofrony/Documents/Repositories/BasalGangliaData/data/synapses/striatum/TH_Analysis_191001_h5-parameters-MS_i-modulation.json\n"
     ]
    }
   ],
   "source": [
    "for f in snudda.iterdir():\n",
    "    if 'MS' in os.path.abspath(f) and 'modulation' not in os.path.abspath(f):\n",
    "        print(f)\n",
    "        json_load = json.load(open(f,'rb'))\n",
    "        \n",
    "        for num, param in json_load.items():\n",
    "            json_load[num][\"synapse\"].update({'maxModDA_NMDA' : maxModDA, 'failRateDA' : failRateDA,\n",
    "                                             'maxModDA_AMPA' : maxModDA})\n",
    "\n",
    "        name = os.path.abspath(f.parent / '_'.join([f.name.split('.')[0],f.name.split('.')[1], 'i-modulation.' + f.name.split('.')[-1]]))\n",
    "        print(name)\n",
    "        json.dump(json_load,open(name,'w'))"
   ]
  },
  {
   "cell_type": "markdown",
   "metadata": {},
   "source": [
    "# ChIN"
   ]
  },
  {
   "cell_type": "code",
   "execution_count": 71,
   "metadata": {},
   "outputs": [],
   "source": [
    "Glutamate = [1.0,1.0, 'no source, likely reduced trough presynaptic effect?']\n",
    "GABA = [1.0, '~ -30% - +40%; D2R-type and D1R-type, respectively']"
   ]
  },
  {
   "cell_type": "code",
   "execution_count": 72,
   "metadata": {},
   "outputs": [],
   "source": [
    "maxModDA = 1\n",
    "failRateDA = 0"
   ]
  },
  {
   "cell_type": "code",
   "execution_count": 93,
   "metadata": {},
   "outputs": [
    {
     "name": "stdout",
     "output_type": "stream",
     "text": [
      "/home/jofrony/Documents/Repositories/BasalGangliaData/data/synapses/striatum/S1_Analysis_191001.h5-parameters-CHAT.json\n",
      "/home/jofrony/Documents/Repositories/BasalGangliaData/data/synapses/striatum/M1RH_Analysis_190925.h5-parameters-CHAT.json\n",
      "/home/jofrony/Documents/Repositories/BasalGangliaData/data/synapses/striatum/TH_Analysis_191001.h5-parameters-CHAT.json\n"
     ]
    }
   ],
   "source": [
    "for f in snudda.iterdir():\n",
    "    if 'CHAT' in os.path.abspath(f) and 'modulation' not in os.path.abspath(f):\n",
    "        print(f)\n",
    "        json_load = json.load(open(f,'rb'))\n",
    "        \n",
    "        for num, param in json_load.items():\n",
    "            json_load[num][\"synapse\"].update({'maxModDA_NMDA' : maxModDA, 'failRateDA' : failRateDA,\n",
    "                                             'maxModDA_AMPA' : maxModDA})\n",
    "\n",
    "        name = os.path.abspath(f.parent / '.'.join([f.name.split('.')[0]+ '-modulation', f.name.split('.')[-1]]))\n",
    "        json.dump(json_load,open(name,'w'))"
   ]
  },
  {
   "cell_type": "markdown",
   "metadata": {},
   "source": [
    "# LTS"
   ]
  },
  {
   "cell_type": "code",
   "execution_count": 74,
   "metadata": {},
   "outputs": [],
   "source": [
    "Glutamate = [1.0,1.0, 'no source, likely reduced trough presynaptic effect?']\n",
    "GABA =  [1.0, 'no source, reduced?']"
   ]
  },
  {
   "cell_type": "code",
   "execution_count": 75,
   "metadata": {},
   "outputs": [],
   "source": [
    "maxModDA = 1\n",
    "failRateDA = 0"
   ]
  },
  {
   "cell_type": "code",
   "execution_count": 94,
   "metadata": {},
   "outputs": [
    {
     "name": "stdout",
     "output_type": "stream",
     "text": [
      "/home/jofrony/Documents/Repositories/BasalGangliaData/data/synapses/striatum/M1RH_Analysis_190925.h5-parameters-LTS.json\n",
      "/home/jofrony/Documents/Repositories/BasalGangliaData/data/synapses/striatum/M1LH_Analysis_191001.h5-parameters-LTS.json\n",
      "/home/jofrony/Documents/Repositories/BasalGangliaData/data/synapses/striatum/S1_Analysis_191001.h5-parameters-LTS.json\n"
     ]
    }
   ],
   "source": [
    "for f in snudda.iterdir():\n",
    "    if 'LTS' in os.path.abspath(f) and 'modulation' not in os.path.abspath(f):\n",
    "        print(f)\n",
    "        json_load = json.load(open(f,'rb'))\n",
    "        \n",
    "        for num, param in json_load.items():\n",
    "            json_load[num][\"synapse\"].update({'maxModDA_NMDA' : maxModDA, 'failRateDA' : failRateDA,\n",
    "                                             'maxModDA_AMPA' : maxModDA})\n",
    "\n",
    "        name = os.path.abspath(f.parent / '_'.join([f.name.split('.')[0],f.name.split('.')[1], 'modulation.' + f.name.split('.')[-1]]))\n",
    "        json.dump(json_load,open(name,'w'))"
   ]
  },
  {
   "cell_type": "code",
   "execution_count": null,
   "metadata": {},
   "outputs": [],
   "source": []
  },
  {
   "cell_type": "code",
   "execution_count": null,
   "metadata": {},
   "outputs": [],
   "source": []
  }
 ],
 "metadata": {
  "kernelspec": {
   "display_name": "Python 3",
   "language": "python",
   "name": "python3"
  },
  "language_info": {
   "codemirror_mode": {
    "name": "ipython",
    "version": 3
   },
   "file_extension": ".py",
   "mimetype": "text/x-python",
   "name": "python",
   "nbconvert_exporter": "python",
   "pygments_lexer": "ipython3",
   "version": "3.7.9"
  }
 },
 "nbformat": 4,
 "nbformat_minor": 4
}
