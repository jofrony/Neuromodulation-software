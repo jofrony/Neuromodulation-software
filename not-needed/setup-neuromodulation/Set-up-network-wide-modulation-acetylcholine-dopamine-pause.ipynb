{
 "cells": [
  {
   "cell_type": "markdown",
   "metadata": {},
   "source": [
    "# Acetylcholine"
   ]
  },
  {
   "cell_type": "code",
   "execution_count": 1,
   "metadata": {},
   "outputs": [],
   "source": [
    "from snudda.neuromodulation.modulation_network import Neuromodulation"
   ]
  },
  {
   "cell_type": "code",
   "execution_count": 2,
   "metadata": {},
   "outputs": [
    {
     "data": {
      "image/png": "[encoded data removed]",
      "text/plain": [
       "<Figure size 432x288 with 1 Axes>"
      ]
     },
     "metadata": {
      "needs_background": "light"
     },
     "output_type": "display_data"
    }
   ],
   "source": [
    "import snudda.neuromodulation.modulation as s\n",
    "import numpy as np\n",
    "import matplotlib.pyplot as plt\n",
    "\n",
    "transient = s.alpha_background({\"tstart\" : 500, \"tonic\" : 0.5, \"gmax_decrease\" : 0.5, \"tau\" : 300,'time_step_array' : np.arange(0,3000,0.025)})\n",
    "\n",
    "plt.plot(np.arange(0,3000,0.025),transient)\n",
    "plt.show()"
   ]
  },
  {
   "cell_type": "code",
   "execution_count": 3,
   "metadata": {},
   "outputs": [],
   "source": [
    "nl = Neuromodulation()\n",
    "nl.set_timestep(dt=0.025)\n",
    "nl.set_modulation(neurotransmitter = 'acetylcholine', neurotransmitter_key = 'ACh')\n",
    "nl.transient(neurotransmitter='acetylcholine',\\\n",
    "             method='alpha_background',\\\n",
    "             duration= 3000,\\\n",
    "             parameters={\"tstart\" : 700, \"tonic\" : 0.5, \"gmax_decrease\" : 0.5, \"tau\" : 300})\n"
   ]
  },
  {
   "cell_type": "code",
   "execution_count": 4,
   "metadata": {},
   "outputs": [],
   "source": [
    "nl.ion_channel_modulation(neurotransmitter = 'acetylcholine',\\\n",
    "                          cell_type = 'dSPN',\\\n",
    "                          section = 'soma',\\\n",
    "                          ion_channels = ['kaf_ms','kir_ms','cal12_ms','cal13_ms','can_ms','Im_ms'])\n",
    "nl.ion_channel_modulation(neurotransmitter = 'acetylcholine',\\\n",
    "                          cell_type = 'dSPN',\\\n",
    "                          section = 'dendrite',\\\n",
    "                          ion_channels = ['kaf_ms','kir_ms','cal12_ms','cal13_ms'])\n",
    "nl.ion_channel_modulation(neurotransmitter = 'acetylcholine',\\\n",
    "                          cell_type = 'dSPN',\\\n",
    "                          section = 'axon',\\\n",
    "                          ion_channels = [])"
   ]
  },
  {
   "cell_type": "code",
   "execution_count": 5,
   "metadata": {},
   "outputs": [],
   "source": [
    "nl.ion_channel_modulation(neurotransmitter = 'acetylcholine',\\\n",
    "                          cell_type = 'iSPN',\\\n",
    "                          section = 'soma',\\\n",
    "                          ion_channels = ['kir_ms','cal12_ms','cal13_ms','can_ms'])\n",
    "nl.ion_channel_modulation(neurotransmitter = 'acetylcholine',\\\n",
    "                          cell_type = 'iSPN',\\\n",
    "                          section = 'dendrite',\\\n",
    "                          ion_channels = ['kir_ms','cal12_ms','cal13_ms'])\n",
    "nl.ion_channel_modulation(neurotransmitter = 'acetylcholine',\\\n",
    "                          cell_type = 'iSPN',\\\n",
    "                          section = 'axon',\\\n",
    "                          ion_channels = ['Im_ms'])"
   ]
  },
  {
   "cell_type": "code",
   "execution_count": 6,
   "metadata": {},
   "outputs": [],
   "source": [
    "nl.ion_channel_modulation(neurotransmitter = 'acetylcholine',\\\n",
    "                          cell_type = 'FSN',\\\n",
    "                          section = 'soma',\\\n",
    "                          ion_channels = [])\n",
    "nl.ion_channel_modulation(neurotransmitter = 'acetylcholine',\\\n",
    "                          cell_type = 'FSN',\\\n",
    "                          section = 'dendrite',\\\n",
    "                          ion_channels = [])\n",
    "nl.ion_channel_modulation(neurotransmitter = 'acetylcholine',\\\n",
    "                          cell_type = 'FSN',\\\n",
    "                          section = 'axon',\\\n",
    "                          ion_channels = [])"
   ]
  },
  {
   "cell_type": "code",
   "execution_count": 7,
   "metadata": {},
   "outputs": [],
   "source": [
    "nl.ion_channel_modulation(neurotransmitter = 'acetylcholine',\\\n",
    "                          cell_type = 'LTS',\\\n",
    "                          section = 'soma',\\\n",
    "                          ion_channels = [\"im_lts\",\"kir23_lts\"])\n",
    "nl.ion_channel_modulation(neurotransmitter = 'acetylcholine',\\\n",
    "                          cell_type = 'LTS',\\\n",
    "                          section = 'dendrite',\\\n",
    "                          ion_channels = [\"im_lts\",\"kir23_lts\"])\n",
    "nl.ion_channel_modulation(neurotransmitter = 'acetylcholine',\\\n",
    "                          cell_type = 'LTS',\\\n",
    "                          section = 'axon',\\\n",
    "                          ion_channels = [])"
   ]
  },
  {
   "cell_type": "code",
   "execution_count": 8,
   "metadata": {},
   "outputs": [],
   "source": [
    "nl.ion_channel_modulation(neurotransmitter = 'acetylcholine',\\\n",
    "                          cell_type = 'ChIN',\\\n",
    "                          section = 'soma',\\\n",
    "                          ion_channels = [\"cap_ch\",\"cal_ch\"])\n",
    "nl.ion_channel_modulation(neurotransmitter = 'acetylcholine',\\\n",
    "                          cell_type = 'ChIN',\\\n",
    "                          section = 'dendrite',\\\n",
    "                          ion_channels = [\"cap_ch\",\"cal_ch\",\"kir23_ch\"])\n",
    "nl.ion_channel_modulation(neurotransmitter = 'acetylcholine',\\\n",
    "                          cell_type = 'ChIN',\\\n",
    "                          section = 'axon',\\\n",
    "                          ion_channels = [\"\"])"
   ]
  },
  {
   "cell_type": "code",
   "execution_count": 9,
   "metadata": {},
   "outputs": [],
   "source": [
    "nl.receptor_modulation(neurotransmitter = 'acetylcholine',\\\n",
    "                      cell_type = 'FSN',\\\n",
    "                      receptor = 'tmGabaA',\\\n",
    "                      modulation = {'maxMod' : 0.8})\n"
   ]
  },
  {
   "cell_type": "markdown",
   "metadata": {},
   "source": [
    "# Dopamine"
   ]
  },
  {
   "cell_type": "code",
   "execution_count": 10,
   "metadata": {},
   "outputs": [],
   "source": [
    "nl.set_modulation(neurotransmitter = 'dopamine', neurotransmitter_key = 'DA')\n",
    "nl.set_timestep(dt=0.025)\n",
    "nl.transient(neurotransmitter='dopamine',\\\n",
    "             method='alpha',\\\n",
    "             duration= 3000,\\\n",
    "             parameters={\"tstart\" : 500, \"gmax\" : 1, \"tau\" : 300})\n"
   ]
  },
  {
   "cell_type": "code",
   "execution_count": 11,
   "metadata": {},
   "outputs": [],
   "source": [
    "nl.ion_channel_modulation(neurotransmitter = 'dopamine',\\\n",
    "                          cell_type = 'dSPN',\\\n",
    "                          section = 'soma',\\\n",
    "                          ion_channels = [\"cal12_ms\",\"cal13_ms\",\"kir_ms\",\"kas_ms\",\"naf_ms\",\"can_ms\"])\n",
    "nl.ion_channel_modulation(neurotransmitter = 'dopamine',\\\n",
    "                          cell_type = 'dSPN',\\\n",
    "                          section = 'dendrite',\\\n",
    "                          ion_channels = [\"kir_ms\",\"kas_ms\",\"kaf_ms\",\"cal12_ms\",\"cal13_ms\"])\n",
    "nl.ion_channel_modulation(neurotransmitter = 'dopamine',\\\n",
    "                          cell_type = 'dSPN',\\\n",
    "                          section = 'axon',\\\n",
    "                          ion_channels = [])"
   ]
  },
  {
   "cell_type": "code",
   "execution_count": 12,
   "metadata": {},
   "outputs": [],
   "source": [
    "nl.ion_channel_modulation(neurotransmitter = 'dopamine',\\\n",
    "                          cell_type = 'iSPN',\\\n",
    "                          section = 'soma',\\\n",
    "                          ion_channels = [\"kir_ms\",\"kas_ms\",\"kaf_ms\",\"naf_ms\",\"cal12_ms\",\"cal13_ms\", \"can_ms\",\"car_ms\"])\n",
    "nl.ion_channel_modulation(neurotransmitter = 'dopamine',\\\n",
    "                          cell_type = 'iSPN',\\\n",
    "                          section = 'dendrite',\\\n",
    "                          ion_channels = [\"kir_ms\",\"kas_ms\",\"kaf_ms\",\"naf_ms\",\"cal12_ms\",\"cal13_ms\", \"can_ms\",\"car_ms\"])\n",
    "nl.ion_channel_modulation(neurotransmitter = 'dopamine',\\\n",
    "                          cell_type = 'iSPN',\\\n",
    "                          section = 'axon',\\\n",
    "                          ion_channels = [\"kir_ms\",\"kas_ms\",\"kaf_ms\",\"naf_ms\",\"cal12_ms\",\"cal13_ms\", \"can_ms\",\"car_ms\"])"
   ]
  },
  {
   "cell_type": "code",
   "execution_count": 13,
   "metadata": {},
   "outputs": [],
   "source": [
    "nl.ion_channel_modulation(neurotransmitter = 'dopamine',\\\n",
    "                          cell_type = 'FSN',\\\n",
    "                          section = 'soma',\\\n",
    "                          ion_channels = [\"naf_fs\",\"kaf_fs\",\"kas_fs\",\"kir_fs\"])\n",
    "nl.ion_channel_modulation(neurotransmitter = 'dopamine',\\\n",
    "                          cell_type = 'FSN',\\\n",
    "                          section = 'dendrite',\\\n",
    "                          ion_channels = [\"naf_fs\",\"kaf_fs\",\"kas_fs\",\"kir_fs\"])\n",
    "nl.ion_channel_modulation(neurotransmitter = 'dopamine',\\\n",
    "                          cell_type = 'FSN',\\\n",
    "                          section = 'axon',\\\n",
    "                          ion_channels = [])"
   ]
  },
  {
   "cell_type": "code",
   "execution_count": 14,
   "metadata": {},
   "outputs": [],
   "source": [
    "nl.ion_channel_modulation(neurotransmitter = 'dopamine',\\\n",
    "                          cell_type = 'LTS',\\\n",
    "                          section = 'soma',\\\n",
    "                          ion_channels = [\"hd_lts\",\"na3_lts\"])\n",
    "nl.ion_channel_modulation(neurotransmitter = 'dopamine',\\\n",
    "                          cell_type = 'LTS',\\\n",
    "                          section = 'dendrite',\\\n",
    "                          ion_channels = [\"hd_lts\"])\n",
    "nl.ion_channel_modulation(neurotransmitter = 'dopamine',\\\n",
    "                          cell_type = 'LTS',\\\n",
    "                          section = 'axon',\\\n",
    "                          ion_channels = [])"
   ]
  },
  {
   "cell_type": "code",
   "execution_count": 15,
   "metadata": {},
   "outputs": [],
   "source": [
    "nl.ion_channel_modulation(neurotransmitter = 'dopamine',\\\n",
    "                          cell_type = 'ChIN',\\\n",
    "                          section = 'soma',\\\n",
    "                          ion_channels = [\"hcn12_ch\"])\n",
    "nl.ion_channel_modulation(neurotransmitter = 'dopamine',\\\n",
    "                          cell_type = 'ChIN',\\\n",
    "                          section = 'dendrite',\\\n",
    "                          ion_channels = [\"hcn12_ch\"])\n",
    "nl.ion_channel_modulation(neurotransmitter = 'dopamine',\\\n",
    "                          cell_type = 'ChIN',\\\n",
    "                          section = 'axon',\\\n",
    "                          ion_channels = [\"hcn12_ch\"])"
   ]
  },
  {
   "cell_type": "code",
   "execution_count": 16,
   "metadata": {},
   "outputs": [],
   "source": [
    "nl.receptor_modulation(neurotransmitter = 'dopamine',\\\n",
    "                      cell_type = 'dSPN',\\\n",
    "                      receptor = 'tmGabA',\\\n",
    "                      modulation = {'maxMod' : 0.8})\n",
    "nl.receptor_modulation(neurotransmitter = 'dopamine',\\\n",
    "                      cell_type = 'dSPN',\\\n",
    "                      receptor = 'tmGlut',\\\n",
    "                      modulation = {'maxMod_AMPA' : 1.2,\\\n",
    "                                   'maxMod_NMDA' : 1.2})"
   ]
  },
  {
   "cell_type": "code",
   "execution_count": 17,
   "metadata": {},
   "outputs": [],
   "source": [
    "nl.save(dir_path='../network_parameters/modulation',name='acetylcholine_dopamine_pause_transient.json')"
   ]
  },
  {
   "cell_type": "code",
   "execution_count": null,
   "metadata": {},
   "outputs": [],
   "source": []
  },
  {
   "cell_type": "code",
   "execution_count": null,
   "metadata": {},
   "outputs": [],
   "source": []
  }
 ],
 "metadata": {
  "kernelspec": {
   "display_name": "Python 3",
   "language": "python",
   "name": "python3"
  },
  "language_info": {
   "codemirror_mode": {
    "name": "ipython",
    "version": 3
   },
   "file_extension": ".py",
   "mimetype": "text/x-python",
   "name": "python",
   "nbconvert_exporter": "python",
   "pygments_lexer": "ipython3",
   "version": "3.7.9"
  }
 },
 "nbformat": 4,
 "nbformat_minor": 4
}
