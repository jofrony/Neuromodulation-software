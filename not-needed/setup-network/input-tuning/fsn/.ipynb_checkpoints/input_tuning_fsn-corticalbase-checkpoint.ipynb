{
 "cells": [
  {
   "cell_type": "markdown",
   "metadata": {},
   "source": [
    "Different morphologies of the same neuron type might require different activation to reach comparable firing frequency. InputScaling simulates a network of a neuron type with different number of inputs, and different frequency to infer what level of input is needed.\n",
    "\n",
    "Here we look at the input to ```neuron_types=\"fs\"```.\n",
    "\n",
    "During a simulation we can vary the input frequency, but not the number of inputs coupled to a neuron, so we use a set of ```num_replicas``` copies of each morphology, each receiving a different number of inputs from ```num_input_min``` to ```num_input_max``` of a given ```input_type``` (e.g. for striatum \"cortical\" or \"thalamic\"). \n",
    "\n",
    "A set of input frequencies are tested, specified by ```input_frequency_range```, and each of these frequencies is run for ```input_duration``` seconds. In this example we create a small example, but we recommend that use use a longer input duration (e.g. 10 seconds, or possibly more)."
   ]
  },
  {
   "cell_type": "code",
   "execution_count": null,
   "metadata": {},
   "outputs": [],
   "source": [
    "import os\n",
    "from snudda.input.input_tuning import InputTuning\n",
    "network_path = os.path.join(\"networks\", \"input_tuning\")\n",
    "input_tuning = InputTuning(network_path)"
   ]
  },
  {
   "cell_type": "markdown",
   "metadata": {},
   "source": [
    "We create a network without any synapses and connect different number of external inputs to the neurons. Each neuron then receives a range of input frequencies."
   ]
  },
  {
   "cell_type": "code",
   "execution_count": null,
   "metadata": {},
   "outputs": [],
   "source": [
    "path = os.path.abspath('../../Neuromodulation/single_cell_models/HBP-2021Q1/striatum/')"
   ]
  },
  {
   "cell_type": "code",
   "execution_count": null,
   "metadata": {},
   "outputs": [],
   "source": [
    "neurons_path = os.path.join(path)\n",
    "input_tuning.setup_network(neurons_path=neurons_path, \n",
    "                           num_replicas=10,\n",
    "                           neuron_types=\"fs\")\n",
    "input_tuning.setup_input(input_type=\"cortical\",  # eg. \"cortical\" or \"thalamic\"\n",
    "                         num_input_min=100,\n",
    "                         num_input_max=500,\n",
    "                         input_duration=1.0,\n",
    "                         input_frequency_range=[1.0, 2.0,3.0])\n"
   ]
  },
  {
   "cell_type": "code",
   "execution_count": null,
   "metadata": {},
   "outputs": [],
   "source": [
    "from snudda.input import SnuddaInput\n",
    "\n",
    "si = SnuddaInput(input_config_file=input_tuning.input_config_file,\n",
    "                 hdf5_network_file=input_tuning.network_file,\n",
    "                 spike_data_filename=input_tuning.input_spikes_file,\n",
    "                 time=input_tuning.max_time)\n",
    "si.generate()"
   ]
  },
  {
   "cell_type": "code",
   "execution_count": null,
   "metadata": {},
   "outputs": [],
   "source": [
    "!nrnivmodl mechanisms-fsn//"
   ]
  },
  {
   "cell_type": "markdown",
   "metadata": {},
   "source": [
    "For large runs, to simulate in parallel use:\n",
    "\n",
    "```mpiexec -n 4 python3 ../../snudda/input/input_tuning.py simulate networks/input_tuning/```\n",
    "\n",
    "Below we just run it in serial in the notebook."
   ]
  },
  {
   "cell_type": "code",
   "execution_count": null,
   "metadata": {},
   "outputs": [],
   "source": [
    "!mpiexec -n 4 python3 ../../../Snudda/snudda/input/input_tuning.py simulate networks/input_tuning"
   ]
  },
  {
   "cell_type": "code",
   "execution_count": null,
   "metadata": {},
   "outputs": [],
   "source": [
    "input_tuning.simulate()"
   ]
  },
  {
   "cell_type": "code",
   "execution_count": null,
   "metadata": {},
   "outputs": [],
   "source": [
    "input_tuning.analyse_results(show_plots=True)"
   ]
  },
  {
   "cell_type": "code",
   "execution_count": null,
   "metadata": {},
   "outputs": [],
   "source": [
    "from snudda.plotting.plot_traces import PlotTraces\n",
    "import os\n",
    "\n",
    "plot_offset = 0  # -0.2\n",
    "skip_time = 0  # 0.5\n",
    "num_traces_max = 6\n",
    "\n",
    "network_path = os.path.join(\"Experiment-Simulation\",\"dopamine_population_unit_network\")\n",
    "network_file = os.path.join(network_path, \"network-synapses.hdf5\")\n",
    "volt_file_name = os.path.join(network_path, \"simulation\", \"network-voltage-transient.csv\")\n",
    "\n",
    "pl = PlotTraces(file_name=volt_file_name,network_file=network_file)\n",
    "\n",
    "pl.plotTraceNeuronType(neuron_type=\"dSPN\", num_traces=num_traces_max, offset=plot_offset, skip_time=skip_time)\n",
    "pl.plotTraceNeuronType(neuron_type=\"iSPN\", num_traces=num_traces_max, offset=plot_offset, skip_time=skip_time)\n",
    "pl.plotTraceNeuronType(neuron_type=\"FSN\", num_traces=num_traces_max, offset=plot_offset, skip_time=skip_time)\n",
    "pl.plotTraceNeuronType(neuron_type=\"ChIN\", num_traces=num_traces_max, offset=plot_offset, skip_time=skip_time)\n",
    "pl.plotTraceNeuronType(neuron_type=\"LTS\", num_traces=num_traces_max, offset=plot_offset, skip_time=skip_time)"
   ]
  }
 ],
 "metadata": {
  "kernelspec": {
   "display_name": "Python 3",
   "language": "python",
   "name": "python3"
  },
  "language_info": {
   "codemirror_mode": {
    "name": "ipython",
    "version": 3
   },
   "file_extension": ".py",
   "mimetype": "text/x-python",
   "name": "python",
   "nbconvert_exporter": "python",
   "pygments_lexer": "ipython3",
   "version": "3.7.9"
  }
 },
 "nbformat": 4,
 "nbformat_minor": 5
}
