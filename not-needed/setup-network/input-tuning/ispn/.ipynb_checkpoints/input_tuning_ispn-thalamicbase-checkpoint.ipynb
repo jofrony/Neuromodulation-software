{
 "cells": [
  {
   "cell_type": "markdown",
   "metadata": {},
   "source": [
    "Different morphologies of the same neuron type might require different activation to reach comparable firing frequency. InputScaling simulates a network of a neuron type with different number of inputs, and different frequency to infer what level of input is needed.\n",
    "\n",
    "Here we look at the input to ```neuron_types=\"fs\"```.\n",
    "\n",
    "During a simulation we can vary the input frequency, but not the number of inputs coupled to a neuron, so we use a set of ```num_replicas``` copies of each morphology, each receiving a different number of inputs from ```num_input_min``` to ```num_input_max``` of a given ```input_type``` (e.g. for striatum \"cortical\" or \"thalamic\"). \n",
    "\n",
    "A set of input frequencies are tested, specified by ```input_frequency_range```, and each of these frequencies is run for ```input_duration``` seconds. In this example we create a small example, but we recommend that use use a longer input duration (e.g. 10 seconds, or possibly more)."
   ]
  },
  {
   "cell_type": "code",
   "execution_count": 1,
   "metadata": {},
   "outputs": [],
   "source": [
    "import os\n",
    "from snudda.input.input_tuning import InputTuning\n",
    "network_path = os.path.join(\"networks\", \"input_tuning-thalamic\")\n",
    "input_tuning = InputTuning(network_path)"
   ]
  },
  {
   "cell_type": "markdown",
   "metadata": {},
   "source": [
    "We create a network without any synapses and connect different number of external inputs to the neurons. Each neuron then receives a range of input frequencies."
   ]
  },
  {
   "cell_type": "code",
   "execution_count": 2,
   "metadata": {},
   "outputs": [],
   "source": [
    "path = os.path.abspath('../../Neuromodulation/single_cell_models/HBP-2021Q1/striatum')"
   ]
  },
  {
   "cell_type": "code",
   "execution_count": 3,
   "metadata": {},
   "outputs": [
    {
     "name": "stdout",
     "output_type": "stream",
     "text": [
      "Skipping neuron type dspn\n",
      "Skipping neuron type fs\n",
      "Found 4 neurons in /home/jofrony/Documents/Repositories/BasalGangliaExperiments/Neuromodulation/single_cell_models/HBP-2021Q1/striatum/ispn\n",
      "Writing network config file to networks/input_tuning-thalamic/network-config.json\n",
      "Processing x = 0/13, y = 0/13\n",
      "Processing x = 0/13, y = 1/13\n",
      "Processing x = 0/13, y = 2/13\n",
      "Processing x = 0/13, y = 3/13\n",
      "Processing x = 0/13, y = 4/13\n",
      "Processing x = 0/13, y = 5/13\n",
      "Processing x = 0/13, y = 6/13\n",
      "Processing x = 0/13, y = 7/13\n",
      "Processing x = 0/13, y = 8/13\n",
      "Processing x = 0/13, y = 9/13\n",
      "Processing x = 0/13, y = 10/13\n",
      "Processing x = 0/13, y = 11/13\n",
      "Processing x = 0/13, y = 12/13\n",
      "Processing x = 1/13, y = 0/13\n",
      "Processing x = 1/13, y = 1/13\n",
      "Processing x = 1/13, y = 2/13\n",
      "Processing x = 1/13, y = 3/13\n",
      "Processing x = 1/13, y = 4/13\n",
      "Processing x = 1/13, y = 5/13\n",
      "Processing x = 1/13, y = 6/13\n",
      "Processing x = 1/13, y = 7/13\n",
      "Processing x = 1/13, y = 8/13\n",
      "Processing x = 1/13, y = 9/13\n",
      "Processing x = 1/13, y = 10/13\n",
      "Processing x = 1/13, y = 11/13\n",
      "Processing x = 1/13, y = 12/13\n",
      "Processing x = 2/13, y = 0/13\n",
      "Processing x = 2/13, y = 1/13\n",
      "Processing x = 2/13, y = 2/13\n",
      "Processing x = 2/13, y = 3/13\n",
      "Processing x = 2/13, y = 4/13\n",
      "Processing x = 2/13, y = 5/13\n",
      "Processing x = 2/13, y = 6/13\n",
      "Processing x = 2/13, y = 7/13\n",
      "Processing x = 2/13, y = 8/13\n",
      "Processing x = 2/13, y = 9/13\n",
      "Processing x = 2/13, y = 10/13\n",
      "Processing x = 2/13, y = 11/13\n",
      "Processing x = 2/13, y = 12/13\n",
      "Processing x = 3/13, y = 0/13\n",
      "Processing x = 3/13, y = 1/13\n",
      "Processing x = 3/13, y = 2/13\n",
      "Processing x = 3/13, y = 3/13\n",
      "Processing x = 3/13, y = 4/13\n",
      "Processing x = 3/13, y = 5/13\n",
      "Processing x = 3/13, y = 6/13\n",
      "Processing x = 3/13, y = 7/13\n",
      "Processing x = 3/13, y = 8/13\n",
      "Processing x = 3/13, y = 9/13\n",
      "Processing x = 3/13, y = 10/13\n",
      "Processing x = 3/13, y = 11/13\n",
      "Processing x = 3/13, y = 12/13\n",
      "Processing x = 4/13, y = 0/13\n",
      "Processing x = 4/13, y = 1/13\n",
      "Processing x = 4/13, y = 2/13\n",
      "Processing x = 4/13, y = 3/13\n",
      "Processing x = 4/13, y = 4/13\n",
      "Processing x = 4/13, y = 5/13\n",
      "Processing x = 4/13, y = 6/13\n",
      "Processing x = 4/13, y = 7/13\n",
      "Processing x = 4/13, y = 8/13\n",
      "Processing x = 4/13, y = 9/13\n",
      "Processing x = 4/13, y = 10/13\n",
      "Processing x = 4/13, y = 11/13\n",
      "Processing x = 4/13, y = 12/13\n",
      "Processing x = 5/13, y = 0/13\n",
      "Processing x = 5/13, y = 1/13\n",
      "Processing x = 5/13, y = 2/13\n",
      "Processing x = 5/13, y = 3/13\n",
      "Processing x = 5/13, y = 4/13\n",
      "Processing x = 5/13, y = 5/13\n",
      "Processing x = 5/13, y = 6/13\n",
      "Processing x = 5/13, y = 7/13\n",
      "Processing x = 5/13, y = 8/13\n",
      "Processing x = 5/13, y = 9/13\n",
      "Processing x = 5/13, y = 10/13\n",
      "Processing x = 5/13, y = 11/13\n",
      "Processing x = 5/13, y = 12/13\n",
      "Processing x = 6/13, y = 0/13\n",
      "Processing x = 6/13, y = 1/13\n",
      "Processing x = 6/13, y = 2/13\n",
      "Processing x = 6/13, y = 3/13\n",
      "Processing x = 6/13, y = 4/13\n",
      "Processing x = 6/13, y = 5/13\n",
      "Processing x = 6/13, y = 6/13\n",
      "Processing x = 6/13, y = 7/13\n",
      "Processing x = 6/13, y = 8/13\n",
      "Processing x = 6/13, y = 9/13\n",
      "Processing x = 6/13, y = 10/13\n",
      "Processing x = 6/13, y = 11/13\n",
      "Processing x = 6/13, y = 12/13\n",
      "Processing x = 7/13, y = 0/13\n",
      "Processing x = 7/13, y = 1/13\n",
      "Processing x = 7/13, y = 2/13\n",
      "Processing x = 7/13, y = 3/13\n",
      "Processing x = 7/13, y = 4/13\n",
      "Processing x = 7/13, y = 5/13\n",
      "Processing x = 7/13, y = 6/13\n",
      "Processing x = 7/13, y = 7/13\n",
      "Processing x = 7/13, y = 8/13\n",
      "Processing x = 7/13, y = 9/13\n",
      "Processing x = 7/13, y = 10/13\n",
      "Processing x = 7/13, y = 11/13\n",
      "Processing x = 7/13, y = 12/13\n",
      "Processing x = 8/13, y = 0/13\n",
      "Processing x = 8/13, y = 1/13\n",
      "Processing x = 8/13, y = 2/13\n",
      "Processing x = 8/13, y = 3/13\n",
      "Processing x = 8/13, y = 4/13\n",
      "Processing x = 8/13, y = 5/13\n",
      "Processing x = 8/13, y = 6/13\n",
      "Processing x = 8/13, y = 7/13\n",
      "Processing x = 8/13, y = 8/13\n",
      "Processing x = 8/13, y = 9/13\n",
      "Processing x = 8/13, y = 10/13\n",
      "Processing x = 8/13, y = 11/13\n",
      "Processing x = 8/13, y = 12/13\n",
      "Processing x = 9/13, y = 0/13\n",
      "Processing x = 9/13, y = 1/13\n",
      "Processing x = 9/13, y = 2/13\n",
      "Processing x = 9/13, y = 3/13\n",
      "Processing x = 9/13, y = 4/13\n",
      "Processing x = 9/13, y = 5/13\n",
      "Processing x = 9/13, y = 6/13\n",
      "Processing x = 9/13, y = 7/13\n",
      "Processing x = 9/13, y = 8/13\n",
      "Processing x = 9/13, y = 9/13\n",
      "Processing x = 9/13, y = 10/13\n",
      "Processing x = 9/13, y = 11/13\n",
      "Processing x = 9/13, y = 12/13\n",
      "Processing x = 10/13, y = 0/13\n",
      "Processing x = 10/13, y = 1/13\n",
      "Processing x = 10/13, y = 2/13\n",
      "Processing x = 10/13, y = 3/13\n",
      "Processing x = 10/13, y = 4/13\n",
      "Processing x = 10/13, y = 5/13\n",
      "Processing x = 10/13, y = 6/13\n",
      "Processing x = 10/13, y = 7/13\n",
      "Processing x = 10/13, y = 8/13\n",
      "Processing x = 10/13, y = 9/13\n",
      "Processing x = 10/13, y = 10/13\n",
      "Processing x = 10/13, y = 11/13\n",
      "Processing x = 10/13, y = 12/13\n",
      "Processing x = 11/13, y = 0/13\n",
      "Processing x = 11/13, y = 1/13\n",
      "Processing x = 11/13, y = 2/13\n",
      "Processing x = 11/13, y = 3/13\n",
      "Processing x = 11/13, y = 4/13\n",
      "Processing x = 11/13, y = 5/13\n",
      "Processing x = 11/13, y = 6/13\n",
      "Processing x = 11/13, y = 7/13\n",
      "Processing x = 11/13, y = 8/13\n",
      "Processing x = 11/13, y = 9/13\n",
      "Processing x = 11/13, y = 10/13\n",
      "Processing x = 11/13, y = 11/13\n",
      "Processing x = 11/13, y = 12/13\n",
      "Processing x = 12/13, y = 0/13\n",
      "Processing x = 12/13, y = 1/13\n",
      "Processing x = 12/13, y = 2/13\n",
      "Processing x = 12/13, y = 3/13\n",
      "Processing x = 12/13, y = 4/13\n",
      "Processing x = 12/13, y = 5/13\n",
      "Processing x = 12/13, y = 6/13\n",
      "Processing x = 12/13, y = 7/13\n",
      "Processing x = 12/13, y = 8/13\n",
      "Processing x = 12/13, y = 9/13\n",
      "Processing x = 12/13, y = 10/13\n",
      "Processing x = 12/13, y = 11/13\n",
      "Processing x = 12/13, y = 12/13\n",
      "No d_view specified, running distribute neurons in serial\n",
      "No connections specified in connectivity_distribution.\n",
      "No output file created, no synapses exist?\n",
      "Creating symbolic link to MERGE file instead\n",
      "networks/input_tuning-thalamic/network-synapses.hdf5 -> network-putative-synapses-MERGED.hdf5\n",
      "Using thalamic synapse density for input\n",
      "Loading 20 neurons with 0 synapses and 0 gap junctions\n",
      "Writing spikes to networks/input_tuning-thalamic/input.hdf5\n"
     ]
    }
   ],
   "source": [
    "neurons_path = os.path.join(path)\n",
    "input_tuning.setup_network(neurons_path=neurons_path, \n",
    "                           num_replicas=5,\n",
    "                           neuron_types=\"ispn\")\n",
    "input_tuning.setup_input(input_type=\"thalamic\",  # eg. \"cortical\" or \"thalamic\"\n",
    "                         num_input_min=50,\n",
    "                         num_input_max=500,\n",
    "                         input_duration=3.0,\n",
    "                         input_frequency_range=[2.0])\n"
   ]
  },
  {
   "cell_type": "code",
   "execution_count": 4,
   "metadata": {},
   "outputs": [
    {
     "name": "stdout",
     "output_type": "stream",
     "text": [
      "Writing spikes to networks/input_tuning-thalamic/input.hdf5\n"
     ]
    }
   ],
   "source": [
    "from snudda.input import SnuddaInput\n",
    "\n",
    "si = SnuddaInput(input_config_file=input_tuning.input_config_file,\n",
    "                 hdf5_network_file=input_tuning.network_file,\n",
    "                 spike_data_filename=input_tuning.input_spikes_file,\n",
    "                 time=input_tuning.max_time)\n",
    "si.generate()"
   ]
  },
  {
   "cell_type": "code",
   "execution_count": 5,
   "metadata": {},
   "outputs": [
    {
     "name": "stdout",
     "output_type": "stream",
     "text": [
      "/home/jofrony/Documents/Repositories/BasalGangliaExperiments/Input_tuning/ispn\n",
      "ls: cannot access 'mechanisms-ispn//*.inc': No such file or directory\n",
      "mechanisms-ispn//bk.mod mechanisms-ispn//cadyn.mod mechanisms-ispn//cal12.mod mechanisms-ispn//cal13.mod mechanisms-ispn//caldyn.mod mechanisms-ispn//can.mod mechanisms-ispn//caq.mod mechanisms-ispn//car.mod mechanisms-ispn//cat32.mod mechanisms-ispn//cat33.mod mechanisms-ispn//concACh.mod mechanisms-ispn//concDA.mod mechanisms-ispn//Im.mod mechanisms-ispn//kaf.mod mechanisms-ispn//kas.mod mechanisms-ispn//kdr.mod mechanisms-ispn//kir.mod mechanisms-ispn//naf.mod mechanisms-ispn//NO.mod mechanisms-ispn//sk.mod mechanisms-ispn//tmgabaa.mod mechanisms-ispn//tmglut_M1RH_D1.mod mechanisms-ispn//tmglut.mod mechanisms-ispn//vecevent.mod\n",
      "bk.mod cadyn.mod cal12.mod cal13.mod caldyn.mod can.mod caq.mod car.mod cat32.mod cat33.mod concACh.mod concDA.mod Im.mod kaf.mod kas.mod kdr.mod kir.mod naf.mod NO.mod sk.mod tmgabaa.mod tmglut_M1RH_D1.mod tmglut.mod vecevent.mod\n",
      "\"/usr/local/nrn/share/nrn/libtool\" --tag=CC --mode=compile mpicc -DHAVE_CONFIG_H  -I. -I.. -I\"/usr/local/nrn/include/nrn\" -I\"/usr/local/nrn/x86_64/lib\"      -g -O2 -c -o mod_func.lo mod_func.c\n",
      "libtool: compile:  mpicc -DHAVE_CONFIG_H -I. -I.. -I/usr/local/nrn/include/nrn -I/usr/local/nrn/x86_64/lib -g -O2 -c mod_func.c  -fPIC -DPIC -o .libs/mod_func.o\n",
      "\"/usr/local/nrn/share/nrn/libtool\" --tag=CC --mode=link mpicc -module  -g -O2    -o libnrnmech.la -rpath \"/usr/local/nrn/x86_64/lib\"  bk.lo cadyn.lo cal12.lo cal13.lo caldyn.lo can.lo caq.lo car.lo cat32.lo cat33.lo concACh.lo concDA.lo Im.lo kaf.lo kas.lo kdr.lo kir.lo naf.lo NO.lo sk.lo tmgabaa.lo tmglut_M1RH_D1.lo tmglut.lo vecevent.lo mod_func.lo  -L\"/usr/local/nrn/x86_64/lib\" -lnrnoc -loc -lmemacs -lnrnmpi -lscopmath -lsparse13 -lreadline -lncurses -ltinfo -L\"/usr/local/nrn/x86_64/lib\" -lnrniv -livoc -lneuron_gnu -lmeschach -lsundials       -lm -ldl\n",
      "libtool: link: rm -fr  .libs/libnrnmech.la .libs/libnrnmech.lai .libs/libnrnmech.so .libs/libnrnmech.so.0 .libs/libnrnmech.so.0.0.0\n",
      "libtool: link: mpicc -shared  -fPIC -DPIC  .libs/bk.o .libs/cadyn.o .libs/cal12.o .libs/cal13.o .libs/caldyn.o .libs/can.o .libs/caq.o .libs/car.o .libs/cat32.o .libs/cat33.o .libs/concACh.o .libs/concDA.o .libs/Im.o .libs/kaf.o .libs/kas.o .libs/kdr.o .libs/kir.o .libs/naf.o .libs/NO.o .libs/sk.o .libs/tmgabaa.o .libs/tmglut_M1RH_D1.o .libs/tmglut.o .libs/vecevent.o .libs/mod_func.o   -Wl,-rpath -Wl,/usr/local/nrn/x86_64/lib -Wl,-rpath -Wl,/usr/local/nrn/x86_64/lib -L/usr/local/nrn/x86_64/lib /usr/local/nrn/x86_64/lib/libnrnoc.so /usr/local/nrn/x86_64/lib/liboc.so -lX11 /usr/local/nrn/x86_64/lib/libmemacs.so /usr/local/nrn/x86_64/lib/libnrnmpi.so /usr/local/nrn/x86_64/lib/libscopmath.so /usr/local/nrn/x86_64/lib/libsparse13.so /usr/local/nrn/x86_64/lib/libreadline.so -lncurses -ltinfo /usr/local/nrn/x86_64/lib/libnrniv.so /usr/local/nrn/x86_64/lib/libivoc.so /usr/local/nrn/x86_64/lib/libneuron_gnu.so /usr/local/nrn/x86_64/lib/libmeschach.so /usr/local/nrn/x86_64/lib/libsundials.so -lm -ldl  -g -O2   -Wl,-soname -Wl,libnrnmech.so.0 -o .libs/libnrnmech.so.0.0.0\n",
      "libtool: link: (cd \".libs\" && rm -f \"libnrnmech.so.0\" && ln -s \"libnrnmech.so.0.0.0\" \"libnrnmech.so.0\")\n",
      "libtool: link: (cd \".libs\" && rm -f \"libnrnmech.so\" && ln -s \"libnrnmech.so.0.0.0\" \"libnrnmech.so\")\n",
      "libtool: link: ( cd \".libs\" && rm -f \"libnrnmech.la\" && ln -s \"../libnrnmech.la\" \"libnrnmech.la\" )\n",
      "Successfully created x86_64/special\n"
     ]
    }
   ],
   "source": [
    "!nrnivmodl mechanisms-ispn/"
   ]
  },
  {
   "cell_type": "markdown",
   "metadata": {},
   "source": [
    "For large runs, to simulate in parallel use:\n",
    "\n",
    "```mpiexec -n 4 python3 ../../snudda/input/input_tuning.py simulate networks/input_tuning/```\n",
    "\n",
    "Below we just run it in serial in the notebook."
   ]
  },
  {
   "cell_type": "code",
   "execution_count": null,
   "metadata": {},
   "outputs": [
    {
     "name": "stdout",
     "output_type": "stream",
     "text": [
      "numprocs=4\n",
      "Run simulation...\n",
      "Tip, to run in parallel on your local machine use: mpiexec -n 4 python3 tuning/input_tuning.py simulate <yournetworkhere>\n",
      "Run simulation...\n",
      "Tip, to run in parallel on your local machine use: mpiexec -n 4 python3 tuning/input_tuning.py simulate <yournetworkhere>\n",
      "Run simulation...\n",
      "Tip, to run in parallel on your local machine use: mpiexec -n 4 python3 tuning/input_tuning.py simulate <yournetworkhere>\n",
      "Run simulation...\n",
      "Tip, to run in parallel on your local machine use: mpiexec -n 4 python3 tuning/input_tuning.py simulate <yournetworkhere>\n",
      "Loading 20 neurons with 0 synapses and 0 gap junctions\n",
      "Loading 20 neurons with 0 synapses and 0 gap junctions\n",
      "Loading 20 neurons with 0 synapses and 0 gap junctions\n",
      "Loading 20 neurons with 0 synapses and 0 gap junctions\n",
      "Running simulation for 3000.0 ms.\n",
      "Running simulation for 3000.0 ms.\n",
      "Running simulation for 3000.0 ms.\n",
      "Running simulation for 3000.0 ms.\n",
      "Running simulation for 3.0 s\n",
      "Running simulation for 3.0 s\n",
      "Running simulation for 3.0 s\n",
      "Running simulation for 3.0 s\n",
      "1% done. Elapsed: 7.0 s, estimated time left: 690.7 s\n"
     ]
    }
   ],
   "source": [
    "!mpiexec -n 4 python3 ../../../Snudda/snudda/input/input_tuning.py simulate networks/input_tuning-thalamic/"
   ]
  },
  {
   "cell_type": "code",
   "execution_count": null,
   "metadata": {},
   "outputs": [],
   "source": [
    "input_tuning.simulate()"
   ]
  },
  {
   "cell_type": "code",
   "execution_count": null,
   "metadata": {},
   "outputs": [],
   "source": [
    "input_tuning.analyse_results(show_plots=True)"
   ]
  },
  {
   "cell_type": "code",
   "execution_count": null,
   "metadata": {},
   "outputs": [],
   "source": [
    "from snudda.plotting.plot_traces import PlotTraces\n",
    "import os\n",
    "\n",
    "plot_offset = 0  # -0.2\n",
    "skip_time = 0  # 0.5\n",
    "num_traces_max = 50\n",
    "\n",
    "network_path = os.path.join(\"networks\",\"input_tuning-thalamic\")\n",
    "network_file = os.path.join(network_path, \"network-synapses.hdf5\")\n",
    "volt_file_name = os.path.join(network_path, \"output_volt.txt\")\n",
    "\n",
    "pl = PlotTraces(file_name=volt_file_name,network_file=network_file)\n",
    "\n",
    "pl.plotTraceNeuronType(neuron_type='ispn',num_traces=num_traces_max, offset=plot_offset, skip_time=skip_time)"
   ]
  },
  {
   "cell_type": "code",
   "execution_count": null,
   "metadata": {},
   "outputs": [],
   "source": []
  }
 ],
 "metadata": {
  "kernelspec": {
   "display_name": "Python 3",
   "language": "python",
   "name": "python3"
  },
  "language_info": {
   "codemirror_mode": {
    "name": "ipython",
    "version": 3
   },
   "file_extension": ".py",
   "mimetype": "text/x-python",
   "name": "python",
   "nbconvert_exporter": "python",
   "pygments_lexer": "ipython3",
   "version": "3.7.9"
  }
 },
 "nbformat": 4,
 "nbformat_minor": 5
}
