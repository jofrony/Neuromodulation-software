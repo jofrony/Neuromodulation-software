{
 "cells": [
  {
   "cell_type": "markdown",
   "metadata": {},
   "source": [
    "Different morphologies of the same neuron type might require different activation to reach comparable firing frequency. InputScaling simulates a network of a neuron type with different number of inputs, and different frequency to infer what level of input is needed.\n",
    "\n",
    "Here we look at the input to ```neuron_types=\"fs\"```.\n",
    "\n",
    "During a simulation we can vary the input frequency, but not the number of inputs coupled to a neuron, so we use a set of ```num_replicas``` copies of each morphology, each receiving a different number of inputs from ```num_input_min``` to ```num_input_max``` of a given ```input_type``` (e.g. for striatum \"cortical\" or \"thalamic\"). \n",
    "\n",
    "A set of input frequencies are tested, specified by ```input_frequency_range```, and each of these frequencies is run for ```input_duration``` seconds. In this example we create a small example, but we recommend that use use a longer input duration (e.g. 10 seconds, or possibly more)."
   ]
  },
  {
   "cell_type": "code",
   "execution_count": 1,
   "metadata": {},
   "outputs": [],
   "source": [
    "import os\n",
    "from snudda.input.input_tuning import InputTuning\n",
    "network_path = os.path.join(\"networks\", \"input_tuning-crtx\")\n",
    "input_tuning = InputTuning(network_path)"
   ]
  },
  {
   "cell_type": "markdown",
   "metadata": {},
   "source": [
    "We create a network without any synapses and connect different number of external inputs to the neurons. Each neuron then receives a range of input frequencies."
   ]
  },
  {
   "cell_type": "code",
   "execution_count": 2,
   "metadata": {},
   "outputs": [],
   "source": [
    "path = os.path.abspath('../../../neurons/striatum/')"
   ]
  },
  {
   "cell_type": "code",
   "execution_count": 3,
   "metadata": {},
   "outputs": [
    {
     "name": "stdout",
     "output_type": "stream",
     "text": [
      "Found 3 neurons in /home/jofrony/Documents/Repositories/BasalGangliaExperiments/Neuromodulation-software/neurons/striatum/dspn\n",
      "Skipping neuron type fs\n",
      "Skipping neuron type ispn\n",
      "Writing network config file to networks/input_tuning-crtx/network-config.json\n",
      "No d_view specified, running distribute neurons in serial\n",
      "No connections specified in connectivity_distribution.\n",
      "Using cortical synapse density for input.\n",
      "Loading 15 neurons with 0 synapses and 0 gap junctions\n",
      "Writing spikes to networks/input_tuning-crtx/input.hdf5\n"
     ]
    }
   ],
   "source": [
    "neurons_path = os.path.join(path)\n",
    "input_tuning.setup_network(neurons_path=neurons_path, \n",
    "                           num_replicas=5,\n",
    "                           neuron_types=\"dspn\")\n",
    "input_tuning.setup_input(input_type=\"cortical\",  # eg. \"cortical\" or \"thalamic\"\n",
    "                         num_input_min=100,\n",
    "                         num_input_max=300,\n",
    "                         input_duration=3.0,\n",
    "                         input_frequency_range=[2.0])\n"
   ]
  },
  {
   "cell_type": "code",
   "execution_count": 4,
   "metadata": {},
   "outputs": [
    {
     "name": "stdout",
     "output_type": "stream",
     "text": [
      "Writing spikes to networks/input_tuning-crtx/input.hdf5\n"
     ]
    }
   ],
   "source": [
    "from snudda.input import SnuddaInput\n",
    "\n",
    "si = SnuddaInput(input_config_file=input_tuning.input_config_file,\n",
    "                 hdf5_network_file=input_tuning.network_file,\n",
    "                 spike_data_filename=input_tuning.input_spikes_file,\n",
    "                 time=input_tuning.max_time)\n",
    "si.generate()"
   ]
  },
  {
   "cell_type": "code",
   "execution_count": 5,
   "metadata": {},
   "outputs": [
    {
     "name": "stdout",
     "output_type": "stream",
     "text": [
      "/home/jofrony/Documents/Repositories/BasalGangliaExperiments/Neuromodulation-software/Experiment-Simulation/input-tuning/dspn\n",
      "ls: cannot access '../../../renamed_mod_files//*.inc': No such file or directory\n",
      "../../../renamed_mod_files//bk_fs.mod ../../../renamed_mod_files//bk_ms.mod ../../../renamed_mod_files//cadyn_fs.mod ../../../renamed_mod_files//cadyn_ms.mod ../../../renamed_mod_files//cal12_ms.mod ../../../renamed_mod_files//cal13_ms.mod ../../../renamed_mod_files//caldyn_ms.mod ../../../renamed_mod_files//can_fs.mod ../../../renamed_mod_files//can_ms.mod ../../../renamed_mod_files//caq_fs.mod ../../../renamed_mod_files//caq_ms.mod ../../../renamed_mod_files//car_fs.mod ../../../renamed_mod_files//car_ms.mod ../../../renamed_mod_files//cat32_ms.mod ../../../renamed_mod_files//cat33_ms.mod ../../../renamed_mod_files//concACh_ms.mod ../../../renamed_mod_files//concDA_ms.mod ../../../renamed_mod_files//Im_ms.mod ../../../renamed_mod_files//kaf_fs.mod ../../../renamed_mod_files//kaf_ms.mod ../../../renamed_mod_files//kas_fs.mod ../../../renamed_mod_files//kas_ms.mod ../../../renamed_mod_files//kdr_fs.mod ../../../renamed_mod_files//kdr_ms.mod ../../../renamed_mod_files//kir_fs.mod ../../../renamed_mod_files//kir_ms.mod ../../../renamed_mod_files//naf_fs.mod ../../../renamed_mod_files//naf_ms.mod ../../../renamed_mod_files//par_ggap.mod ../../../renamed_mod_files//sk_fs.mod ../../../renamed_mod_files//sk_ms.mod ../../../renamed_mod_files//tmgabaa.mod ../../../renamed_mod_files//tmglut_M1RH_D1.mod ../../../renamed_mod_files//tmglut.mod ../../../renamed_mod_files//vecevent.mod\n",
      "bk_fs.mod bk_ms.mod cadyn_fs.mod cadyn_ms.mod cal12_ms.mod cal13_ms.mod caldyn_ms.mod can_fs.mod can_ms.mod caq_fs.mod caq_ms.mod car_fs.mod car_ms.mod cat32_ms.mod cat33_ms.mod concACh_ms.mod concDA_ms.mod Im_ms.mod kaf_fs.mod kaf_ms.mod kas_fs.mod kas_ms.mod kdr_fs.mod kdr_ms.mod kir_fs.mod kir_ms.mod naf_fs.mod naf_ms.mod par_ggap.mod sk_fs.mod sk_ms.mod tmgabaa.mod tmglut_M1RH_D1.mod tmglut.mod vecevent.mod\n",
      "\"/usr/local/nrn/share/nrn/libtool\" --tag=CC --mode=compile mpicc -DHAVE_CONFIG_H  -I. -I.. -I\"/usr/local/nrn/include/nrn\" -I\"/usr/local/nrn/x86_64/lib\"      -g -O2 -c -o mod_func.lo mod_func.c\n",
      "libtool: compile:  mpicc -DHAVE_CONFIG_H -I. -I.. -I/usr/local/nrn/include/nrn -I/usr/local/nrn/x86_64/lib -g -O2 -c mod_func.c  -fPIC -DPIC -o .libs/mod_func.o\n",
      "\"/usr/local/nrn/share/nrn/libtool\" --tag=CC --mode=link mpicc -module  -g -O2    -o libnrnmech.la -rpath \"/usr/local/nrn/x86_64/lib\"  bk_fs.lo bk_ms.lo cadyn_fs.lo cadyn_ms.lo cal12_ms.lo cal13_ms.lo caldyn_ms.lo can_fs.lo can_ms.lo caq_fs.lo caq_ms.lo car_fs.lo car_ms.lo cat32_ms.lo cat33_ms.lo concACh_ms.lo concDA_ms.lo Im_ms.lo kaf_fs.lo kaf_ms.lo kas_fs.lo kas_ms.lo kdr_fs.lo kdr_ms.lo kir_fs.lo kir_ms.lo naf_fs.lo naf_ms.lo par_ggap.lo sk_fs.lo sk_ms.lo tmgabaa.lo tmglut_M1RH_D1.lo tmglut.lo vecevent.lo mod_func.lo  -L\"/usr/local/nrn/x86_64/lib\" -lnrnoc -loc -lmemacs -lnrnmpi -lscopmath -lsparse13 -lreadline -lncurses -ltinfo -L\"/usr/local/nrn/x86_64/lib\" -lnrniv -livoc -lneuron_gnu -lmeschach -lsundials       -lm -ldl\n",
      "libtool: link: rm -fr  .libs/libnrnmech.la .libs/libnrnmech.lai .libs/libnrnmech.so .libs/libnrnmech.so.0 .libs/libnrnmech.so.0.0.0\n",
      "libtool: link: mpicc -shared  -fPIC -DPIC  .libs/bk_fs.o .libs/bk_ms.o .libs/cadyn_fs.o .libs/cadyn_ms.o .libs/cal12_ms.o .libs/cal13_ms.o .libs/caldyn_ms.o .libs/can_fs.o .libs/can_ms.o .libs/caq_fs.o .libs/caq_ms.o .libs/car_fs.o .libs/car_ms.o .libs/cat32_ms.o .libs/cat33_ms.o .libs/concACh_ms.o .libs/concDA_ms.o .libs/Im_ms.o .libs/kaf_fs.o .libs/kaf_ms.o .libs/kas_fs.o .libs/kas_ms.o .libs/kdr_fs.o .libs/kdr_ms.o .libs/kir_fs.o .libs/kir_ms.o .libs/naf_fs.o .libs/naf_ms.o .libs/par_ggap.o .libs/sk_fs.o .libs/sk_ms.o .libs/tmgabaa.o .libs/tmglut_M1RH_D1.o .libs/tmglut.o .libs/vecevent.o .libs/mod_func.o   -Wl,-rpath -Wl,/usr/local/nrn/x86_64/lib -Wl,-rpath -Wl,/usr/local/nrn/x86_64/lib -L/usr/local/nrn/x86_64/lib /usr/local/nrn/x86_64/lib/libnrnoc.so /usr/local/nrn/x86_64/lib/liboc.so -lX11 /usr/local/nrn/x86_64/lib/libmemacs.so /usr/local/nrn/x86_64/lib/libnrnmpi.so /usr/local/nrn/x86_64/lib/libscopmath.so /usr/local/nrn/x86_64/lib/libsparse13.so /usr/local/nrn/x86_64/lib/libreadline.so -lncurses -ltinfo /usr/local/nrn/x86_64/lib/libnrniv.so /usr/local/nrn/x86_64/lib/libivoc.so /usr/local/nrn/x86_64/lib/libneuron_gnu.so /usr/local/nrn/x86_64/lib/libmeschach.so /usr/local/nrn/x86_64/lib/libsundials.so -lm -ldl  -g -O2   -Wl,-soname -Wl,libnrnmech.so.0 -o .libs/libnrnmech.so.0.0.0\n",
      "libtool: link: (cd \".libs\" && rm -f \"libnrnmech.so.0\" && ln -s \"libnrnmech.so.0.0.0\" \"libnrnmech.so.0\")\n",
      "libtool: link: (cd \".libs\" && rm -f \"libnrnmech.so\" && ln -s \"libnrnmech.so.0.0.0\" \"libnrnmech.so\")\n",
      "libtool: link: ( cd \".libs\" && rm -f \"libnrnmech.la\" && ln -s \"../libnrnmech.la\" \"libnrnmech.la\" )\n",
      "Successfully created x86_64/special\n"
     ]
    }
   ],
   "source": [
    "!nrnivmodl ../../../renamed_mod_files/"
   ]
  },
  {
   "cell_type": "markdown",
   "metadata": {},
   "source": [
    "For large runs, to simulate in parallel use:\n",
    "\n",
    "```mpiexec -n 4 python3 ../../snudda/input/input_tuning.py simulate networks/input_tuning/```\n",
    "\n",
    "Below we just run it in serial in the notebook."
   ]
  },
  {
   "cell_type": "code",
   "execution_count": 6,
   "metadata": {},
   "outputs": [
    {
     "name": "stdout",
     "output_type": "stream",
     "text": [
      "numprocs=4\n",
      "Run simulation...\n",
      "Tip, to run in parallel on your local machine use: mpiexec -n 4 python3 tuning/input_tuning.py simulate <yournetworkhere>\n",
      "Run simulation...\n",
      "Tip, to run in parallel on your local machine use: mpiexec -n 4 python3 tuning/input_tuning.py simulate <yournetworkhere>\n",
      "Run simulation...\n",
      "Tip, to run in parallel on your local machine use: mpiexec -n 4 python3 tuning/input_tuning.py simulate <yournetworkhere>\n",
      "Run simulation...\n",
      "Tip, to run in parallel on your local machine use: mpiexec -n 4 python3 tuning/input_tuning.py simulate <yournetworkhere>\n",
      "Traceback (most recent call last):\n",
      "  File \"../../../../../Snudda/snudda/input/input_tuning.py\", line 906, in <module>\n",
      "    input_scaling.simulate()\n",
      "  File \"../../../../../Snudda/snudda/input/input_tuning.py\", line 811, in simulate\n",
      "    sim.add_recording()\n",
      "  File \"/home/jofrony/miniconda3/envs/py37/lib/python3.7/site-packages/snudda/simulate/simulate.py\", line 1215, in add_recording\n",
      "    for k in cell_id if (not self.is_virtual_neuron[k]\n",
      "TypeError: 'NoneType' object is not iterable\n",
      "Loading 15 neurons with 0 synapses and 0 gap junctions\n",
      "\u001b[0mLoading 15 neurons with 0 synapses and 0 gap junctions\n",
      "Traceback (most recent call last):\n",
      "  File \"../../../../../Snudda/snudda/input/input_tuning.py\", line 906, in <module>\n",
      "    input_scaling.simulate()\n",
      "  File \"../../../../../Snudda/snudda/input/input_tuning.py\", line 811, in simulate\n",
      "    sim.add_recording()\n",
      "  File \"/home/jofrony/miniconda3/envs/py37/lib/python3.7/site-packages/snudda/simulate/simulate.py\", line 1215, in add_recording\n",
      "    for k in cell_id if (not self.is_virtual_neuron[k]\n",
      "TypeError: 'NoneType' object is not iterable\n",
      "\u001b[0mLoading 15 neurons with 0 synapses and 0 gap junctions\n",
      "Loading 15 neurons with 0 synapses and 0 gap junctions\n",
      "Traceback (most recent call last):\n",
      "  File \"../../../../../Snudda/snudda/input/input_tuning.py\", line 906, in <module>\n",
      "    input_scaling.simulate()\n",
      "  File \"../../../../../Snudda/snudda/input/input_tuning.py\", line 811, in simulate\n",
      "    sim.add_recording()\n",
      "  File \"/home/jofrony/miniconda3/envs/py37/lib/python3.7/site-packages/snudda/simulate/simulate.py\", line 1215, in add_recording\n",
      "    for k in cell_id if (not self.is_virtual_neuron[k]\n",
      "TypeError: 'NoneType' object is not iterable\n",
      "\u001b[0mTraceback (most recent call last):\n",
      "  File \"../../../../../Snudda/snudda/input/input_tuning.py\", line 906, in <module>\n",
      "    input_scaling.simulate()\n",
      "  File \"../../../../../Snudda/snudda/input/input_tuning.py\", line 811, in simulate\n",
      "    sim.add_recording()\n",
      "  File \"/home/jofrony/miniconda3/envs/py37/lib/python3.7/site-packages/snudda/simulate/simulate.py\", line 1215, in add_recording\n",
      "    for k in cell_id if (not self.is_virtual_neuron[k]\n",
      "TypeError: 'NoneType' object is not iterable\n",
      "\u001b[0m-------------------------------------------------------\n",
      "Primary job  terminated normally, but 1 process returned\n",
      "a non-zero exit code.. Per user-direction, the job has been aborted.\n",
      "-------------------------------------------------------\n",
      "--------------------------------------------------------------------------\n",
      "mpiexec detected that one or more processes exited with non-zero status, thus causing\n",
      "the job to be terminated. The first process to do so was:\n",
      "\n",
      "  Process name: [[34126,1],1]\n",
      "  Exit code:    1\n",
      "--------------------------------------------------------------------------\n"
     ]
    }
   ],
   "source": [
    "!mpiexec -n 4 python3 ../../../../../Snudda/snudda/input/input_tuning.py simulate networks/input_tuning-crtx/"
   ]
  },
  {
   "cell_type": "code",
   "execution_count": null,
   "metadata": {},
   "outputs": [],
   "source": []
  },
  {
   "cell_type": "code",
   "execution_count": null,
   "metadata": {},
   "outputs": [],
   "source": [
    "input_tuning.simulate()"
   ]
  },
  {
   "cell_type": "code",
   "execution_count": null,
   "metadata": {},
   "outputs": [],
   "source": [
    "input_tuning.analyse_results(show_plots=True)"
   ]
  },
  {
   "cell_type": "code",
   "execution_count": null,
   "metadata": {},
   "outputs": [],
   "source": [
    "from snudda.plotting.plot_traces import PlotTraces\n",
    "import os\n",
    "\n",
    "plot_offset = 0  # -0.2\n",
    "skip_time = 0  # 0.5\n",
    "num_traces_max = 50\n",
    "\n",
    "network_path = os.path.join(\"networks\",\"input_tuning-crtx\")\n",
    "network_file = os.path.join(network_path, \"network-synapses.hdf5\")\n",
    "volt_file_name = os.path.join(network_path, \"output_volt.txt\")\n",
    "\n",
    "pl = PlotTraces(file_name=volt_file_name,network_file=network_file)\n",
    "\n",
    "pl.plotTraceNeuronType(neuron_type='dspn',num_traces=num_traces_max, offset=plot_offset, skip_time=skip_time)"
   ]
  },
  {
   "cell_type": "code",
   "execution_count": null,
   "metadata": {},
   "outputs": [],
   "source": []
  }
 ],
 "metadata": {
  "kernelspec": {
   "display_name": "Python 3",
   "language": "python",
   "name": "python3"
  },
  "language_info": {
   "codemirror_mode": {
    "name": "ipython",
    "version": 3
   },
   "file_extension": ".py",
   "mimetype": "text/x-python",
   "name": "python",
   "nbconvert_exporter": "python",
   "pygments_lexer": "ipython3",
   "version": "3.7.9"
  }
 },
 "nbformat": 4,
 "nbformat_minor": 5
}
