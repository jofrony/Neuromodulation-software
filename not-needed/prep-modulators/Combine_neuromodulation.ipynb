{
 "cells": [
  {
   "cell_type": "code",
   "execution_count": 1,
   "metadata": {},
   "outputs": [],
   "source": [
    "from neuromodulation import utils\n",
    "import pathlib\n",
    "import os\n",
    "import shutil\n",
    "import json "
   ]
  },
  {
   "cell_type": "code",
   "execution_count": 2,
   "metadata": {},
   "outputs": [],
   "source": [
    "Models = pathlib.Path(os.path.abspath('../neurons/striatum/'))\n",
    "Optimisation = pathlib.Path(os.path.abspath('../../Neuromodulation/optimisation/'))"
   ]
  },
  {
   "cell_type": "code",
   "execution_count": 3,
   "metadata": {},
   "outputs": [],
   "source": [
    "opt_dspn = Optimisation / 'dSPN' / 'pdc' / 'dSPN' / 'dspn'"
   ]
  },
  {
   "cell_type": "code",
   "execution_count": 4,
   "metadata": {},
   "outputs": [
    {
     "name": "stdout",
     "output_type": "stream",
     "text": [
      "/home/jofrony/Documents/Repositories/BasalGangliaExperiments/Neuromodulation/optimisation/dSPN/pdc/dSPN/dspn\n"
     ]
    }
   ],
   "source": [
    "%cd $opt_dspn"
   ]
  },
  {
   "cell_type": "code",
   "execution_count": 5,
   "metadata": {},
   "outputs": [],
   "source": [
    "name = 'dspn'\n",
    "\n",
    "snudda_dspn = Models / name"
   ]
  },
  {
   "cell_type": "code",
   "execution_count": 6,
   "metadata": {},
   "outputs": [
    {
     "name": "stdout",
     "output_type": "stream",
     "text": [
      "ID_1\n",
      "ID_2\n",
      "ID_3\n",
      "ID_0\n",
      "ID_1\n",
      "ID_2\n",
      "ID_3\n",
      "ID_0\n",
      "4\n",
      "ID_1\n",
      "ID_2\n",
      "ID_3\n",
      "ID_0\n",
      "ID_1\n",
      "ID_2\n",
      "ID_3\n",
      "ID_0\n",
      "4\n",
      "ID_1\n",
      "ID_2\n",
      "ID_0\n",
      "ID_1\n",
      "ID_2\n",
      "ID_0\n",
      "3\n"
     ]
    }
   ],
   "source": [
    "for k in snudda_dspn.iterdir():\n",
    "    for f in pathlib.Path(os.getcwd()).iterdir():\n",
    "        if k.name == f.name:\n",
    "            listexm = utils.combine_neuromodulators(f,neuromodulators=['dopamine','acetylcholine'])\n",
    "            print(len(listexm))\n",
    "\n",
    "            with open(k / 'modulation.json','w') as f:\n",
    "                json.dump(listexm,f)\n"
   ]
  },
  {
   "cell_type": "code",
   "execution_count": 7,
   "metadata": {},
   "outputs": [
    {
     "name": "stdout",
     "output_type": "stream",
     "text": [
      "/home/jofrony/Documents/Repositories/BasalGangliaExperiments/Neuromodulation/optimisation/iSPN/pdc/iSPN/ispn\n"
     ]
    }
   ],
   "source": [
    "opt_ispn = Optimisation / 'iSPN' / 'pdc' / 'iSPN' / 'ispn'\n",
    "\n",
    "%cd $opt_ispn\n",
    "\n",
    "name = 'ispn'\n",
    "\n",
    "snudda_ispn = Models / name"
   ]
  },
  {
   "cell_type": "code",
   "execution_count": 8,
   "metadata": {},
   "outputs": [
    {
     "name": "stdout",
     "output_type": "stream",
     "text": [
      "ID_1\n",
      "ID_5\n",
      "ID_6\n",
      "ID_4\n",
      "ID_2\n",
      "ID_3\n",
      "ID_0\n",
      "ID_1\n",
      "ID_5\n",
      "ID_6\n",
      "ID_4\n",
      "ID_2\n",
      "ID_3\n",
      "ID_0\n",
      "7\n",
      "ID_1\n",
      "ID_5\n",
      "ID_4\n",
      "ID_2\n",
      "ID_3\n",
      "ID_0\n",
      "ID_1\n",
      "ID_5\n",
      "ID_4\n",
      "ID_2\n",
      "ID_3\n",
      "ID_0\n",
      "6\n",
      "ID_1\n",
      "ID_5\n",
      "ID_6\n",
      "ID_7\n",
      "ID_4\n",
      "ID_2\n",
      "ID_8\n",
      "ID_3\n",
      "ID_0\n",
      "ID_1\n",
      "ID_5\n",
      "ID_6\n",
      "ID_7\n",
      "ID_4\n",
      "ID_2\n",
      "ID_8\n",
      "ID_3\n",
      "ID_0\n",
      "9\n",
      "ID_0\n",
      "ID_0\n",
      "1\n"
     ]
    }
   ],
   "source": [
    "for k in snudda_ispn.iterdir():\n",
    "    for f in pathlib.Path(os.getcwd()).iterdir():\n",
    "        if k.name == f.name:\n",
    "            listexm = utils.combine_neuromodulators(f,neuromodulators=['dopamine','acetylcholine'])\n",
    "            print(len(listexm))\n",
    "\n",
    "            with open(k / 'modulation.json','w') as f:\n",
    "                json.dump(listexm,f)"
   ]
  },
  {
   "cell_type": "code",
   "execution_count": 9,
   "metadata": {},
   "outputs": [
    {
     "name": "stdout",
     "output_type": "stream",
     "text": [
      "/home/jofrony/Documents/Repositories/BasalGangliaExperiments/Neuromodulation/optimisation/FSN/pdc/FSN/fsn\n"
     ]
    }
   ],
   "source": [
    "opt_fsn = Optimisation / 'FSN' / 'pdc' / 'FSN' / 'fsn'\n",
    "\n",
    "%cd $opt_fsn\n",
    "\n",
    "name = 'fs'\n",
    "\n",
    "snudda_fs = Models/ name"
   ]
  },
  {
   "cell_type": "code",
   "execution_count": 10,
   "metadata": {},
   "outputs": [
    {
     "name": "stdout",
     "output_type": "stream",
     "text": [
      "ID_1\n",
      "ID_2\n",
      "ID_3\n",
      "ID_0\n",
      "4\n",
      "ID_1\n",
      "ID_4\n",
      "ID_2\n",
      "ID_3\n",
      "ID_0\n",
      "5\n",
      "ID_1\n",
      "ID_4\n",
      "ID_2\n",
      "ID_3\n",
      "ID_0\n",
      "5\n",
      "ID_1\n",
      "ID_2\n",
      "ID_3\n",
      "ID_0\n",
      "4\n",
      "ID_1\n",
      "ID_5\n",
      "ID_6\n",
      "ID_4\n",
      "ID_2\n",
      "ID_3\n",
      "ID_0\n",
      "7\n"
     ]
    }
   ],
   "source": [
    "for k in snudda_fs.iterdir():\n",
    "    for f in pathlib.Path(os.getcwd()).iterdir():\n",
    "        if k.name == f.name:\n",
    "            listexm = utils.combine_neuromodulators(f,neuromodulators=['dopamine','acetylcholine'])\n",
    "            print(len(listexm))\n",
    "\n",
    "            with open(k / 'modulation.json','w') as f:\n",
    "                json.dump(listexm,f)"
   ]
  },
  {
   "cell_type": "code",
   "execution_count": null,
   "metadata": {},
   "outputs": [],
   "source": []
  },
  {
   "cell_type": "code",
   "execution_count": null,
   "metadata": {},
   "outputs": [],
   "source": []
  }
 ],
 "metadata": {
  "kernelspec": {
   "display_name": "Python 3",
   "language": "python",
   "name": "python3"
  },
  "language_info": {
   "codemirror_mode": {
    "name": "ipython",
    "version": 3
   },
   "file_extension": ".py",
   "mimetype": "text/x-python",
   "name": "python",
   "nbconvert_exporter": "python",
   "pygments_lexer": "ipython3",
   "version": "3.7.9"
  }
 },
 "nbformat": 4,
 "nbformat_minor": 4
}
