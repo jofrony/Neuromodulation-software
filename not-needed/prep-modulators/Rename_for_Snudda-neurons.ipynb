{
 "cells": [
  {
   "cell_type": "code",
   "execution_count": 122,
   "metadata": {},
   "outputs": [],
   "source": [
    "from optimisation.replace_mod import RenameModFiles"
   ]
  },
  {
   "cell_type": "code",
   "execution_count": 123,
   "metadata": {},
   "outputs": [],
   "source": [
    "rmf = RenameModFiles()"
   ]
  },
  {
   "cell_type": "code",
   "execution_count": 124,
   "metadata": {},
   "outputs": [],
   "source": [
    "rmf.load('../Neuromodulation/optimisation/FSN/mechanisms-fsn/')"
   ]
  },
  {
   "cell_type": "code",
   "execution_count": 125,
   "metadata": {},
   "outputs": [],
   "source": [
    "rmf.rename(name_mod_file='fs',replaces = {'modA' : 'modDA', 'levelA' : 'levelDA', 'maxModA' : 'maxModDA', 'modulationA' : 'modulationDA'})"
   ]
  },
  {
   "cell_type": "code",
   "execution_count": 103,
   "metadata": {},
   "outputs": [],
   "source": [
    "from optimisation.rename_mechanisms import RenameMechanismFiles"
   ]
  },
  {
   "cell_type": "code",
   "execution_count": 104,
   "metadata": {},
   "outputs": [],
   "source": [
    "rmf = RenameMechanismFiles()"
   ]
  },
  {
   "cell_type": "code",
   "execution_count": 105,
   "metadata": {},
   "outputs": [],
   "source": [
    "rmf.load('neurons/striatum/fs/')"
   ]
  },
  {
   "cell_type": "code",
   "execution_count": 106,
   "metadata": {},
   "outputs": [
    {
     "data": {
      "text/plain": [
       "[PosixPath('neurons/striatum/fs/str-fs-e160628_FS2-mMTC180800A-IDB-v20210210/mechanisms.json'),\n",
       " PosixPath('neurons/striatum/fs/str-fs-e161205_FS1-mBE104E-v20210209/mechanisms.json'),\n",
       " PosixPath('neurons/striatum/fs/str-fs-e161205_FS1-mMTC180800A-IDB-v20210210/mechanisms.json'),\n",
       " PosixPath('neurons/striatum/fs/str-fs-e161024_FS16-mDR-rat-Mar-13-08-1-536-R-v20210210/mechanisms.json'),\n",
       " PosixPath('neurons/striatum/fs/str-fs-e180418_FS5-mMTC251001A-IDB-v20210211/mechanisms.json')]"
      ]
     },
     "execution_count": 106,
     "metadata": {},
     "output_type": "execute_result"
    }
   ],
   "source": [
    "rmf.in_files"
   ]
  },
  {
   "cell_type": "code",
   "execution_count": 107,
   "metadata": {},
   "outputs": [],
   "source": [
    "rmf.rename('fs')"
   ]
  },
  {
   "cell_type": "code",
   "execution_count": 108,
   "metadata": {},
   "outputs": [],
   "source": [
    "from optimisation.rename_parameters import RenameParameterFiles"
   ]
  },
  {
   "cell_type": "code",
   "execution_count": 109,
   "metadata": {},
   "outputs": [],
   "source": [
    "rpf = RenameParameterFiles()\n",
    "rpf.load('neurons/striatum/fs/')"
   ]
  },
  {
   "cell_type": "code",
   "execution_count": 110,
   "metadata": {},
   "outputs": [
    {
     "data": {
      "text/plain": [
       "[PosixPath('neurons/striatum/fs/str-fs-e160628_FS2-mMTC180800A-IDB-v20210210/parameters.json'),\n",
       " PosixPath('neurons/striatum/fs/str-fs-e161205_FS1-mBE104E-v20210209/parameters.json'),\n",
       " PosixPath('neurons/striatum/fs/str-fs-e161205_FS1-mMTC180800A-IDB-v20210210/parameters.json'),\n",
       " PosixPath('neurons/striatum/fs/str-fs-e161024_FS16-mDR-rat-Mar-13-08-1-536-R-v20210210/parameters.json'),\n",
       " PosixPath('neurons/striatum/fs/str-fs-e180418_FS5-mMTC251001A-IDB-v20210211/parameters.json')]"
      ]
     },
     "execution_count": 110,
     "metadata": {},
     "output_type": "execute_result"
    }
   ],
   "source": [
    "rpf.in_files"
   ]
  },
  {
   "cell_type": "code",
   "execution_count": 111,
   "metadata": {},
   "outputs": [],
   "source": [
    "rpf.rename('fs')"
   ]
  },
  {
   "cell_type": "code",
   "execution_count": 126,
   "metadata": {},
   "outputs": [],
   "source": [
    "rmf = RenameModFiles()"
   ]
  },
  {
   "cell_type": "code",
   "execution_count": 127,
   "metadata": {},
   "outputs": [],
   "source": [
    "rmf.load('../Neuromodulation/optimisation/dSPN/mechanisms-dspn/')"
   ]
  },
  {
   "cell_type": "code",
   "execution_count": 128,
   "metadata": {},
   "outputs": [],
   "source": [
    "rmf.rename(name_mod_file='ms',replaces = {'modA' : 'modDA', 'levelA' : 'levelDA', 'maxModA' : 'maxModDA', 'modulationA' : 'modulationDA','modB' : 'modACh', 'levelB' : 'levelACh', 'maxModB' : 'maxModACh', 'modulationB' : 'modulationACh'})"
   ]
  },
  {
   "cell_type": "code",
   "execution_count": 129,
   "metadata": {},
   "outputs": [],
   "source": [
    "from optimisation.rename_mechanisms import RenameMechanismFiles"
   ]
  },
  {
   "cell_type": "code",
   "execution_count": 130,
   "metadata": {},
   "outputs": [],
   "source": [
    "rmf = RenameMechanismFiles()"
   ]
  },
  {
   "cell_type": "code",
   "execution_count": 131,
   "metadata": {},
   "outputs": [],
   "source": [
    "rmf.load('neurons/striatum/dspn/')"
   ]
  },
  {
   "cell_type": "code",
   "execution_count": 132,
   "metadata": {},
   "outputs": [
    {
     "data": {
      "text/plain": [
       "[PosixPath('neurons/striatum/dspn/str-dspn-e150917_c9_d1-mWT-1215MSN03-v20210212/mechanisms.json'),\n",
       " PosixPath('neurons/striatum/dspn/str-dspn-e150602_c1_D1-mWT-0728MSN01-v20210212/mechanisms.json'),\n",
       " PosixPath('neurons/striatum/dspn/str-dspn-e150917_c10_D1-mWT-P270-20-v20210212/mechanisms.json')]"
      ]
     },
     "execution_count": 132,
     "metadata": {},
     "output_type": "execute_result"
    }
   ],
   "source": [
    "rmf.in_files"
   ]
  },
  {
   "cell_type": "code",
   "execution_count": 133,
   "metadata": {},
   "outputs": [],
   "source": [
    "rmf.rename('ms')"
   ]
  },
  {
   "cell_type": "code",
   "execution_count": 134,
   "metadata": {},
   "outputs": [],
   "source": [
    "from optimisation.rename_parameters import RenameParameterFiles"
   ]
  },
  {
   "cell_type": "code",
   "execution_count": 135,
   "metadata": {},
   "outputs": [],
   "source": [
    "rpf = RenameParameterFiles()\n",
    "rpf.load('neurons/striatum/dspn/')"
   ]
  },
  {
   "cell_type": "code",
   "execution_count": 136,
   "metadata": {},
   "outputs": [
    {
     "data": {
      "text/plain": [
       "[PosixPath('neurons/striatum/dspn/str-dspn-e150917_c9_d1-mWT-1215MSN03-v20210212/parameters.json'),\n",
       " PosixPath('neurons/striatum/dspn/str-dspn-e150602_c1_D1-mWT-0728MSN01-v20210212/parameters.json'),\n",
       " PosixPath('neurons/striatum/dspn/str-dspn-e150917_c10_D1-mWT-P270-20-v20210212/parameters.json')]"
      ]
     },
     "execution_count": 136,
     "metadata": {},
     "output_type": "execute_result"
    }
   ],
   "source": [
    "rpf.in_files"
   ]
  },
  {
   "cell_type": "code",
   "execution_count": 137,
   "metadata": {},
   "outputs": [],
   "source": [
    "rpf.rename('ms')"
   ]
  },
  {
   "cell_type": "code",
   "execution_count": 139,
   "metadata": {},
   "outputs": [],
   "source": [
    "rmf = RenameModFiles()"
   ]
  },
  {
   "cell_type": "code",
   "execution_count": 140,
   "metadata": {},
   "outputs": [],
   "source": [
    "rmf.load('../Neuromodulation/optimisation/iSPN/mechanisms-ispn/')"
   ]
  },
  {
   "cell_type": "code",
   "execution_count": 141,
   "metadata": {},
   "outputs": [],
   "source": [
    "rmf.rename(name_mod_file='ms',replaces = {'modA' : 'modDA', 'levelA' : 'levelDA', 'maxModA' : 'maxModDA', 'modulationA' : 'modulationDA','modB' : 'modACh', 'levelB' : 'levelACh', 'maxModB' : 'maxModACh', 'modulationB' : 'modulationACh'})"
   ]
  },
  {
   "cell_type": "code",
   "execution_count": 142,
   "metadata": {},
   "outputs": [],
   "source": [
    "from optimisation.rename_mechanisms import RenameMechanismFiles"
   ]
  },
  {
   "cell_type": "code",
   "execution_count": 143,
   "metadata": {},
   "outputs": [],
   "source": [
    "rmf = RenameMechanismFiles()"
   ]
  },
  {
   "cell_type": "code",
   "execution_count": 144,
   "metadata": {},
   "outputs": [],
   "source": [
    "rmf.load('neurons/striatum/ispn/')"
   ]
  },
  {
   "cell_type": "code",
   "execution_count": 145,
   "metadata": {},
   "outputs": [
    {
     "data": {
      "text/plain": [
       "[PosixPath('neurons/striatum/ispn/str-ispn-e151123_c1_D2-mWT-P270-09-v20210215/mechanisms.json'),\n",
       " PosixPath('neurons/striatum/ispn/str-ispn-e150908_c4_D2-m51-5-DE-v20210215/mechanisms.json'),\n",
       " PosixPath('neurons/striatum/ispn/str-ispn-e150917_c11_D2-mWT-MSN1-v20210215/mechanisms.json'),\n",
       " PosixPath('neurons/striatum/ispn/str-ispn-e160118_c10_D2-m46-3-DE-v20210215/mechanisms.json')]"
      ]
     },
     "execution_count": 145,
     "metadata": {},
     "output_type": "execute_result"
    }
   ],
   "source": [
    "rmf.in_files"
   ]
  },
  {
   "cell_type": "code",
   "execution_count": 146,
   "metadata": {},
   "outputs": [],
   "source": [
    "rmf.rename('ms')"
   ]
  },
  {
   "cell_type": "code",
   "execution_count": 147,
   "metadata": {},
   "outputs": [],
   "source": [
    "from optimisation.rename_parameters import RenameParameterFiles"
   ]
  },
  {
   "cell_type": "code",
   "execution_count": 148,
   "metadata": {},
   "outputs": [],
   "source": [
    "rpf = RenameParameterFiles()\n",
    "rpf.load('neurons/striatum/ispn/')"
   ]
  },
  {
   "cell_type": "code",
   "execution_count": 149,
   "metadata": {},
   "outputs": [
    {
     "data": {
      "text/plain": [
       "[PosixPath('neurons/striatum/ispn/str-ispn-e151123_c1_D2-mWT-P270-09-v20210215/parameters.json'),\n",
       " PosixPath('neurons/striatum/ispn/str-ispn-e150908_c4_D2-m51-5-DE-v20210215/parameters.json'),\n",
       " PosixPath('neurons/striatum/ispn/str-ispn-e150917_c11_D2-mWT-MSN1-v20210215/parameters.json'),\n",
       " PosixPath('neurons/striatum/ispn/str-ispn-e160118_c10_D2-m46-3-DE-v20210215/parameters.json')]"
      ]
     },
     "execution_count": 149,
     "metadata": {},
     "output_type": "execute_result"
    }
   ],
   "source": [
    "rpf.in_files"
   ]
  },
  {
   "cell_type": "code",
   "execution_count": 150,
   "metadata": {},
   "outputs": [],
   "source": [
    "rpf.rename('ms')"
   ]
  },
  {
   "cell_type": "code",
   "execution_count": 151,
   "metadata": {},
   "outputs": [],
   "source": [
    "from optimisation.rename_modulations import RenameModulationsFiles"
   ]
  },
  {
   "cell_type": "code",
   "execution_count": 152,
   "metadata": {},
   "outputs": [],
   "source": [
    "rpf = RenameModulationsFiles()\n",
    "rpf.load('neurons/striatum/fs/')"
   ]
  },
  {
   "cell_type": "code",
   "execution_count": 153,
   "metadata": {
    "scrolled": false
   },
   "outputs": [
    {
     "data": {
      "text/plain": [
       "[PosixPath('neurons/striatum/fs/str-fs-e160628_FS2-mMTC180800A-IDB-v20210210/modulation.json'),\n",
       " PosixPath('neurons/striatum/fs/str-fs-e161205_FS1-mBE104E-v20210209/modulation.json'),\n",
       " PosixPath('neurons/striatum/fs/str-fs-e161205_FS1-mMTC180800A-IDB-v20210210/modulation.json'),\n",
       " PosixPath('neurons/striatum/fs/str-fs-e161024_FS16-mDR-rat-Mar-13-08-1-536-R-v20210210/modulation.json'),\n",
       " PosixPath('neurons/striatum/fs/str-fs-e180418_FS5-mMTC251001A-IDB-v20210211/modulation.json')]"
      ]
     },
     "execution_count": 153,
     "metadata": {},
     "output_type": "execute_result"
    }
   ],
   "source": [
    "rpf.in_files"
   ]
  },
  {
   "cell_type": "code",
   "execution_count": 154,
   "metadata": {
    "scrolled": true
   },
   "outputs": [],
   "source": [
    "rpf.rename(name_mod_file='fs',replace={'modA' : 'modDA', 'levelA' : 'levelDA', 'maxModA' : 'maxModDA', 'modulationA' : 'modulationDA','modB' : 'modACh', 'levelB' : 'levelACh', 'maxModB' : 'maxModACh', 'modulationB' : 'modulationACh'})"
   ]
  },
  {
   "cell_type": "code",
   "execution_count": 155,
   "metadata": {},
   "outputs": [],
   "source": [
    "from optimisation.rename_modulations import RenameModulationsFiles"
   ]
  },
  {
   "cell_type": "code",
   "execution_count": 156,
   "metadata": {},
   "outputs": [],
   "source": [
    "rpf = RenameModulationsFiles()\n",
    "rpf.load('neurons/striatum/dspn/')"
   ]
  },
  {
   "cell_type": "code",
   "execution_count": 157,
   "metadata": {
    "scrolled": false
   },
   "outputs": [
    {
     "data": {
      "text/plain": [
       "[PosixPath('neurons/striatum/dspn/str-dspn-e150917_c9_d1-mWT-1215MSN03-v20210212/modulation.json'),\n",
       " PosixPath('neurons/striatum/dspn/str-dspn-e150602_c1_D1-mWT-0728MSN01-v20210212/modulation.json'),\n",
       " PosixPath('neurons/striatum/dspn/str-dspn-e150917_c10_D1-mWT-P270-20-v20210212/modulation.json')]"
      ]
     },
     "execution_count": 157,
     "metadata": {},
     "output_type": "execute_result"
    }
   ],
   "source": [
    "rpf.in_files"
   ]
  },
  {
   "cell_type": "code",
   "execution_count": 158,
   "metadata": {
    "scrolled": true
   },
   "outputs": [],
   "source": [
    "rpf.rename(name_mod_file='ms',replace={'modA' : 'modDA', 'levelA' : 'levelDA', 'maxModA' : 'maxModDA', 'modulationA' : 'modulationDA','modB' : 'modACh', 'levelB' : 'levelACh', 'maxModB' : 'maxModACh', 'modulationB' : 'modulationACh'})"
   ]
  },
  {
   "cell_type": "code",
   "execution_count": 159,
   "metadata": {},
   "outputs": [],
   "source": [
    "from optimisation.rename_modulations import RenameModulationsFiles"
   ]
  },
  {
   "cell_type": "code",
   "execution_count": 160,
   "metadata": {},
   "outputs": [],
   "source": [
    "rpf = RenameModulationsFiles()\n",
    "rpf.load('neurons/striatum/ispn/')"
   ]
  },
  {
   "cell_type": "code",
   "execution_count": 161,
   "metadata": {
    "scrolled": false
   },
   "outputs": [
    {
     "data": {
      "text/plain": [
       "[PosixPath('neurons/striatum/ispn/str-ispn-e151123_c1_D2-mWT-P270-09-v20210215/modulation.json'),\n",
       " PosixPath('neurons/striatum/ispn/str-ispn-e150908_c4_D2-m51-5-DE-v20210215/modulation.json'),\n",
       " PosixPath('neurons/striatum/ispn/str-ispn-e150917_c11_D2-mWT-MSN1-v20210215/modulation.json'),\n",
       " PosixPath('neurons/striatum/ispn/str-ispn-e160118_c10_D2-m46-3-DE-v20210215/modulation.json')]"
      ]
     },
     "execution_count": 161,
     "metadata": {},
     "output_type": "execute_result"
    }
   ],
   "source": [
    "rpf.in_files"
   ]
  },
  {
   "cell_type": "code",
   "execution_count": 162,
   "metadata": {
    "scrolled": true
   },
   "outputs": [],
   "source": [
    "rpf.rename(name_mod_file='ms',replace={'modA' : 'modDA', 'levelA' : 'levelDA', 'maxModA' : 'maxModDA', 'modulationA' : 'modulationDA','modB' : 'modACh', 'levelB' : 'levelACh', 'maxModB' : 'maxModACh', 'modulationB' : 'modulationACh'})"
   ]
  },
  {
   "cell_type": "code",
   "execution_count": null,
   "metadata": {},
   "outputs": [],
   "source": []
  },
  {
   "cell_type": "code",
   "execution_count": null,
   "metadata": {},
   "outputs": [],
   "source": []
  },
  {
   "cell_type": "code",
   "execution_count": null,
   "metadata": {},
   "outputs": [],
   "source": []
  }
 ],
 "metadata": {
  "kernelspec": {
   "display_name": "Python 3",
   "language": "python",
   "name": "python3"
  },
  "language_info": {
   "codemirror_mode": {
    "name": "ipython",
    "version": 3
   },
   "file_extension": ".py",
   "mimetype": "text/x-python",
   "name": "python",
   "nbconvert_exporter": "python",
   "pygments_lexer": "ipython3",
   "version": "3.7.9"
  }
 },
 "nbformat": 4,
 "nbformat_minor": 4
}
