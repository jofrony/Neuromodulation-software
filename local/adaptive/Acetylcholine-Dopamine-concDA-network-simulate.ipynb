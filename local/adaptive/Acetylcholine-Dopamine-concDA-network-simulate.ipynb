{
 "cells": [
  {
   "cell_type": "markdown",
   "metadata": {},
   "source": [
    "# Simulate the striatum - ACh-DA synapses"
   ]
  },
  {
   "cell_type": "code",
   "execution_count": null,
   "metadata": {},
   "outputs": [],
   "source": [
    "%cd Experiment-Simulation"
   ]
  },
  {
   "cell_type": "code",
   "execution_count": null,
   "metadata": {},
   "outputs": [],
   "source": [
    "import os\n",
    "from snudda.input import SnuddaInput\n",
    "\n",
    "network_path = 'Acetylcholine-Dopamine-concACh-concDA-network'\n",
    "\n",
    "si = SnuddaInput(network_path=network_path, \n",
    "                 input_config_file=os.path.join(\"external_input\",\"external-input-no-burst.json\"),\n",
    "                 verbose=False)\n",
    "si.generate()"
   ]
  },
  {
   "cell_type": "code",
   "execution_count": null,
   "metadata": {},
   "outputs": [],
   "source": [
    "!nrnivmodl ../../../../../BasalGangliaData/mod-ptr-files/"
   ]
  },
  {
   "cell_type": "code",
   "execution_count": null,
   "metadata": {},
   "outputs": [],
   "source": [
    "network_name = 'Acetylcholine-Dopamine-concACh-concDA-network'\n",
    "modulation = 'modulation/DA-ACh.json'\n",
    "duration = 4000\n",
    "simulation_name = 'ACh-DA-network'\n",
    "conductance_gpcr = 0\n",
    "\n",
    "!mpiexec -n 4 python ../simulation.py $network_name $modulation $conductance_gpcr $duration $simulation_name"
   ]
  },
  {
   "cell_type": "code",
   "execution_count": null,
   "metadata": {},
   "outputs": [],
   "source": [
    "network_name = 'Acetylcholine-Dopamine-concACh-concDA-network'\n",
    "modulation = 'modulation/DA-ACh_control.json'\n",
    "duration = 4000\n",
    "conductance_gpcr = 0\n",
    "simulation_name = 'ACh-DA-network-control'\n",
    "!mpiexec -n 4 python ../simulation.py $network_name $modulation $conductance_gpcr $duration $simulation_name"
   ]
  },
  {
   "cell_type": "code",
   "execution_count": null,
   "metadata": {},
   "outputs": [],
   "source": []
  }
 ],
 "metadata": {
  "kernelspec": {
   "display_name": "Python 3",
   "language": "python",
   "name": "python3"
  },
  "language_info": {
   "codemirror_mode": {
    "name": "ipython",
    "version": 3
   },
   "file_extension": ".py",
   "mimetype": "text/x-python",
   "name": "python",
   "nbconvert_exporter": "python",
   "pygments_lexer": "ipython3",
   "version": "3.7.9"
  }
 },
 "nbformat": 4,
 "nbformat_minor": 4
}
