{
 "cells": [
  {
   "cell_type": "markdown",
   "metadata": {},
   "source": [
    "# Set up neuromodulation per synapse"
   ]
  },
  {
   "cell_type": "code",
   "execution_count": 1,
   "metadata": {},
   "outputs": [],
   "source": [
    "from snudda.neuromodulation.modulation_synapse import  NeuromodulationSynapse"
   ]
  },
  {
   "cell_type": "code",
   "execution_count": 2,
   "metadata": {},
   "outputs": [],
   "source": [
    "sw = NeuromodulationSynapse()\n",
    "sw.set_weight(0)\n"
   ]
  },
  {
   "cell_type": "markdown",
   "metadata": {},
   "source": [
    "# Acetylcholine"
   ]
  },
  {
   "cell_type": "code",
   "execution_count": 3,
   "metadata": {},
   "outputs": [],
   "source": [
    "sw.set_connection_type(connector = 'concACh', neuromodulation_key = 'ACh')"
   ]
  },
  {
   "cell_type": "code",
   "execution_count": 4,
   "metadata": {},
   "outputs": [],
   "source": [
    "sw.add_cell_modulation(neuromodulation_key = 'ACh',\\\n",
    "                       cell='dSPN',\\\n",
    "                       ion_channels = {\\\n",
    "                        \"soma\": ['kir_ms','cal12_ms','cal13_ms','can_ms','Im_ms'],\\\n",
    "                        \"dendrite\": ['kir_ms','cal12_ms','cal13_ms'],\n",
    "                        \"axon\": []}, \n",
    "                       receptors = [\"tmGabaA\", \"tmGlut\"],\\\n",
    "                       extrinsic = [\"CorticalBase\", \"CorticalSignal\", \"Thalamic\"],\n",
    "                        type_connection='spiking-concentration')"
   ]
  },
  {
   "cell_type": "markdown",
   "metadata": {},
   "source": [
    "# Dopamine"
   ]
  },
  {
   "cell_type": "code",
   "execution_count": 5,
   "metadata": {},
   "outputs": [],
   "source": [
    "sw.set_connection_type(connector = 'concDA', neuromodulation_key = 'DA')"
   ]
  },
  {
   "cell_type": "code",
   "execution_count": 6,
   "metadata": {},
   "outputs": [],
   "source": [
    "sw.add_cell_modulation(neuromodulation_key = 'DA',\\\n",
    "                       cell='dSPN',\\\n",
    "                       ion_channels = {\\\n",
    "                        \"soma\": [\"cal12_ms\",\"cal13_ms\",\"kir_ms\",\"kas_ms\",\"naf_ms\",\"can_ms\"],\\\n",
    "                        \"dendrite\":[\"kir_ms\",\"kas_ms\",\"kaf_ms\",\"cal12_ms\",\"cal13_ms\"],\n",
    "                        \"axon\": []}, \n",
    "                       receptors = [\"tmGabaA\", \"tmGlut\"],\\\n",
    "                       extrinsic = [\"CorticalBase\", \"CorticalSignal\", \"Thalamic\"],\n",
    "                        type_connection='spiking-concentration')"
   ]
  },
  {
   "cell_type": "code",
   "execution_count": 7,
   "metadata": {},
   "outputs": [],
   "source": [
    "sw.save(dir_path='../Experiment-Simulation/modulation',name='DA-ACh_control.json')"
   ]
  },
  {
   "cell_type": "code",
   "execution_count": null,
   "metadata": {},
   "outputs": [],
   "source": []
  },
  {
   "cell_type": "code",
   "execution_count": null,
   "metadata": {},
   "outputs": [],
   "source": []
  }
 ],
 "metadata": {
  "kernelspec": {
   "display_name": "Python 3",
   "language": "python",
   "name": "python3"
  },
  "language_info": {
   "codemirror_mode": {
    "name": "ipython",
    "version": 3
   },
   "file_extension": ".py",
   "mimetype": "text/x-python",
   "name": "python",
   "nbconvert_exporter": "python",
   "pygments_lexer": "ipython3",
   "version": "3.7.9"
  }
 },
 "nbformat": 4,
 "nbformat_minor": 4
}
