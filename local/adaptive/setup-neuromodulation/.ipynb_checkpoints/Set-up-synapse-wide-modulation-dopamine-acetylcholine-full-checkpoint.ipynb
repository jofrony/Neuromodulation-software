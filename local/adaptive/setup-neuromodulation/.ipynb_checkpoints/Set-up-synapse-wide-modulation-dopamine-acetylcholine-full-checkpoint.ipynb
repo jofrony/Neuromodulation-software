{
 "cells": [
  {
   "cell_type": "markdown",
   "metadata": {},
   "source": [
    "# Set up neuromodulation per synapse"
   ]
  },
  {
   "cell_type": "code",
   "execution_count": 16,
   "metadata": {},
   "outputs": [],
   "source": [
    "from snudda.neuromodulation.modulation_synapse import  NeuromodulationSynapse"
   ]
  },
  {
   "cell_type": "code",
   "execution_count": 17,
   "metadata": {},
   "outputs": [],
   "source": [
    "sw = NeuromodulationSynapse()\n",
    "sw.set_weight(1e-1)\n"
   ]
  },
  {
   "cell_type": "markdown",
   "metadata": {},
   "source": [
    "# Acetylcholine"
   ]
  },
  {
   "cell_type": "code",
   "execution_count": 18,
   "metadata": {},
   "outputs": [],
   "source": [
    "sw.set_connection_type(connector = 'concACh', neuromodulation_key = 'ACh')"
   ]
  },
  {
   "cell_type": "code",
   "execution_count": 19,
   "metadata": {},
   "outputs": [],
   "source": [
    "sw.add_cell_modulation(neuromodulation_key = 'ACh',\\\n",
    "                       cell='dSPN',\\\n",
    "                       ion_channels = {\\\n",
    "                        \"soma\": ['kir_ms','cal12_ms','cal13_ms','can_ms','Im_ms'],\\\n",
    "                        \"dendrite\": ['kir_ms','cal12_ms','cal13_ms'],\n",
    "                        \"axon\": []}, \n",
    "                       receptors = [\"tmGabaA\", \"tmGlut\"],\\\n",
    "                       extrinsic = [\"CorticalBase\", \"CorticalSignal\", \"Thalamic\"],\n",
    "                        type_connection='spiking-concentration')"
   ]
  },
  {
   "cell_type": "code",
   "execution_count": 20,
   "metadata": {},
   "outputs": [],
   "source": [
    "sw.add_cell_modulation(neuromodulation_key = 'ACh',\\\n",
    "                       cell='iSPN',\\\n",
    "                       ion_channels = {\\\n",
    "                        \"soma\": ['kir_ms','cal12_ms','cal13_ms','can_ms','Im_ms'],\\\n",
    "                        \"dendrite\": ['kir_ms','cal12_ms','cal13_ms'],\n",
    "                        \"axon\": []}, \n",
    "                       receptors = [\"tmGabaA\", \"tmGlut\"],\\\n",
    "                       extrinsic = [\"CorticalBase\", \"CorticalSignal\", \"Thalamic\"],\n",
    "                        type_connection='spiking-concentration')"
   ]
  },
  {
   "cell_type": "code",
   "execution_count": 21,
   "metadata": {},
   "outputs": [],
   "source": [
    "sw.add_cell_modulation(neuromodulation_key = 'ACh',\\\n",
    "                       cell='LTS',\\\n",
    "                       ion_channels = {\\\n",
    "                        \"soma\": [\"im_lts\",\"kir23_lts\"],\\\n",
    "                        \"dendrite\": [\"im_lts\",\"kir23_lts\"],\n",
    "                        \"axon\": []}, \n",
    "                       receptors = [\"tmGabaA\", \"tmGlut\"],\\\n",
    "                       extrinsic = [\"CorticalBase\", \"CorticalSignal\", \"Thalamic\"],\n",
    "                        type_connection='spiking-concentration')"
   ]
  },
  {
   "cell_type": "code",
   "execution_count": 22,
   "metadata": {},
   "outputs": [],
   "source": [
    "sw.add_cell_modulation(neuromodulation_key = 'ACh',\\\n",
    "                       cell='ChIN',\\\n",
    "                       ion_channels = {\\\n",
    "                        \"soma\": [\"cap_ch\",\"cal_ch\"],\\\n",
    "                        \"dendrite\": [\"cap_ch\",\"cal_ch\",\"kir23_ch\"],\n",
    "                        \"axon\": []}, \n",
    "                       receptors = [\"tmGabaA\", \"tmGlut\"],\\\n",
    "                       extrinsic = [\"CorticalBase\", \"CorticalSignal\", \"Thalamic\"],\n",
    "                        type_connection='spiking-concentration')"
   ]
  },
  {
   "cell_type": "code",
   "execution_count": 23,
   "metadata": {},
   "outputs": [],
   "source": [
    "sw.add_cell_modulation(neuromodulation_key = 'ACh',\\\n",
    "                       cell='FSN',\\\n",
    "                       ion_channels = {\\\n",
    "                        \"soma\": [],\\\n",
    "                        \"dendrite\": [],\n",
    "                        \"axon\": []}, \n",
    "                       receptors = [\"tmGabaA\", \"tmGlut\"],\\\n",
    "                       extrinsic = [\"CorticalBase\", \"CorticalSignal\", \"Thalamic\"],\n",
    "                        type_connection='spiking-concentration')"
   ]
  },
  {
   "cell_type": "markdown",
   "metadata": {},
   "source": [
    "# Dopamine"
   ]
  },
  {
   "cell_type": "code",
   "execution_count": 24,
   "metadata": {},
   "outputs": [],
   "source": [
    "sw.set_connection_type(connector = 'concDA', neuromodulation_key = 'DA')"
   ]
  },
  {
   "cell_type": "code",
   "execution_count": 25,
   "metadata": {},
   "outputs": [],
   "source": [
    "sw.add_cell_modulation(neuromodulation_key = 'DA',\\\n",
    "                       cell='dSPN',\\\n",
    "                       ion_channels = {\\\n",
    "                        \"soma\": [\"cal12_ms\",\"cal13_ms\",\"kir_ms\",\"kas_ms\",\"naf_ms\",\"can_ms\"],\\\n",
    "                        \"dendrite\":[\"kir_ms\",\"kas_ms\",\"kaf_ms\",\"cal12_ms\",\"cal13_ms\"],\n",
    "                        \"axon\": []}, \n",
    "                       receptors = [\"tmGabaA\", \"tmGlut\"],\\\n",
    "                       extrinsic = [\"CorticalBase\", \"CorticalSignal\", \"Thalamic\"],\n",
    "                        type_connection='spiking-concentration')"
   ]
  },
  {
   "cell_type": "code",
   "execution_count": 26,
   "metadata": {},
   "outputs": [],
   "source": [
    "sw.add_cell_modulation(neuromodulation_key = 'DA',\\\n",
    "                       cell='iSPN',\\\n",
    "                       ion_channels = {\\\n",
    "                        \"soma\": [\"kir_ms\",\"kas_ms\",\"kaf_ms\",\"naf_ms\",\"cal12_ms\",\"cal13_ms\", \"can_ms\",\"car_ms\"],\\\n",
    "                        \"dendrite\": [\"kir_ms\",\"kas_ms\",\"kaf_ms\",\"naf_ms\",\"cal12_ms\",\"cal13_ms\", \"can_ms\",\"car_ms\"],\n",
    "                        \"axon\": [\"kir_ms\",\"kas_ms\",\"kaf_ms\",\"naf_ms\",\"cal12_ms\",\"cal13_ms\", \"can_ms\",\"car_ms\"]}, \n",
    "                       receptors = [\"tmGabaA\", \"tmGlut\"],\\\n",
    "                       extrinsic = [\"CorticalBase\", \"CorticalSignal\", \"Thalamic\"],\n",
    "                        type_connection='spiking-concentration')"
   ]
  },
  {
   "cell_type": "code",
   "execution_count": 27,
   "metadata": {},
   "outputs": [
    {
     "ename": "IndentationError",
     "evalue": "unexpected indent (<ipython-input-27-c576807a3fb3>, line 2)",
     "output_type": "error",
     "traceback": [
      "\u001b[0;36m  File \u001b[0;32m\"<ipython-input-27-c576807a3fb3>\"\u001b[0;36m, line \u001b[0;32m2\u001b[0m\n\u001b[0;31m    cell='FSN',\\\u001b[0m\n\u001b[0m    ^\u001b[0m\n\u001b[0;31mIndentationError\u001b[0m\u001b[0;31m:\u001b[0m unexpected indent\n"
     ]
    }
   ],
   "source": [
    "\n",
    "conductance_gpcr = 1e-4 # run conductance 0 for controlsw.add_cell_modulation(neuromodulation_key = 'DA',\\\n",
    "                       cell='FSN',\\\n",
    "                       ion_channels = {\\\n",
    "                        \"soma\": [\"naf_fs\",\"kaf_fs\",\"kas_fs\",\"kir_fs\"],\\\n",
    "                        \"dendrite\": [\"naf_fs\",\"kaf_fs\",\"kas_fs\",\"kir_fs\"],\n",
    "                        \"axon\": []}, \n",
    "                       receptors = [\"tmGabaA\"],\\\n",
    "                       extrinsic = [\"CorticalBase\", \"CorticalSignal\", \"Thalamic\"],\n",
    "                        type_connection='spiking-concentration')"
   ]
  },
  {
   "cell_type": "code",
   "execution_count": 28,
   "metadata": {},
   "outputs": [],
   "source": [
    "sw.add_cell_modulation(neuromodulation_key = 'DA',\\\n",
    "                       cell='ChIN',\\\n",
    "                       ion_channels = {\\\n",
    "                        \"soma\": [\"hcn12_ch\"],\\\n",
    "                        \"dendrite\": [\"hcn12_ch\"],\n",
    "                        \"axon\": []}, \n",
    "                       receptors = [\"tmGabaA\", \"tmGlut\"],\\\n",
    "                       extrinsic = [\"CorticalBase\", \"CorticalSignal\", \"Thalamic\"],\n",
    "                        type_connection='spiking-concentration')"
   ]
  },
  {
   "cell_type": "code",
   "execution_count": 29,
   "metadata": {},
   "outputs": [],
   "source": [
    "sw.add_cell_modulation(neuromodulation_key = 'DA',\\\n",
    "                       cell='LTS',\\\n",
    "                       ion_channels = {\\\n",
    "                        \"soma\": [\"hd_lts\",\"na3_lts\"],\\\n",
    "                        \"dendrite\": [\"hd_lts\"],\n",
    "                        \"axon\": []}, \n",
    "                       receptors = [\"tmGabaA\", \"tmGlut\"],\\\n",
    "                       extrinsic = [\"CorticalBase\", \"CorticalSignal\", \"Thalamic\"],\n",
    "                        type_connection='spiking-concentration')\n"
   ]
  },
  {
   "cell_type": "code",
   "execution_count": 30,
   "metadata": {},
   "outputs": [],
   "source": [
    "sw.save(dir_path='../Experiment-Simulation/modulation',name='DA-ACh.json')"
   ]
  },
  {
   "cell_type": "code",
   "execution_count": null,
   "metadata": {},
   "outputs": [],
   "source": []
  },
  {
   "cell_type": "code",
   "execution_count": null,
   "metadata": {},
   "outputs": [],
   "source": []
  }
 ],
 "metadata": {
  "kernelspec": {
   "display_name": "Python 3",
   "language": "python",
   "name": "python3"
  },
  "language_info": {
   "codemirror_mode": {
    "name": "ipython",
    "version": 3
   },
   "file_extension": ".py",
   "mimetype": "text/x-python",
   "name": "python",
   "nbconvert_exporter": "python",
   "pygments_lexer": "ipython3",
   "version": "3.7.9"
  }
 },
 "nbformat": 4,
 "nbformat_minor": 4
}
