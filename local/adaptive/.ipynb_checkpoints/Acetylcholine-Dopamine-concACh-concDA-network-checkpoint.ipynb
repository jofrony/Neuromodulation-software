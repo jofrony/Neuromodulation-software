{
 "cells": [
  {
   "cell_type": "markdown",
   "metadata": {},
   "source": [
    "# Synapse wide neuromodulation"
   ]
  },
  {
   "cell_type": "code",
   "execution_count": null,
   "metadata": {},
   "outputs": [],
   "source": [
    "%cd synapse-wide-code/\n",
    "!pip install .\n",
    "%cd .."
   ]
  },
  {
   "cell_type": "code",
   "execution_count": 1,
   "metadata": {
    "scrolled": true
   },
   "outputs": [
    {
     "name": "stdout",
     "output_type": "stream",
     "text": [
      "/home/jofrony/Documents/Repositories/BasalGangliaExperiments/Neuromodulation-software/local/adaptive/Experiment-Simulation\n"
     ]
    }
   ],
   "source": [
    "\n",
    "%cd Experiment-Simulation"
   ]
  },
  {
   "cell_type": "markdown",
   "metadata": {},
   "source": [
    "# Acetylcholine-concACh-Dopamine-concDA\n",
    "\n",
    "## Spiking activity is transformed into modulation levels"
   ]
  },
  {
   "cell_type": "code",
   "execution_count": 2,
   "metadata": {
    "scrolled": true
   },
   "outputs": [
    {
     "name": "stdout",
     "output_type": "stream",
     "text": [
      "Using cube for striatum\n",
      "Adding neurons: dSPN from dir /home/jofrony/Documents/Repositories/BasalGangliaExperiments/Neuromodulation-software/network_parameters/neurons/striatum/dspn\n",
      "Adding neurons: DopaminergicAxon from dir /home/jofrony/Documents/Repositories/BasalGangliaExperiments/Neuromodulation-software/network_parameters/neurons/SNc\n",
      "Writing Acetylcholine-Dopamine-concACh-concDA-network/network-config.json\n"
     ]
    }
   ],
   "source": [
    "from project_wide.neuromodulationInitSNc import neuromodulationInit\n",
    "from collections import OrderedDict\n",
    "import os\n",
    "\n",
    "\n",
    "network_path = 'Acetylcholine-Dopamine-concACh-concDA-network'\n",
    "config_name= network_path + \"/network-config.json\"\n",
    "neurons_dir = os.path.join(os.path.abspath('../../../network_parameters/neurons/'))\n",
    "\n",
    "cnc = neuromodulationInit(config_file=config_name,random_seed=12345)\n",
    "\n",
    "cnc.define_striatum_neuromodulation(num_dSPN=25,volume_type=\"cube\",neurons_dir=neurons_dir)\n",
    "cnc.define_snc(nNeurons=2,neuron_dir=neurons_dir)\n",
    "dirName = os.path.dirname(config_name)\n",
    "\n",
    "if not os.path.exists(dirName):\n",
    "    os.makedirs(dirName)\n",
    "\n",
    "cnc.write_json(config_name)\n"
   ]
  },
  {
   "cell_type": "code",
   "execution_count": 3,
   "metadata": {},
   "outputs": [],
   "source": [
    "\n",
    "from snudda.place import SnuddaPlace\n",
    "sp = SnuddaPlace(network_path=network_path)\n",
    "\n",
    "sp.parse_config()\n",
    "sp.write_data()"
   ]
  },
  {
   "cell_type": "code",
   "execution_count": null,
   "metadata": {},
   "outputs": [
    {
     "name": "stdout",
     "output_type": "stream",
     "text": [
      "No d_view specified, running distribute neurons in serial\n",
      "Processing hyper voxel : 20/48 (27 neurons)\n",
      "Processing hyper voxel : 1/48 (27 neurons)\n"
     ]
    }
   ],
   "source": [
    "from snudda.detect import SnuddaDetect\n",
    "\n",
    "sd = SnuddaDetect(network_path=network_path)\n",
    "sd.detect()"
   ]
  },
  {
   "cell_type": "code",
   "execution_count": null,
   "metadata": {},
   "outputs": [],
   "source": [
    "from snudda.prune import SnuddaPrune\n",
    "\n",
    "sp = SnuddaPrune(network_path=network_path)\n",
    "sp.prune()"
   ]
  },
  {
   "cell_type": "code",
   "execution_count": null,
   "metadata": {},
   "outputs": [],
   "source": [
    "from snudda.plotting.plot_network import PlotNetwork\n",
    "pn = PlotNetwork(network_path)\n",
    "pn.plot()\n",
    "pn.close()  # Close the hdf5 file so others can use it (or better shut down kernel after)"
   ]
  },
  {
   "cell_type": "code",
   "execution_count": null,
   "metadata": {},
   "outputs": [],
   "source": [
    "from snudda.plotting.plot_network import PlotNetwork\n",
    "pn = PlotNetwork(network_path)\n",
    "pn.plot()\n",
    "pn.close() "
   ]
  },
  {
   "cell_type": "code",
   "execution_count": null,
   "metadata": {},
   "outputs": [],
   "source": []
  },
  {
   "cell_type": "code",
   "execution_count": null,
   "metadata": {},
   "outputs": [],
   "source": []
  }
 ],
 "metadata": {
  "kernelspec": {
   "display_name": "Python 3",
   "language": "python",
   "name": "python3"
  },
  "language_info": {
   "codemirror_mode": {
    "name": "ipython",
    "version": 3
   },
   "file_extension": ".py",
   "mimetype": "text/x-python",
   "name": "python",
   "nbconvert_exporter": "python",
   "pygments_lexer": "ipython3",
   "version": "3.7.9"
  }
 },
 "nbformat": 4,
 "nbformat_minor": 4
}
