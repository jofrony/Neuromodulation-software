{
 "cells": [
  {
   "cell_type": "markdown",
   "metadata": {},
   "source": [
    "# Simulate the striatum - ACh-DA synapses"
   ]
  },
  {
   "cell_type": "code",
   "execution_count": 14,
   "metadata": {},
   "outputs": [
    {
     "name": "stdout",
     "output_type": "stream",
     "text": [
      "[Errno 2] No such file or directory: 'Experiment-Simulation'\n",
      "/home/jofrony/Documents/Repositories/BasalGangliaExperiments/Neuromodulation/striatal_network/synapse-wide/Experiment-Simulation\n"
     ]
    }
   ],
   "source": [
    "%cd Experiment-Simulation"
   ]
  },
  {
   "cell_type": "code",
   "execution_count": 15,
   "metadata": {},
   "outputs": [
    {
     "name": "stdout",
     "output_type": "stream",
     "text": [
      "Writing spikes to Acetylcholine-Dopamine-concACh-concDA-network/input-spikes.hdf5\n"
     ]
    }
   ],
   "source": [
    "import os\n",
    "from snudda.input import SnuddaInput\n",
    "\n",
    "network_path = 'Acetylcholine-Dopamine-concACh-concDA-network'\n",
    "\n",
    "si = SnuddaInput(network_path=network_path, \n",
    "                 input_config_file=os.path.join(\"external_input\",\"external-input-no-burst.json\"),\n",
    "                 verbose=False)\n",
    "si.generate()"
   ]
  },
  {
   "cell_type": "code",
   "execution_count": 16,
   "metadata": {},
   "outputs": [
    {
     "name": "stdout",
     "output_type": "stream",
     "text": [
      "/home/jofrony/Documents/Repositories/BasalGangliaExperiments/Neuromodulation/striatal_network/synapse-wide/Experiment-Simulation\n",
      "ls: cannot access '../../../../../BasalGangliaData/mod-ptr-files//*.inc': No such file or directory\n",
      "../../../../../BasalGangliaData/mod-ptr-files//bk_ch.mod ../../../../../BasalGangliaData/mod-ptr-files//bk_fs.mod ../../../../../BasalGangliaData/mod-ptr-files//bk_ms.mod ../../../../../BasalGangliaData/mod-ptr-files//ca_ch.mod ../../../../../BasalGangliaData/mod-ptr-files//cadyn_fs.mod ../../../../../BasalGangliaData/mod-ptr-files//cadyn_ms.mod ../../../../../BasalGangliaData/mod-ptr-files//cal12_ms.mod ../../../../../BasalGangliaData/mod-ptr-files//cal12_ms_ptr.mod ../../../../../BasalGangliaData/mod-ptr-files//cal13_ms.mod ../../../../../BasalGangliaData/mod-ptr-files//cal13_ms_ptr.mod ../../../../../BasalGangliaData/mod-ptr-files//cal_ch.mod ../../../../../BasalGangliaData/mod-ptr-files//cal_ch_ptr.mod ../../../../../BasalGangliaData/mod-ptr-files//caldyn_ms.mod ../../../../../BasalGangliaData/mod-ptr-files//can_fs.mod ../../../../../BasalGangliaData/mod-ptr-files//can_ms.mod ../../../../../BasalGangliaData/mod-ptr-files//can_ms_ptr.mod ../../../../../BasalGangliaData/mod-ptr-files//cap_ch.mod ../../../../../BasalGangliaData/mod-ptr-files//cap_ch_ptr.mod ../../../../../BasalGangliaData/mod-ptr-files//caq_fs.mod ../../../../../BasalGangliaData/mod-ptr-files//caq_ms.mod ../../../../../BasalGangliaData/mod-ptr-files//car_fs.mod ../../../../../BasalGangliaData/mod-ptr-files//car_ms.mod ../../../../../BasalGangliaData/mod-ptr-files//car_ms_ptr.mod ../../../../../BasalGangliaData/mod-ptr-files//cat32_ms.mod ../../../../../BasalGangliaData/mod-ptr-files//cat33_ms.mod ../../../../../BasalGangliaData/mod-ptr-files//concACh.mod ../../../../../BasalGangliaData/mod-ptr-files//concDA.mod ../../../../../BasalGangliaData/mod-ptr-files//hcn12_ch.mod ../../../../../BasalGangliaData/mod-ptr-files//hcn12_ch_ptr.mod ../../../../../BasalGangliaData/mod-ptr-files//hd_lts.mod ../../../../../BasalGangliaData/mod-ptr-files//hd_lts_ptr.mod ../../../../../BasalGangliaData/mod-ptr-files//im_lts.mod ../../../../../BasalGangliaData/mod-ptr-files//im_lts_ptr.mod ../../../../../BasalGangliaData/mod-ptr-files//Im_ms.mod ../../../../../BasalGangliaData/mod-ptr-files//Im_ms_ptr.mod ../../../../../BasalGangliaData/mod-ptr-files//it_lts.mod ../../../../../BasalGangliaData/mod-ptr-files//it_lts_ptr.mod ../../../../../BasalGangliaData/mod-ptr-files//kaf_fs.mod ../../../../../BasalGangliaData/mod-ptr-files//kaf_fs_ptr.mod ../../../../../BasalGangliaData/mod-ptr-files//kaf_lts.mod ../../../../../BasalGangliaData/mod-ptr-files//kaf_lts_ptr.mod ../../../../../BasalGangliaData/mod-ptr-files//kaf_ms.mod ../../../../../BasalGangliaData/mod-ptr-files//kaf_ms_ptr.mod ../../../../../BasalGangliaData/mod-ptr-files//kas_fs.mod ../../../../../BasalGangliaData/mod-ptr-files//kas_fs_ptr.mod ../../../../../BasalGangliaData/mod-ptr-files//kas_ms.mod ../../../../../BasalGangliaData/mod-ptr-files//kas_ms_ptr.mod ../../../../../BasalGangliaData/mod-ptr-files//kcnq_ch.mod ../../../../../BasalGangliaData/mod-ptr-files//kdb_lts.mod ../../../../../BasalGangliaData/mod-ptr-files//kdrbca1_lts.mod ../../../../../BasalGangliaData/mod-ptr-files//kdr_fs.mod ../../../../../BasalGangliaData/mod-ptr-files//kdr_lts.mod ../../../../../BasalGangliaData/mod-ptr-files//kdr_lts_ptr.mod ../../../../../BasalGangliaData/mod-ptr-files//kdr_ms.mod ../../../../../BasalGangliaData/mod-ptr-files//kir23_ch.mod ../../../../../BasalGangliaData/mod-ptr-files//kir23_ch_ptr.mod ../../../../../BasalGangliaData/mod-ptr-files//kir23_lts.mod ../../../../../BasalGangliaData/mod-ptr-files//kir23_lts_ptr.mod ../../../../../BasalGangliaData/mod-ptr-files//kir2_ch.mod ../../../../../BasalGangliaData/mod-ptr-files//kir2_ch_ptr.mod ../../../../../BasalGangliaData/mod-ptr-files//kir_fs.mod ../../../../../BasalGangliaData/mod-ptr-files//kir_fs_ptr.mod ../../../../../BasalGangliaData/mod-ptr-files//kir_ms.mod ../../../../../BasalGangliaData/mod-ptr-files//kir_ms_ptr.mod ../../../../../BasalGangliaData/mod-ptr-files//kv2_ch.mod ../../../../../BasalGangliaData/mod-ptr-files//kv4_ch.mod ../../../../../BasalGangliaData/mod-ptr-files//kv4_ch_ptr.mod ../../../../../BasalGangliaData/mod-ptr-files//na2_ch.mod ../../../../../BasalGangliaData/mod-ptr-files//na2_ch_ptr.mod ../../../../../BasalGangliaData/mod-ptr-files//na3n_lts.mod ../../../../../BasalGangliaData/mod-ptr-files//na3n_lts_ptr.mod ../../../../../BasalGangliaData/mod-ptr-files//na_ch.mod ../../../../../BasalGangliaData/mod-ptr-files//na_ch_ptr.mod ../../../../../BasalGangliaData/mod-ptr-files//naf_fs.mod ../../../../../BasalGangliaData/mod-ptr-files//naf_fs_ptr.mod ../../../../../BasalGangliaData/mod-ptr-files//naf_lts.mod ../../../../../BasalGangliaData/mod-ptr-files//naf_lts_ptr.mod ../../../../../BasalGangliaData/mod-ptr-files//naf_ms.mod ../../../../../BasalGangliaData/mod-ptr-files//naf_ms_ptr.mod ../../../../../BasalGangliaData/mod-ptr-files//NO.mod ../../../../../BasalGangliaData/mod-ptr-files//par_ggap.mod ../../../../../BasalGangliaData/mod-ptr-files//sk_ch.mod ../../../../../BasalGangliaData/mod-ptr-files//sk_fs.mod ../../../../../BasalGangliaData/mod-ptr-files//sk_ms.mod ../../../../../BasalGangliaData/mod-ptr-files//tmgabaa.mod ../../../../../BasalGangliaData/mod-ptr-files//tmgabaa_ptr.mod ../../../../../BasalGangliaData/mod-ptr-files//tmglut_M1RH_D1.mod ../../../../../BasalGangliaData/mod-ptr-files//tmglut_M1RH_D1_ptr.mod ../../../../../BasalGangliaData/mod-ptr-files//tmglut.mod ../../../../../BasalGangliaData/mod-ptr-files//tmglut_ptr.mod ../../../../../BasalGangliaData/mod-ptr-files//vecevent.mod\n",
      "bk_ch.mod bk_fs.mod bk_ms.mod ca_ch.mod cadyn_fs.mod cadyn_ms.mod cal12_ms.mod cal12_ms_ptr.mod cal13_ms.mod cal13_ms_ptr.mod cal_ch.mod cal_ch_ptr.mod caldyn_ms.mod can_fs.mod can_ms.mod can_ms_ptr.mod cap_ch.mod cap_ch_ptr.mod caq_fs.mod caq_ms.mod car_fs.mod car_ms.mod car_ms_ptr.mod cat32_ms.mod cat33_ms.mod concACh.mod concDA.mod hcn12_ch.mod hcn12_ch_ptr.mod hd_lts.mod hd_lts_ptr.mod im_lts.mod im_lts_ptr.mod Im_ms.mod Im_ms_ptr.mod it_lts.mod it_lts_ptr.mod kaf_fs.mod kaf_fs_ptr.mod kaf_lts.mod kaf_lts_ptr.mod kaf_ms.mod kaf_ms_ptr.mod kas_fs.mod kas_fs_ptr.mod kas_ms.mod kas_ms_ptr.mod kcnq_ch.mod kdb_lts.mod kdrbca1_lts.mod kdr_fs.mod kdr_lts.mod kdr_lts_ptr.mod kdr_ms.mod kir23_ch.mod kir23_ch_ptr.mod kir23_lts.mod kir23_lts_ptr.mod kir2_ch.mod kir2_ch_ptr.mod kir_fs.mod kir_fs_ptr.mod kir_ms.mod kir_ms_ptr.mod kv2_ch.mod kv4_ch.mod kv4_ch_ptr.mod na2_ch.mod na2_ch_ptr.mod na3n_lts.mod na3n_lts_ptr.mod na_ch.mod na_ch_ptr.mod naf_fs.mod naf_fs_ptr.mod naf_lts.mod naf_lts_ptr.mod naf_ms.mod naf_ms_ptr.mod NO.mod par_ggap.mod sk_ch.mod sk_fs.mod sk_ms.mod tmgabaa.mod tmgabaa_ptr.mod tmglut_M1RH_D1.mod tmglut_M1RH_D1_ptr.mod tmglut.mod tmglut_ptr.mod vecevent.mod\n",
      "\"/usr/local/nrn/share/nrn/libtool\" --tag=CC --mode=compile mpicc -DHAVE_CONFIG_H  -I. -I.. -I\"/usr/local/nrn/include/nrn\" -I\"/usr/local/nrn/x86_64/lib\"      -g -O2 -c -o mod_func.lo mod_func.c\n",
      "libtool: compile:  mpicc -DHAVE_CONFIG_H -I. -I.. -I/usr/local/nrn/include/nrn -I/usr/local/nrn/x86_64/lib -g -O2 -c mod_func.c  -fPIC -DPIC -o .libs/mod_func.o\n",
      "\"/usr/local/nrn/share/nrn/libtool\" --tag=CC --mode=link mpicc -module  -g -O2    -o libnrnmech.la -rpath \"/usr/local/nrn/x86_64/lib\"  bk_ch.lo bk_fs.lo bk_ms.lo ca_ch.lo cadyn_fs.lo cadyn_ms.lo cal12_ms.lo cal12_ms_ptr.lo cal13_ms.lo cal13_ms_ptr.lo cal_ch.lo cal_ch_ptr.lo caldyn_ms.lo can_fs.lo can_ms.lo can_ms_ptr.lo cap_ch.lo cap_ch_ptr.lo caq_fs.lo caq_ms.lo car_fs.lo car_ms.lo car_ms_ptr.lo cat32_ms.lo cat33_ms.lo concACh.lo concDA.lo hcn12_ch.lo hcn12_ch_ptr.lo hd_lts.lo hd_lts_ptr.lo im_lts.lo im_lts_ptr.lo Im_ms.lo Im_ms_ptr.lo it_lts.lo it_lts_ptr.lo kaf_fs.lo kaf_fs_ptr.lo kaf_lts.lo kaf_lts_ptr.lo kaf_ms.lo kaf_ms_ptr.lo kas_fs.lo kas_fs_ptr.lo kas_ms.lo kas_ms_ptr.lo kcnq_ch.lo kdb_lts.lo kdrbca1_lts.lo kdr_fs.lo kdr_lts.lo kdr_lts_ptr.lo kdr_ms.lo kir23_ch.lo kir23_ch_ptr.lo kir23_lts.lo kir23_lts_ptr.lo kir2_ch.lo kir2_ch_ptr.lo kir_fs.lo kir_fs_ptr.lo kir_ms.lo kir_ms_ptr.lo kv2_ch.lo kv4_ch.lo kv4_ch_ptr.lo na2_ch.lo na2_ch_ptr.lo na3n_lts.lo na3n_lts_ptr.lo na_ch.lo na_ch_ptr.lo naf_fs.lo naf_fs_ptr.lo naf_lts.lo naf_lts_ptr.lo naf_ms.lo naf_ms_ptr.lo NO.lo par_ggap.lo sk_ch.lo sk_fs.lo sk_ms.lo tmgabaa.lo tmgabaa_ptr.lo tmglut_M1RH_D1.lo tmglut_M1RH_D1_ptr.lo tmglut.lo tmglut_ptr.lo vecevent.lo mod_func.lo  -L\"/usr/local/nrn/x86_64/lib\" -lnrnoc -loc -lmemacs -lnrnmpi -lscopmath -lsparse13 -lreadline -lncurses -ltinfo -L\"/usr/local/nrn/x86_64/lib\" -lnrniv -livoc -lneuron_gnu -lmeschach -lsundials       -lm -ldl\n"
     ]
    },
    {
     "name": "stdout",
     "output_type": "stream",
     "text": [
      "libtool: link: rm -fr  .libs/libnrnmech.la .libs/libnrnmech.lai .libs/libnrnmech.so .libs/libnrnmech.so.0 .libs/libnrnmech.so.0.0.0\n",
      "libtool: link: mpicc -shared  -fPIC -DPIC  .libs/bk_ch.o .libs/bk_fs.o .libs/bk_ms.o .libs/ca_ch.o .libs/cadyn_fs.o .libs/cadyn_ms.o .libs/cal12_ms.o .libs/cal12_ms_ptr.o .libs/cal13_ms.o .libs/cal13_ms_ptr.o .libs/cal_ch.o .libs/cal_ch_ptr.o .libs/caldyn_ms.o .libs/can_fs.o .libs/can_ms.o .libs/can_ms_ptr.o .libs/cap_ch.o .libs/cap_ch_ptr.o .libs/caq_fs.o .libs/caq_ms.o .libs/car_fs.o .libs/car_ms.o .libs/car_ms_ptr.o .libs/cat32_ms.o .libs/cat33_ms.o .libs/concACh.o .libs/concDA.o .libs/hcn12_ch.o .libs/hcn12_ch_ptr.o .libs/hd_lts.o .libs/hd_lts_ptr.o .libs/im_lts.o .libs/im_lts_ptr.o .libs/Im_ms.o .libs/Im_ms_ptr.o .libs/it_lts.o .libs/it_lts_ptr.o .libs/kaf_fs.o .libs/kaf_fs_ptr.o .libs/kaf_lts.o .libs/kaf_lts_ptr.o .libs/kaf_ms.o .libs/kaf_ms_ptr.o .libs/kas_fs.o .libs/kas_fs_ptr.o .libs/kas_ms.o .libs/kas_ms_ptr.o .libs/kcnq_ch.o .libs/kdb_lts.o .libs/kdrbca1_lts.o .libs/kdr_fs.o .libs/kdr_lts.o .libs/kdr_lts_ptr.o .libs/kdr_ms.o .libs/kir23_ch.o .libs/kir23_ch_ptr.o .libs/kir23_lts.o .libs/kir23_lts_ptr.o .libs/kir2_ch.o .libs/kir2_ch_ptr.o .libs/kir_fs.o .libs/kir_fs_ptr.o .libs/kir_ms.o .libs/kir_ms_ptr.o .libs/kv2_ch.o .libs/kv4_ch.o .libs/kv4_ch_ptr.o .libs/na2_ch.o .libs/na2_ch_ptr.o .libs/na3n_lts.o .libs/na3n_lts_ptr.o .libs/na_ch.o .libs/na_ch_ptr.o .libs/naf_fs.o .libs/naf_fs_ptr.o .libs/naf_lts.o .libs/naf_lts_ptr.o .libs/naf_ms.o .libs/naf_ms_ptr.o .libs/NO.o .libs/par_ggap.o .libs/sk_ch.o .libs/sk_fs.o .libs/sk_ms.o .libs/tmgabaa.o .libs/tmgabaa_ptr.o .libs/tmglut_M1RH_D1.o .libs/tmglut_M1RH_D1_ptr.o .libs/tmglut.o .libs/tmglut_ptr.o .libs/vecevent.o .libs/mod_func.o   -Wl,-rpath -Wl,/usr/local/nrn/x86_64/lib -Wl,-rpath -Wl,/usr/local/nrn/x86_64/lib -L/usr/local/nrn/x86_64/lib /usr/local/nrn/x86_64/lib/libnrnoc.so /usr/local/nrn/x86_64/lib/liboc.so -lX11 /usr/local/nrn/x86_64/lib/libmemacs.so /usr/local/nrn/x86_64/lib/libnrnmpi.so /usr/local/nrn/x86_64/lib/libscopmath.so /usr/local/nrn/x86_64/lib/libsparse13.so /usr/local/nrn/x86_64/lib/libreadline.so -lncurses -ltinfo /usr/local/nrn/x86_64/lib/libnrniv.so /usr/local/nrn/x86_64/lib/libivoc.so /usr/local/nrn/x86_64/lib/libneuron_gnu.so /usr/local/nrn/x86_64/lib/libmeschach.so /usr/local/nrn/x86_64/lib/libsundials.so -lm -ldl  -g -O2   -Wl,-soname -Wl,libnrnmech.so.0 -o .libs/libnrnmech.so.0.0.0\n",
      "libtool: link: (cd \".libs\" && rm -f \"libnrnmech.so.0\" && ln -s \"libnrnmech.so.0.0.0\" \"libnrnmech.so.0\")\n",
      "libtool: link: (cd \".libs\" && rm -f \"libnrnmech.so\" && ln -s \"libnrnmech.so.0.0.0\" \"libnrnmech.so\")\n",
      "libtool: link: ( cd \".libs\" && rm -f \"libnrnmech.la\" && ln -s \"../libnrnmech.la\" \"libnrnmech.la\" )\n",
      "Successfully created x86_64/special\n"
     ]
    }
   ],
   "source": [
    "!nrnivmodl ../../../../../BasalGangliaData/mod-ptr-files/"
   ]
  },
  {
   "cell_type": "code",
   "execution_count": 17,
   "metadata": {},
   "outputs": [],
   "source": [
    "network_name = 'Acetylcholine-Dopamine-concACh-concDA-network'\n",
    "modulation = 'modulation/DA-ACh.json'\n",
    "duration = 3000\n",
    "simulation_name = 'ACh-DA-network'"
   ]
  },
  {
   "cell_type": "code",
   "execution_count": 19,
   "metadata": {},
   "outputs": [
    {
     "name": "stdout",
     "output_type": "stream",
     "text": [
      "numprocs=4\n",
      "Loading 27 neurons with 11038 synapses and 0 gap junctions\n",
      "Loading 27 neurons with 11038 synapses and 0 gap junctions\n",
      "Loading 27 neurons with 11038 synapses and 0 gap junctions\n",
      "Loading 27 neurons with 11038 synapses and 0 gap junctions\n",
      "Program run time: 26.40834619299858\n",
      "Running simulation for 3.0 s\n",
      "Running simulation for 3.0 s\n",
      "Running simulation for 3.0 s\n",
      "Running simulation for 3.0 s\n",
      "1% done. Elapsed: 16.2 s, estimated time left: 1606.7 s\n",
      "8% done. Elapsed: 125.3 s, estimated time left: 1440.4 s\n",
      "15% done. Elapsed: 231.2 s, estimated time left: 1309.9 s\n",
      "22% done. Elapsed: 343.8 s, estimated time left: 1218.8 s\n",
      "29% done. Elapsed: 461.2 s, estimated time left: 1129.1 s\n",
      "35% done. Elapsed: 577.7 s, estimated time left: 1072.8 s\n",
      "41% done. Elapsed: 681.9 s, estimated time left: 981.3 s\n",
      "47% done. Elapsed: 782.9 s, estimated time left: 882.8 s\n",
      "53% done. Elapsed: 887.8 s, estimated time left: 787.3 s\n",
      "59% done. Elapsed: 993.0 s, estimated time left: 690.1 s\n",
      "65% done. Elapsed: 1103.1 s, estimated time left: 594.0 s\n",
      "71% done. Elapsed: 1215.0 s, estimated time left: 496.3 s\n",
      "77% done. Elapsed: 1326.9 s, estimated time left: 396.4 s\n",
      "82% done. Elapsed: 1428.0 s, estimated time left: 313.5 s\n",
      "88% done. Elapsed: 1540.9 s, estimated time left: 210.1 s\n",
      "94% done. Elapsed: 1658.2 s, estimated time left: 105.8 s\n",
      "99% done. Elapsed: 1761.9 s, estimated time left: 17.8 s\n",
      "Simulation run time: 1782.9 s\n",
      "Writing spike times to Acetylcholine-Dopamine-concACh-concDA-network/simulation/network-output-spikes-ACh-DA-network.txt\n",
      "Simulation run time: 1781.5 s\n",
      "Writing spike times to Acetylcholine-Dopamine-concACh-concDA-network/simulation/network-output-spikes-ACh-DA-network.txt\n",
      "Simulation run time: 1780.9 s\n",
      "Writing spike times to Acetylcholine-Dopamine-concACh-concDA-network/simulation/network-output-spikes-ACh-DA-network.txt\n",
      "Simulation run time: 1780.2 s\n",
      "Writing spike times to Acetylcholine-Dopamine-concACh-concDA-network/simulation/network-output-spikes-ACh-DA-network.txt\n",
      "/home/jofrony/miniconda3/envs/py37/lib/python3.7/site-packages/bluepyopt/ephys/simulators.py:74: UserWarning: Unable to find Neuron hoc shared library in /usr/local/nrn/lib/python/neuron, not disabling banner\n",
      "  'not disabling banner' % nrnpy_path)\n",
      "\u001b[0m/home/jofrony/miniconda3/envs/py37/lib/python3.7/site-packages/bluepyopt/ephys/simulators.py:74: UserWarning: Unable to find Neuron hoc shared library in /usr/local/nrn/lib/python/neuron, not disabling banner\n",
      "  'not disabling banner' % nrnpy_path)\n",
      "\u001b[0mProgram run time: 2273.693609751994\n",
      "/home/jofrony/miniconda3/envs/py37/lib/python3.7/site-packages/bluepyopt/ephys/simulators.py:74: UserWarning: Unable to find Neuron hoc shared library in /usr/local/nrn/lib/python/neuron, not disabling banner\n",
      "  'not disabling banner' % nrnpy_path)\n",
      "\u001b[0m/home/jofrony/miniconda3/envs/py37/lib/python3.7/site-packages/bluepyopt/ephys/simulators.py:74: UserWarning: Unable to find Neuron hoc shared library in /usr/local/nrn/lib/python/neuron, not disabling banner\n",
      "  'not disabling banner' % nrnpy_path)\n",
      "\u001b[0m"
     ]
    }
   ],
   "source": [
    "!mpiexec -n 4 python ../synapse-wide-code/project_wide/simulation.py $network_name $modulation $conductance_gpcr $duration $simulation_name"
   ]
  },
  {
   "cell_type": "code",
   "execution_count": null,
   "metadata": {},
   "outputs": [],
   "source": [
    "!mpiexec -n 4 snudda simulate Acetylcholine-Dopamine-concACh-concDA-network --time 0.3 --neuromodulation modulation/DA-ACh.json --profile"
   ]
  },
  {
   "cell_type": "code",
   "execution_count": 20,
   "metadata": {},
   "outputs": [],
   "source": [
    "network_name = 'Acetylcholine-Dopamine-concACh-concDA-network'\n",
    "modulation = 'modulation/DA-ACh_control.json'\n",
    "duration = 3000\n",
    "simulation_name = 'ACh-DA-network-control'"
   ]
  },
  {
   "cell_type": "code",
   "execution_count": 21,
   "metadata": {},
   "outputs": [
    {
     "name": "stdout",
     "output_type": "stream",
     "text": [
      "numprocs=4\n",
      "Loading 27 neurons with 11038 synapses and 0 gap junctions\n",
      "Loading 27 neurons with 11038 synapses and 0 gap junctions\n",
      "Loading 27 neurons with 11038 synapses and 0 gap junctions\n",
      "Loading 27 neurons with 11038 synapses and 0 gap junctions\n",
      "Program run time: 26.013303943997016\n",
      "Running simulation for 3.0 s\n",
      "Running simulation for 3.0 s\n",
      "Running simulation for 3.0 s\n",
      "Running simulation for 3.0 s\n",
      "1% done. Elapsed: 18.4 s, estimated time left: 1820.2 s\n",
      "7% done. Elapsed: 119.0 s, estimated time left: 1580.7 s\n",
      "13% done. Elapsed: 219.8 s, estimated time left: 1471.0 s\n",
      "18% done. Elapsed: 324.8 s, estimated time left: 1479.7 s\n",
      "23% done. Elapsed: 446.6 s, estimated time left: 1495.0 s\n",
      "28% done. Elapsed: 555.3 s, estimated time left: 1428.0 s\n",
      "33% done. Elapsed: 665.9 s, estimated time left: 1352.1 s\n",
      "38% done. Elapsed: 770.3 s, estimated time left: 1256.9 s\n",
      "44% done. Elapsed: 887.7 s, estimated time left: 1129.9 s\n",
      "50% done. Elapsed: 1001.4 s, estimated time left: 1001.4 s\n",
      "56% done. Elapsed: 1119.7 s, estimated time left: 879.8 s\n",
      "62% done. Elapsed: 1239.0 s, estimated time left: 759.4 s\n",
      "67% done. Elapsed: 1344.6 s, estimated time left: 662.3 s\n",
      "73% done. Elapsed: 1457.4 s, estimated time left: 539.0 s\n",
      "79% done. Elapsed: 1564.7 s, estimated time left: 415.9 s\n",
      "85% done. Elapsed: 1676.8 s, estimated time left: 295.9 s\n",
      "91% done. Elapsed: 1790.4 s, estimated time left: 177.1 s\n",
      "96% done. Elapsed: 1890.4 s, estimated time left: 78.8 s\n",
      "Simulation run time: 1968.0 s\n",
      "Writing spike times to Acetylcholine-Dopamine-concACh-concDA-network/simulation/network-output-spikes-ACh-DA-network-control.txt\n",
      "Simulation run time: 1966.4 s\n",
      "Writing spike times to Acetylcholine-Dopamine-concACh-concDA-network/simulation/network-output-spikes-ACh-DA-network-control.txt\n",
      "Simulation run time: 1967.9 s\n",
      "Writing spike times to Acetylcholine-Dopamine-concACh-concDA-network/simulation/network-output-spikes-ACh-DA-network-control.txt\n",
      "Simulation run time: 1967.7 s\n",
      "Writing spike times to Acetylcholine-Dopamine-concACh-concDA-network/simulation/network-output-spikes-ACh-DA-network-control.txt\n",
      "/home/jofrony/miniconda3/envs/py37/lib/python3.7/site-packages/bluepyopt/ephys/simulators.py:74: UserWarning: Unable to find Neuron hoc shared library in /usr/local/nrn/lib/python/neuron, not disabling banner\n",
      "  'not disabling banner' % nrnpy_path)\n",
      "\u001b[0m/home/jofrony/miniconda3/envs/py37/lib/python3.7/site-packages/bluepyopt/ephys/simulators.py:74: UserWarning: Unable to find Neuron hoc shared library in /usr/local/nrn/lib/python/neuron, not disabling banner\n",
      "  'not disabling banner' % nrnpy_path)\n",
      "\u001b[0mProgram run time: 2235.2207949059957\n",
      "/home/jofrony/miniconda3/envs/py37/lib/python3.7/site-packages/bluepyopt/ephys/simulators.py:74: UserWarning: Unable to find Neuron hoc shared library in /usr/local/nrn/lib/python/neuron, not disabling banner\n",
      "  'not disabling banner' % nrnpy_path)\n",
      "\u001b[0m/home/jofrony/miniconda3/envs/py37/lib/python3.7/site-packages/bluepyopt/ephys/simulators.py:74: UserWarning: Unable to find Neuron hoc shared library in /usr/local/nrn/lib/python/neuron, not disabling banner\n",
      "  'not disabling banner' % nrnpy_path)\n",
      "\u001b[0m"
     ]
    }
   ],
   "source": [
    "!mpiexec -n 4 python ../synapse-wide-code/project_wide/simulation.py $network_name $modulation $conductance_gpcr $duration $simulation_name"
   ]
  },
  {
   "cell_type": "code",
   "execution_count": null,
   "metadata": {},
   "outputs": [],
   "source": []
  }
 ],
 "metadata": {
  "kernelspec": {
   "display_name": "Python 3",
   "language": "python",
   "name": "python3"
  },
  "language_info": {
   "codemirror_mode": {
    "name": "ipython",
    "version": 3
   },
   "file_extension": ".py",
   "mimetype": "text/x-python",
   "name": "python",
   "nbconvert_exporter": "python",
   "pygments_lexer": "ipython3",
   "version": "3.7.9"
  }
 },
 "nbformat": 4,
 "nbformat_minor": 4
}
