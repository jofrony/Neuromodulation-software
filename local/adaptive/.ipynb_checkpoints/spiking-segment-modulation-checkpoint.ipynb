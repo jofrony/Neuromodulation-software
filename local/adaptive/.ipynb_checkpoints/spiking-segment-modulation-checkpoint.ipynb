{
 "cells": [
  {
   "cell_type": "code",
   "execution_count": null,
   "metadata": {},
   "outputs": [],
   "source": [
    "%cd Experiment-Simulation/"
   ]
  },
  {
   "cell_type": "code",
   "execution_count": null,
   "metadata": {},
   "outputs": [],
   "source": [
    "import neuron\n",
    "neuron.h.load_file('stdrun.hoc')\n",
    "import numpy as np\n",
    "import matplotlib.pyplot as plt"
   ]
  },
  {
   "cell_type": "code",
   "execution_count": null,
   "metadata": {},
   "outputs": [],
   "source": [
    "!nrnivmodl mechanisms-ptr/"
   ]
  },
  {
   "cell_type": "code",
   "execution_count": null,
   "metadata": {},
   "outputs": [],
   "source": [
    "soma=neuron.h.Section(name='soma')\n",
    "soma.nseg=1"
   ]
  },
  {
   "cell_type": "code",
   "execution_count": null,
   "metadata": {},
   "outputs": [],
   "source": [
    "soma.insert(\"naf_ms_ptr\")\n",
    "soma.insert(\"pas\")\n",
    "soma.g_pas = 1e-5\n",
    "soma.gbar_naf_ms_ptr = 1e-3"
   ]
  },
  {
   "cell_type": "code",
   "execution_count": null,
   "metadata": {},
   "outputs": [],
   "source": [
    "vSave = neuron.h.Vector()\n",
    "vSave.record(soma(0.5)._ref_v)"
   ]
  },
  {
   "cell_type": "code",
   "execution_count": null,
   "metadata": {},
   "outputs": [],
   "source": [
    "import numpy as np\n",
    "\n",
    "ExtrinsicSpikeTimesA = list()\n",
    "for k in range(10):\n",
    "\n",
    "    ExtrinsicSpikeTimesA.append(neuron.h.Vector([600,800,2500,3500,4000]))\n",
    "    \n",
    "ExtrinsicSpikeTimesD = list()\n",
    "for k in range(10):\n",
    "\n",
    "    ExtrinsicSpikeTimesD.append(neuron.h.Vector([800,3500,4000,5500]))"
   ]
  },
  {
   "cell_type": "code",
   "execution_count": null,
   "metadata": {},
   "outputs": [],
   "source": [
    "Syn_list = list()\n",
    "ACh_synapse = list()\n",
    "Syn_record = list()\n",
    "for i,seg in enumerate(soma):\n",
    "\n",
    "    synACh = neuron.h.concACh(seg)\n",
    "    synDA = neuron.h.concDA(seg)\n",
    "    \n",
    "    channelSaveACh = neuron.h.Vector()\n",
    "    channelSaveACh.record(synACh._ref_concentration)\n",
    "    \n",
    "    channelSaveDA = neuron.h.Vector()\n",
    "    channelSaveDA.record(synDA._ref_concentration)\n",
    "    \n",
    "    Syn_record.append(channelSaveACh)\n",
    "    Syn_record.append(channelSaveDA)\n",
    "    \n",
    "    Syn_list.append(synACh)\n",
    "    Syn_list.append(synDA)\n",
    "    \n",
    "    \n",
    "    neuron.h.setpointer(synACh._ref_concentration,'levelACh',seg.naf_ms_ptr)\n",
    "    neuron.h.setpointer(synDA._ref_concentration,'levelDA',seg.naf_ms_ptr)\n",
    "    \n",
    "    for k in range(len(ExtrinsicSpikeTimesA)):\n",
    "        VecStimA = neuron.h.VecStim()\n",
    "\n",
    "        VecStimA.play(ExtrinsicSpikeTimesA[k])\n",
    "        ncToSynapseA = neuron.h.NetCon(VecStimA,synACh)\n",
    "        \n",
    "        ncToSynapseA.delay=1\n",
    "        ncToSynapseA.threshold=0\n",
    "        ncToSynapseA.weight[i]=1e-1\n",
    "        ACh_synapse.append([synACh,ncToSynapseA,VecStimA])\n",
    "\n",
    "       \n",
    "        \n",
    "        VecStimD = neuron.h.VecStim()\n",
    "\n",
    "        VecStimD.play(ExtrinsicSpikeTimesD[k])\n",
    "        \n",
    "        ncToSynapseD = neuron.h.NetCon(VecStimD,synDA)\n",
    "        \n",
    "        ncToSynapseD.delay=1\n",
    "        ncToSynapseD.threshold=0\n",
    "        ncToSynapseD.weight[i]=1e-1\n",
    "        ACh_synapse.append([synDA,ncToSynapseD,VecStimD])\n",
    "        \n",
    "    channelSave = neuron.h.Vector()\n",
    "    channelSave.record(seg._ref_ina_naf_ms_ptr)\n",
    "    Syn_record.append(channelSave)\n",
    "        \n",
    "    \n",
    "\n"
   ]
  },
  {
   "cell_type": "code",
   "execution_count": null,
   "metadata": {},
   "outputs": [],
   "source": [
    "for seg in soma:\n",
    "    seg.maxModDA_naf_ms_ptr = 0.5\n",
    "    seg.modDA_naf_ms_ptr = 1\n",
    "    seg.maxModACh_naf_ms_ptr = 0.5\n",
    "    seg.modACh_naf_ms_ptr = 1\n"
   ]
  },
  {
   "cell_type": "code",
   "execution_count": null,
   "metadata": {},
   "outputs": [],
   "source": [
    "neuron.h.psection(sec=soma)"
   ]
  },
  {
   "cell_type": "code",
   "execution_count": null,
   "metadata": {},
   "outputs": [],
   "source": [
    "neuron.h.tstop = 10000"
   ]
  },
  {
   "cell_type": "code",
   "execution_count": null,
   "metadata": {},
   "outputs": [],
   "source": [
    "neuron.h.run()"
   ]
  },
  {
   "cell_type": "code",
   "execution_count": null,
   "metadata": {},
   "outputs": [],
   "source": [
    "\n",
    "\n",
    "for i,channels in enumerate(Syn_record):\n",
    "    f, ax = plt.subplots()\n",
    "    ax.plot(np.arange(len(channels))[10000:]*0.025*1e-3,np.array(channels)[10000:]/max(np.array(channels)))\n",
    "    plt.xticks([])\n",
    "    plt.yticks([])\n",
    "    plt.ylabel('ion channel current')\n",
    "    \n",
    "    ax.spines['right'].set_visible(False)\n",
    "    ax.spines['top'].set_visible(False)\n",
    "\n",
    "    # Only show ticks on the left and bottom spines\n",
    "    ax.yaxis.set_ticks_position('left')\n",
    "    ax.xaxis.set_ticks_position('bottom')\n",
    "\n",
    "    plt.xlabel('Time (s)')\n",
    "    plt.savefig(str(i) + 'conc_example_i.svg')\n",
    "plt.show()"
   ]
  },
  {
   "cell_type": "code",
   "execution_count": null,
   "metadata": {},
   "outputs": [],
   "source": [
    "plt.plot(vSave)\n",
    "plt.show()"
   ]
  },
  {
   "cell_type": "code",
   "execution_count": null,
   "metadata": {},
   "outputs": [],
   "source": []
  },
  {
   "cell_type": "code",
   "execution_count": null,
   "metadata": {},
   "outputs": [],
   "source": []
  },
  {
   "cell_type": "code",
   "execution_count": null,
   "metadata": {},
   "outputs": [],
   "source": []
  },
  {
   "cell_type": "code",
   "execution_count": null,
   "metadata": {},
   "outputs": [],
   "source": []
  },
  {
   "cell_type": "code",
   "execution_count": null,
   "metadata": {},
   "outputs": [],
   "source": []
  }
 ],
 "metadata": {
  "kernelspec": {
   "display_name": "Python 3",
   "language": "python",
   "name": "python3"
  },
  "language_info": {
   "codemirror_mode": {
    "name": "ipython",
    "version": 3
   },
   "file_extension": ".py",
   "mimetype": "text/x-python",
   "name": "python",
   "nbconvert_exporter": "python",
   "pygments_lexer": "ipython3",
   "version": "3.7.9"
  }
 },
 "nbformat": 4,
 "nbformat_minor": 4
}
