{
 "cells": [
  {
   "cell_type": "markdown",
   "metadata": {},
   "source": [
    "# Simulate the striatum - ACh-DA synapses"
   ]
  },
  {
   "cell_type": "code",
   "execution_count": 1,
   "metadata": {},
   "outputs": [
    {
     "name": "stdout",
     "output_type": "stream",
     "text": [
      "/home/jofrony/Documents/Repositories/BasalGangliaExperiments/Neuromodulation-software/local/adaptive/Experiment-Simulation\n"
     ]
    }
   ],
   "source": [
    "%cd Experiment-Simulation"
   ]
  },
  {
   "cell_type": "code",
   "execution_count": 3,
   "metadata": {},
   "outputs": [
    {
     "name": "stdout",
     "output_type": "stream",
     "text": [
      "Writing spikes to Acetylcholine-Dopamine-concACh-concDA-network/input-spikes.hdf5\n"
     ]
    }
   ],
   "source": [
    "import os\n",
    "from snudda.input import SnuddaInput\n",
    "\n",
    "network_path = 'Acetylcholine-Dopamine-concACh-concDA-network'\n",
    "\n",
    "si = SnuddaInput(network_path=network_path, \n",
    "                 input_config_file=os.path.join(\"external_input\",\"external-input-burst.json\"),\n",
    "                 verbose=False)\n",
    "si.generate()"
   ]
  },
  {
   "cell_type": "code",
   "execution_count": 4,
   "metadata": {},
   "outputs": [],
   "source": [
    "#!nrnivmodl ../../../../../BasalGangliaData/mod-ptr-files/"
   ]
  },
  {
   "cell_type": "code",
   "execution_count": 5,
   "metadata": {},
   "outputs": [],
   "source": [
    "network_name = 'Acetylcholine-Dopamine-concACh-concDA-network'\n",
    "modulation = 'modulation/DA-ACh.json'\n",
    "duration = 4000\n",
    "simulation_name = 'ACh-DA-network-burst'\n",
    "conductance_gpcr = 1"
   ]
  },
  {
   "cell_type": "code",
   "execution_count": 6,
   "metadata": {},
   "outputs": [
    {
     "name": "stdout",
     "output_type": "stream",
     "text": [
      "numprocs=4\n",
      "Loading 29 neurons with 21504 synapses and 0 gap junctions\n",
      "Loading 29 neurons with 21504 synapses and 0 gap junctions\n",
      "Loading 29 neurons with 21504 synapses and 0 gap junctions\n",
      "Loading 29 neurons with 21504 synapses and 0 gap junctions\n",
      "Program run time: 13.686284523981158\n",
      "Running simulation for 4.0 s\n",
      "Running simulation for 4.0 s\n",
      "Running simulation for 4.0 s\n",
      "Running simulation for 4.0 s\n",
      "1% done. Elapsed: 14.0 s, estimated time left: 1382.5 s\n",
      "8% done. Elapsed: 114.9 s, estimated time left: 1321.8 s\n",
      "15% done. Elapsed: 215.3 s, estimated time left: 1219.9 s\n",
      "23% done. Elapsed: 327.8 s, estimated time left: 1097.4 s\n",
      "31% done. Elapsed: 441.2 s, estimated time left: 982.1 s\n",
      "38% done. Elapsed: 542.2 s, estimated time left: 884.7 s\n",
      "45% done. Elapsed: 642.6 s, estimated time left: 785.4 s\n",
      "53% done. Elapsed: 755.9 s, estimated time left: 670.3 s\n",
      "60% done. Elapsed: 861.0 s, estimated time left: 574.0 s\n",
      "67% done. Elapsed: 967.8 s, estimated time left: 476.7 s\n",
      "74% done. Elapsed: 1070.1 s, estimated time left: 376.0 s\n",
      "81% done. Elapsed: 1171.3 s, estimated time left: 274.8 s\n",
      "87% done. Elapsed: 1278.9 s, estimated time left: 191.1 s\n",
      "94% done. Elapsed: 1384.9 s, estimated time left: 88.4 s\n",
      "Simulation run time: 1473.6 s\n",
      "Writing spike times to Acetylcholine-Dopamine-concACh-concDA-network/simulation/network-output-spikes-ACh-DA-network-burst.txt\n",
      "Simulation run time: 1473.3 s\n",
      "Simulation run time: 1473.4 s\n",
      "Simulation run time: 1473.9 s\n",
      "Writing spike times to Acetylcholine-Dopamine-concACh-concDA-network/simulation/network-output-spikes-ACh-DA-network-burst.txt\n",
      "Writing spike times to Acetylcholine-Dopamine-concACh-concDA-network/simulation/network-output-spikes-ACh-DA-network-burst.txt\n",
      "Writing spike times to Acetylcholine-Dopamine-concACh-concDA-network/simulation/network-output-spikes-ACh-DA-network-burst.txt\n",
      "Program run time: 1473.9612963180116\n",
      "/home/jofrony/miniconda3/envs/py37/lib/python3.7/site-packages/bluepyopt/ephys/simulators.py:74: UserWarning: Unable to find Neuron hoc shared library in /usr/local/nrn/lib/python/neuron, not disabling banner\n",
      "  'not disabling banner' % nrnpy_path)\n",
      "/home/jofrony/miniconda3/envs/py37/lib/python3.7/site-packages/bluepyopt/ephys/simulators.py:74: UserWarning: Unable to find Neuron hoc shared library in /usr/local/nrn/lib/python/neuron, not disabling banner\n",
      "  'not disabling banner' % nrnpy_path)\n",
      "/home/jofrony/miniconda3/envs/py37/lib/python3.7/site-packages/bluepyopt/ephys/simulators.py:74: UserWarning: Unable to find Neuron hoc shared library in /usr/local/nrn/lib/python/neuron, not disabling banner\n",
      "  'not disabling banner' % nrnpy_path)\n",
      "/home/jofrony/miniconda3/envs/py37/lib/python3.7/site-packages/bluepyopt/ephys/simulators.py:74: UserWarning: Unable to find Neuron hoc shared library in /usr/local/nrn/lib/python/neuron, not disabling banner\n",
      "  'not disabling banner' % nrnpy_path)\n",
      "\u001b[0m\u001b[0m\u001b[0m\u001b[0m"
     ]
    }
   ],
   "source": [
    "!mpiexec -n 4 python ../simulation.py $network_name $modulation $conductance_gpcr $duration $simulation_name"
   ]
  },
  {
   "cell_type": "code",
   "execution_count": 7,
   "metadata": {},
   "outputs": [],
   "source": [
    "network_name = 'Acetylcholine-Dopamine-concACh-concDA-network'\n",
    "modulation = 'modulation/DA-ACh_control.json'\n",
    "conductance_gpcr = 0 # run conductance 0 for control\n",
    "duration = 4000\n",
    "simulation_name = 'ACh-DA-network-burst-control'"
   ]
  },
  {
   "cell_type": "code",
   "execution_count": 8,
   "metadata": {},
   "outputs": [
    {
     "name": "stdout",
     "output_type": "stream",
     "text": [
      "numprocs=4\n",
      "Loading 29 neurons with 21504 synapses and 0 gap junctions\n",
      "Loading 29 neurons with 21504 synapses and 0 gap junctions\n",
      "Loading 29 neurons with 21504 synapses and 0 gap junctions\n",
      "Loading 29 neurons with 21504 synapses and 0 gap junctions\n",
      "Program run time: 14.36258867100696\n",
      "Running simulation for 4.0 s\n",
      "Running simulation for 4.0 s\n",
      "Running simulation for 4.0 s\n",
      "Running simulation for 4.0 s\n",
      "1% done. Elapsed: 14.2 s, estimated time left: 1406.0 s\n",
      "8% done. Elapsed: 115.2 s, estimated time left: 1325.3 s\n",
      "15% done. Elapsed: 223.0 s, estimated time left: 1263.7 s\n",
      "22% done. Elapsed: 328.7 s, estimated time left: 1165.4 s\n",
      "29% done. Elapsed: 437.0 s, estimated time left: 1069.8 s\n",
      "36% done. Elapsed: 551.0 s, estimated time left: 979.6 s\n",
      "43% done. Elapsed: 656.5 s, estimated time left: 870.2 s\n",
      "50% done. Elapsed: 765.4 s, estimated time left: 765.4 s\n",
      "57% done. Elapsed: 874.2 s, estimated time left: 659.5 s\n",
      "64% done. Elapsed: 983.4 s, estimated time left: 553.2 s\n",
      "71% done. Elapsed: 1087.9 s, estimated time left: 444.3 s\n",
      "78% done. Elapsed: 1190.1 s, estimated time left: 335.7 s\n",
      "84% done. Elapsed: 1292.5 s, estimated time left: 246.2 s\n",
      "91% done. Elapsed: 1398.8 s, estimated time left: 138.3 s\n",
      "98% done. Elapsed: 1507.3 s, estimated time left: 30.8 s\n",
      "Simulation run time: 1537.1 s\n",
      "Writing spike times to Acetylcholine-Dopamine-concACh-concDA-network/simulation/network-output-spikes-ACh-DA-network-burst-control.txt\n",
      "Simulation run time: 1536.8 s\n",
      "Writing spike times to Acetylcholine-Dopamine-concACh-concDA-network/simulation/network-output-spikes-ACh-DA-network-burst-control.txt\n",
      "Simulation run time: 1536.9 s\n",
      "Simulation run time: 1537.5 s\n",
      "Writing spike times to Acetylcholine-Dopamine-concACh-concDA-network/simulation/network-output-spikes-ACh-DA-network-burst-control.txt\n",
      "Writing spike times to Acetylcholine-Dopamine-concACh-concDA-network/simulation/network-output-spikes-ACh-DA-network-burst-control.txt\n",
      "Program run time: 1537.7038920560153\n",
      "/home/jofrony/miniconda3/envs/py37/lib/python3.7/site-packages/bluepyopt/ephys/simulators.py:74: UserWarning: Unable to find Neuron hoc shared library in /usr/local/nrn/lib/python/neuron, not disabling banner\n",
      "  'not disabling banner' % nrnpy_path)\n",
      "/home/jofrony/miniconda3/envs/py37/lib/python3.7/site-packages/bluepyopt/ephys/simulators.py:74: UserWarning: Unable to find Neuron hoc shared library in /usr/local/nrn/lib/python/neuron, not disabling banner\n",
      "  'not disabling banner' % nrnpy_path)\n",
      "/home/jofrony/miniconda3/envs/py37/lib/python3.7/site-packages/bluepyopt/ephys/simulators.py:74: UserWarning: Unable to find Neuron hoc shared library in /usr/local/nrn/lib/python/neuron, not disabling banner\n",
      "  'not disabling banner' % nrnpy_path)\n",
      "/home/jofrony/miniconda3/envs/py37/lib/python3.7/site-packages/bluepyopt/ephys/simulators.py:74: UserWarning: Unable to find Neuron hoc shared library in /usr/local/nrn/lib/python/neuron, not disabling banner\n",
      "  'not disabling banner' % nrnpy_path)\n",
      "\u001b[0m\u001b[0m\u001b[0m\u001b[0m"
     ]
    }
   ],
   "source": [
    "!mpiexec -n 4 python ../simulation.py $network_name $modulation $conductance_gpcr $duration $simulation_name"
   ]
  },
  {
   "cell_type": "code",
   "execution_count": 9,
   "metadata": {},
   "outputs": [
    {
     "name": "stdout",
     "output_type": "stream",
     "text": [
      "Writing spikes to Acetylcholine-Dopamine-concACh-concDA-network/input-spikes.hdf5\n"
     ]
    }
   ],
   "source": [
    "import os\n",
    "from snudda.input import SnuddaInput\n",
    "\n",
    "network_path = 'Acetylcholine-Dopamine-concACh-concDA-network'\n",
    "\n",
    "si = SnuddaInput(network_path=network_path, \n",
    "                 input_config_file=os.path.join(\"external_input\",\"external-input-no-burst.json\"),\n",
    "                 verbose=False)\n",
    "si.generate()"
   ]
  },
  {
   "cell_type": "code",
   "execution_count": 10,
   "metadata": {},
   "outputs": [
    {
     "name": "stdout",
     "output_type": "stream",
     "text": [
      "numprocs=4\n",
      "Loading 29 neurons with 21504 synapses and 0 gap junctions\n",
      "Loading 29 neurons with 21504 synapses and 0 gap junctions\n",
      "Loading 29 neurons with 21504 synapses and 0 gap junctions\n",
      "Loading 29 neurons with 21504 synapses and 0 gap junctions\n",
      "Program run time: 14.182959905010648\n",
      "Running simulation for 4.0 s\n",
      "Running simulation for 4.0 s\n",
      "Running simulation for 4.0 s\n",
      "Running simulation for 4.0 s\n",
      "1% done. Elapsed: 14.9 s, estimated time left: 1474.3 s\n",
      "9% done. Elapsed: 122.6 s, estimated time left: 1239.7 s\n",
      "16% done. Elapsed: 226.4 s, estimated time left: 1188.4 s\n",
      "23% done. Elapsed: 331.8 s, estimated time left: 1110.7 s\n",
      "30% done. Elapsed: 436.7 s, estimated time left: 1019.0 s\n",
      "37% done. Elapsed: 537.1 s, estimated time left: 914.5 s\n",
      "44% done. Elapsed: 640.4 s, estimated time left: 815.1 s\n",
      "51% done. Elapsed: 748.7 s, estimated time left: 719.4 s\n",
      "58% done. Elapsed: 857.0 s, estimated time left: 620.6 s\n",
      "65% done. Elapsed: 962.7 s, estimated time left: 518.4 s\n",
      "72% done. Elapsed: 1066.2 s, estimated time left: 414.6 s\n",
      "79% done. Elapsed: 1168.3 s, estimated time left: 310.6 s\n",
      "85% done. Elapsed: 1275.5 s, estimated time left: 225.1 s\n",
      "92% done. Elapsed: 1381.5 s, estimated time left: 120.1 s\n",
      "99% done. Elapsed: 1486.0 s, estimated time left: 15.0 s\n",
      "Simulation run time: 1501.1 s\n",
      "Writing spike times to Acetylcholine-Dopamine-concACh-concDA-network/simulation/network-output-spikes-ACh-DA-network.txt\n",
      "Simulation run time: 1500.9 s\n",
      "Simulation run time: 1501.5 s\n",
      "Simulation run time: 1500.8 s\n",
      "Writing spike times to Acetylcholine-Dopamine-concACh-concDA-network/simulation/network-output-spikes-ACh-DA-network.txt\n",
      "Writing spike times to Acetylcholine-Dopamine-concACh-concDA-network/simulation/network-output-spikes-ACh-DA-network.txt\n",
      "Writing spike times to Acetylcholine-Dopamine-concACh-concDA-network/simulation/network-output-spikes-ACh-DA-network.txt\n",
      "Program run time: 1501.4323112650018\n",
      "/home/jofrony/miniconda3/envs/py37/lib/python3.7/site-packages/bluepyopt/ephys/simulators.py:74: UserWarning: Unable to find Neuron hoc shared library in /usr/local/nrn/lib/python/neuron, not disabling banner\n",
      "  'not disabling banner' % nrnpy_path)\n",
      "/home/jofrony/miniconda3/envs/py37/lib/python3.7/site-packages/bluepyopt/ephys/simulators.py:74: UserWarning: Unable to find Neuron hoc shared library in /usr/local/nrn/lib/python/neuron, not disabling banner\n",
      "  'not disabling banner' % nrnpy_path)\n",
      "/home/jofrony/miniconda3/envs/py37/lib/python3.7/site-packages/bluepyopt/ephys/simulators.py:74: UserWarning: Unable to find Neuron hoc shared library in /usr/local/nrn/lib/python/neuron, not disabling banner\n",
      "  'not disabling banner' % nrnpy_path)\n",
      "/home/jofrony/miniconda3/envs/py37/lib/python3.7/site-packages/bluepyopt/ephys/simulators.py:74: UserWarning: Unable to find Neuron hoc shared library in /usr/local/nrn/lib/python/neuron, not disabling banner\n",
      "  'not disabling banner' % nrnpy_path)\n",
      "\u001b[0m\u001b[0m\u001b[0m\u001b[0m"
     ]
    }
   ],
   "source": [
    "network_name = 'Acetylcholine-Dopamine-concACh-concDA-network'\n",
    "modulation = 'modulation/DA-ACh.json'\n",
    "duration = 4000\n",
    "simulation_name = 'ACh-DA-network'\n",
    "conductance_gpcr = 0\n",
    "\n",
    "!mpiexec -n 4 python ../simulation.py $network_name $modulation $conductance_gpcr $duration $simulation_name"
   ]
  },
  {
   "cell_type": "code",
   "execution_count": 11,
   "metadata": {},
   "outputs": [
    {
     "name": "stdout",
     "output_type": "stream",
     "text": [
      "numprocs=4\n",
      "Loading 29 neurons with 21504 synapses and 0 gap junctions\n",
      "Loading 29 neurons with 21504 synapses and 0 gap junctions\n",
      "Loading 29 neurons with 21504 synapses and 0 gap junctions\n",
      "Loading 29 neurons with 21504 synapses and 0 gap junctions\n",
      "Program run time: 13.977218637999613\n",
      "Running simulation for 4.0 s\n",
      "Running simulation for 4.0 s\n",
      "Running simulation for 4.0 s\n",
      "Running simulation for 4.0 s\n",
      "1% done. Elapsed: 15.1 s, estimated time left: 1496.2 s\n",
      "8% done. Elapsed: 117.3 s, estimated time left: 1348.9 s\n",
      "15% done. Elapsed: 220.1 s, estimated time left: 1247.3 s\n",
      "22% done. Elapsed: 323.4 s, estimated time left: 1146.6 s\n",
      "29% done. Elapsed: 426.2 s, estimated time left: 1043.4 s\n",
      "36% done. Elapsed: 530.2 s, estimated time left: 942.5 s\n",
      "43% done. Elapsed: 640.8 s, estimated time left: 849.4 s\n",
      "50% done. Elapsed: 749.5 s, estimated time left: 749.5 s\n",
      "57% done. Elapsed: 858.4 s, estimated time left: 647.6 s\n",
      "64% done. Elapsed: 970.5 s, estimated time left: 545.9 s\n",
      "71% done. Elapsed: 1074.5 s, estimated time left: 438.9 s\n",
      "78% done. Elapsed: 1178.2 s, estimated time left: 332.3 s\n",
      "84% done. Elapsed: 1286.8 s, estimated time left: 245.1 s\n",
      "91% done. Elapsed: 1396.0 s, estimated time left: 138.1 s\n",
      "98% done. Elapsed: 1502.3 s, estimated time left: 30.7 s\n",
      "Simulation run time: 1532.8 s\n",
      "Writing spike times to Acetylcholine-Dopamine-concACh-concDA-network/simulation/network-output-spikes-ACh-DA-network-control.txt\n",
      "Simulation run time: 1532.4 s\n",
      "Simulation run time: 1532.4 s\n",
      "Simulation run time: 1532.8 s\n",
      "Writing spike times to Acetylcholine-Dopamine-concACh-concDA-network/simulation/network-output-spikes-ACh-DA-network-control.txt\n",
      "Writing spike times to Acetylcholine-Dopamine-concACh-concDA-network/simulation/network-output-spikes-ACh-DA-network-control.txt\n",
      "Writing spike times to Acetylcholine-Dopamine-concACh-concDA-network/simulation/network-output-spikes-ACh-DA-network-control.txt\n",
      "Program run time: 1533.2588167020003\n",
      "/home/jofrony/miniconda3/envs/py37/lib/python3.7/site-packages/bluepyopt/ephys/simulators.py:74: UserWarning: Unable to find Neuron hoc shared library in /usr/local/nrn/lib/python/neuron, not disabling banner\n",
      "  'not disabling banner' % nrnpy_path)\n",
      "/home/jofrony/miniconda3/envs/py37/lib/python3.7/site-packages/bluepyopt/ephys/simulators.py:74: UserWarning: Unable to find Neuron hoc shared library in /usr/local/nrn/lib/python/neuron, not disabling banner\n",
      "  'not disabling banner' % nrnpy_path)\n",
      "/home/jofrony/miniconda3/envs/py37/lib/python3.7/site-packages/bluepyopt/ephys/simulators.py:74: UserWarning: Unable to find Neuron hoc shared library in /usr/local/nrn/lib/python/neuron, not disabling banner\n",
      "  'not disabling banner' % nrnpy_path)\n",
      "/home/jofrony/miniconda3/envs/py37/lib/python3.7/site-packages/bluepyopt/ephys/simulators.py:74: UserWarning: Unable to find Neuron hoc shared library in /usr/local/nrn/lib/python/neuron, not disabling banner\n",
      "  'not disabling banner' % nrnpy_path)\n",
      "\u001b[0m\u001b[0m\u001b[0m\u001b[0m"
     ]
    }
   ],
   "source": [
    "network_name = 'Acetylcholine-Dopamine-concACh-concDA-network'\n",
    "modulation = 'modulation/DA-ACh_control.json'\n",
    "duration = 4000\n",
    "conductance_gpcr = 0\n",
    "simulation_name = 'ACh-DA-network-control'\n",
    "!mpiexec -n 4 python ../simulation.py $network_name $modulation $conductance_gpcr $duration $simulation_name"
   ]
  },
  {
   "cell_type": "code",
   "execution_count": null,
   "metadata": {},
   "outputs": [],
   "source": []
  }
 ],
 "metadata": {
  "kernelspec": {
   "display_name": "Python 3",
   "language": "python",
   "name": "python3"
  },
  "language_info": {
   "codemirror_mode": {
    "name": "ipython",
    "version": 3
   },
   "file_extension": ".py",
   "mimetype": "text/x-python",
   "name": "python",
   "nbconvert_exporter": "python",
   "pygments_lexer": "ipython3",
   "version": "3.7.9"
  }
 },
 "nbformat": 4,
 "nbformat_minor": 4
}
