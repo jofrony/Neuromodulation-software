{
 "cells": [
  {
   "cell_type": "code",
   "execution_count": 1,
   "metadata": {},
   "outputs": [
    {
     "name": "stdout",
     "output_type": "stream",
     "text": [
      "/home/jofrony/Documents/Repositories/BasalGangliaExperiments/Neuromodulation-software/local/adaptive/Experiment-Simulation\n"
     ]
    }
   ],
   "source": [
    "%cd Experiment-Simulation/"
   ]
  },
  {
   "cell_type": "code",
   "execution_count": 2,
   "metadata": {},
   "outputs": [],
   "source": [
    "import neuron\n",
    "neuron.h.load_file('stdrun.hoc')\n",
    "import numpy as np\n",
    "import matplotlib.pyplot as plt"
   ]
  },
  {
   "cell_type": "code",
   "execution_count": 3,
   "metadata": {},
   "outputs": [
    {
     "name": "stdout",
     "output_type": "stream",
     "text": [
      "/home/jofrony/Documents/Repositories/BasalGangliaExperiments/Neuromodulation-software/local/adaptive/Experiment-Simulation\n",
      "ls: cannot access 'mechanisms-modulation-ptr//*.inc': No such file or directory\n",
      "mechanisms-modulation-ptr//bk_ch.mod mechanisms-modulation-ptr//bk_fs.mod mechanisms-modulation-ptr//bk_ms.mod mechanisms-modulation-ptr//ca_ch.mod mechanisms-modulation-ptr//cadyn_fs.mod mechanisms-modulation-ptr//cadyn_ms.mod mechanisms-modulation-ptr//cal12_ms.mod mechanisms-modulation-ptr//cal12_ms_ptr.mod mechanisms-modulation-ptr//cal13_ms.mod mechanisms-modulation-ptr//cal13_ms_ptr.mod mechanisms-modulation-ptr//cal_ch.mod mechanisms-modulation-ptr//cal_ch_ptr.mod mechanisms-modulation-ptr//caldyn_ms.mod mechanisms-modulation-ptr//can_fs.mod mechanisms-modulation-ptr//can_ms.mod mechanisms-modulation-ptr//can_ms_ptr.mod mechanisms-modulation-ptr//cap_ch.mod mechanisms-modulation-ptr//cap_ch_ptr.mod mechanisms-modulation-ptr//caq_fs.mod mechanisms-modulation-ptr//caq_ms.mod mechanisms-modulation-ptr//car_fs.mod mechanisms-modulation-ptr//car_ms.mod mechanisms-modulation-ptr//car_ms_ptr.mod mechanisms-modulation-ptr//cat32_ms.mod mechanisms-modulation-ptr//cat33_ms.mod mechanisms-modulation-ptr//concACh.mod mechanisms-modulation-ptr//concDA.mod mechanisms-modulation-ptr//hcn12_ch.mod mechanisms-modulation-ptr//hcn12_ch_ptr.mod mechanisms-modulation-ptr//hd_lts.mod mechanisms-modulation-ptr//hd_lts_ptr.mod mechanisms-modulation-ptr//im_lts.mod mechanisms-modulation-ptr//im_lts_ptr.mod mechanisms-modulation-ptr//Im_ms.mod mechanisms-modulation-ptr//Im_ms_ptr.mod mechanisms-modulation-ptr//it_lts.mod mechanisms-modulation-ptr//it_lts_ptr.mod mechanisms-modulation-ptr//kaf_fs.mod mechanisms-modulation-ptr//kaf_fs_ptr.mod mechanisms-modulation-ptr//kaf_lts.mod mechanisms-modulation-ptr//kaf_lts_ptr.mod mechanisms-modulation-ptr//kaf_ms.mod mechanisms-modulation-ptr//kaf_ms_ptr.mod mechanisms-modulation-ptr//kas_fs.mod mechanisms-modulation-ptr//kas_fs_ptr.mod mechanisms-modulation-ptr//kas_ms.mod mechanisms-modulation-ptr//kas_ms_ptr.mod mechanisms-modulation-ptr//kcnq_ch.mod mechanisms-modulation-ptr//kdb_lts.mod mechanisms-modulation-ptr//kdrbca1_lts.mod mechanisms-modulation-ptr//kdr_fs.mod mechanisms-modulation-ptr//kdr_lts.mod mechanisms-modulation-ptr//kdr_lts_ptr.mod mechanisms-modulation-ptr//kdr_ms.mod mechanisms-modulation-ptr//kir23_ch.mod mechanisms-modulation-ptr//kir23_ch_ptr.mod mechanisms-modulation-ptr//kir23_lts.mod mechanisms-modulation-ptr//kir23_lts_ptr.mod mechanisms-modulation-ptr//kir2_ch.mod mechanisms-modulation-ptr//kir2_ch_ptr.mod mechanisms-modulation-ptr//kir_fs.mod mechanisms-modulation-ptr//kir_fs_ptr.mod mechanisms-modulation-ptr//kir_ms.mod mechanisms-modulation-ptr//kir_ms_ptr.mod mechanisms-modulation-ptr//kv2_ch.mod mechanisms-modulation-ptr//kv4_ch.mod mechanisms-modulation-ptr//kv4_ch_ptr.mod mechanisms-modulation-ptr//na2_ch.mod mechanisms-modulation-ptr//na2_ch_ptr.mod mechanisms-modulation-ptr//na3n_lts.mod mechanisms-modulation-ptr//na3n_lts_ptr.mod mechanisms-modulation-ptr//na_ch.mod mechanisms-modulation-ptr//na_ch_ptr.mod mechanisms-modulation-ptr//naf_fs.mod mechanisms-modulation-ptr//naf_fs_ptr.mod mechanisms-modulation-ptr//naf_lts.mod mechanisms-modulation-ptr//naf_lts_ptr.mod mechanisms-modulation-ptr//naf_ms.mod mechanisms-modulation-ptr//naf_ms_ptr.mod mechanisms-modulation-ptr//NO.mod mechanisms-modulation-ptr//par_ggap.mod mechanisms-modulation-ptr//sk_ch.mod mechanisms-modulation-ptr//sk_fs.mod mechanisms-modulation-ptr//sk_ms.mod mechanisms-modulation-ptr//tmgabaa.mod mechanisms-modulation-ptr//tmgabaa_ptr.mod mechanisms-modulation-ptr//tmglut_M1RH_D1.mod mechanisms-modulation-ptr//tmglut_M1RH_D1_ptr.mod mechanisms-modulation-ptr//tmglut.mod mechanisms-modulation-ptr//tmglut_ptr.mod mechanisms-modulation-ptr//vecevent.mod\n",
      "bk_ch.mod bk_fs.mod bk_ms.mod ca_ch.mod cadyn_fs.mod cadyn_ms.mod cal12_ms.mod cal12_ms_ptr.mod cal13_ms.mod cal13_ms_ptr.mod cal_ch.mod cal_ch_ptr.mod caldyn_ms.mod can_fs.mod can_ms.mod can_ms_ptr.mod cap_ch.mod cap_ch_ptr.mod caq_fs.mod caq_ms.mod car_fs.mod car_ms.mod car_ms_ptr.mod cat32_ms.mod cat33_ms.mod concACh.mod concDA.mod hcn12_ch.mod hcn12_ch_ptr.mod hd_lts.mod hd_lts_ptr.mod im_lts.mod im_lts_ptr.mod Im_ms.mod Im_ms_ptr.mod it_lts.mod it_lts_ptr.mod kaf_fs.mod kaf_fs_ptr.mod kaf_lts.mod kaf_lts_ptr.mod kaf_ms.mod kaf_ms_ptr.mod kas_fs.mod kas_fs_ptr.mod kas_ms.mod kas_ms_ptr.mod kcnq_ch.mod kdb_lts.mod kdrbca1_lts.mod kdr_fs.mod kdr_lts.mod kdr_lts_ptr.mod kdr_ms.mod kir23_ch.mod kir23_ch_ptr.mod kir23_lts.mod kir23_lts_ptr.mod kir2_ch.mod kir2_ch_ptr.mod kir_fs.mod kir_fs_ptr.mod kir_ms.mod kir_ms_ptr.mod kv2_ch.mod kv4_ch.mod kv4_ch_ptr.mod na2_ch.mod na2_ch_ptr.mod na3n_lts.mod na3n_lts_ptr.mod na_ch.mod na_ch_ptr.mod naf_fs.mod naf_fs_ptr.mod naf_lts.mod naf_lts_ptr.mod naf_ms.mod naf_ms_ptr.mod NO.mod par_ggap.mod sk_ch.mod sk_fs.mod sk_ms.mod tmgabaa.mod tmgabaa_ptr.mod tmglut_M1RH_D1.mod tmglut_M1RH_D1_ptr.mod tmglut.mod tmglut_ptr.mod vecevent.mod\n",
      "\"/usr/local/nrn/share/nrn/libtool\" --tag=CC --mode=compile mpicc -DHAVE_CONFIG_H  -I. -I.. -I\"/usr/local/nrn/include/nrn\" -I\"/usr/local/nrn/x86_64/lib\"      -g -O2 -c -o mod_func.lo mod_func.c\n",
      "libtool: compile:  mpicc -DHAVE_CONFIG_H -I. -I.. -I/usr/local/nrn/include/nrn -I/usr/local/nrn/x86_64/lib -g -O2 -c mod_func.c  -fPIC -DPIC -o .libs/mod_func.o\n",
      "\"/usr/local/nrn/share/nrn/libtool\" --tag=CC --mode=link mpicc -module  -g -O2    -o libnrnmech.la -rpath \"/usr/local/nrn/x86_64/lib\"  bk_ch.lo bk_fs.lo bk_ms.lo ca_ch.lo cadyn_fs.lo cadyn_ms.lo cal12_ms.lo cal12_ms_ptr.lo cal13_ms.lo cal13_ms_ptr.lo cal_ch.lo cal_ch_ptr.lo caldyn_ms.lo can_fs.lo can_ms.lo can_ms_ptr.lo cap_ch.lo cap_ch_ptr.lo caq_fs.lo caq_ms.lo car_fs.lo car_ms.lo car_ms_ptr.lo cat32_ms.lo cat33_ms.lo concACh.lo concDA.lo hcn12_ch.lo hcn12_ch_ptr.lo hd_lts.lo hd_lts_ptr.lo im_lts.lo im_lts_ptr.lo Im_ms.lo Im_ms_ptr.lo it_lts.lo it_lts_ptr.lo kaf_fs.lo kaf_fs_ptr.lo kaf_lts.lo kaf_lts_ptr.lo kaf_ms.lo kaf_ms_ptr.lo kas_fs.lo kas_fs_ptr.lo kas_ms.lo kas_ms_ptr.lo kcnq_ch.lo kdb_lts.lo kdrbca1_lts.lo kdr_fs.lo kdr_lts.lo kdr_lts_ptr.lo kdr_ms.lo kir23_ch.lo kir23_ch_ptr.lo kir23_lts.lo kir23_lts_ptr.lo kir2_ch.lo kir2_ch_ptr.lo kir_fs.lo kir_fs_ptr.lo kir_ms.lo kir_ms_ptr.lo kv2_ch.lo kv4_ch.lo kv4_ch_ptr.lo na2_ch.lo na2_ch_ptr.lo na3n_lts.lo na3n_lts_ptr.lo na_ch.lo na_ch_ptr.lo naf_fs.lo naf_fs_ptr.lo naf_lts.lo naf_lts_ptr.lo naf_ms.lo naf_ms_ptr.lo NO.lo par_ggap.lo sk_ch.lo sk_fs.lo sk_ms.lo tmgabaa.lo tmgabaa_ptr.lo tmglut_M1RH_D1.lo tmglut_M1RH_D1_ptr.lo tmglut.lo tmglut_ptr.lo vecevent.lo mod_func.lo  -L\"/usr/local/nrn/x86_64/lib\" -lnrnoc -loc -lmemacs -lnrnmpi -lscopmath -lsparse13 -lreadline -lncurses -ltinfo -L\"/usr/local/nrn/x86_64/lib\" -lnrniv -livoc -lneuron_gnu -lmeschach -lsundials       -lm -ldl\n",
      "libtool: link: rm -fr  .libs/libnrnmech.la .libs/libnrnmech.lai .libs/libnrnmech.so .libs/libnrnmech.so.0 .libs/libnrnmech.so.0.0.0\n",
      "libtool: link: mpicc -shared  -fPIC -DPIC  .libs/bk_ch.o .libs/bk_fs.o .libs/bk_ms.o .libs/ca_ch.o .libs/cadyn_fs.o .libs/cadyn_ms.o .libs/cal12_ms.o .libs/cal12_ms_ptr.o .libs/cal13_ms.o .libs/cal13_ms_ptr.o .libs/cal_ch.o .libs/cal_ch_ptr.o .libs/caldyn_ms.o .libs/can_fs.o .libs/can_ms.o .libs/can_ms_ptr.o .libs/cap_ch.o .libs/cap_ch_ptr.o .libs/caq_fs.o .libs/caq_ms.o .libs/car_fs.o .libs/car_ms.o .libs/car_ms_ptr.o .libs/cat32_ms.o .libs/cat33_ms.o .libs/concACh.o .libs/concDA.o .libs/hcn12_ch.o .libs/hcn12_ch_ptr.o .libs/hd_lts.o .libs/hd_lts_ptr.o .libs/im_lts.o .libs/im_lts_ptr.o .libs/Im_ms.o .libs/Im_ms_ptr.o .libs/it_lts.o .libs/it_lts_ptr.o .libs/kaf_fs.o .libs/kaf_fs_ptr.o .libs/kaf_lts.o .libs/kaf_lts_ptr.o .libs/kaf_ms.o .libs/kaf_ms_ptr.o .libs/kas_fs.o .libs/kas_fs_ptr.o .libs/kas_ms.o .libs/kas_ms_ptr.o .libs/kcnq_ch.o .libs/kdb_lts.o .libs/kdrbca1_lts.o .libs/kdr_fs.o .libs/kdr_lts.o .libs/kdr_lts_ptr.o .libs/kdr_ms.o .libs/kir23_ch.o .libs/kir23_ch_ptr.o .libs/kir23_lts.o .libs/kir23_lts_ptr.o .libs/kir2_ch.o .libs/kir2_ch_ptr.o .libs/kir_fs.o .libs/kir_fs_ptr.o .libs/kir_ms.o .libs/kir_ms_ptr.o .libs/kv2_ch.o .libs/kv4_ch.o .libs/kv4_ch_ptr.o .libs/na2_ch.o .libs/na2_ch_ptr.o .libs/na3n_lts.o .libs/na3n_lts_ptr.o .libs/na_ch.o .libs/na_ch_ptr.o .libs/naf_fs.o .libs/naf_fs_ptr.o .libs/naf_lts.o .libs/naf_lts_ptr.o .libs/naf_ms.o .libs/naf_ms_ptr.o .libs/NO.o .libs/par_ggap.o .libs/sk_ch.o .libs/sk_fs.o .libs/sk_ms.o .libs/tmgabaa.o .libs/tmgabaa_ptr.o .libs/tmglut_M1RH_D1.o .libs/tmglut_M1RH_D1_ptr.o .libs/tmglut.o .libs/tmglut_ptr.o .libs/vecevent.o .libs/mod_func.o   -Wl,-rpath -Wl,/usr/local/nrn/x86_64/lib -Wl,-rpath -Wl,/usr/local/nrn/x86_64/lib -L/usr/local/nrn/x86_64/lib /usr/local/nrn/x86_64/lib/libnrnoc.so /usr/local/nrn/x86_64/lib/liboc.so -lX11 /usr/local/nrn/x86_64/lib/libmemacs.so /usr/local/nrn/x86_64/lib/libnrnmpi.so /usr/local/nrn/x86_64/lib/libscopmath.so /usr/local/nrn/x86_64/lib/libsparse13.so /usr/local/nrn/x86_64/lib/libreadline.so -lncurses -ltinfo /usr/local/nrn/x86_64/lib/libnrniv.so /usr/local/nrn/x86_64/lib/libivoc.so /usr/local/nrn/x86_64/lib/libneuron_gnu.so /usr/local/nrn/x86_64/lib/libmeschach.so /usr/local/nrn/x86_64/lib/libsundials.so -lm -ldl  -g -O2   -Wl,-soname -Wl,libnrnmech.so.0 -o .libs/libnrnmech.so.0.0.0\n"
     ]
    },
    {
     "name": "stdout",
     "output_type": "stream",
     "text": [
      "libtool: link: (cd \".libs\" && rm -f \"libnrnmech.so.0\" && ln -s \"libnrnmech.so.0.0.0\" \"libnrnmech.so.0\")\n",
      "libtool: link: (cd \".libs\" && rm -f \"libnrnmech.so\" && ln -s \"libnrnmech.so.0.0.0\" \"libnrnmech.so\")\n",
      "libtool: link: ( cd \".libs\" && rm -f \"libnrnmech.la\" && ln -s \"../libnrnmech.la\" \"libnrnmech.la\" )\n",
      "Successfully created x86_64/special\n"
     ]
    }
   ],
   "source": [
    "!nrnivmodl mechanisms-modulation-ptr/"
   ]
  },
  {
   "cell_type": "code",
   "execution_count": 4,
   "metadata": {},
   "outputs": [],
   "source": [
    "soma=neuron.h.Section(name='soma')\n",
    "soma.nseg=1"
   ]
  },
  {
   "cell_type": "code",
   "execution_count": 5,
   "metadata": {},
   "outputs": [],
   "source": [
    "soma.insert(\"naf_ms_ptr\")\n",
    "soma.insert(\"pas\")\n",
    "soma.g_pas = 1e-5\n",
    "soma.gbar_naf_ms_ptr = 1e-3"
   ]
  },
  {
   "cell_type": "code",
   "execution_count": 6,
   "metadata": {},
   "outputs": [
    {
     "data": {
      "text/plain": [
       "Vector[0]"
      ]
     },
     "execution_count": 6,
     "metadata": {},
     "output_type": "execute_result"
    }
   ],
   "source": [
    "vSave = neuron.h.Vector()\n",
    "vSave.record(soma(0.5)._ref_v)"
   ]
  },
  {
   "cell_type": "code",
   "execution_count": 7,
   "metadata": {},
   "outputs": [],
   "source": [
    "import numpy as np\n",
    "\n",
    "ExtrinsicSpikeTimesA = list()\n",
    "for k in range(10):\n",
    "\n",
    "    ExtrinsicSpikeTimesA.append(neuron.h.Vector([600,800,2500,3500,4000]))\n",
    "    \n",
    "ExtrinsicSpikeTimesD = list()\n",
    "for k in range(10):\n",
    "\n",
    "    ExtrinsicSpikeTimesD.append(neuron.h.Vector([800,3500,4000,5500]))"
   ]
  },
  {
   "cell_type": "code",
   "execution_count": 8,
   "metadata": {},
   "outputs": [],
   "source": [
    "Syn_list = list()\n",
    "ACh_synapse = list()\n",
    "Syn_record = list()\n",
    "for i,seg in enumerate(soma):\n",
    "\n",
    "    synACh = neuron.h.concACh(seg)\n",
    "    synDA = neuron.h.concDA(seg)\n",
    "    \n",
    "    channelSaveACh = neuron.h.Vector()\n",
    "    channelSaveACh.record(synACh._ref_concentration)\n",
    "    \n",
    "    channelSaveDA = neuron.h.Vector()\n",
    "    channelSaveDA.record(synDA._ref_concentration)\n",
    "    \n",
    "    Syn_record.append(channelSaveACh)\n",
    "    Syn_record.append(channelSaveDA)\n",
    "    \n",
    "    Syn_list.append(synACh)\n",
    "    Syn_list.append(synDA)\n",
    "    \n",
    "    \n",
    "    neuron.h.setpointer(synACh._ref_concentration,'levelACh',seg.naf_ms_ptr)\n",
    "    neuron.h.setpointer(synDA._ref_concentration,'levelDA',seg.naf_ms_ptr)\n",
    "    \n",
    "    for k in range(len(ExtrinsicSpikeTimesA)):\n",
    "        VecStimA = neuron.h.VecStim()\n",
    "\n",
    "        VecStimA.play(ExtrinsicSpikeTimesA[k])\n",
    "        ncToSynapseA = neuron.h.NetCon(VecStimA,synACh)\n",
    "        \n",
    "        ncToSynapseA.delay=1\n",
    "        ncToSynapseA.threshold=0\n",
    "        ncToSynapseA.weight[i]=1e-1\n",
    "        ACh_synapse.append([synACh,ncToSynapseA,VecStimA])\n",
    "\n",
    "       \n",
    "        \n",
    "        VecStimD = neuron.h.VecStim()\n",
    "\n",
    "        VecStimD.play(ExtrinsicSpikeTimesD[k])\n",
    "        \n",
    "        ncToSynapseD = neuron.h.NetCon(VecStimD,synDA)\n",
    "        \n",
    "        ncToSynapseD.delay=1\n",
    "        ncToSynapseD.threshold=0\n",
    "        ncToSynapseD.weight[i]=1e-1\n",
    "        ACh_synapse.append([synDA,ncToSynapseD,VecStimD])\n",
    "        \n",
    "    channelSave = neuron.h.Vector()\n",
    "    channelSave.record(seg._ref_ina_naf_ms_ptr)\n",
    "    Syn_record.append(channelSave)\n",
    "        \n",
    "    \n",
    "\n"
   ]
  },
  {
   "cell_type": "code",
   "execution_count": 9,
   "metadata": {},
   "outputs": [],
   "source": [
    "for seg in soma:\n",
    "    seg.maxModDA_naf_ms_ptr = 0.5\n",
    "    seg.modDA_naf_ms_ptr = 1\n",
    "    seg.maxModACh_naf_ms_ptr = 0.5\n",
    "    seg.modACh_naf_ms_ptr = 1\n"
   ]
  },
  {
   "cell_type": "code",
   "execution_count": 10,
   "metadata": {},
   "outputs": [
    {
     "name": "stdout",
     "output_type": "stream",
     "text": [
      "soma { nseg=1  L=100  Ra=35.4\n",
      "\t/*location 0 attached to cell 0*/\n",
      "\t/* First segment only */\n",
      "\tinsert morphology { diam=500}\n",
      "\tinsert capacitance { cm=1}\n",
      "\tinsert naf_ms_ptr { gbar_naf_ms_ptr=0.001 modDA_naf_ms_ptr=1 maxModDA_naf_ms_ptr=0.5 modACh_naf_ms_ptr=1 maxModACh_naf_ms_ptr=0.5}\n",
      "\tinsert na_ion { ena=50}\n",
      "\tinsert pas { g_pas=1e-05 e_pas=-70}\n",
      "\tinsert concACh { tau1=400 tau2=300 concentration=4.5e-05}\n",
      "\tinsert concDA { tau1=400 tau2=300 amplitude=1 concentration=1}\n",
      "}\n"
     ]
    },
    {
     "data": {
      "text/plain": [
       "1.0"
      ]
     },
     "execution_count": 10,
     "metadata": {},
     "output_type": "execute_result"
    }
   ],
   "source": [
    "neuron.h.psection(sec=soma)"
   ]
  },
  {
   "cell_type": "code",
   "execution_count": 11,
   "metadata": {},
   "outputs": [],
   "source": [
    "neuron.h.tstop = 10000"
   ]
  },
  {
   "cell_type": "code",
   "execution_count": 12,
   "metadata": {},
   "outputs": [
    {
     "data": {
      "text/plain": [
       "0.0"
      ]
     },
     "execution_count": 12,
     "metadata": {},
     "output_type": "execute_result"
    }
   ],
   "source": [
    "neuron.h.run()"
   ]
  },
  {
   "cell_type": "code",
   "execution_count": 15,
   "metadata": {},
   "outputs": [
    {
     "data": {
      "image/png": "[encoded data removed]",
      "text/plain": [
       "<Figure size 432x288 with 1 Axes>"
      ]
     },
     "metadata": {},
     "output_type": "display_data"
    },
    {
     "data": {
      "image/png": "[encoded data removed]",
      "text/plain": [
       "<Figure size 432x288 with 1 Axes>"
      ]
     },
     "metadata": {},
     "output_type": "display_data"
    },
    {
     "data": {
      "image/png": "[encoded data removed]",
      "text/plain": [
       "<Figure size 432x288 with 1 Axes>"
      ]
     },
     "metadata": {},
     "output_type": "display_data"
    }
   ],
   "source": [
    "for i,channels in enumerate(Syn_record):\n",
    "    f, ax = plt.subplots()\n",
    "    ax.plot(np.arange(len(channels))[10000:]*0.025*1e-3,np.array(channels)[10000:]/max(np.array(channels)))\n",
    "    plt.xticks([])\n",
    "    plt.yticks([])\n",
    "    plt.ylabel('ion channel current')\n",
    "    \n",
    "    ax.spines['right'].set_visible(False)\n",
    "    ax.spines['top'].set_visible(False)\n",
    "\n",
    "    # Only show ticks on the left and bottom spines\n",
    "    ax.yaxis.set_ticks_position('left')\n",
    "    ax.xaxis.set_ticks_position('bottom')\n",
    "\n",
    "    plt.xlabel('Time (s)')\n",
    "    plt.savefig('adaptive/' + str(i) + 'conc_example_i.svg')\n",
    "plt.show()"
   ]
  },
  {
   "cell_type": "code",
   "execution_count": 14,
   "metadata": {},
   "outputs": [
    {
     "data": {
      "image/png": "[encoded data removed]",
      "text/plain": [
       "<Figure size 432x288 with 1 Axes>"
      ]
     },
     "metadata": {
      "needs_background": "light"
     },
     "output_type": "display_data"
    }
   ],
   "source": [
    "plt.plot(vSave)\n",
    "plt.show()"
   ]
  },
  {
   "cell_type": "code",
   "execution_count": null,
   "metadata": {},
   "outputs": [],
   "source": []
  },
  {
   "cell_type": "code",
   "execution_count": null,
   "metadata": {},
   "outputs": [],
   "source": []
  },
  {
   "cell_type": "code",
   "execution_count": null,
   "metadata": {},
   "outputs": [],
   "source": []
  },
  {
   "cell_type": "code",
   "execution_count": null,
   "metadata": {},
   "outputs": [],
   "source": []
  },
  {
   "cell_type": "code",
   "execution_count": null,
   "metadata": {},
   "outputs": [],
   "source": []
  }
 ],
 "metadata": {
  "kernelspec": {
   "display_name": "Python 3",
   "language": "python",
   "name": "python3"
  },
  "language_info": {
   "codemirror_mode": {
    "name": "ipython",
    "version": 3
   },
   "file_extension": ".py",
   "mimetype": "text/x-python",
   "name": "python",
   "nbconvert_exporter": "python",
   "pygments_lexer": "ipython3",
   "version": "3.7.9"
  }
 },
 "nbformat": 4,
 "nbformat_minor": 4
}
