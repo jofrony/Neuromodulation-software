{
 "cells": [
  {
   "cell_type": "markdown",
   "metadata": {},
   "source": [
    "grep -r -L -Z 'level' . | xargs --null rm\n"
   ]
  },
  {
   "cell_type": "code",
   "execution_count": 1,
   "metadata": {},
   "outputs": [],
   "source": [
    "from optimisation.replace_pointers import RenameModPtrFiles"
   ]
  },
  {
   "cell_type": "code",
   "execution_count": 2,
   "metadata": {},
   "outputs": [],
   "source": [
    "rmf = RenameModPtrFiles()"
   ]
  },
  {
   "cell_type": "code",
   "execution_count": 3,
   "metadata": {},
   "outputs": [],
   "source": [
    "rmf.load('mechanisms-modulation-pointers/')"
   ]
  },
  {
   "cell_type": "code",
   "execution_count": 4,
   "metadata": {},
   "outputs": [],
   "source": [
    "rmf.rename(replaces = {'modA' : 'modDA',\\\n",
    "                       'maxModA' : 'maxModDA',\\\n",
    "                       'modulationA' : 'modulationDA',\\\n",
    "                       'levelA' : 'levelDA',\\\n",
    "                       'modB' : 'modACh',\\\n",
    "                       'maxModB' : 'maxModACh', \\\n",
    "                       'levelB' : 'levelACh',\\\n",
    "                       'modulationB' : 'modulationACh'},\\\n",
    "          make_pointers={'levelDA' : 'levelDA', 'levelACh' : 'levelACh'})"
   ]
  },
  {
   "cell_type": "code",
   "execution_count": null,
   "metadata": {},
   "outputs": [],
   "source": [
    "from optimisation.replace_mod import RenameModFiles"
   ]
  },
  {
   "cell_type": "code",
   "execution_count": null,
   "metadata": {},
   "outputs": [],
   "source": [
    "rmf = RenameModFiles()"
   ]
  },
  {
   "cell_type": "code",
   "execution_count": null,
   "metadata": {},
   "outputs": [],
   "source": [
    "rmf.load('mechanisms-modulation/')"
   ]
  },
  {
   "cell_type": "code",
   "execution_count": null,
   "metadata": {
    "scrolled": true
   },
   "outputs": [],
   "source": [
    "rmf.rename(replaces = {'modA' : 'modDA',\\\n",
    "                       'levelA' : 'levelDA',\\\n",
    "                       'maxModA' : 'maxModDA',\\\n",
    "                       'modulationA' : 'modulationDA',\\\n",
    "                       'modB' : 'modACh',\\\n",
    "                       'levelB' : 'levelACh', \\\n",
    "                       'maxModB' : 'maxModACh', \\\n",
    "                       'modulationB' : 'modulationACh'})"
   ]
  },
  {
   "cell_type": "code",
   "execution_count": 6,
   "metadata": {},
   "outputs": [],
   "source": [
    "from optimisation.rename_modulations import RenameModulationsFiles"
   ]
  },
  {
   "cell_type": "code",
   "execution_count": 7,
   "metadata": {},
   "outputs": [],
   "source": [
    "fsn_model = 'neurons/striatum/fs/'"
   ]
  },
  {
   "cell_type": "code",
   "execution_count": 8,
   "metadata": {},
   "outputs": [],
   "source": [
    "rpf = RenameModulationsFiles()\n",
    "rpf.load(fsn_model)"
   ]
  },
  {
   "cell_type": "code",
   "execution_count": 9,
   "metadata": {
    "scrolled": false
   },
   "outputs": [
    {
     "data": {
      "text/plain": [
       "[PosixPath('neurons/striatum/fs/str-fs-e160628_FS2-mMTC180800A-IDB-v20210210/modulation.json'),\n",
       " PosixPath('neurons/striatum/fs/str-fs-e161205_FS1-mBE104E-v20210209/modulation.json'),\n",
       " PosixPath('neurons/striatum/fs/str-fs-e161205_FS1-mMTC180800A-IDB-v20210210/modulation.json'),\n",
       " PosixPath('neurons/striatum/fs/str-fs-e161024_FS16-mDR-rat-Mar-13-08-1-536-R-v20210210/modulation.json'),\n",
       " PosixPath('neurons/striatum/fs/str-fs-e180418_FS5-mMTC251001A-IDB-v20210211/modulation.json')]"
      ]
     },
     "execution_count": 9,
     "metadata": {},
     "output_type": "execute_result"
    }
   ],
   "source": [
    "rpf.in_files"
   ]
  },
  {
   "cell_type": "code",
   "execution_count": 10,
   "metadata": {
    "scrolled": true
   },
   "outputs": [],
   "source": [
    "rpf.rename(replace={'maxModB' : 'maxModACh', 'maxModA' : 'maxModDA'})"
   ]
  },
  {
   "cell_type": "code",
   "execution_count": 11,
   "metadata": {},
   "outputs": [],
   "source": [
    "from optimisation.rename_modulations import RenameModulationsFiles"
   ]
  },
  {
   "cell_type": "code",
   "execution_count": 12,
   "metadata": {},
   "outputs": [],
   "source": [
    "dspn_model = 'neurons/striatum/dspn/'"
   ]
  },
  {
   "cell_type": "code",
   "execution_count": 13,
   "metadata": {},
   "outputs": [],
   "source": [
    "rpf = RenameModulationsFiles()\n",
    "rpf.load(dspn_model)"
   ]
  },
  {
   "cell_type": "code",
   "execution_count": 14,
   "metadata": {
    "scrolled": true
   },
   "outputs": [
    {
     "data": {
      "text/plain": [
       "[PosixPath('neurons/striatum/dspn/str-dspn-e150917_c6_D1-m21-6-DE-v20210212/modulation.json'),\n",
       " PosixPath('neurons/striatum/dspn/str-dspn-e150917_c9_d1-mWT-1215MSN03-v20210212/modulation.json'),\n",
       " PosixPath('neurons/striatum/dspn/str-dspn-e150602_c1_D1-mWT-0728MSN01-v20210212/modulation.json'),\n",
       " PosixPath('neurons/striatum/dspn/str-dspn-e150917_c10_D1-mWT-P270-20-v20210212/modulation.json')]"
      ]
     },
     "execution_count": 14,
     "metadata": {},
     "output_type": "execute_result"
    }
   ],
   "source": [
    "rpf.in_files"
   ]
  },
  {
   "cell_type": "code",
   "execution_count": 15,
   "metadata": {
    "scrolled": true
   },
   "outputs": [],
   "source": [
    "rpf.rename(replace={'maxModB' : 'maxModACh', 'maxModA' : 'maxModDA'})"
   ]
  },
  {
   "cell_type": "code",
   "execution_count": 16,
   "metadata": {},
   "outputs": [],
   "source": [
    "from optimisation.rename_modulations import RenameModulationsFiles"
   ]
  },
  {
   "cell_type": "code",
   "execution_count": 17,
   "metadata": {},
   "outputs": [],
   "source": [
    "ispn_model = 'neurons/striatum/ispn/'"
   ]
  },
  {
   "cell_type": "code",
   "execution_count": 18,
   "metadata": {},
   "outputs": [],
   "source": [
    "rpf = RenameModulationsFiles()\n",
    "rpf.load(ispn_model)"
   ]
  },
  {
   "cell_type": "code",
   "execution_count": 19,
   "metadata": {
    "scrolled": true
   },
   "outputs": [
    {
     "data": {
      "text/plain": [
       "[PosixPath('neurons/striatum/ispn/str-ispn-e151123_c1_D2-mWT-P270-09-v20210215/modulation.json'),\n",
       " PosixPath('neurons/striatum/ispn/str-ispn-e150908_c4_D2-m51-5-DE-v20210215/modulation.json'),\n",
       " PosixPath('neurons/striatum/ispn/str-ispn-e150917_c11_D2-mWT-MSN1-v20210215/modulation.json'),\n",
       " PosixPath('neurons/striatum/ispn/str-ispn-e160118_c10_D2-m46-3-DE-v20210215/modulation.json')]"
      ]
     },
     "execution_count": 19,
     "metadata": {},
     "output_type": "execute_result"
    }
   ],
   "source": [
    "rpf.in_files"
   ]
  },
  {
   "cell_type": "code",
   "execution_count": 20,
   "metadata": {
    "scrolled": true
   },
   "outputs": [],
   "source": [
    "rpf.rename(replace={'maxModB' : 'maxModACh', 'maxModA' : 'maxModDA'})"
   ]
  },
  {
   "cell_type": "code",
   "execution_count": 21,
   "metadata": {},
   "outputs": [],
   "source": [
    "from optimisation.rename_modulations import RenameModulationsFiles"
   ]
  },
  {
   "cell_type": "code",
   "execution_count": 22,
   "metadata": {},
   "outputs": [],
   "source": [
    "chin_model = 'neurons/striatum/chin/'"
   ]
  },
  {
   "cell_type": "code",
   "execution_count": 23,
   "metadata": {},
   "outputs": [],
   "source": [
    "rpf = RenameModulationsFiles()\n",
    "rpf.load(chin_model)"
   ]
  },
  {
   "cell_type": "code",
   "execution_count": 24,
   "metadata": {
    "scrolled": true
   },
   "outputs": [
    {
     "data": {
      "text/plain": [
       "[PosixPath('neurons/striatum/chin/str-chin-e170614_cell6-m17JUL301751_170614_no6_MD_cell_1_x63-v20190710/modulation.json')]"
      ]
     },
     "execution_count": 24,
     "metadata": {},
     "output_type": "execute_result"
    }
   ],
   "source": [
    "rpf.in_files"
   ]
  },
  {
   "cell_type": "code",
   "execution_count": 25,
   "metadata": {
    "scrolled": true
   },
   "outputs": [],
   "source": [
    "rpf.rename(replace={'maxModB' : 'maxModACh', 'maxModA' : 'maxModDA'})"
   ]
  },
  {
   "cell_type": "code",
   "execution_count": 26,
   "metadata": {},
   "outputs": [],
   "source": [
    "from optimisation.rename_modulations import RenameModulationsFiles"
   ]
  },
  {
   "cell_type": "code",
   "execution_count": 27,
   "metadata": {},
   "outputs": [],
   "source": [
    "lts_model = 'neurons/striatum/lts/'"
   ]
  },
  {
   "cell_type": "code",
   "execution_count": 28,
   "metadata": {},
   "outputs": [],
   "source": [
    "rpf = RenameModulationsFiles()\n",
    "rpf.load(lts_model)"
   ]
  },
  {
   "cell_type": "code",
   "execution_count": 29,
   "metadata": {
    "scrolled": true
   },
   "outputs": [
    {
     "data": {
      "text/plain": [
       "[PosixPath('neurons/striatum/lts/LTS_Experiment-9862_20181211/modulation.json')]"
      ]
     },
     "execution_count": 29,
     "metadata": {},
     "output_type": "execute_result"
    }
   ],
   "source": [
    "rpf.in_files"
   ]
  },
  {
   "cell_type": "code",
   "execution_count": 30,
   "metadata": {
    "scrolled": true
   },
   "outputs": [],
   "source": [
    "rpf.rename(replace={'maxModB' : 'maxModACh', 'maxModA' : 'maxModDA'})"
   ]
  },
  {
   "cell_type": "code",
   "execution_count": 31,
   "metadata": {},
   "outputs": [],
   "source": [
    "DA_model = 'neurons/SNc/'"
   ]
  },
  {
   "cell_type": "code",
   "execution_count": 32,
   "metadata": {},
   "outputs": [],
   "source": [
    "rpf = RenameModulationsFiles()\n",
    "rpf.load(DA_model)"
   ]
  },
  {
   "cell_type": "code",
   "execution_count": 33,
   "metadata": {
    "scrolled": true
   },
   "outputs": [
    {
     "data": {
      "text/plain": [
       "[PosixPath('neurons/SNc/DA/modulation.json')]"
      ]
     },
     "execution_count": 33,
     "metadata": {},
     "output_type": "execute_result"
    }
   ],
   "source": [
    "rpf.in_files"
   ]
  },
  {
   "cell_type": "code",
   "execution_count": 34,
   "metadata": {
    "scrolled": true
   },
   "outputs": [],
   "source": [
    "rpf.rename(replace={'maxModB' : 'maxModACh', 'maxModA' : 'maxModDA'})"
   ]
  },
  {
   "cell_type": "code",
   "execution_count": null,
   "metadata": {},
   "outputs": [],
   "source": []
  }
 ],
 "metadata": {
  "kernelspec": {
   "display_name": "Python 3",
   "language": "python",
   "name": "python3"
  },
  "language_info": {
   "codemirror_mode": {
    "name": "ipython",
    "version": 3
   },
   "file_extension": ".py",
   "mimetype": "text/x-python",
   "name": "python",
   "nbconvert_exporter": "python",
   "pygments_lexer": "ipython3",
   "version": "3.7.9"
  }
 },
 "nbformat": 4,
 "nbformat_minor": 4
}
