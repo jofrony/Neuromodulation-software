{
 "cells": [
  {
   "cell_type": "markdown",
   "metadata": {},
   "source": [
    "# Network wide Neuromodulation : Dopamine  (\"bath-application\")"
   ]
  },
  {
   "cell_type": "code",
   "execution_count": 1,
   "metadata": {},
   "outputs": [],
   "source": [
    "from snudda.neuromodulation.modulation_network import Neuromodulation"
   ]
  },
  {
   "cell_type": "code",
   "execution_count": 2,
   "metadata": {},
   "outputs": [],
   "source": [
    "nl = Neuromodulation()\n",
    "nl.set_timestep(dt=0.025)\n",
    "nl.set_modulation(neurotransmitter = 'dopamine', neurotransmitter_key = 'DA')\n",
    "nl.transient(neurotransmitter='dopamine',\\\n",
    "             method='alpha',\\\n",
    "             duration= 3000,\\\n",
    "             parameters={\"tstart\" : 1000, \"gmax\" : 1, \"tau\" : 300})\n"
   ]
  },
  {
   "cell_type": "code",
   "execution_count": 3,
   "metadata": {},
   "outputs": [],
   "source": [
    "nl.ion_channel_modulation(neurotransmitter = 'dopamine',\\\n",
    "                          cell_type = 'dSPN',\\\n",
    "                          section = 'soma',\\\n",
    "                          ion_channels = [\"cal12_ms\",\"cal13_ms\",\"kir_ms\",\"kas_ms\",\"naf_ms\",\"can_ms\"])\n",
    "nl.ion_channel_modulation(neurotransmitter = 'dopamine',\\\n",
    "                          cell_type = 'dSPN',\\\n",
    "                          section = 'dendrite',\\\n",
    "                          ion_channels = [\"kir_ms\",\"kas_ms\",\"kaf_ms\",\"cal12_ms\",\"cal13_ms\"])\n",
    "nl.ion_channel_modulation(neurotransmitter = 'dopamine',\\\n",
    "                          cell_type = 'dSPN',\\\n",
    "                          section = 'axon',\\\n",
    "                          ion_channels = [])"
   ]
  },
  {
   "cell_type": "code",
   "execution_count": 4,
   "metadata": {},
   "outputs": [],
   "source": [
    "nl.ion_channel_modulation(neurotransmitter = 'dopamine',\\\n",
    "                          cell_type = 'iSPN',\\\n",
    "                          section = 'soma',\\\n",
    "                          ion_channels = [\"kir_ms\",\"kas_ms\",\"kaf_ms\",\"naf_ms\",\"cal12_ms\",\"cal13_ms\", \"can_ms\",\"car_ms\"])\n",
    "nl.ion_channel_modulation(neurotransmitter = 'dopamine',\\\n",
    "                          cell_type = 'iSPN',\\\n",
    "                          section = 'dendrite',\\\n",
    "                          ion_channels = [\"kir_ms\",\"kas_ms\",\"kaf_ms\",\"naf_ms\",\"cal12_ms\",\"cal13_ms\", \"can_ms\",\"car_ms\"])\n",
    "nl.ion_channel_modulation(neurotransmitter = 'dopamine',\\\n",
    "                          cell_type = 'iSPN',\\\n",
    "                          section = 'axon',\\\n",
    "                          ion_channels = [\"kir_ms\",\"kas_ms\",\"kaf_ms\",\"naf_ms\",\"cal12_ms\",\"cal13_ms\", \"can_ms\",\"car_ms\"])"
   ]
  },
  {
   "cell_type": "code",
   "execution_count": 5,
   "metadata": {},
   "outputs": [],
   "source": [
    "nl.ion_channel_modulation(neurotransmitter = 'dopamine',\\\n",
    "                          cell_type = 'FSN',\\\n",
    "                          section = 'soma',\\\n",
    "                          ion_channels = ['kir_fs','kas_fs','kaf_fs','naf_fs'])\n",
    "nl.ion_channel_modulation(neurotransmitter = 'dopamine',\\\n",
    "                          cell_type = 'FSN',\\\n",
    "                          section = 'dendrite',\\\n",
    "                          ion_channels = ['kir_fs'])\n",
    "nl.ion_channel_modulation(neurotransmitter = 'dopamine',\\\n",
    "                          cell_type = 'FSN',\\\n",
    "                          section = 'axon',\\\n",
    "                          ion_channels = [])"
   ]
  },
  {
   "cell_type": "code",
   "execution_count": 6,
   "metadata": {},
   "outputs": [],
   "source": [
    "nl.receptor_modulation(neurotransmitter = 'dopamine',\\\n",
    "                      cell_type = 'dSPN',\\\n",
    "                      receptor = 'tmGabA',\\\n",
    "                      modulation = {'maxMod' : 0.8})\n",
    "nl.receptor_modulation(neurotransmitter = 'dopamine',\\\n",
    "                      cell_type = 'dSPN',\\\n",
    "                      receptor = 'tmGlut',\\\n",
    "                      modulation = {'maxMod_AMPA' : 1.2,\\\n",
    "                                   'maxMod_NMDA' : 1.2})\n"
   ]
  },
  {
   "cell_type": "code",
   "execution_count": 7,
   "metadata": {},
   "outputs": [],
   "source": [
    "nl.receptor_modulation(neurotransmitter = 'dopamine',\\\n",
    "                      cell_type = 'iSPN',\\\n",
    "                      receptor = 'tmGabA',\\\n",
    "                      modulation = {'maxMod' : 0.8})\n",
    "nl.receptor_modulation(neurotransmitter = 'dopamine',\\\n",
    "                      cell_type = 'iSPN',\\\n",
    "                      receptor = 'tmGlut',\\\n",
    "                      modulation = {'maxMod_AMPA' : 1.2,\\\n",
    "                                   'maxMod_NMDA' : 1.2})"
   ]
  },
  {
   "cell_type": "code",
   "execution_count": 8,
   "metadata": {},
   "outputs": [],
   "source": [
    "nl.receptor_modulation(neurotransmitter = 'dopamine',\\\n",
    "                      cell_type = 'FSN',\\\n",
    "                      receptor = 'tmGabA',\\\n",
    "                      modulation = {'maxMod' : 0.8})\n",
    "nl.receptor_modulation(neurotransmitter = 'dopamine',\\\n",
    "                      cell_type = 'FSN',\\\n",
    "                      receptor = 'tmGlut',\\\n",
    "                      modulation = {'maxMod_AMPA' : 1.2,\\\n",
    "                                   'maxMod_NMDA' : 1.2})"
   ]
  },
  {
   "cell_type": "code",
   "execution_count": 9,
   "metadata": {},
   "outputs": [],
   "source": [
    "nl.save(dir_path='../network_parameters/modulation',name='dopamine_alpha_delay6.json')"
   ]
  },
  {
   "cell_type": "code",
   "execution_count": null,
   "metadata": {},
   "outputs": [],
   "source": []
  },
  {
   "cell_type": "code",
   "execution_count": null,
   "metadata": {},
   "outputs": [],
   "source": []
  },
  {
   "cell_type": "code",
   "execution_count": null,
   "metadata": {},
   "outputs": [],
   "source": []
  }
 ],
 "metadata": {
  "kernelspec": {
   "display_name": "Python 3",
   "language": "python",
   "name": "python3"
  },
  "language_info": {
   "codemirror_mode": {
    "name": "ipython",
    "version": 3
   },
   "file_extension": ".py",
   "mimetype": "text/x-python",
   "name": "python",
   "nbconvert_exporter": "python",
   "pygments_lexer": "ipython3",
   "version": "3.7.9"
  }
 },
 "nbformat": 4,
 "nbformat_minor": 4
}
