{
 "cells": [
  {
   "cell_type": "markdown",
   "metadata": {},
   "source": [
    "# Simulate the striatum - DA"
   ]
  },
  {
   "cell_type": "code",
   "execution_count": 1,
   "metadata": {},
   "outputs": [
    {
     "name": "stdout",
     "output_type": "stream",
     "text": [
      "/home/jofrony/Documents/Repositories/BasalGangliaExperiments/Neuromodulation-software/local/Experiment-Simulation\n"
     ]
    }
   ],
   "source": [
    "%cd Experiment-Simulation"
   ]
  },
  {
   "cell_type": "code",
   "execution_count": null,
   "metadata": {},
   "outputs": [],
   "source": [
    "!nrnivmodl ../mechanisms-modulation/"
   ]
  },
  {
   "cell_type": "code",
   "execution_count": 7,
   "metadata": {},
   "outputs": [
    {
     "name": "stdout",
     "output_type": "stream",
     "text": [
      "Writing spikes to Dopamine-dSPN-network/input-spikes.hdf5\n"
     ]
    }
   ],
   "source": [
    "import os\n",
    "from snudda.input import SnuddaInput\n",
    "\n",
    "network_path = 'Dopamine-dSPN-network'\n",
    "\n",
    "si = SnuddaInput(network_path=network_path, \n",
    "                 input_config_file=os.path.join(\"../../network_parameters/external_input\",\"external-input-dSTR-scaled-level6.json\"),\n",
    "                 verbose=False)\n",
    "si.generate()"
   ]
  },
  {
   "cell_type": "code",
   "execution_count": 8,
   "metadata": {},
   "outputs": [],
   "source": [
    "network_name = 'Dopamine-dSPN-network'\n",
    "modulations = '../../network_parameters/modulation/acetylcholine_alpha_transient.json'\n",
    "duration = 3000\n",
    "simulation_name = 'AChB-network-level4'"
   ]
  },
  {
   "cell_type": "code",
   "execution_count": 9,
   "metadata": {},
   "outputs": [
    {
     "name": "stdout",
     "output_type": "stream",
     "text": [
      "numprocs=4\n",
      "Loading 30 neurons with 441 synapses and 0 gap junctions\n",
      "Loading 30 neurons with 441 synapses and 0 gap junctions\n",
      "Loading 30 neurons with 441 synapses and 0 gap junctions\n",
      "Loading 30 neurons with 441 synapses and 0 gap junctions\n",
      "Loading 30 neurons with 441 synapses and 0 gap junctions\n",
      "Loading 30 neurons with 441 synapses and 0 gap junctions\n",
      "Loading 30 neurons with 441 synapses and 0 gap junctions\n",
      "Loading 30 neurons with 441 synapses and 0 gap junctions\n",
      "Running simulation for 3.0 s\n",
      "Running simulation for 3.0 s\n",
      "Running simulation for 3.0 s\n",
      "Running simulation for 3.0 s\n",
      "1% done. Elapsed: 8.0 s, estimated time left: 793.8 s\n",
      "14% done. Elapsed: 112.2 s, estimated time left: 689.1 s\n",
      "27% done. Elapsed: 219.5 s, estimated time left: 593.4 s\n",
      "39% done. Elapsed: 320.6 s, estimated time left: 501.4 s\n",
      "51% done. Elapsed: 423.2 s, estimated time left: 406.6 s\n",
      "63% done. Elapsed: 526.5 s, estimated time left: 309.2 s\n",
      "75% done. Elapsed: 630.3 s, estimated time left: 210.1 s\n",
      "87% done. Elapsed: 734.2 s, estimated time left: 109.7 s\n",
      "99% done. Elapsed: 838.2 s, estimated time left: 8.5 s\n",
      "Simulation run time: 847.2 s\n",
      "Writing spike times to Dopamine-dSPN-network/simulation/network-output-spikes-AChB-network-level4.txt\n",
      "Simulation run time: 847.0 s\n",
      "Writing spike times to Dopamine-dSPN-network/simulation/network-output-spikes-AChB-network-level4.txt\n",
      "Simulation run time: 847.0 s\n",
      "Writing spike times to Dopamine-dSPN-network/simulation/network-output-spikes-AChB-network-level4.txt\n",
      "Simulation run time: 847.1 s\n",
      "Writing spike times to Dopamine-dSPN-network/simulation/network-output-spikes-AChB-network-level4.txt\n",
      "/home/jofrony/miniconda3/envs/py37/lib/python3.7/site-packages/bluepyopt/ephys/simulators.py:74: UserWarning: Unable to find Neuron hoc shared library in /usr/local/nrn/lib/python/neuron, not disabling banner\n",
      "  'not disabling banner' % nrnpy_path)\n",
      "/home/jofrony/miniconda3/envs/py37/lib/python3.7/site-packages/bluepyopt/ephys/simulators.py:74: UserWarning: Unable to find Neuron hoc shared library in /usr/local/nrn/lib/python/neuron, not disabling banner\n",
      "  'not disabling banner' % nrnpy_path)\n",
      "/home/jofrony/miniconda3/envs/py37/lib/python3.7/site-packages/bluepyopt/ephys/simulators.py:74: UserWarning: Unable to find Neuron hoc shared library in /usr/local/nrn/lib/python/neuron, not disabling banner\n",
      "  'not disabling banner' % nrnpy_path)\n",
      "/home/jofrony/miniconda3/envs/py37/lib/python3.7/site-packages/bluepyopt/ephys/simulators.py:74: UserWarning: Unable to find Neuron hoc shared library in /usr/local/nrn/lib/python/neuron, not disabling banner\n",
      "  'not disabling banner' % nrnpy_path)\n",
      "Program run time: 849.7893140619999\n",
      "\u001b[0m\u001b[0m\u001b[0m\u001b[0m"
     ]
    }
   ],
   "source": [
    "!mpiexec -n 4 python simulation.py $network_name $modulations $duration $simulation_name "
   ]
  },
  {
   "cell_type": "code",
   "execution_count": 10,
   "metadata": {},
   "outputs": [],
   "source": [
    "network_name = 'Dopamine-dSPN-network'\n",
    "modulations = '../../network_parameters/modulation/dopamine_control.json'\n",
    "duration = 3000\n",
    "simulation_name = 'DA-network-control'"
   ]
  },
  {
   "cell_type": "code",
   "execution_count": 11,
   "metadata": {},
   "outputs": [
    {
     "name": "stdout",
     "output_type": "stream",
     "text": [
      "numprocs=4\n",
      "Loading 30 neurons with 441 synapses and 0 gap junctions\n",
      "Loading 30 neurons with 441 synapses and 0 gap junctions\n",
      "Loading 30 neurons with 441 synapses and 0 gap junctions\n",
      "Loading 30 neurons with 441 synapses and 0 gap junctions\n",
      "Loading 30 neurons with 441 synapses and 0 gap junctions\n",
      "Loading 30 neurons with 441 synapses and 0 gap junctions\n",
      "Loading 30 neurons with 441 synapses and 0 gap junctions\n",
      "Loading 30 neurons with 441 synapses and 0 gap junctions\n",
      "Running simulation for 3.0 s\n",
      "Running simulation for 3.0 s\n",
      "Running simulation for 3.0 s\n",
      "Running simulation for 3.0 s\n",
      "1% done. Elapsed: 8.9 s, estimated time left: 876.6 s\n",
      "13% done. Elapsed: 115.9 s, estimated time left: 775.3 s\n",
      "25% done. Elapsed: 223.8 s, estimated time left: 671.5 s\n",
      "37% done. Elapsed: 332.4 s, estimated time left: 566.0 s\n",
      "48% done. Elapsed: 433.4 s, estimated time left: 469.5 s\n",
      "59% done. Elapsed: 535.4 s, estimated time left: 372.0 s\n",
      "70% done. Elapsed: 637.1 s, estimated time left: 273.1 s\n",
      "81% done. Elapsed: 739.4 s, estimated time left: 173.4 s\n",
      "92% done. Elapsed: 842.1 s, estimated time left: 73.2 s\n",
      "Simulation run time: 916.6 s\n",
      "Writing spike times to Dopamine-dSPN-network/simulation/network-output-spikes-DA-network-control.txt\n",
      "Simulation run time: 916.6 s\n",
      "Writing spike times to Dopamine-dSPN-network/simulation/network-output-spikes-DA-network-control.txt\n",
      "Simulation run time: 916.8 s\n",
      "Writing spike times to Dopamine-dSPN-network/simulation/network-output-spikes-DA-network-control.txt\n",
      "Simulation run time: 916.6 s\n",
      "Writing spike times to Dopamine-dSPN-network/simulation/network-output-spikes-DA-network-control.txt\n",
      "/home/jofrony/miniconda3/envs/py37/lib/python3.7/site-packages/bluepyopt/ephys/simulators.py:74: UserWarning: Unable to find Neuron hoc shared library in /usr/local/nrn/lib/python/neuron, not disabling banner\n",
      "  'not disabling banner' % nrnpy_path)\n",
      "/home/jofrony/miniconda3/envs/py37/lib/python3.7/site-packages/bluepyopt/ephys/simulators.py:74: UserWarning: Unable to find Neuron hoc shared library in /usr/local/nrn/lib/python/neuron, not disabling banner\n",
      "  'not disabling banner' % nrnpy_path)\n",
      "/home/jofrony/miniconda3/envs/py37/lib/python3.7/site-packages/bluepyopt/ephys/simulators.py:74: UserWarning: Unable to find Neuron hoc shared library in /usr/local/nrn/lib/python/neuron, not disabling banner\n",
      "  'not disabling banner' % nrnpy_path)\n",
      "/home/jofrony/miniconda3/envs/py37/lib/python3.7/site-packages/bluepyopt/ephys/simulators.py:74: UserWarning: Unable to find Neuron hoc shared library in /usr/local/nrn/lib/python/neuron, not disabling banner\n",
      "  'not disabling banner' % nrnpy_path)\n",
      "Program run time: 920.3440437079989\n",
      "\u001b[0m\u001b[0m\u001b[0m\u001b[0m"
     ]
    }
   ],
   "source": [
    "!mpiexec -n 4 python simulation.py $network_name $modulations $duration $simulation_name "
   ]
  },
  {
   "cell_type": "code",
   "execution_count": null,
   "metadata": {},
   "outputs": [],
   "source": []
  }
 ],
 "metadata": {
  "kernelspec": {
   "display_name": "Python 3",
   "language": "python",
   "name": "python3"
  },
  "language_info": {
   "codemirror_mode": {
    "name": "ipython",
    "version": 3
   },
   "file_extension": ".py",
   "mimetype": "text/x-python",
   "name": "python",
   "nbconvert_exporter": "python",
   "pygments_lexer": "ipython3",
   "version": "3.7.9"
  }
 },
 "nbformat": 4,
 "nbformat_minor": 4
}
