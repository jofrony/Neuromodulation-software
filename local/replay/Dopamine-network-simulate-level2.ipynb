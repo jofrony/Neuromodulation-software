{
 "cells": [
  {
   "cell_type": "markdown",
   "metadata": {},
   "source": [
    "# Simulate the striatum - DA"
   ]
  },
  {
   "cell_type": "code",
   "execution_count": 2,
   "metadata": {},
   "outputs": [
    {
     "name": "stdout",
     "output_type": "stream",
     "text": [
      "/home/jofrony/Documents/Repositories/BasalGangliaExperiments/Neuromodulation-software/Experiment-Simulation\n"
     ]
    }
   ],
   "source": [
    "%cd Experiment-Simulation"
   ]
  },
  {
   "cell_type": "code",
   "execution_count": null,
   "metadata": {},
   "outputs": [],
   "source": [
    "!nrnivmodl ../renamed_mod_files/"
   ]
  },
  {
   "cell_type": "code",
   "execution_count": 3,
   "metadata": {},
   "outputs": [
    {
     "name": "stdout",
     "output_type": "stream",
     "text": [
      "Writing spikes to Dopamine-network/input-spikes.hdf5\n"
     ]
    }
   ],
   "source": [
    "import os\n",
    "from snudda.input import SnuddaInput\n",
    "\n",
    "network_path = 'Dopamine-network'\n",
    "\n",
    "si = SnuddaInput(network_path=network_path, \n",
    "                 input_config_file=os.path.join(\"external_input\",\"external-input-dSTR-scaled-level2.json\"),\n",
    "                 verbose=False)\n",
    "si.generate()"
   ]
  },
  {
   "cell_type": "code",
   "execution_count": null,
   "metadata": {},
   "outputs": [],
   "source": []
  },
  {
   "cell_type": "code",
   "execution_count": 4,
   "metadata": {},
   "outputs": [],
   "source": [
    "network_name = 'Dopamine-network'\n",
    "modulations = 'modulation/dopamine_alpha_transient.json'\n",
    "duration = 3000\n",
    "simulation_name = 'DA-network-level2'"
   ]
  },
  {
   "cell_type": "code",
   "execution_count": 5,
   "metadata": {},
   "outputs": [
    {
     "name": "stdout",
     "output_type": "stream",
     "text": [
      "numprocs=4\n",
      "Expected 0 gap junctions, found 10000 gap junction rows\n",
      "Expected 0 gap junctions, found 10000 gap junction rows\n",
      "Expected 0 gap junctions, found 10000 gap junction rows\n",
      "Expected 0 gap junctions, found 10000 gap junction rows\n",
      "Loading 21 neurons with 165 synapses and 0 gap junctions\n",
      "Expected 0 gap junctions, found 10000 gap junction rows\n",
      "Loading 21 neurons with 165 synapses and 0 gap junctions\n",
      "Loading 21 neurons with 165 synapses and 0 gap junctions\n",
      "Expected 0 gap junctions, found 10000 gap junction rows\n",
      "Expected 0 gap junctions, found 10000 gap junction rows\n",
      "Loading 21 neurons with 165 synapses and 0 gap junctions\n",
      "Loading 21 neurons with 165 synapses and 0 gap junctions\n",
      "Expected 0 gap junctions, found 10000 gap junction rows\n",
      "Loading 21 neurons with 165 synapses and 0 gap junctions\n",
      "Loading 21 neurons with 165 synapses and 0 gap junctions\n",
      "Loading 21 neurons with 165 synapses and 0 gap junctions\n",
      "Running simulation for 3.0 s\n",
      "Running simulation for 3.0 s\n",
      "Running simulation for 3.0 s\n",
      "Running simulation for 3.0 s\n",
      "1% done. Elapsed: 7.5 s, estimated time left: 742.0 s\n",
      "13% done. Elapsed: 109.0 s, estimated time left: 729.1 s\n",
      "24% done. Elapsed: 216.7 s, estimated time left: 686.3 s\n",
      "35% done. Elapsed: 321.8 s, estimated time left: 597.6 s\n",
      "46% done. Elapsed: 422.8 s, estimated time left: 496.4 s\n",
      "57% done. Elapsed: 530.3 s, estimated time left: 400.1 s\n",
      "68% done. Elapsed: 636.0 s, estimated time left: 299.3 s\n",
      "77% done. Elapsed: 737.8 s, estimated time left: 220.4 s\n",
      "86% done. Elapsed: 838.8 s, estimated time left: 136.6 s\n",
      "96% done. Elapsed: 946.3 s, estimated time left: 39.4 s\n",
      "Simulation run time: 986.6 s\n",
      "Writing spike times to Dopamine-network/simulation/network-output-spikes-DA-network.txt\n",
      "Simulation run time: 987.1 s\n",
      "Writing spike times to Dopamine-network/simulation/network-output-spikes-DA-network.txt\n",
      "Simulation run time: 986.6 s\n",
      "Writing spike times to Dopamine-network/simulation/network-output-spikes-DA-network.txt\n",
      "Simulation run time: 986.3 s\n",
      "Writing spike times to Dopamine-network/simulation/network-output-spikes-DA-network.txt\n",
      "/home/jofrony/miniconda3/envs/py37/lib/python3.7/site-packages/bluepyopt/ephys/simulators.py:74: UserWarning: Unable to find Neuron hoc shared library in /usr/local/nrn/lib/python/neuron, not disabling banner\n",
      "  'not disabling banner' % nrnpy_path)\n",
      "/home/jofrony/miniconda3/envs/py37/lib/python3.7/site-packages/bluepyopt/ephys/simulators.py:74: UserWarning: Unable to find Neuron hoc shared library in /usr/local/nrn/lib/python/neuron, not disabling banner\n",
      "  'not disabling banner' % nrnpy_path)\n",
      "/home/jofrony/miniconda3/envs/py37/lib/python3.7/site-packages/bluepyopt/ephys/simulators.py:74: UserWarning: Unable to find Neuron hoc shared library in /usr/local/nrn/lib/python/neuron, not disabling banner\n",
      "  'not disabling banner' % nrnpy_path)\n",
      "/home/jofrony/miniconda3/envs/py37/lib/python3.7/site-packages/bluepyopt/ephys/simulators.py:74: UserWarning: Unable to find Neuron hoc shared library in /usr/local/nrn/lib/python/neuron, not disabling banner\n",
      "  'not disabling banner' % nrnpy_path)\n",
      "Program run time: 991.0048637120053\n",
      "\u001b[0m\u001b[0m\u001b[0m\u001b[0m"
     ]
    }
   ],
   "source": [
    "!mpiexec -n 4 python simulation.py $network_name $modulations $duration $simulation_name "
   ]
  },
  {
   "cell_type": "code",
   "execution_count": null,
   "metadata": {},
   "outputs": [],
   "source": [
    "network_name = 'Dopamine-network'\n",
    "modulations = 'modulation/dopamine_control.json'\n",
    "duration = 3000\n",
    "simulation_name = 'DA-network-control'"
   ]
  },
  {
   "cell_type": "code",
   "execution_count": null,
   "metadata": {},
   "outputs": [],
   "source": [
    "!mpiexec -n 4 python simulation.py $network_name $modulations $duration $simulation_name "
   ]
  },
  {
   "cell_type": "code",
   "execution_count": null,
   "metadata": {},
   "outputs": [],
   "source": []
  }
 ],
 "metadata": {
  "kernelspec": {
   "display_name": "Python 3",
   "language": "python",
   "name": "python3"
  },
  "language_info": {
   "codemirror_mode": {
    "name": "ipython",
    "version": 3
   },
   "file_extension": ".py",
   "mimetype": "text/x-python",
   "name": "python",
   "nbconvert_exporter": "python",
   "pygments_lexer": "ipython3",
   "version": "3.7.9"
  }
 },
 "nbformat": 4,
 "nbformat_minor": 4
}
