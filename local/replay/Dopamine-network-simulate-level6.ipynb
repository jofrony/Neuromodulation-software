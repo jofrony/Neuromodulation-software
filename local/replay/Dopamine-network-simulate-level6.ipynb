{
 "cells": [
  {
   "cell_type": "markdown",
   "metadata": {},
   "source": [
    "# Simulate the striatum - DA"
   ]
  },
  {
   "cell_type": "code",
   "execution_count": 1,
   "metadata": {},
   "outputs": [
    {
     "name": "stdout",
     "output_type": "stream",
     "text": [
      "/home/jofrony/Documents/Repositories/BasalGangliaExperiments/Neuromodulation-software/Experiment-Simulation\n"
     ]
    }
   ],
   "source": [
    "%cd Experiment-Simulation"
   ]
  },
  {
   "cell_type": "code",
   "execution_count": null,
   "metadata": {},
   "outputs": [],
   "source": [
    "!nrnivmodl ../renamed_mod_files/"
   ]
  },
  {
   "cell_type": "code",
   "execution_count": 2,
   "metadata": {},
   "outputs": [
    {
     "name": "stdout",
     "output_type": "stream",
     "text": [
      "Writing spikes to Dopamine-network/input-spikes.hdf5\n"
     ]
    }
   ],
   "source": [
    "import os\n",
    "from snudda.input import SnuddaInput\n",
    "\n",
    "network_path = 'Dopamine-network'\n",
    "\n",
    "si = SnuddaInput(network_path=network_path, \n",
    "                 input_config_file=os.path.join(\"external_input\",\"external-input-dSTR-scaled-level6.json\"),\n",
    "                 verbose=False)\n",
    "si.generate()"
   ]
  },
  {
   "cell_type": "code",
   "execution_count": 3,
   "metadata": {},
   "outputs": [],
   "source": [
    "network_name = 'Dopamine-network'\n",
    "modulations = 'modulation/dopamine_alpha_transient.json'\n",
    "duration = 3000\n",
    "simulation_name = 'DA-network-level6'"
   ]
  },
  {
   "cell_type": "code",
   "execution_count": 4,
   "metadata": {},
   "outputs": [
    {
     "name": "stdout",
     "output_type": "stream",
     "text": [
      "numprocs=4\n",
      "Expected 0 gap junctions, found 10000 gap junction rows\n",
      "Expected 0 gap junctions, found 10000 gap junction rows\n",
      "Expected 0 gap junctions, found 10000 gap junction rows\n",
      "Expected 0 gap junctions, found 10000 gap junction rows\n",
      "Loading 21 neurons with 165 synapses and 0 gap junctions\n",
      "Loading 21 neurons with 165 synapses and 0 gap junctions\n",
      "Expected 0 gap junctions, found 10000 gap junction rows\n",
      "Expected 0 gap junctions, found 10000 gap junction rows\n",
      "Loading 21 neurons with 165 synapses and 0 gap junctions\n",
      "Expected 0 gap junctions, found 10000 gap junction rows\n",
      "Loading 21 neurons with 165 synapses and 0 gap junctions\n",
      "Loading 21 neurons with 165 synapses and 0 gap junctions\n",
      "Expected 0 gap junctions, found 10000 gap junction rows\n",
      "Loading 21 neurons with 165 synapses and 0 gap junctions\n",
      "Loading 21 neurons with 165 synapses and 0 gap junctions\n",
      "Loading 21 neurons with 165 synapses and 0 gap junctions\n",
      "Running simulation for 3.0 s\n",
      "Running simulation for 3.0 s\n",
      "Running simulation for 3.0 s\n",
      "Running simulation for 3.0 s\n",
      "1% done. Elapsed: 10.3 s, estimated time left: 1017.6 s\n",
      "12% done. Elapsed: 114.0 s, estimated time left: 835.9 s\n",
      "24% done. Elapsed: 221.3 s, estimated time left: 700.8 s\n",
      "36% done. Elapsed: 329.3 s, estimated time left: 585.4 s\n",
      "48% done. Elapsed: 436.4 s, estimated time left: 472.7 s\n",
      "61% done. Elapsed: 545.1 s, estimated time left: 348.5 s\n",
      "72% done. Elapsed: 647.5 s, estimated time left: 251.8 s\n",
      "83% done. Elapsed: 752.5 s, estimated time left: 154.1 s\n",
      "94% done. Elapsed: 854.5 s, estimated time left: 54.5 s\n",
      "Simulation run time: 912.1 s\n",
      "Writing spike times to Dopamine-network/simulation/network-output-spikes-DA-network-level6.txt\n",
      "Simulation run time: 912.0 s\n",
      "Writing spike times to Dopamine-network/simulation/network-output-spikes-DA-network-level6.txt\n",
      "Simulation run time: 911.9 s\n",
      "Writing spike times to Dopamine-network/simulation/network-output-spikes-DA-network-level6.txt\n",
      "Simulation run time: 911.5 s\n",
      "Writing spike times to Dopamine-network/simulation/network-output-spikes-DA-network-level6.txt\n",
      "/home/jofrony/miniconda3/envs/py37/lib/python3.7/site-packages/bluepyopt/ephys/simulators.py:74: UserWarning: Unable to find Neuron hoc shared library in /usr/local/nrn/lib/python/neuron, not disabling banner\n",
      "  'not disabling banner' % nrnpy_path)\n",
      "/home/jofrony/miniconda3/envs/py37/lib/python3.7/site-packages/bluepyopt/ephys/simulators.py:74: UserWarning: Unable to find Neuron hoc shared library in /usr/local/nrn/lib/python/neuron, not disabling banner\n",
      "  'not disabling banner' % nrnpy_path)\n",
      "/home/jofrony/miniconda3/envs/py37/lib/python3.7/site-packages/bluepyopt/ephys/simulators.py:74: UserWarning: Unable to find Neuron hoc shared library in /usr/local/nrn/lib/python/neuron, not disabling banner\n",
      "  'not disabling banner' % nrnpy_path)\n",
      "/home/jofrony/miniconda3/envs/py37/lib/python3.7/site-packages/bluepyopt/ephys/simulators.py:74: UserWarning: Unable to find Neuron hoc shared library in /usr/local/nrn/lib/python/neuron, not disabling banner\n",
      "  'not disabling banner' % nrnpy_path)\n",
      "Program run time: 916.3317788880013\n",
      "\u001b[0m\u001b[0m\u001b[0m\u001b[0m"
     ]
    }
   ],
   "source": [
    "!mpiexec -n 4 python simulation.py $network_name $modulations $duration $simulation_name "
   ]
  },
  {
   "cell_type": "code",
   "execution_count": 5,
   "metadata": {},
   "outputs": [],
   "source": [
    "network_name = 'Dopamine-network'\n",
    "modulations = 'modulation/dopamine_control.json'\n",
    "duration = 3000\n",
    "simulation_name = 'DA-network-control-level6'"
   ]
  },
  {
   "cell_type": "code",
   "execution_count": 6,
   "metadata": {},
   "outputs": [
    {
     "name": "stdout",
     "output_type": "stream",
     "text": [
      "numprocs=4\n",
      "Expected 0 gap junctions, found 10000 gap junction rows\n",
      "Expected 0 gap junctions, found 10000 gap junction rows\n",
      "Expected 0 gap junctions, found 10000 gap junction rows\n",
      "Expected 0 gap junctions, found 10000 gap junction rows\n",
      "Loading 21 neurons with 165 synapses and 0 gap junctions\n",
      "Loading 21 neurons with 165 synapses and 0 gap junctions\n",
      "Expected 0 gap junctions, found 10000 gap junction rows\n",
      "Expected 0 gap junctions, found 10000 gap junction rows\n",
      "Loading 21 neurons with 165 synapses and 0 gap junctions\n",
      "Loading 21 neurons with 165 synapses and 0 gap junctions\n",
      "Loading 21 neurons with 165 synapses and 0 gap junctions\n",
      "Expected 0 gap junctions, found 10000 gap junction rows\n",
      "Loading 21 neurons with 165 synapses and 0 gap junctions\n",
      "Expected 0 gap junctions, found 10000 gap junction rows\n",
      "Loading 21 neurons with 165 synapses and 0 gap junctions\n",
      "Loading 21 neurons with 165 synapses and 0 gap junctions\n",
      "Running simulation for 3.0 s\n",
      "Running simulation for 3.0 s\n",
      "Running simulation for 3.0 s\n",
      "Running simulation for 3.0 s\n",
      "1% done. Elapsed: 8.6 s, estimated time left: 856.0 s\n",
      "13% done. Elapsed: 111.7 s, estimated time left: 747.7 s\n",
      "25% done. Elapsed: 216.3 s, estimated time left: 649.0 s\n",
      "37% done. Elapsed: 322.6 s, estimated time left: 549.2 s\n",
      "49% done. Elapsed: 430.4 s, estimated time left: 447.9 s\n",
      "60% done. Elapsed: 531.6 s, estimated time left: 354.4 s\n",
      "71% done. Elapsed: 632.2 s, estimated time left: 258.2 s\n",
      "82% done. Elapsed: 732.9 s, estimated time left: 160.9 s\n",
      "95% done. Elapsed: 838.4 s, estimated time left: 44.1 s\n",
      "Simulation run time: 876.6 s\n",
      "Writing spike times to Dopamine-network/simulation/network-output-spikes-DA-network-control.txt\n",
      "Simulation run time: 876.7 s\n",
      "Writing spike times to Dopamine-network/simulation/network-output-spikes-DA-network-control.txt\n",
      "Simulation run time: 876.5 s\n",
      "Writing spike times to Dopamine-network/simulation/network-output-spikes-DA-network-control.txt\n",
      "Simulation run time: 875.8 s\n",
      "Writing spike times to Dopamine-network/simulation/network-output-spikes-DA-network-control.txt\n",
      "/home/jofrony/miniconda3/envs/py37/lib/python3.7/site-packages/bluepyopt/ephys/simulators.py:74: UserWarning: Unable to find Neuron hoc shared library in /usr/local/nrn/lib/python/neuron, not disabling banner\n",
      "  'not disabling banner' % nrnpy_path)\n",
      "/home/jofrony/miniconda3/envs/py37/lib/python3.7/site-packages/bluepyopt/ephys/simulators.py:74: UserWarning: Unable to find Neuron hoc shared library in /usr/local/nrn/lib/python/neuron, not disabling banner\n",
      "  'not disabling banner' % nrnpy_path)\n",
      "/home/jofrony/miniconda3/envs/py37/lib/python3.7/site-packages/bluepyopt/ephys/simulators.py:74: UserWarning: Unable to find Neuron hoc shared library in /usr/local/nrn/lib/python/neuron, not disabling banner\n",
      "  'not disabling banner' % nrnpy_path)\n",
      "/home/jofrony/miniconda3/envs/py37/lib/python3.7/site-packages/bluepyopt/ephys/simulators.py:74: UserWarning: Unable to find Neuron hoc shared library in /usr/local/nrn/lib/python/neuron, not disabling banner\n",
      "  'not disabling banner' % nrnpy_path)\n",
      "Program run time: 881.1697132219997\n",
      "\u001b[0m\u001b[0m\u001b[0m\u001b[0m"
     ]
    }
   ],
   "source": [
    "!mpiexec -n 4 python simulation.py $network_name $modulations $duration $simulation_name "
   ]
  },
  {
   "cell_type": "code",
   "execution_count": null,
   "metadata": {},
   "outputs": [],
   "source": []
  }
 ],
 "metadata": {
  "kernelspec": {
   "display_name": "Python 3",
   "language": "python",
   "name": "python3"
  },
  "language_info": {
   "codemirror_mode": {
    "name": "ipython",
    "version": 3
   },
   "file_extension": ".py",
   "mimetype": "text/x-python",
   "name": "python",
   "nbconvert_exporter": "python",
   "pygments_lexer": "ipython3",
   "version": "3.7.9"
  }
 },
 "nbformat": 4,
 "nbformat_minor": 4
}
