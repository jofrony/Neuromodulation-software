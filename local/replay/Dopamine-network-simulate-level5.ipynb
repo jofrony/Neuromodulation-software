{
 "cells": [
  {
   "cell_type": "markdown",
   "metadata": {},
   "source": [
    "# Simulate the striatum - DA"
   ]
  },
  {
   "cell_type": "code",
   "execution_count": 1,
   "metadata": {},
   "outputs": [
    {
     "name": "stdout",
     "output_type": "stream",
     "text": [
      "/home/jofrony/Documents/Repositories/BasalGangliaExperiments/Neuromodulation-software/Experiment-Simulation\n"
     ]
    }
   ],
   "source": [
    "%cd Experiment-Simulation"
   ]
  },
  {
   "cell_type": "code",
   "execution_count": null,
   "metadata": {},
   "outputs": [],
   "source": [
    "!nrnivmodl ../renamed_mod_files/"
   ]
  },
  {
   "cell_type": "code",
   "execution_count": 2,
   "metadata": {},
   "outputs": [
    {
     "name": "stdout",
     "output_type": "stream",
     "text": [
      "Writing spikes to Dopamine-network/input-spikes.hdf5\n"
     ]
    }
   ],
   "source": [
    "import os\n",
    "from snudda.input import SnuddaInput\n",
    "\n",
    "network_path = 'Dopamine-network'\n",
    "\n",
    "si = SnuddaInput(network_path=network_path, \n",
    "                 input_config_file=os.path.join(\"external_input\",\"external-input-dSTR-scaled-level5.json\"),\n",
    "                 verbose=False)\n",
    "si.generate()"
   ]
  },
  {
   "cell_type": "code",
   "execution_count": null,
   "metadata": {},
   "outputs": [],
   "source": []
  },
  {
   "cell_type": "code",
   "execution_count": 3,
   "metadata": {},
   "outputs": [],
   "source": [
    "network_name = 'Dopamine-network'\n",
    "modulations = 'modulation/dopamine_alpha_transient.json'\n",
    "duration = 3000\n",
    "simulation_name = 'DA-network-level5'"
   ]
  },
  {
   "cell_type": "code",
   "execution_count": 4,
   "metadata": {},
   "outputs": [
    {
     "name": "stdout",
     "output_type": "stream",
     "text": [
      "numprocs=4\n",
      "Expected 0 gap junctions, found 10000 gap junction rows\n",
      "Expected 0 gap junctions, found 10000 gap junction rows\n",
      "Expected 0 gap junctions, found 10000 gap junction rows\n",
      "Expected 0 gap junctions, found 10000 gap junction rows\n",
      "Loading 21 neurons with 165 synapses and 0 gap junctions\n",
      "Loading 21 neurons with 165 synapses and 0 gap junctions\n",
      "Expected 0 gap junctions, found 10000 gap junction rows\n",
      "Expected 0 gap junctions, found 10000 gap junction rows\n",
      "Loading 21 neurons with 165 synapses and 0 gap junctions\n",
      "Expected 0 gap junctions, found 10000 gap junction rows\n",
      "Loading 21 neurons with 165 synapses and 0 gap junctions\n",
      "Expected 0 gap junctions, found 10000 gap junction rows\n",
      "Loading 21 neurons with 165 synapses and 0 gap junctions\n",
      "Loading 21 neurons with 165 synapses and 0 gap junctions\n",
      "Loading 21 neurons with 165 synapses and 0 gap junctions\n",
      "Loading 21 neurons with 165 synapses and 0 gap junctions\n",
      "Running simulation for 3.0 s\n",
      "Running simulation for 3.0 s\n",
      "Running simulation for 3.0 s\n",
      "Running simulation for 3.0 s\n",
      "1% done. Elapsed: 9.7 s, estimated time left: 965.2 s\n",
      "12% done. Elapsed: 112.3 s, estimated time left: 823.5 s\n",
      "23% done. Elapsed: 215.1 s, estimated time left: 720.0 s\n",
      "34% done. Elapsed: 318.6 s, estimated time left: 618.5 s\n",
      "45% done. Elapsed: 424.3 s, estimated time left: 518.6 s\n",
      "55% done. Elapsed: 526.7 s, estimated time left: 430.9 s\n",
      "65% done. Elapsed: 632.5 s, estimated time left: 340.6 s\n",
      "76% done. Elapsed: 736.9 s, estimated time left: 232.7 s\n",
      "86% done. Elapsed: 837.4 s, estimated time left: 136.3 s\n",
      "96% done. Elapsed: 941.7 s, estimated time left: 39.2 s\n",
      "Simulation run time: 985.3 s\n",
      "Writing spike times to Dopamine-network/simulation/network-output-spikes-DA-network-level5.txt\n",
      "Simulation run time: 985.2 s\n",
      "Writing spike times to Dopamine-network/simulation/network-output-spikes-DA-network-level5.txt\n",
      "Simulation run time: 985.1 s\n",
      "Writing spike times to Dopamine-network/simulation/network-output-spikes-DA-network-level5.txt\n",
      "Simulation run time: 984.2 s\n",
      "Writing spike times to Dopamine-network/simulation/network-output-spikes-DA-network-level5.txt\n",
      "/home/jofrony/miniconda3/envs/py37/lib/python3.7/site-packages/bluepyopt/ephys/simulators.py:74: UserWarning: Unable to find Neuron hoc shared library in /usr/local/nrn/lib/python/neuron, not disabling banner\n",
      "  'not disabling banner' % nrnpy_path)\n",
      "/home/jofrony/miniconda3/envs/py37/lib/python3.7/site-packages/bluepyopt/ephys/simulators.py:74: UserWarning: Unable to find Neuron hoc shared library in /usr/local/nrn/lib/python/neuron, not disabling banner\n",
      "  'not disabling banner' % nrnpy_path)\n",
      "/home/jofrony/miniconda3/envs/py37/lib/python3.7/site-packages/bluepyopt/ephys/simulators.py:74: UserWarning: Unable to find Neuron hoc shared library in /usr/local/nrn/lib/python/neuron, not disabling banner\n",
      "  'not disabling banner' % nrnpy_path)\n",
      "/home/jofrony/miniconda3/envs/py37/lib/python3.7/site-packages/bluepyopt/ephys/simulators.py:74: UserWarning: Unable to find Neuron hoc shared library in /usr/local/nrn/lib/python/neuron, not disabling banner\n",
      "  'not disabling banner' % nrnpy_path)\n",
      "Program run time: 989.8974319270055\n",
      "\u001b[0m\u001b[0m\u001b[0m\u001b[0m"
     ]
    }
   ],
   "source": [
    "!mpiexec -n 4 python simulation.py $network_name $modulations $duration $simulation_name "
   ]
  },
  {
   "cell_type": "code",
   "execution_count": null,
   "metadata": {},
   "outputs": [],
   "source": [
    "network_name = 'Dopamine-network'\n",
    "modulations = 'modulation/dopamine_control.json'\n",
    "duration = 3000\n",
    "simulation_name = 'DA-network-control'"
   ]
  },
  {
   "cell_type": "code",
   "execution_count": null,
   "metadata": {},
   "outputs": [],
   "source": [
    "!mpiexec -n 4 python simulation.py $network_name $modulations $duration $simulation_name "
   ]
  },
  {
   "cell_type": "code",
   "execution_count": null,
   "metadata": {},
   "outputs": [],
   "source": []
  }
 ],
 "metadata": {
  "kernelspec": {
   "display_name": "Python 3",
   "language": "python",
   "name": "python3"
  },
  "language_info": {
   "codemirror_mode": {
    "name": "ipython",
    "version": 3
   },
   "file_extension": ".py",
   "mimetype": "text/x-python",
   "name": "python",
   "nbconvert_exporter": "python",
   "pygments_lexer": "ipython3",
   "version": "3.7.9"
  }
 },
 "nbformat": 4,
 "nbformat_minor": 4
}
