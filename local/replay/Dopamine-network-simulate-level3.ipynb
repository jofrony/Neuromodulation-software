{
 "cells": [
  {
   "cell_type": "markdown",
   "metadata": {},
   "source": [
    "# Simulate the striatum - DA"
   ]
  },
  {
   "cell_type": "code",
   "execution_count": 1,
   "metadata": {},
   "outputs": [
    {
     "name": "stdout",
     "output_type": "stream",
     "text": [
      "/home/jofrony/Documents/Repositories/BasalGangliaExperiments/Neuromodulation-software/Experiment-Simulation\n"
     ]
    }
   ],
   "source": [
    "%cd Experiment-Simulation"
   ]
  },
  {
   "cell_type": "code",
   "execution_count": null,
   "metadata": {},
   "outputs": [],
   "source": [
    "!nrnivmodl ../renamed_mod_files/"
   ]
  },
  {
   "cell_type": "code",
   "execution_count": 2,
   "metadata": {},
   "outputs": [
    {
     "name": "stdout",
     "output_type": "stream",
     "text": [
      "Writing spikes to Dopamine-network/input-spikes.hdf5\n"
     ]
    }
   ],
   "source": [
    "import os\n",
    "from snudda.input import SnuddaInput\n",
    "\n",
    "network_path = 'Dopamine-network'\n",
    "\n",
    "si = SnuddaInput(network_path=network_path, \n",
    "                 input_config_file=os.path.join(\"external_input\",\"external-input-dSTR-scaled-level3.json\"),\n",
    "                 verbose=False)\n",
    "si.generate()"
   ]
  },
  {
   "cell_type": "code",
   "execution_count": null,
   "metadata": {},
   "outputs": [],
   "source": []
  },
  {
   "cell_type": "code",
   "execution_count": 3,
   "metadata": {},
   "outputs": [],
   "source": [
    "network_name = 'Dopamine-network'\n",
    "modulations = 'modulation/dopamine_alpha_transient.json'\n",
    "duration = 3000\n",
    "simulation_name = 'DA-network-level3'"
   ]
  },
  {
   "cell_type": "code",
   "execution_count": 4,
   "metadata": {},
   "outputs": [
    {
     "name": "stdout",
     "output_type": "stream",
     "text": [
      "numprocs=4\n",
      "Expected 0 gap junctions, found 10000 gap junction rows\n",
      "Expected 0 gap junctions, found 10000 gap junction rows\n",
      "Expected 0 gap junctions, found 10000 gap junction rows\n",
      "Expected 0 gap junctions, found 10000 gap junction rows\n",
      "Loading 21 neurons with 165 synapses and 0 gap junctions\n",
      "Loading 21 neurons with 165 synapses and 0 gap junctions\n",
      "Expected 0 gap junctions, found 10000 gap junction rows\n",
      "Expected 0 gap junctions, found 10000 gap junction rows\n",
      "Loading 21 neurons with 165 synapses and 0 gap junctions\n",
      "Loading 21 neurons with 165 synapses and 0 gap junctions\n",
      "Expected 0 gap junctions, found 10000 gap junction rows\n",
      "Expected 0 gap junctions, found 10000 gap junction rows\n",
      "Loading 21 neurons with 165 synapses and 0 gap junctions\n",
      "Loading 21 neurons with 165 synapses and 0 gap junctions\n",
      "Loading 21 neurons with 165 synapses and 0 gap junctions\n",
      "Loading 21 neurons with 165 synapses and 0 gap junctions\n",
      "Running simulation for 3.0 s\n",
      "Running simulation for 3.0 s\n",
      "Running simulation for 3.0 s\n",
      "Running simulation for 3.0 s\n",
      "1% done. Elapsed: 8.9 s, estimated time left: 878.2 s\n",
      "12% done. Elapsed: 114.9 s, estimated time left: 842.3 s\n",
      "23% done. Elapsed: 218.2 s, estimated time left: 730.5 s\n",
      "34% done. Elapsed: 324.9 s, estimated time left: 630.7 s\n",
      "45% done. Elapsed: 435.0 s, estimated time left: 531.7 s\n",
      "56% done. Elapsed: 543.8 s, estimated time left: 427.2 s\n",
      "66% done. Elapsed: 647.5 s, estimated time left: 333.5 s\n",
      "77% done. Elapsed: 755.7 s, estimated time left: 225.7 s\n",
      "87% done. Elapsed: 861.8 s, estimated time left: 128.8 s\n",
      "98% done. Elapsed: 969.2 s, estimated time left: 19.8 s\n",
      "Simulation run time: 990.0 s\n",
      "Writing spike times to Dopamine-network/simulation/network-output-spikes-DA-network-level3.txt\n",
      "Simulation run time: 989.6 s\n",
      "Simulation run time: 990.0 s\n",
      "Writing spike times to Dopamine-network/simulation/network-output-spikes-DA-network-level3.txt\n",
      "Simulation run time: 989.2 s\n",
      "Writing spike times to Dopamine-network/simulation/network-output-spikes-DA-network-level3.txt\n",
      "Writing spike times to Dopamine-network/simulation/network-output-spikes-DA-network-level3.txt\n",
      "/home/jofrony/miniconda3/envs/py37/lib/python3.7/site-packages/bluepyopt/ephys/simulators.py:74: UserWarning: Unable to find Neuron hoc shared library in /usr/local/nrn/lib/python/neuron, not disabling banner\n",
      "  'not disabling banner' % nrnpy_path)\n",
      "/home/jofrony/miniconda3/envs/py37/lib/python3.7/site-packages/bluepyopt/ephys/simulators.py:74: UserWarning: Unable to find Neuron hoc shared library in /usr/local/nrn/lib/python/neuron, not disabling banner\n",
      "  'not disabling banner' % nrnpy_path)\n",
      "/home/jofrony/miniconda3/envs/py37/lib/python3.7/site-packages/bluepyopt/ephys/simulators.py:74: UserWarning: Unable to find Neuron hoc shared library in /usr/local/nrn/lib/python/neuron, not disabling banner\n",
      "  'not disabling banner' % nrnpy_path)\n",
      "/home/jofrony/miniconda3/envs/py37/lib/python3.7/site-packages/bluepyopt/ephys/simulators.py:74: UserWarning: Unable to find Neuron hoc shared library in /usr/local/nrn/lib/python/neuron, not disabling banner\n",
      "  'not disabling banner' % nrnpy_path)\n",
      "Program run time: 994.4233672310002\n",
      "\u001b[0m\u001b[0m\u001b[0m\u001b[0m"
     ]
    }
   ],
   "source": [
    "!mpiexec -n 4 python simulation.py $network_name $modulations $duration $simulation_name "
   ]
  },
  {
   "cell_type": "code",
   "execution_count": null,
   "metadata": {},
   "outputs": [],
   "source": [
    "network_name = 'Dopamine-network'\n",
    "modulations = 'modulation/dopamine_control.json'\n",
    "duration = 3000\n",
    "simulation_name = 'DA-network-control'"
   ]
  },
  {
   "cell_type": "code",
   "execution_count": null,
   "metadata": {},
   "outputs": [],
   "source": [
    "!mpiexec -n 4 python simulation.py $network_name $modulations $duration $simulation_name "
   ]
  },
  {
   "cell_type": "code",
   "execution_count": null,
   "metadata": {},
   "outputs": [],
   "source": []
  }
 ],
 "metadata": {
  "kernelspec": {
   "display_name": "Python 3",
   "language": "python",
   "name": "python3"
  },
  "language_info": {
   "codemirror_mode": {
    "name": "ipython",
    "version": 3
   },
   "file_extension": ".py",
   "mimetype": "text/x-python",
   "name": "python",
   "nbconvert_exporter": "python",
   "pygments_lexer": "ipython3",
   "version": "3.7.9"
  }
 },
 "nbformat": 4,
 "nbformat_minor": 4
}
