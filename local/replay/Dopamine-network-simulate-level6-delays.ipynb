{
 "cells": [
  {
   "cell_type": "markdown",
   "metadata": {},
   "source": [
    "# Simulate the striatum - DA"
   ]
  },
  {
   "cell_type": "code",
   "execution_count": 1,
   "metadata": {},
   "outputs": [
    {
     "name": "stdout",
     "output_type": "stream",
     "text": [
      "/home/jofrony/Documents/Repositories/BasalGangliaExperiments/Neuromodulation-software/local/Experiment-Simulation\n"
     ]
    }
   ],
   "source": [
    "%cd Experiment-Simulation"
   ]
  },
  {
   "cell_type": "code",
   "execution_count": 2,
   "metadata": {},
   "outputs": [
    {
     "name": "stdout",
     "output_type": "stream",
     "text": [
      "/home/jofrony/Documents/Repositories/BasalGangliaExperiments/Neuromodulation-software/local/Experiment-Simulation\n",
      "ls: cannot access '../mechanisms-modulation//*.inc': No such file or directory\n",
      "../mechanisms-modulation//bk_fs.mod ../mechanisms-modulation//bk_ms.mod ../mechanisms-modulation//cadyn_fs.mod ../mechanisms-modulation//cadyn_ms.mod ../mechanisms-modulation//cal12_ms.mod ../mechanisms-modulation//cal13_ms.mod ../mechanisms-modulation//caldyn_ms.mod ../mechanisms-modulation//can_fs.mod ../mechanisms-modulation//can_ms.mod ../mechanisms-modulation//caq_fs.mod ../mechanisms-modulation//caq_ms.mod ../mechanisms-modulation//car_fs.mod ../mechanisms-modulation//car_ms.mod ../mechanisms-modulation//cat32_ms.mod ../mechanisms-modulation//cat33_ms.mod ../mechanisms-modulation//concACh_ms.mod ../mechanisms-modulation//concDA_ms.mod ../mechanisms-modulation//Im_ms.mod ../mechanisms-modulation//kaf_fs.mod ../mechanisms-modulation//kaf_ms.mod ../mechanisms-modulation//kas_fs.mod ../mechanisms-modulation//kas_ms.mod ../mechanisms-modulation//kdr_fs.mod ../mechanisms-modulation//kdr_ms.mod ../mechanisms-modulation//kir_fs.mod ../mechanisms-modulation//kir_ms.mod ../mechanisms-modulation//naf_fs.mod ../mechanisms-modulation//naf_ms.mod ../mechanisms-modulation//par_ggap.mod ../mechanisms-modulation//sk_fs.mod ../mechanisms-modulation//sk_ms.mod ../mechanisms-modulation//tmgabaa.mod ../mechanisms-modulation//tmglut_M1RH_D1.mod ../mechanisms-modulation//tmglut.mod ../mechanisms-modulation//vecevent.mod\n",
      "bk_fs.mod bk_ms.mod cadyn_fs.mod cadyn_ms.mod cal12_ms.mod cal13_ms.mod caldyn_ms.mod can_fs.mod can_ms.mod caq_fs.mod caq_ms.mod car_fs.mod car_ms.mod cat32_ms.mod cat33_ms.mod concACh_ms.mod concDA_ms.mod Im_ms.mod kaf_fs.mod kaf_ms.mod kas_fs.mod kas_ms.mod kdr_fs.mod kdr_ms.mod kir_fs.mod kir_ms.mod naf_fs.mod naf_ms.mod par_ggap.mod sk_fs.mod sk_ms.mod tmgabaa.mod tmglut_M1RH_D1.mod tmglut.mod vecevent.mod\n",
      "\"/usr/local/nrn/share/nrn/libtool\" --tag=CC --mode=compile mpicc -DHAVE_CONFIG_H  -I. -I.. -I\"/usr/local/nrn/include/nrn\" -I\"/usr/local/nrn/x86_64/lib\"      -g -O2 -c -o mod_func.lo mod_func.c\n",
      "libtool: compile:  mpicc -DHAVE_CONFIG_H -I. -I.. -I/usr/local/nrn/include/nrn -I/usr/local/nrn/x86_64/lib -g -O2 -c mod_func.c  -fPIC -DPIC -o .libs/mod_func.o\n",
      "\"/usr/local/nrn/share/nrn/libtool\" --tag=CC --mode=link mpicc -module  -g -O2    -o libnrnmech.la -rpath \"/usr/local/nrn/x86_64/lib\"  bk_fs.lo bk_ms.lo cadyn_fs.lo cadyn_ms.lo cal12_ms.lo cal13_ms.lo caldyn_ms.lo can_fs.lo can_ms.lo caq_fs.lo caq_ms.lo car_fs.lo car_ms.lo cat32_ms.lo cat33_ms.lo concACh_ms.lo concDA_ms.lo Im_ms.lo kaf_fs.lo kaf_ms.lo kas_fs.lo kas_ms.lo kdr_fs.lo kdr_ms.lo kir_fs.lo kir_ms.lo naf_fs.lo naf_ms.lo par_ggap.lo sk_fs.lo sk_ms.lo tmgabaa.lo tmglut_M1RH_D1.lo tmglut.lo vecevent.lo mod_func.lo  -L\"/usr/local/nrn/x86_64/lib\" -lnrnoc -loc -lmemacs -lnrnmpi -lscopmath -lsparse13 -lreadline -lncurses -ltinfo -L\"/usr/local/nrn/x86_64/lib\" -lnrniv -livoc -lneuron_gnu -lmeschach -lsundials       -lm -ldl\n",
      "libtool: link: rm -fr  .libs/libnrnmech.la .libs/libnrnmech.lai .libs/libnrnmech.so .libs/libnrnmech.so.0 .libs/libnrnmech.so.0.0.0\n",
      "libtool: link: mpicc -shared  -fPIC -DPIC  .libs/bk_fs.o .libs/bk_ms.o .libs/cadyn_fs.o .libs/cadyn_ms.o .libs/cal12_ms.o .libs/cal13_ms.o .libs/caldyn_ms.o .libs/can_fs.o .libs/can_ms.o .libs/caq_fs.o .libs/caq_ms.o .libs/car_fs.o .libs/car_ms.o .libs/cat32_ms.o .libs/cat33_ms.o .libs/concACh_ms.o .libs/concDA_ms.o .libs/Im_ms.o .libs/kaf_fs.o .libs/kaf_ms.o .libs/kas_fs.o .libs/kas_ms.o .libs/kdr_fs.o .libs/kdr_ms.o .libs/kir_fs.o .libs/kir_ms.o .libs/naf_fs.o .libs/naf_ms.o .libs/par_ggap.o .libs/sk_fs.o .libs/sk_ms.o .libs/tmgabaa.o .libs/tmglut_M1RH_D1.o .libs/tmglut.o .libs/vecevent.o .libs/mod_func.o   -Wl,-rpath -Wl,/usr/local/nrn/x86_64/lib -Wl,-rpath -Wl,/usr/local/nrn/x86_64/lib -L/usr/local/nrn/x86_64/lib /usr/local/nrn/x86_64/lib/libnrnoc.so /usr/local/nrn/x86_64/lib/liboc.so -lX11 /usr/local/nrn/x86_64/lib/libmemacs.so /usr/local/nrn/x86_64/lib/libnrnmpi.so /usr/local/nrn/x86_64/lib/libscopmath.so /usr/local/nrn/x86_64/lib/libsparse13.so /usr/local/nrn/x86_64/lib/libreadline.so -lncurses -ltinfo /usr/local/nrn/x86_64/lib/libnrniv.so /usr/local/nrn/x86_64/lib/libivoc.so /usr/local/nrn/x86_64/lib/libneuron_gnu.so /usr/local/nrn/x86_64/lib/libmeschach.so /usr/local/nrn/x86_64/lib/libsundials.so -lm -ldl  -g -O2   -Wl,-soname -Wl,libnrnmech.so.0 -o .libs/libnrnmech.so.0.0.0\n",
      "libtool: link: (cd \".libs\" && rm -f \"libnrnmech.so.0\" && ln -s \"libnrnmech.so.0.0.0\" \"libnrnmech.so.0\")\n",
      "libtool: link: (cd \".libs\" && rm -f \"libnrnmech.so\" && ln -s \"libnrnmech.so.0.0.0\" \"libnrnmech.so\")\n",
      "libtool: link: ( cd \".libs\" && rm -f \"libnrnmech.la\" && ln -s \"../libnrnmech.la\" \"libnrnmech.la\" )\n",
      "Successfully created x86_64/special\n"
     ]
    }
   ],
   "source": [
    "!nrnivmodl ../mechanisms-modulation/"
   ]
  },
  {
   "cell_type": "code",
   "execution_count": 6,
   "metadata": {},
   "outputs": [
    {
     "name": "stdout",
     "output_type": "stream",
     "text": [
      "Writing spikes to Dopamine-delays-network/input-spikes.hdf5\n"
     ]
    }
   ],
   "source": [
    "import os\n",
    "from snudda.input import SnuddaInput\n",
    "\n",
    "network_path = 'Dopamine-delays-network'\n",
    "\n",
    "si = SnuddaInput(network_path=network_path, \n",
    "                 input_config_file=os.path.join(\"../../network_parameters/external_input\",\"external-input-dSTR-scaled-level4.json\"),\n",
    "                 verbose=False)\n",
    "si.generate()"
   ]
  },
  {
   "cell_type": "code",
   "execution_count": 7,
   "metadata": {},
   "outputs": [],
   "source": [
    "network_name = 'Dopamine-delays-network'\n",
    "modulations = '../../network_parameters/modulation/dopamine_alpha_delay1.json'\n",
    "duration = 3000\n",
    "simulation_name = 'Dopamine-delays1-network'"
   ]
  },
  {
   "cell_type": "code",
   "execution_count": 8,
   "metadata": {},
   "outputs": [
    {
     "name": "stdout",
     "output_type": "stream",
     "text": [
      "numprocs=4\n",
      "Loading 30 neurons with 441 synapses and 0 gap junctions\n",
      "Loading 30 neurons with 441 synapses and 0 gap junctions\n",
      "Loading 30 neurons with 441 synapses and 0 gap junctions\n",
      "Loading 30 neurons with 441 synapses and 0 gap junctions\n",
      "Loading 30 neurons with 441 synapses and 0 gap junctions\n",
      "Loading 30 neurons with 441 synapses and 0 gap junctions\n",
      "Loading 30 neurons with 441 synapses and 0 gap junctions\n",
      "Loading 30 neurons with 441 synapses and 0 gap junctions\n",
      "Running simulation for 3.0 s\n",
      "Running simulation for 3.0 s\n",
      "Running simulation for 3.0 s\n",
      "Running simulation for 3.0 s\n",
      "1% done. Elapsed: 9.6 s, estimated time left: 947.0 s\n",
      "11% done. Elapsed: 119.5 s, estimated time left: 966.6 s\n",
      "20% done. Elapsed: 224.5 s, estimated time left: 898.1 s\n",
      "29% done. Elapsed: 333.1 s, estimated time left: 815.6 s\n",
      "38% done. Elapsed: 442.8 s, estimated time left: 722.5 s\n",
      "47% done. Elapsed: 553.6 s, estimated time left: 624.3 s\n",
      "56% done. Elapsed: 665.3 s, estimated time left: 522.7 s\n",
      "64% done. Elapsed: 765.8 s, estimated time left: 430.8 s\n",
      "73% done. Elapsed: 871.8 s, estimated time left: 322.5 s\n",
      "82% done. Elapsed: 978.9 s, estimated time left: 214.9 s\n",
      "91% done. Elapsed: 1086.3 s, estimated time left: 107.4 s\n",
      "Simulation run time: 1193.2 s\n",
      "Writing spike times to Dopamine-delays-network/simulation/network-output-spikes-Dopamine-delays1-network.txt\n",
      "Simulation run time: 1193.1 s\n",
      "Writing spike times to Dopamine-delays-network/simulation/network-output-spikes-Dopamine-delays1-network.txt\n",
      "Simulation run time: 1193.1 s\n",
      "Writing spike times to Dopamine-delays-network/simulation/network-output-spikes-Dopamine-delays1-network.txt\n",
      "Simulation run time: 1193.1 s\n",
      "Writing spike times to Dopamine-delays-network/simulation/network-output-spikes-Dopamine-delays1-network.txt\n",
      "/home/jofrony/miniconda3/envs/py37/lib/python3.7/site-packages/bluepyopt/ephys/simulators.py:74: UserWarning: Unable to find Neuron hoc shared library in /usr/local/nrn/lib/python/neuron, not disabling banner\n",
      "  'not disabling banner' % nrnpy_path)\n",
      "/home/jofrony/miniconda3/envs/py37/lib/python3.7/site-packages/bluepyopt/ephys/simulators.py:74: UserWarning: Unable to find Neuron hoc shared library in /usr/local/nrn/lib/python/neuron, not disabling banner\n",
      "  'not disabling banner' % nrnpy_path)\n",
      "/home/jofrony/miniconda3/envs/py37/lib/python3.7/site-packages/bluepyopt/ephys/simulators.py:74: UserWarning: Unable to find Neuron hoc shared library in /usr/local/nrn/lib/python/neuron, not disabling banner\n",
      "  'not disabling banner' % nrnpy_path)\n",
      "/home/jofrony/miniconda3/envs/py37/lib/python3.7/site-packages/bluepyopt/ephys/simulators.py:74: UserWarning: Unable to find Neuron hoc shared library in /usr/local/nrn/lib/python/neuron, not disabling banner\n",
      "  'not disabling banner' % nrnpy_path)\n",
      "Program run time: 1195.531945005001\n",
      "\u001b[0m\u001b[0m\u001b[0m\u001b[0m"
     ]
    }
   ],
   "source": [
    "!mpiexec -n 4 python simulation.py $network_name $modulations $duration $simulation_name "
   ]
  },
  {
   "cell_type": "code",
   "execution_count": 9,
   "metadata": {},
   "outputs": [],
   "source": [
    "network_name = 'Dopamine-delays-network'\n",
    "modulations = '../../network_parameters/modulation/dopamine_alpha_delay3.json'\n",
    "duration = 3000\n",
    "simulation_name = 'Dopamine-delays3-network'"
   ]
  },
  {
   "cell_type": "code",
   "execution_count": 10,
   "metadata": {},
   "outputs": [
    {
     "name": "stdout",
     "output_type": "stream",
     "text": [
      "numprocs=4\n",
      "Loading 30 neurons with 441 synapses and 0 gap junctions\n",
      "Loading 30 neurons with 441 synapses and 0 gap junctions\n",
      "Loading 30 neurons with 441 synapses and 0 gap junctions\n",
      "Loading 30 neurons with 441 synapses and 0 gap junctions\n",
      "Loading 30 neurons with 441 synapses and 0 gap junctions\n",
      "Loading 30 neurons with 441 synapses and 0 gap junctions\n",
      "Loading 30 neurons with 441 synapses and 0 gap junctions\n",
      "Loading 30 neurons with 441 synapses and 0 gap junctions\n",
      "Running simulation for 3.0 s\n",
      "Running simulation for 3.0 s\n",
      "Running simulation for 3.0 s\n",
      "Running simulation for 3.0 s\n",
      "1% done. Elapsed: 11.7 s, estimated time left: 1155.6 s\n",
      "10% done. Elapsed: 116.9 s, estimated time left: 1052.1 s\n",
      "19% done. Elapsed: 224.2 s, estimated time left: 955.8 s\n",
      "28% done. Elapsed: 332.0 s, estimated time left: 853.8 s\n",
      "37% done. Elapsed: 438.7 s, estimated time left: 746.9 s\n",
      "46% done. Elapsed: 551.1 s, estimated time left: 646.9 s\n",
      "54% done. Elapsed: 654.9 s, estimated time left: 557.9 s\n",
      "62% done. Elapsed: 758.7 s, estimated time left: 465.0 s\n",
      "71% done. Elapsed: 868.4 s, estimated time left: 354.7 s\n",
      "80% done. Elapsed: 978.6 s, estimated time left: 244.7 s\n",
      "89% done. Elapsed: 1089.1 s, estimated time left: 134.6 s\n",
      "98% done. Elapsed: 1200.0 s, estimated time left: 24.5 s\n",
      "Simulation run time: 1224.7 s\n",
      "Writing spike times to Dopamine-delays-network/simulation/network-output-spikes-Dopamine-delays3-network.txt\n",
      "Simulation run time: 1224.8 s\n",
      "Writing spike times to Dopamine-delays-network/simulation/network-output-spikes-Dopamine-delays3-network.txt\n",
      "Simulation run time: 1225.0 s\n",
      "Writing spike times to Dopamine-delays-network/simulation/network-output-spikes-Dopamine-delays3-network.txt\n",
      "Simulation run time: 1224.9 s\n",
      "Writing spike times to Dopamine-delays-network/simulation/network-output-spikes-Dopamine-delays3-network.txt\n",
      "/home/jofrony/miniconda3/envs/py37/lib/python3.7/site-packages/bluepyopt/ephys/simulators.py:74: UserWarning: Unable to find Neuron hoc shared library in /usr/local/nrn/lib/python/neuron, not disabling banner\n",
      "  'not disabling banner' % nrnpy_path)\n",
      "/home/jofrony/miniconda3/envs/py37/lib/python3.7/site-packages/bluepyopt/ephys/simulators.py:74: UserWarning: Unable to find Neuron hoc shared library in /usr/local/nrn/lib/python/neuron, not disabling banner\n",
      "  'not disabling banner' % nrnpy_path)\n",
      "/home/jofrony/miniconda3/envs/py37/lib/python3.7/site-packages/bluepyopt/ephys/simulators.py:74: UserWarning: Unable to find Neuron hoc shared library in /usr/local/nrn/lib/python/neuron, not disabling banner\n",
      "  'not disabling banner' % nrnpy_path)\n",
      "/home/jofrony/miniconda3/envs/py37/lib/python3.7/site-packages/bluepyopt/ephys/simulators.py:74: UserWarning: Unable to find Neuron hoc shared library in /usr/local/nrn/lib/python/neuron, not disabling banner\n",
      "  'not disabling banner' % nrnpy_path)\n",
      "Program run time: 1228.9826736879986\n",
      "\u001b[0m\u001b[0m\u001b[0m\u001b[0m"
     ]
    }
   ],
   "source": [
    "!mpiexec -n 4 python simulation.py $network_name $modulations $duration $simulation_name "
   ]
  },
  {
   "cell_type": "code",
   "execution_count": 17,
   "metadata": {},
   "outputs": [
    {
     "name": "stdout",
     "output_type": "stream",
     "text": [
      "numprocs=4\n",
      "Loading 30 neurons with 441 synapses and 0 gap junctions\n",
      "Loading 30 neurons with 441 synapses and 0 gap junctions\n",
      "Loading 30 neurons with 441 synapses and 0 gap junctions\n",
      "Loading 30 neurons with 441 synapses and 0 gap junctions\n",
      "Loading 30 neurons with 441 synapses and 0 gap junctions\n",
      "Loading 30 neurons with 441 synapses and 0 gap junctions\n",
      "Loading 30 neurons with 441 synapses and 0 gap junctions\n",
      "Loading 30 neurons with 441 synapses and 0 gap junctions\n",
      "Running simulation for 3.0 s\n",
      "Running simulation for 3.0 s\n",
      "Running simulation for 3.0 s\n",
      "Running simulation for 3.0 s\n",
      "1% done. Elapsed: 14.7 s, estimated time left: 1459.1 s\n",
      "8% done. Elapsed: 118.2 s, estimated time left: 1359.6 s\n",
      "15% done. Elapsed: 220.4 s, estimated time left: 1248.9 s\n",
      "22% done. Elapsed: 323.7 s, estimated time left: 1147.7 s\n",
      "29% done. Elapsed: 427.5 s, estimated time left: 1046.7 s\n",
      "37% done. Elapsed: 538.7 s, estimated time left: 917.3 s\n",
      "45% done. Elapsed: 646.9 s, estimated time left: 790.6 s\n",
      "53% done. Elapsed: 756.4 s, estimated time left: 670.8 s\n",
      "60% done. Elapsed: 865.8 s, estimated time left: 577.2 s\n",
      "67% done. Elapsed: 970.8 s, estimated time left: 478.1 s\n",
      "75% done. Elapsed: 1085.2 s, estimated time left: 361.7 s\n",
      "82% done. Elapsed: 1188.4 s, estimated time left: 260.9 s\n",
      "89% done. Elapsed: 1289.7 s, estimated time left: 159.4 s\n",
      "96% done. Elapsed: 1403.0 s, estimated time left: 58.5 s\n",
      "Simulation run time: 1469.2 s\n",
      "Simulation run time: 1469.5 s\n",
      "Writing spike times to Dopamine-delays-network/simulation/network-output-spikes-Dopamine-delays5-network.txt\n",
      "Simulation run time: 1469.2 s\n",
      "Writing spike times to Dopamine-delays-network/simulation/network-output-spikes-Dopamine-delays5-network.txt\n",
      "Simulation run time: 1469.2 s\n",
      "Writing spike times to Dopamine-delays-network/simulation/network-output-spikes-Dopamine-delays5-network.txt\n",
      "Writing spike times to Dopamine-delays-network/simulation/network-output-spikes-Dopamine-delays5-network.txt\n",
      "Program run time: 1474.5740285939974\n",
      "/home/jofrony/miniconda3/envs/py37/lib/python3.7/site-packages/bluepyopt/ephys/simulators.py:74: UserWarning: Unable to find Neuron hoc shared library in /usr/local/nrn/lib/python/neuron, not disabling banner\n",
      "  'not disabling banner' % nrnpy_path)\n",
      "/home/jofrony/miniconda3/envs/py37/lib/python3.7/site-packages/bluepyopt/ephys/simulators.py:74: UserWarning: Unable to find Neuron hoc shared library in /usr/local/nrn/lib/python/neuron, not disabling banner\n",
      "  'not disabling banner' % nrnpy_path)\n",
      "/home/jofrony/miniconda3/envs/py37/lib/python3.7/site-packages/bluepyopt/ephys/simulators.py:74: UserWarning: Unable to find Neuron hoc shared library in /usr/local/nrn/lib/python/neuron, not disabling banner\n",
      "  'not disabling banner' % nrnpy_path)\n",
      "/home/jofrony/miniconda3/envs/py37/lib/python3.7/site-packages/bluepyopt/ephys/simulators.py:74: UserWarning: Unable to find Neuron hoc shared library in /usr/local/nrn/lib/python/neuron, not disabling banner\n",
      "  'not disabling banner' % nrnpy_path)\n",
      "\u001b[0m\u001b[0m\u001b[0m\u001b[0m"
     ]
    }
   ],
   "source": [
    "network_name = 'Dopamine-delays-network'\n",
    "modulations = '../../network_parameters/modulation/dopamine_alpha_delay5.json'\n",
    "duration = 3000\n",
    "simulation_name = 'Dopamine-delays5-network'\n",
    "\n",
    "!mpiexec -n 4 python simulation.py $network_name $modulations $duration $simulation_name "
   ]
  },
  {
   "cell_type": "code",
   "execution_count": 18,
   "metadata": {},
   "outputs": [
    {
     "name": "stdout",
     "output_type": "stream",
     "text": [
      "numprocs=4\n",
      "Loading 30 neurons with 441 synapses and 0 gap junctions\n",
      "Loading 30 neurons with 441 synapses and 0 gap junctions\n",
      "Loading 30 neurons with 441 synapses and 0 gap junctions\n",
      "Loading 30 neurons with 441 synapses and 0 gap junctions\n",
      "Loading 30 neurons with 441 synapses and 0 gap junctions\n",
      "Loading 30 neurons with 441 synapses and 0 gap junctions\n",
      "Loading 30 neurons with 441 synapses and 0 gap junctions\n",
      "Loading 30 neurons with 441 synapses and 0 gap junctions\n",
      "Running simulation for 3.0 s\n",
      "Running simulation for 3.0 s\n",
      "Running simulation for 3.0 s\n",
      "Running simulation for 3.0 s\n",
      "1% done. Elapsed: 16.5 s, estimated time left: 1633.3 s\n",
      "8% done. Elapsed: 127.0 s, estimated time left: 1460.6 s\n",
      "15% done. Elapsed: 235.5 s, estimated time left: 1334.4 s\n",
      "22% done. Elapsed: 350.6 s, estimated time left: 1242.9 s\n",
      "29% done. Elapsed: 462.3 s, estimated time left: 1131.8 s\n",
      "36% done. Elapsed: 573.5 s, estimated time left: 1019.6 s\n",
      "43% done. Elapsed: 685.2 s, estimated time left: 908.3 s\n",
      "50% done. Elapsed: 795.9 s, estimated time left: 795.9 s\n",
      "58% done. Elapsed: 909.8 s, estimated time left: 658.8 s\n",
      "65% done. Elapsed: 1021.8 s, estimated time left: 550.2 s\n",
      "72% done. Elapsed: 1130.3 s, estimated time left: 439.5 s\n",
      "79% done. Elapsed: 1237.6 s, estimated time left: 329.0 s\n",
      "86% done. Elapsed: 1346.6 s, estimated time left: 219.2 s\n",
      "93% done. Elapsed: 1456.6 s, estimated time left: 109.6 s\n",
      "Simulation run time: 1568.0 s\n",
      "Writing spike times to Dopamine-delays-network/simulation/network-output-spikes-Dopamine-delays7-network.txt\n",
      "Simulation run time: 1568.3 s\n",
      "Writing spike times to Dopamine-delays-network/simulation/network-output-spikes-Dopamine-delays7-network.txt\n",
      "Simulation run time: 1568.1 s\n",
      "Writing spike times to Dopamine-delays-network/simulation/network-output-spikes-Dopamine-delays7-network.txt\n",
      "Simulation run time: 1568.2 s\n",
      "Writing spike times to Dopamine-delays-network/simulation/network-output-spikes-Dopamine-delays7-network.txt\n",
      "/home/jofrony/miniconda3/envs/py37/lib/python3.7/site-packages/bluepyopt/ephys/simulators.py:74: UserWarning: Unable to find Neuron hoc shared library in /usr/local/nrn/lib/python/neuron, not disabling banner\n",
      "  'not disabling banner' % nrnpy_path)\n",
      "/home/jofrony/miniconda3/envs/py37/lib/python3.7/site-packages/bluepyopt/ephys/simulators.py:74: UserWarning: Unable to find Neuron hoc shared library in /usr/local/nrn/lib/python/neuron, not disabling banner\n",
      "  'not disabling banner' % nrnpy_path)\n",
      "/home/jofrony/miniconda3/envs/py37/lib/python3.7/site-packages/bluepyopt/ephys/simulators.py:74: UserWarning: Unable to find Neuron hoc shared library in /usr/local/nrn/lib/python/neuron, not disabling banner\n",
      "  'not disabling banner' % nrnpy_path)\n",
      "/home/jofrony/miniconda3/envs/py37/lib/python3.7/site-packages/bluepyopt/ephys/simulators.py:74: UserWarning: Unable to find Neuron hoc shared library in /usr/local/nrn/lib/python/neuron, not disabling banner\n",
      "  'not disabling banner' % nrnpy_path)\n",
      "Program run time: 1573.7561368440074\n",
      "\u001b[0m\u001b[0m\u001b[0m\u001b[0m"
     ]
    }
   ],
   "source": [
    "network_name = 'Dopamine-delays-network'\n",
    "modulations = '../../network_parameters/modulation/dopamine_alpha_delay7.json'\n",
    "duration = 3000\n",
    "simulation_name = 'Dopamine-delays7-network'\n",
    "\n",
    "!mpiexec -n 4 python simulation.py $network_name $modulations $duration $simulation_name "
   ]
  },
  {
   "cell_type": "code",
   "execution_count": 11,
   "metadata": {},
   "outputs": [],
   "source": [
    "network_name = 'Dopamine-delays-network'\n",
    "modulations = '../../network_parameters/modulation/dopamine_alpha_delay8.json'\n",
    "duration = 3000\n",
    "simulation_name = 'Dopamine-delays8-network'"
   ]
  },
  {
   "cell_type": "code",
   "execution_count": 12,
   "metadata": {
    "scrolled": true
   },
   "outputs": [
    {
     "name": "stdout",
     "output_type": "stream",
     "text": [
      "numprocs=4\n",
      "Loading 30 neurons with 441 synapses and 0 gap junctions\n",
      "Loading 30 neurons with 441 synapses and 0 gap junctions\n",
      "Loading 30 neurons with 441 synapses and 0 gap junctions\n",
      "Loading 30 neurons with 441 synapses and 0 gap junctions\n",
      "Loading 30 neurons with 441 synapses and 0 gap junctions\n",
      "Loading 30 neurons with 441 synapses and 0 gap junctions\n",
      "Loading 30 neurons with 441 synapses and 0 gap junctions\n",
      "Loading 30 neurons with 441 synapses and 0 gap junctions\n",
      "Running simulation for 3.0 s\n",
      "Running simulation for 3.0 s\n",
      "Running simulation for 3.0 s\n",
      "Running simulation for 3.0 s\n",
      "1% done. Elapsed: 12.5 s, estimated time left: 1237.6 s\n",
      "10% done. Elapsed: 123.1 s, estimated time left: 1107.9 s\n",
      "18% done. Elapsed: 226.7 s, estimated time left: 1032.8 s\n",
      "26% done. Elapsed: 330.4 s, estimated time left: 940.5 s\n",
      "34% done. Elapsed: 434.6 s, estimated time left: 843.6 s\n",
      "42% done. Elapsed: 539.2 s, estimated time left: 744.6 s\n",
      "50% done. Elapsed: 644.9 s, estimated time left: 644.9 s\n",
      "59% done. Elapsed: 756.9 s, estimated time left: 526.0 s\n",
      "68% done. Elapsed: 869.1 s, estimated time left: 409.0 s\n",
      "76% done. Elapsed: 969.2 s, estimated time left: 306.1 s\n",
      "85% done. Elapsed: 1081.7 s, estimated time left: 190.9 s\n",
      "94% done. Elapsed: 1193.9 s, estimated time left: 76.2 s\n",
      "Simulation run time: 1268.4 s\n",
      "Writing spike times to Dopamine-delays-network/simulation/network-output-spikes-Dopamine-delays8-network.txt\n",
      "Simulation run time: 1268.6 s\n",
      "Writing spike times to Dopamine-delays-network/simulation/network-output-spikes-Dopamine-delays8-network.txt\n",
      "Simulation run time: 1268.6 s\n",
      "Writing spike times to Dopamine-delays-network/simulation/network-output-spikes-Dopamine-delays8-network.txt\n",
      "Simulation run time: 1268.7 s\n",
      "Writing spike times to Dopamine-delays-network/simulation/network-output-spikes-Dopamine-delays8-network.txt\n",
      "/home/jofrony/miniconda3/envs/py37/lib/python3.7/site-packages/bluepyopt/ephys/simulators.py:74: UserWarning: Unable to find Neuron hoc shared library in /usr/local/nrn/lib/python/neuron, not disabling banner\n",
      "  'not disabling banner' % nrnpy_path)\n",
      "/home/jofrony/miniconda3/envs/py37/lib/python3.7/site-packages/bluepyopt/ephys/simulators.py:74: UserWarning: Unable to find Neuron hoc shared library in /usr/local/nrn/lib/python/neuron, not disabling banner\n",
      "  'not disabling banner' % nrnpy_path)\n",
      "/home/jofrony/miniconda3/envs/py37/lib/python3.7/site-packages/bluepyopt/ephys/simulators.py:74: UserWarning: Unable to find Neuron hoc shared library in /usr/local/nrn/lib/python/neuron, not disabling banner\n",
      "  'not disabling banner' % nrnpy_path)\n",
      "/home/jofrony/miniconda3/envs/py37/lib/python3.7/site-packages/bluepyopt/ephys/simulators.py:74: UserWarning: Unable to find Neuron hoc shared library in /usr/local/nrn/lib/python/neuron, not disabling banner\n",
      "  'not disabling banner' % nrnpy_path)\n",
      "Program run time: 1273.8313742000028\n",
      "\u001b[0m\u001b[0m\u001b[0m\u001b[0m"
     ]
    }
   ],
   "source": [
    "!mpiexec -n 4 python simulation.py $network_name $modulations $duration $simulation_name "
   ]
  },
  {
   "cell_type": "code",
   "execution_count": 14,
   "metadata": {},
   "outputs": [
    {
     "name": "stdout",
     "output_type": "stream",
     "text": [
      "numprocs=4\n",
      "Loading 30 neurons with 441 synapses and 0 gap junctions\n",
      "Loading 30 neurons with 441 synapses and 0 gap junctions\n",
      "Loading 30 neurons with 441 synapses and 0 gap junctions\n",
      "Loading 30 neurons with 441 synapses and 0 gap junctions\n",
      "Loading 30 neurons with 441 synapses and 0 gap junctions\n",
      "Loading 30 neurons with 441 synapses and 0 gap junctions\n",
      "Loading 30 neurons with 441 synapses and 0 gap junctions\n",
      "Loading 30 neurons with 441 synapses and 0 gap junctions\n",
      "Running simulation for 3.0 s\n",
      "Running simulation for 3.0 s\n",
      "Running simulation for 3.0 s\n",
      "Running simulation for 3.0 s\n",
      "1% done. Elapsed: 12.3 s, estimated time left: 1218.3 s\n",
      "9% done. Elapsed: 112.9 s, estimated time left: 1141.2 s\n",
      "17% done. Elapsed: 214.5 s, estimated time left: 1047.2 s\n",
      "25% done. Elapsed: 327.7 s, estimated time left: 983.0 s\n",
      "33% done. Elapsed: 438.7 s, estimated time left: 890.7 s\n",
      "39% done. Elapsed: 544.0 s, estimated time left: 850.9 s\n",
      "46% done. Elapsed: 650.8 s, estimated time left: 764.0 s\n",
      "53% done. Elapsed: 757.7 s, estimated time left: 671.9 s\n",
      "59% done. Elapsed: 862.1 s, estimated time left: 599.1 s\n",
      "65% done. Elapsed: 967.7 s, estimated time left: 521.1 s\n",
      "71% done. Elapsed: 1077.6 s, estimated time left: 440.2 s\n",
      "77% done. Elapsed: 1192.4 s, estimated time left: 356.2 s\n",
      "83% done. Elapsed: 1304.2 s, estimated time left: 267.1 s\n",
      "89% done. Elapsed: 1416.1 s, estimated time left: 175.0 s\n",
      "95% done. Elapsed: 1519.7 s, estimated time left: 80.0 s\n",
      "Simulation run time: 1607.3 s\n",
      "Writing spike times to Dopamine-delays-network/simulation/network-output-spikes-Dopamine-delays9-network.txt\n",
      "Simulation run time: 1607.3 s\n",
      "Simulation run time: 1607.6 s\n",
      "Writing spike times to Dopamine-delays-network/simulation/network-output-spikes-Dopamine-delays9-network.txt\n",
      "Simulation run time: 1607.4 s\n",
      "Writing spike times to Dopamine-delays-network/simulation/network-output-spikes-Dopamine-delays9-network.txt\n",
      "Writing spike times to Dopamine-delays-network/simulation/network-output-spikes-Dopamine-delays9-network.txt\n",
      "/home/jofrony/miniconda3/envs/py37/lib/python3.7/site-packages/bluepyopt/ephys/simulators.py:74: UserWarning: Unable to find Neuron hoc shared library in /usr/local/nrn/lib/python/neuron, not disabling banner\n",
      "  'not disabling banner' % nrnpy_path)\n",
      "/home/jofrony/miniconda3/envs/py37/lib/python3.7/site-packages/bluepyopt/ephys/simulators.py:74: UserWarning: Unable to find Neuron hoc shared library in /usr/local/nrn/lib/python/neuron, not disabling banner\n",
      "  'not disabling banner' % nrnpy_path)\n",
      "/home/jofrony/miniconda3/envs/py37/lib/python3.7/site-packages/bluepyopt/ephys/simulators.py:74: UserWarning: Unable to find Neuron hoc shared library in /usr/local/nrn/lib/python/neuron, not disabling banner\n",
      "  'not disabling banner' % nrnpy_path)\n",
      "/home/jofrony/miniconda3/envs/py37/lib/python3.7/site-packages/bluepyopt/ephys/simulators.py:74: UserWarning: Unable to find Neuron hoc shared library in /usr/local/nrn/lib/python/neuron, not disabling banner\n",
      "  'not disabling banner' % nrnpy_path)\n",
      "Program run time: 1612.7568553709862\n",
      "\u001b[0m\u001b[0m\u001b[0m\u001b[0m"
     ]
    }
   ],
   "source": [
    "network_name = 'Dopamine-delays-network'\n",
    "modulations = '../../network_parameters/modulation/dopamine_alpha_delay9.json'\n",
    "duration = 3000\n",
    "simulation_name = 'Dopamine-delays9-network'\n",
    "\n",
    "!mpiexec -n 4 python simulation.py $network_name $modulations $duration $simulation_name "
   ]
  },
  {
   "cell_type": "code",
   "execution_count": 16,
   "metadata": {},
   "outputs": [
    {
     "name": "stdout",
     "output_type": "stream",
     "text": [
      "numprocs=4\n",
      "Loading 30 neurons with 441 synapses and 0 gap junctions\n",
      "Loading 30 neurons with 441 synapses and 0 gap junctions\n",
      "Loading 30 neurons with 441 synapses and 0 gap junctions\n",
      "Loading 30 neurons with 441 synapses and 0 gap junctions\n",
      "Loading 30 neurons with 441 synapses and 0 gap junctions\n",
      "Loading 30 neurons with 441 synapses and 0 gap junctions\n",
      "Loading 30 neurons with 441 synapses and 0 gap junctions\n",
      "Loading 30 neurons with 441 synapses and 0 gap junctions\n",
      "Running simulation for 3.0 s\n",
      "Running simulation for 3.0 s\n",
      "Running simulation for 3.0 s\n",
      "Running simulation for 3.0 s\n",
      "1% done. Elapsed: 11.9 s, estimated time left: 1181.2 s\n",
      "9% done. Elapsed: 114.9 s, estimated time left: 1161.4 s\n",
      "17% done. Elapsed: 224.4 s, estimated time left: 1095.5 s\n",
      "25% done. Elapsed: 329.3 s, estimated time left: 988.0 s\n",
      "32% done. Elapsed: 430.3 s, estimated time left: 914.5 s\n",
      "39% done. Elapsed: 531.2 s, estimated time left: 830.9 s\n",
      "47% done. Elapsed: 637.6 s, estimated time left: 719.0 s\n",
      "55% done. Elapsed: 745.6 s, estimated time left: 610.1 s\n",
      "63% done. Elapsed: 852.9 s, estimated time left: 500.9 s\n",
      "70% done. Elapsed: 962.5 s, estimated time left: 412.5 s\n",
      "77% done. Elapsed: 1064.6 s, estimated time left: 318.0 s\n",
      "85% done. Elapsed: 1177.1 s, estimated time left: 207.7 s\n",
      "93% done. Elapsed: 1289.4 s, estimated time left: 97.0 s\n",
      "Simulation run time: 1388.3 s\n",
      "Writing spike times to Dopamine-delays-network/simulation/network-output-spikes-Dopamine-delays10-network.txt\n",
      "Simulation run time: 1388.0 s\n",
      "Writing spike times to Dopamine-delays-network/simulation/network-output-spikes-Dopamine-delays10-network.txt\n",
      "Simulation run time: 1388.2 s\n",
      "Writing spike times to Dopamine-delays-network/simulation/network-output-spikes-Dopamine-delays10-network.txt\n",
      "Simulation run time: 1387.8 s\n",
      "Writing spike times to Dopamine-delays-network/simulation/network-output-spikes-Dopamine-delays10-network.txt\n",
      "/home/jofrony/miniconda3/envs/py37/lib/python3.7/site-packages/bluepyopt/ephys/simulators.py:74: UserWarning: Unable to find Neuron hoc shared library in /usr/local/nrn/lib/python/neuron, not disabling banner\n",
      "  'not disabling banner' % nrnpy_path)\n",
      "/home/jofrony/miniconda3/envs/py37/lib/python3.7/site-packages/bluepyopt/ephys/simulators.py:74: UserWarning: Unable to find Neuron hoc shared library in /usr/local/nrn/lib/python/neuron, not disabling banner\n",
      "  'not disabling banner' % nrnpy_path)\n",
      "/home/jofrony/miniconda3/envs/py37/lib/python3.7/site-packages/bluepyopt/ephys/simulators.py:74: UserWarning: Unable to find Neuron hoc shared library in /usr/local/nrn/lib/python/neuron, not disabling banner\n",
      "  'not disabling banner' % nrnpy_path)\n",
      "/home/jofrony/miniconda3/envs/py37/lib/python3.7/site-packages/bluepyopt/ephys/simulators.py:74: UserWarning: Unable to find Neuron hoc shared library in /usr/local/nrn/lib/python/neuron, not disabling banner\n",
      "  'not disabling banner' % nrnpy_path)\n",
      "Program run time: 1393.3306471960095\n",
      "\u001b[0m\u001b[0m\u001b[0m\u001b[0m"
     ]
    }
   ],
   "source": [
    "network_name = 'Dopamine-delays-network'\n",
    "modulations = '../../network_parameters/modulation/dopamine_alpha_delay10.json'\n",
    "duration = 3000\n",
    "simulation_name = 'Dopamine-delays10-network'\n",
    "\n",
    "!mpiexec -n 4 python simulation.py $network_name $modulations $duration $simulation_name "
   ]
  },
  {
   "cell_type": "code",
   "execution_count": 20,
   "metadata": {},
   "outputs": [
    {
     "name": "stdout",
     "output_type": "stream",
     "text": [
      "numprocs=4\n",
      "Loading 30 neurons with 441 synapses and 0 gap junctions\n",
      "Loading 30 neurons with 441 synapses and 0 gap junctions\n",
      "Loading 30 neurons with 441 synapses and 0 gap junctions\n",
      "Loading 30 neurons with 441 synapses and 0 gap junctions\n",
      "Loading 30 neurons with 441 synapses and 0 gap junctions\n",
      "Loading 30 neurons with 441 synapses and 0 gap junctions\n",
      "Loading 30 neurons with 441 synapses and 0 gap junctions\n",
      "Loading 30 neurons with 441 synapses and 0 gap junctions\n",
      "Running simulation for 3.0 s\n",
      "Running simulation for 3.0 s\n",
      "Running simulation for 3.0 s\n",
      "Running simulation for 3.0 s\n",
      "1% done. Elapsed: 16.3 s, estimated time left: 1614.0 s\n",
      "8% done. Elapsed: 116.6 s, estimated time left: 1341.3 s\n"
     ]
    }
   ],
   "source": [
    "network_name = 'Dopamine-delays-network'\n",
    "modulations = '../../network_parameters/modulation/dopamine_alpha_delay11.json'\n",
    "duration = 3000\n",
    "simulation_name = 'Dopamine-delays11-network'\n",
    "\n",
    "!mpiexec -n 4 python simulation.py $network_name $modulations $duration $simulation_name "
   ]
  },
  {
   "cell_type": "code",
   "execution_count": 15,
   "metadata": {},
   "outputs": [
    {
     "name": "stdout",
     "output_type": "stream",
     "text": [
      "numprocs=4\n",
      "Loading 30 neurons with 441 synapses and 0 gap junctions\n",
      "Loading 30 neurons with 441 synapses and 0 gap junctions\n",
      "Loading 30 neurons with 441 synapses and 0 gap junctions\n",
      "Loading 30 neurons with 441 synapses and 0 gap junctions\n",
      "Loading 30 neurons with 441 synapses and 0 gap junctions\n",
      "Loading 30 neurons with 441 synapses and 0 gap junctions\n",
      "Loading 30 neurons with 441 synapses and 0 gap junctions\n",
      "Loading 30 neurons with 441 synapses and 0 gap junctions\n",
      "Running simulation for 3.0 s\n",
      "Running simulation for 3.0 s\n",
      "Running simulation for 3.0 s\n",
      "Running simulation for 3.0 s\n",
      "1% done. Elapsed: 12.8 s, estimated time left: 1270.0 s\n",
      "9% done. Elapsed: 117.7 s, estimated time left: 1190.6 s\n",
      "16% done. Elapsed: 218.9 s, estimated time left: 1149.3 s\n",
      "24% done. Elapsed: 327.5 s, estimated time left: 1037.2 s\n",
      "32% done. Elapsed: 439.3 s, estimated time left: 933.5 s\n",
      "40% done. Elapsed: 544.0 s, estimated time left: 816.0 s\n",
      "48% done. Elapsed: 644.8 s, estimated time left: 698.5 s\n",
      "57% done. Elapsed: 755.4 s, estimated time left: 569.8 s\n",
      "65% done. Elapsed: 861.8 s, estimated time left: 464.1 s\n",
      "73% done. Elapsed: 965.1 s, estimated time left: 357.0 s\n",
      "81% done. Elapsed: 1073.1 s, estimated time left: 251.7 s\n",
      "89% done. Elapsed: 1179.8 s, estimated time left: 145.8 s\n",
      "97% done. Elapsed: 1285.9 s, estimated time left: 39.8 s\n",
      "Simulation run time: 1324.6 s\n",
      "Writing spike times to Dopamine-delays-network/simulation/network-output-spikes-Dopamine-control-network.txt\n",
      "Simulation run time: 1324.6 s\n",
      "Writing spike times to Dopamine-delays-network/simulation/network-output-spikes-Dopamine-control-network.txt\n",
      "Simulation run time: 1324.3 s\n",
      "Writing spike times to Dopamine-delays-network/simulation/network-output-spikes-Dopamine-control-network.txt\n",
      "Simulation run time: 1324.1 s\n",
      "Writing spike times to Dopamine-delays-network/simulation/network-output-spikes-Dopamine-control-network.txt\n",
      "/home/jofrony/miniconda3/envs/py37/lib/python3.7/site-packages/bluepyopt/ephys/simulators.py:74: UserWarning: Unable to find Neuron hoc shared library in /usr/local/nrn/lib/python/neuron, not disabling banner\n",
      "  'not disabling banner' % nrnpy_path)\n",
      "/home/jofrony/miniconda3/envs/py37/lib/python3.7/site-packages/bluepyopt/ephys/simulators.py:74: UserWarning: Unable to find Neuron hoc shared library in /usr/local/nrn/lib/python/neuron, not disabling banner\n",
      "  'not disabling banner' % nrnpy_path)\n",
      "/home/jofrony/miniconda3/envs/py37/lib/python3.7/site-packages/bluepyopt/ephys/simulators.py:74: UserWarning: Unable to find Neuron hoc shared library in /usr/local/nrn/lib/python/neuron, not disabling banner\n",
      "  'not disabling banner' % nrnpy_path)\n",
      "/home/jofrony/miniconda3/envs/py37/lib/python3.7/site-packages/bluepyopt/ephys/simulators.py:74: UserWarning: Unable to find Neuron hoc shared library in /usr/local/nrn/lib/python/neuron, not disabling banner\n",
      "  'not disabling banner' % nrnpy_path)\n",
      "Program run time: 1330.0124805629894\n",
      "\u001b[0m\u001b[0m\u001b[0m\u001b[0m"
     ]
    }
   ],
   "source": [
    "network_name = 'Dopamine-delays-network'\n",
    "modulations = '../../network_parameters/modulation/dopamine_control.json'\n",
    "duration = 3000\n",
    "simulation_name = 'Dopamine-control-network'\n",
    "\n",
    "!mpiexec -n 4 python simulation.py $network_name $modulations $duration $simulation_name "
   ]
  },
  {
   "cell_type": "code",
   "execution_count": null,
   "metadata": {},
   "outputs": [],
   "source": []
  }
 ],
 "metadata": {
  "kernelspec": {
   "display_name": "Python 3",
   "language": "python",
   "name": "python3"
  },
  "language_info": {
   "codemirror_mode": {
    "name": "ipython",
    "version": 3
   },
   "file_extension": ".py",
   "mimetype": "text/x-python",
   "name": "python",
   "nbconvert_exporter": "python",
   "pygments_lexer": "ipython3",
   "version": "3.7.9"
  }
 },
 "nbformat": 4,
 "nbformat_minor": 4
}
