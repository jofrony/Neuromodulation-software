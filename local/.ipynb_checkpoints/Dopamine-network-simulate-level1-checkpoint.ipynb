{
 "cells": [
  {
   "cell_type": "markdown",
   "metadata": {},
   "source": [
    "# Simulate the striatum - DA"
   ]
  },
  {
   "cell_type": "code",
   "execution_count": 1,
   "metadata": {},
   "outputs": [
    {
     "name": "stdout",
     "output_type": "stream",
     "text": [
      "/home/jofrony/Documents/Repositories/BasalGangliaExperiments/Neuromodulation-software/local/Experiment-Simulation\n"
     ]
    }
   ],
   "source": [
    "%cd Experiment-Simulation"
   ]
  },
  {
   "cell_type": "code",
   "execution_count": null,
   "metadata": {},
   "outputs": [],
   "source": [
    "!nrnivmodl ../renamed_mod_files/"
   ]
  },
  {
   "cell_type": "code",
   "execution_count": 4,
   "metadata": {},
   "outputs": [
    {
     "name": "stdout",
     "output_type": "stream",
     "text": [
      "Writing spikes to Dopamine-network/input-spikes.hdf5\n"
     ]
    }
   ],
   "source": [
    "import os\n",
    "from snudda.input import SnuddaInput\n",
    "\n",
    "network_path = 'Dopamine-network'\n",
    "import os\n",
    "os.environ[\"SNUDDA_DATA\"] = '/home/jofrony/Documents/Repositories/BasalGangliaExperiments/Neuromodulation-software/network_parameters/'\n",
    "\n",
    "si = SnuddaInput(network_path=network_path, \n",
    "                 input_config_file=os.path.join('../../network_parameters/',\"external_input\",\"external-input-dSTR-scaled-level1-modulation.json\"),\n",
    "                 verbose=False)\n",
    "si.generate()"
   ]
  },
  {
   "cell_type": "code",
   "execution_count": 6,
   "metadata": {},
   "outputs": [
    {
     "name": "stdout",
     "output_type": "stream",
     "text": [
      "Writing spikes to Dopamine-receptor-network/input-spikes.hdf5\n"
     ]
    }
   ],
   "source": [
    "import os\n",
    "from snudda.input import SnuddaInput\n",
    "\n",
    "network_path = 'Dopamine-receptor-network'\n",
    "import os\n",
    "os.environ[\"SNUDDA_DATA\"] = '/home/jofrony/Documents/Repositories/BasalGangliaExperiments/Neuromodulation-software/network_parameters/'\n",
    "\n",
    "si = SnuddaInput(network_path=network_path, \n",
    "                 input_config_file=os.path.join('../../network_parameters/',\"external_input\",\"external-input-dSTR-scaled-level1-modulation.json\"),\n",
    "                 verbose=False)\n",
    "si.generate()"
   ]
  },
  {
   "cell_type": "code",
   "execution_count": 9,
   "metadata": {},
   "outputs": [],
   "source": [
    "network_name = 'Dopamine-network'\n",
    "modulations = '../../network_parameters/modulation/dopamine_alpha_transient.json'\n",
    "duration = 3000\n",
    "simulation_name = 'DA-network-level1'"
   ]
  },
  {
   "cell_type": "code",
   "execution_count": 8,
   "metadata": {},
   "outputs": [
    {
     "name": "stdout",
     "output_type": "stream",
     "text": [
      "numprocs=4\n",
      "Traceback (most recent call last):\n",
      "  File \"simulation.py\", line 14, in <module>\n",
      "    neuromodulation = json.load(open(sys.argv[2],'r'))\n",
      "FileNotFoundError: [Errno 2] No such file or directory: 'modulation/dopamine_alpha_transient.json'\n",
      "Traceback (most recent call last):\n",
      "  File \"simulation.py\", line 14, in <module>\n",
      "    neuromodulation = json.load(open(sys.argv[2],'r'))\n",
      "FileNotFoundError: [Errno 2] No such file or directory: 'modulation/dopamine_alpha_transient.json'\n",
      "\u001b[0m\u001b[0mTraceback (most recent call last):\n",
      "  File \"simulation.py\", line 14, in <module>\n",
      "    neuromodulation = json.load(open(sys.argv[2],'r'))\n",
      "FileNotFoundError: [Errno 2] No such file or directory: 'modulation/dopamine_alpha_transient.json'\n",
      "\u001b[0mTraceback (most recent call last):\n",
      "  File \"simulation.py\", line 14, in <module>\n",
      "    neuromodulation = json.load(open(sys.argv[2],'r'))\n",
      "FileNotFoundError: [Errno 2] No such file or directory: 'modulation/dopamine_alpha_transient.json'\n",
      "\u001b[0m-------------------------------------------------------\n",
      "Primary job  terminated normally, but 1 process returned\n",
      "a non-zero exit code.. Per user-direction, the job has been aborted.\n",
      "-------------------------------------------------------\n",
      "--------------------------------------------------------------------------\n",
      "mpiexec detected that one or more processes exited with non-zero status, thus causing\n",
      "the job to be terminated. The first process to do so was:\n",
      "\n",
      "  Process name: [[42396,1],3]\n",
      "  Exit code:    1\n",
      "--------------------------------------------------------------------------\n"
     ]
    }
   ],
   "source": [
    "!mpiexec -n 4 python simulation.py $network_name $modulations $duration $simulation_name "
   ]
  },
  {
   "cell_type": "code",
   "execution_count": null,
   "metadata": {},
   "outputs": [],
   "source": []
  },
  {
   "cell_type": "code",
   "execution_count": null,
   "metadata": {},
   "outputs": [],
   "source": [
    "network_name = 'Dopamine-network'\n",
    "modulations = 'modulation/dopamine_control.json'\n",
    "duration = 3000\n",
    "simulation_name = 'DA-network-control'"
   ]
  },
  {
   "cell_type": "code",
   "execution_count": null,
   "metadata": {},
   "outputs": [],
   "source": [
    "!mpiexec -n 4 python simulation.py $network_name $modulations $duration $simulation_name "
   ]
  },
  {
   "cell_type": "code",
   "execution_count": null,
   "metadata": {},
   "outputs": [],
   "source": []
  }
 ],
 "metadata": {
  "kernelspec": {
   "display_name": "Python 3",
   "language": "python",
   "name": "python3"
  },
  "language_info": {
   "codemirror_mode": {
    "name": "ipython",
    "version": 3
   },
   "file_extension": ".py",
   "mimetype": "text/x-python",
   "name": "python",
   "nbconvert_exporter": "python",
   "pygments_lexer": "ipython3",
   "version": "3.7.9"
  }
 },
 "nbformat": 4,
 "nbformat_minor": 4
}
