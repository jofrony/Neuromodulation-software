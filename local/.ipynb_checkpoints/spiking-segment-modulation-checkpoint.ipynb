{
 "cells": [
  {
   "cell_type": "code",
   "execution_count": 44,
   "metadata": {},
   "outputs": [],
   "source": [
    "import neuron\n",
    "neuron.h.load_file('stdrun.hoc')\n",
    "import numpy as np\n",
    "import matplotlib.pyplot as plt"
   ]
  },
  {
   "cell_type": "code",
   "execution_count": null,
   "metadata": {},
   "outputs": [],
   "source": [
    "!nrnivmodl mechanisms-modulation-ptr"
   ]
  },
  {
   "cell_type": "code",
   "execution_count": 45,
   "metadata": {},
   "outputs": [],
   "source": [
    "soma=neuron.h.Section(name='soma')\n",
    "soma.nseg=1"
   ]
  },
  {
   "cell_type": "code",
   "execution_count": 46,
   "metadata": {},
   "outputs": [],
   "source": [
    "soma.insert(\"naf_ms_ptr\")\n",
    "soma.insert(\"pas\")\n",
    "soma.g_pas = 1e-5\n",
    "soma.gbar_naf_ms_ptr = 1e-3"
   ]
  },
  {
   "cell_type": "code",
   "execution_count": 47,
   "metadata": {},
   "outputs": [
    {
     "data": {
      "text/plain": [
       "Vector[118]"
      ]
     },
     "execution_count": 47,
     "metadata": {},
     "output_type": "execute_result"
    }
   ],
   "source": [
    "vSave = neuron.h.Vector()\n",
    "vSave.record(soma(0.5)._ref_v)"
   ]
  },
  {
   "cell_type": "code",
   "execution_count": 48,
   "metadata": {},
   "outputs": [],
   "source": [
    "import numpy as np\n",
    "\n",
    "ExtrinsicSpikeTimesA = list()\n",
    "for k in range(10):\n",
    "\n",
    "    ExtrinsicSpikeTimesA.append(neuron.h.Vector([100,300,2000,3000,3500]))\n",
    "    \n",
    "ExtrinsicSpikeTimesD = list()\n",
    "for k in range(10):\n",
    "\n",
    "    ExtrinsicSpikeTimesD.append(neuron.h.Vector([300,3000,3500,5000]))"
   ]
  },
  {
   "cell_type": "code",
   "execution_count": 55,
   "metadata": {},
   "outputs": [],
   "source": [
    "Syn_list = list()\n",
    "ACh_synapse = list()\n",
    "Syn_record = list()\n",
    "for i,seg in enumerate(soma):\n",
    "\n",
    "    synACh = neuron.h.concACh(seg)\n",
    "    synDA = neuron.h.concDA(seg)\n",
    "    \n",
    "    channelSaveACh = neuron.h.Vector()\n",
    "    channelSaveACh.record(synACh._ref_concentration)\n",
    "    \n",
    "    channelSaveDA = neuron.h.Vector()\n",
    "    channelSaveDA.record(synDA._ref_concentration)\n",
    "    \n",
    "    Syn_record.append(channelSaveACh)\n",
    "    Syn_record.append(channelSaveDA)\n",
    "    \n",
    "    Syn_list.append(synACh)\n",
    "    Syn_list.append(synDA)\n",
    "    \n",
    "    \n",
    "    neuron.h.setpointer(synACh._ref_concentration,'levelACh',seg.naf_ms_ptr)\n",
    "    neuron.h.setpointer(synDA._ref_concentration,'levelDA',seg.naf_ms_ptr)\n",
    "    \n",
    "    for k in range(len(ExtrinsicSpikeTimesA)):\n",
    "        VecStimA = neuron.h.VecStim()\n",
    "\n",
    "        VecStimA.play(ExtrinsicSpikeTimesA[k])\n",
    "        ncToSynapseA = neuron.h.NetCon(VecStimA,synACh)\n",
    "        \n",
    "        ncToSynapseA.delay=1\n",
    "        ncToSynapseA.threshold=0\n",
    "        ncToSynapseA.weight[i]=1\n",
    "        ACh_synapse.append([synACh,ncToSynapseA,VecStimA])\n",
    "\n",
    "       \n",
    "        \n",
    "        VecStimD = neuron.h.VecStim()\n",
    "\n",
    "        VecStimD.play(ExtrinsicSpikeTimesD[k])\n",
    "        \n",
    "        ncToSynapseD = neuron.h.NetCon(VecStimD,synDA)\n",
    "        \n",
    "        ncToSynapseD.delay=1\n",
    "        ncToSynapseD.threshold=0\n",
    "        ncToSynapseD.weight[i]=1\n",
    "        ACh_synapse.append([synDA,ncToSynapseD,VecStimD])\n",
    "        \n",
    "    channelSave = neuron.h.Vector()\n",
    "    channelSave.record(seg._ref_ina_naf_ms_ptr)\n",
    "    Syn_record.append(channelSave)\n",
    "        \n",
    "    \n",
    "\n"
   ]
  },
  {
   "cell_type": "code",
   "execution_count": 142,
   "metadata": {},
   "outputs": [],
   "source": [
    "segment_modulation = {\"soma(0.166667)\" : [50, 1, True],\\\n",
    "                     \"soma(0.5)\" : [50, 1, True],\\\n",
    "                     \"soma(0.833333)\": [50, 1, True] }"
   ]
  },
  {
   "cell_type": "code",
   "execution_count": 143,
   "metadata": {},
   "outputs": [
    {
     "name": "stdout",
     "output_type": "stream",
     "text": [
      "soma(0.166667)\n",
      "soma(0.5)\n",
      "soma(0.833333)\n"
     ]
    }
   ],
   "source": [
    "for seg in soma:\n",
    "    print(str(seg))\n",
    "    seg.maxModA_na_ch_p = segment_modulation[str(seg)][0]\n",
    "    seg.modA_na_ch_p = segment_modulation[str(seg)][1]\n",
    "\n",
    "neuron.h.tstop = 4000"
   ]
  },
  {
   "cell_type": "code",
   "execution_count": null,
   "metadata": {},
   "outputs": [],
   "source": [
    "segment_modulation = {\"soma(0.166667)\" : [50, 1, True],\\\n",
    "                     \"soma(0.5)\" : [50, 1, True],\\\n",
    "                     \"soma(0.833333)\": [50, 1, True] }\n",
    "\n",
    "for seg in soma:\n",
    "    print(str(seg))\n",
    "    seg.maxModA_na_ch_p = segment_modulation[str(seg)][0]\n",
    "    seg.modA_na_ch_p = segment_modulation[str(seg)][1]\n",
    "\n",
    "neuron.h.tstop = 4000"
   ]
  },
  {
   "cell_type": "code",
   "execution_count": 56,
   "metadata": {},
   "outputs": [
    {
     "name": "stdout",
     "output_type": "stream",
     "text": [
      "soma { nseg=1  L=100  Ra=35.4\n",
      "\t/*location 0 attached to cell 0*/\n",
      "\t/* First segment only */\n",
      "\tinsert morphology { diam=500}\n",
      "\tinsert capacitance { cm=1}\n",
      "\tinsert naf_ms_ptr { gbar_naf_ms_ptr=0.001 modDA_naf_ms_ptr=0 maxModDA_naf_ms_ptr=1 modACh_naf_ms_ptr=0 maxModACh_naf_ms_ptr=1}\n",
      "\tinsert na_ion { ena=50}\n",
      "\tinsert pas { g_pas=1e-05 e_pas=-70}\n",
      "\tinsert concACh { tau1=400 tau2=300 concentration=4.5e-05}\n",
      "\tinsert concDA { tau1=400 tau2=300 amplitude=1 concentration=1}\n",
      "}\n"
     ]
    },
    {
     "data": {
      "text/plain": [
       "1.0"
      ]
     },
     "execution_count": 56,
     "metadata": {},
     "output_type": "execute_result"
    }
   ],
   "source": [
    "neuron.h.psection(sec=soma)"
   ]
  },
  {
   "cell_type": "code",
   "execution_count": 57,
   "metadata": {},
   "outputs": [],
   "source": [
    "neuron.h.tstop = 6000"
   ]
  },
  {
   "cell_type": "code",
   "execution_count": 58,
   "metadata": {},
   "outputs": [
    {
     "data": {
      "text/plain": [
       "0.0"
      ]
     },
     "execution_count": 58,
     "metadata": {},
     "output_type": "execute_result"
    }
   ],
   "source": [
    "neuron.h.run()"
   ]
  },
  {
   "cell_type": "code",
   "execution_count": 59,
   "metadata": {},
   "outputs": [
    {
     "data": {
      "image/png": "[encoded data removed]",
      "text/plain": [
       "<Figure size 432x288 with 1 Axes>"
      ]
     },
     "metadata": {
      "needs_background": "light"
     },
     "output_type": "display_data"
    },
    {
     "data": {
      "image/png": "[encoded data removed]",
      "text/plain": [
       "<Figure size 432x288 with 1 Axes>"
      ]
     },
     "metadata": {
      "needs_background": "light"
     },
     "output_type": "display_data"
    },
    {
     "data": {
      "image/png": "[encoded data removed]",
      "text/plain": [
       "<Figure size 432x288 with 1 Axes>"
      ]
     },
     "metadata": {
      "needs_background": "light"
     },
     "output_type": "display_data"
    }
   ],
   "source": [
    "\n",
    "\n",
    "for i,channels in enumerate(Syn_record):\n",
    "    f, ax = plt.subplots()\n",
    "    ax.plot(np.arange(len(channels))[100:]*0.025*1e-3,np.array(channels)[100:])\n",
    "plt.ylabel('Modulation')\n",
    "plt.yticks([])\n",
    "plt.xlabel('Time (s)')\n",
    "plt.savefig('conc_example.svg')\n",
    "plt.show()"
   ]
  },
  {
   "cell_type": "code",
   "execution_count": 54,
   "metadata": {},
   "outputs": [
    {
     "data": {
      "image/png": "[encoded data removed]",
      "text/plain": [
       "<Figure size 432x288 with 1 Axes>"
      ]
     },
     "metadata": {
      "needs_background": "light"
     },
     "output_type": "display_data"
    }
   ],
   "source": [
    "plt.plot(vSave)\n",
    "plt.show()"
   ]
  },
  {
   "cell_type": "code",
   "execution_count": null,
   "metadata": {},
   "outputs": [],
   "source": []
  },
  {
   "cell_type": "code",
   "execution_count": null,
   "metadata": {},
   "outputs": [],
   "source": []
  },
  {
   "cell_type": "code",
   "execution_count": null,
   "metadata": {},
   "outputs": [],
   "source": []
  },
  {
   "cell_type": "code",
   "execution_count": null,
   "metadata": {},
   "outputs": [],
   "source": []
  },
  {
   "cell_type": "code",
   "execution_count": null,
   "metadata": {},
   "outputs": [],
   "source": []
  }
 ],
 "metadata": {
  "kernelspec": {
   "display_name": "Python 3",
   "language": "python",
   "name": "python3"
  },
  "language_info": {
   "codemirror_mode": {
    "name": "ipython",
    "version": 3
   },
   "file_extension": ".py",
   "mimetype": "text/x-python",
   "name": "python",
   "nbconvert_exporter": "python",
   "pygments_lexer": "ipython3",
   "version": "3.7.9"
  }
 },
 "nbformat": 4,
 "nbformat_minor": 4
}
