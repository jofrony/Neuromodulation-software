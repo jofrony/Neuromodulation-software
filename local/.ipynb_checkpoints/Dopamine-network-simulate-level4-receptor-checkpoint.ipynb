{
 "cells": [
  {
   "cell_type": "markdown",
   "metadata": {},
   "source": [
    "# Simulate the striatum - DA"
   ]
  },
  {
   "cell_type": "code",
   "execution_count": 1,
   "metadata": {},
   "outputs": [
    {
     "name": "stdout",
     "output_type": "stream",
     "text": [
      "/home/jofrony/Documents/Repositories/BasalGangliaExperiments/Neuromodulation-software/Experiment-Simulation\n"
     ]
    }
   ],
   "source": [
    "%cd Experiment-Simulation"
   ]
  },
  {
   "cell_type": "code",
   "execution_count": null,
   "metadata": {},
   "outputs": [],
   "source": [
    "!nrnivmodl ../renamed_mod_files/"
   ]
  },
  {
   "cell_type": "code",
   "execution_count": 2,
   "metadata": {},
   "outputs": [
    {
     "name": "stdout",
     "output_type": "stream",
     "text": [
      "Writing spikes to Dopamine-network/input-spikes.hdf5\n"
     ]
    }
   ],
   "source": [
    "import os\n",
    "from snudda.input import SnuddaInput\n",
    "\n",
    "network_path = 'Dopamine-network'\n",
    "\n",
    "si = SnuddaInput(network_path=network_path, \n",
    "                 input_config_file=os.path.join(\"external_input\",\"external-input-dSTR-scaled-level4.json\"),\n",
    "                 verbose=False)\n",
    "si.generate()"
   ]
  },
  {
   "cell_type": "code",
   "execution_count": null,
   "metadata": {},
   "outputs": [],
   "source": []
  },
  {
   "cell_type": "code",
   "execution_count": 3,
   "metadata": {},
   "outputs": [],
   "source": [
    "network_name = 'Dopamine-network'\n",
    "modulations = 'modulation/dopamine_alpha_transient.json'\n",
    "duration = 3000\n",
    "simulation_name = 'DA-network-level4'"
   ]
  },
  {
   "cell_type": "code",
   "execution_count": 4,
   "metadata": {},
   "outputs": [
    {
     "name": "stdout",
     "output_type": "stream",
     "text": [
      "numprocs=4\n",
      "Expected 0 gap junctions, found 10000 gap junction rows\n",
      "Expected 0 gap junctions, found 10000 gap junction rows\n",
      "Loading 21 neurons with 165 synapses and 0 gap junctions\n",
      "Loading 21 neurons with 165 synapses and 0 gap junctions\n",
      "Expected 0 gap junctions, found 10000 gap junction rows\n",
      "Expected 0 gap junctions, found 10000 gap junction rows\n",
      "Expected 0 gap junctions, found 10000 gap junction rows\n",
      "Expected 0 gap junctions, found 10000 gap junction rows\n",
      "Loading 21 neurons with 165 synapses and 0 gap junctions\n",
      "Loading 21 neurons with 165 synapses and 0 gap junctions\n",
      "Loading 21 neurons with 165 synapses and 0 gap junctions\n",
      "Expected 0 gap junctions, found 10000 gap junction rows\n",
      "Loading 21 neurons with 165 synapses and 0 gap junctions\n",
      "Expected 0 gap junctions, found 10000 gap junction rows\n",
      "Loading 21 neurons with 165 synapses and 0 gap junctions\n",
      "Loading 21 neurons with 165 synapses and 0 gap junctions\n",
      "Running simulation for 3.0 s\n",
      "Running simulation for 3.0 s\n",
      "Running simulation for 3.0 s\n",
      "Running simulation for 3.0 s\n",
      "1% done. Elapsed: 8.3 s, estimated time left: 825.6 s\n",
      "12% done. Elapsed: 112.0 s, estimated time left: 821.7 s\n",
      "23% done. Elapsed: 217.5 s, estimated time left: 728.2 s\n",
      "34% done. Elapsed: 323.7 s, estimated time left: 628.4 s\n",
      "44% done. Elapsed: 430.5 s, estimated time left: 547.9 s\n",
      "54% done. Elapsed: 534.5 s, estimated time left: 455.3 s\n",
      "65% done. Elapsed: 644.7 s, estimated time left: 347.2 s\n",
      "76% done. Elapsed: 753.1 s, estimated time left: 237.8 s\n",
      "87% done. Elapsed: 862.0 s, estimated time left: 128.8 s\n",
      "98% done. Elapsed: 970.1 s, estimated time left: 19.8 s\n",
      "Simulation run time: 990.1 s\n",
      "Simulation run time: 989.1 s\n",
      "Simulation run time: 990.0 s\n",
      "Writing spike times to Dopamine-network/simulation/network-output-spikes-DA-network-level4.txt\n",
      "Simulation run time: 989.9 s\n",
      "Writing spike times to Dopamine-network/simulation/network-output-spikes-DA-network-level4.txt\n",
      "Writing spike times to Dopamine-network/simulation/network-output-spikes-DA-network-level4.txt\n",
      "Writing spike times to Dopamine-network/simulation/network-output-spikes-DA-network-level4.txt\n",
      "/home/jofrony/miniconda3/envs/py37/lib/python3.7/site-packages/bluepyopt/ephys/simulators.py:74: UserWarning: Unable to find Neuron hoc shared library in /usr/local/nrn/lib/python/neuron, not disabling banner\n",
      "  'not disabling banner' % nrnpy_path)\n",
      "/home/jofrony/miniconda3/envs/py37/lib/python3.7/site-packages/bluepyopt/ephys/simulators.py:74: UserWarning: Unable to find Neuron hoc shared library in /usr/local/nrn/lib/python/neuron, not disabling banner\n",
      "  'not disabling banner' % nrnpy_path)\n",
      "/home/jofrony/miniconda3/envs/py37/lib/python3.7/site-packages/bluepyopt/ephys/simulators.py:74: UserWarning: Unable to find Neuron hoc shared library in /usr/local/nrn/lib/python/neuron, not disabling banner\n",
      "  'not disabling banner' % nrnpy_path)\n",
      "/home/jofrony/miniconda3/envs/py37/lib/python3.7/site-packages/bluepyopt/ephys/simulators.py:74: UserWarning: Unable to find Neuron hoc shared library in /usr/local/nrn/lib/python/neuron, not disabling banner\n",
      "  'not disabling banner' % nrnpy_path)\n",
      "Program run time: 995.0017188629936\n",
      "\u001b[0m\u001b[0m\u001b[0m\u001b[0m"
     ]
    }
   ],
   "source": [
    "!mpiexec -n 4 python simulation.py $network_name $modulations $duration $simulation_name "
   ]
  },
  {
   "cell_type": "code",
   "execution_count": null,
   "metadata": {},
   "outputs": [],
   "source": [
    "network_name = 'Dopamine-network'\n",
    "modulations = 'modulation/dopamine_control.json'\n",
    "duration = 3000\n",
    "simulation_name = 'DA-network-control'"
   ]
  },
  {
   "cell_type": "code",
   "execution_count": null,
   "metadata": {},
   "outputs": [],
   "source": [
    "!mpiexec -n 4 python simulation.py $network_name $modulations $duration $simulation_name "
   ]
  },
  {
   "cell_type": "code",
   "execution_count": null,
   "metadata": {},
   "outputs": [],
   "source": []
  }
 ],
 "metadata": {
  "kernelspec": {
   "display_name": "Python 3",
   "language": "python",
   "name": "python3"
  },
  "language_info": {
   "codemirror_mode": {
    "name": "ipython",
    "version": 3
   },
   "file_extension": ".py",
   "mimetype": "text/x-python",
   "name": "python",
   "nbconvert_exporter": "python",
   "pygments_lexer": "ipython3",
   "version": "3.7.9"
  }
 },
 "nbformat": 4,
 "nbformat_minor": 4
}
