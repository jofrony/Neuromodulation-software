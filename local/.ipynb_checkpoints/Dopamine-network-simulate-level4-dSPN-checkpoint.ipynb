{
 "cells": [
  {
   "cell_type": "markdown",
   "metadata": {},
   "source": [
    "# Simulate the striatum - DA"
   ]
  },
  {
   "cell_type": "code",
   "execution_count": 1,
   "metadata": {},
   "outputs": [
    {
     "name": "stdout",
     "output_type": "stream",
     "text": [
      "/home/jofrony/Documents/Repositories/BasalGangliaExperiments/Neuromodulation-software/local/Experiment-Simulation\n"
     ]
    }
   ],
   "source": [
    "%cd Experiment-Simulation"
   ]
  },
  {
   "cell_type": "code",
   "execution_count": null,
   "metadata": {},
   "outputs": [],
   "source": [
    "!nrnivmodl ../mechanisms-modulation/"
   ]
  },
  {
   "cell_type": "code",
   "execution_count": null,
   "metadata": {},
   "outputs": [],
   "source": [
    "import os\n",
    "from snudda.input import SnuddaInput\n",
    "\n",
    "network_path = 'Dopamine-dSPN-network'\n",
    "\n",
    "si = SnuddaInput(network_path=network_path, \n",
    "                 input_config_file=os.path.join(\"../../network_parameters/external_input\",\"external-input-dSTR-scaled-level4.json\"),\n",
    "                 verbose=False)\n",
    "si.generate()"
   ]
  },
  {
   "cell_type": "code",
   "execution_count": 5,
   "metadata": {},
   "outputs": [],
   "source": [
    "network_name = 'Dopamine-dSPN-network'\n",
    "modulations = '../../network_parameters/modulation/acetylcholine_alpha_transient.json'\n",
    "duration = 3000\n",
    "simulation_name = 'AChB-network-level4'"
   ]
  },
  {
   "cell_type": "code",
   "execution_count": 6,
   "metadata": {},
   "outputs": [
    {
     "name": "stdout",
     "output_type": "stream",
     "text": [
      "numprocs=4\n",
      "Loading 30 neurons with 441 synapses and 0 gap junctions\n",
      "Loading 30 neurons with 441 synapses and 0 gap junctions\n",
      "Loading 30 neurons with 441 synapses and 0 gap junctions\n",
      "Loading 30 neurons with 441 synapses and 0 gap junctions\n",
      "Loading 30 neurons with 441 synapses and 0 gap junctions\n",
      "Loading 30 neurons with 441 synapses and 0 gap junctions\n",
      "Loading 30 neurons with 441 synapses and 0 gap junctions\n",
      "Loading 30 neurons with 441 synapses and 0 gap junctions\n",
      "Running simulation for 3.0 s\n",
      "Running simulation for 3.0 s\n",
      "Running simulation for 3.0 s\n",
      "Running simulation for 3.0 s\n",
      "1% done. Elapsed: 8.5 s, estimated time left: 841.9 s\n",
      "13% done. Elapsed: 114.5 s, estimated time left: 766.4 s\n",
      "24% done. Elapsed: 218.4 s, estimated time left: 691.5 s\n",
      "36% done. Elapsed: 326.6 s, estimated time left: 580.7 s\n",
      "48% done. Elapsed: 430.5 s, estimated time left: 466.4 s\n",
      "60% done. Elapsed: 536.8 s, estimated time left: 357.9 s\n"
     ]
    }
   ],
   "source": [
    "!mpiexec -n 4 python simulation.py $network_name $modulations $duration $simulation_name "
   ]
  },
  {
   "cell_type": "code",
   "execution_count": null,
   "metadata": {},
   "outputs": [],
   "source": [
    "network_name = 'Dopamine-dSPN-network'\n",
    "modulations = '../../network_parameters/modulation/dopamine_control.json'\n",
    "duration = 3000\n",
    "simulation_name = 'DA-network-control'"
   ]
  },
  {
   "cell_type": "code",
   "execution_count": null,
   "metadata": {},
   "outputs": [],
   "source": [
    "!mpiexec -n 4 python simulation.py $network_name $modulations $duration $simulation_name "
   ]
  },
  {
   "cell_type": "code",
   "execution_count": null,
   "metadata": {},
   "outputs": [],
   "source": []
  }
 ],
 "metadata": {
  "kernelspec": {
   "display_name": "Python 3",
   "language": "python",
   "name": "python3"
  },
  "language_info": {
   "codemirror_mode": {
    "name": "ipython",
    "version": 3
   },
   "file_extension": ".py",
   "mimetype": "text/x-python",
   "name": "python",
   "nbconvert_exporter": "python",
   "pygments_lexer": "ipython3",
   "version": "3.7.9"
  }
 },
 "nbformat": 4,
 "nbformat_minor": 4
}
