{
 "cells": [
  {
   "cell_type": "markdown",
   "metadata": {},
   "source": [
    "# Simulate the striatum - DA"
   ]
  },
  {
   "cell_type": "code",
   "execution_count": 1,
   "metadata": {},
   "outputs": [
    {
     "name": "stdout",
     "output_type": "stream",
     "text": [
      "/home/jofrony/Documents/Repositories/BasalGangliaExperiments/Neuromodulation-software/local/Experiment-Simulation\n"
     ]
    }
   ],
   "source": [
    "%cd Experiment-Simulation"
   ]
  },
  {
   "cell_type": "code",
   "execution_count": 2,
   "metadata": {},
   "outputs": [
    {
     "name": "stdout",
     "output_type": "stream",
     "text": [
      "/home/jofrony/Documents/Repositories/BasalGangliaExperiments/Neuromodulation-software/local/Experiment-Simulation\n",
      "ls: cannot access '../mechanisms-modulation//*.inc': No such file or directory\n",
      "../mechanisms-modulation//bk_fs.mod ../mechanisms-modulation//bk_ms.mod ../mechanisms-modulation//cadyn_fs.mod ../mechanisms-modulation//cadyn_ms.mod ../mechanisms-modulation//cal12_ms.mod ../mechanisms-modulation//cal13_ms.mod ../mechanisms-modulation//caldyn_ms.mod ../mechanisms-modulation//can_fs.mod ../mechanisms-modulation//can_ms.mod ../mechanisms-modulation//caq_fs.mod ../mechanisms-modulation//caq_ms.mod ../mechanisms-modulation//car_fs.mod ../mechanisms-modulation//car_ms.mod ../mechanisms-modulation//cat32_ms.mod ../mechanisms-modulation//cat33_ms.mod ../mechanisms-modulation//concACh_ms.mod ../mechanisms-modulation//concDA_ms.mod ../mechanisms-modulation//Im_ms.mod ../mechanisms-modulation//kaf_fs.mod ../mechanisms-modulation//kaf_ms.mod ../mechanisms-modulation//kas_fs.mod ../mechanisms-modulation//kas_ms.mod ../mechanisms-modulation//kdr_fs.mod ../mechanisms-modulation//kdr_ms.mod ../mechanisms-modulation//kir_fs.mod ../mechanisms-modulation//kir_ms.mod ../mechanisms-modulation//naf_fs.mod ../mechanisms-modulation//naf_ms.mod ../mechanisms-modulation//par_ggap.mod ../mechanisms-modulation//sk_fs.mod ../mechanisms-modulation//sk_ms.mod ../mechanisms-modulation//tmgabaa.mod ../mechanisms-modulation//tmglut_M1RH_D1.mod ../mechanisms-modulation//tmglut.mod ../mechanisms-modulation//vecevent.mod\n",
      "bk_fs.mod bk_ms.mod cadyn_fs.mod cadyn_ms.mod cal12_ms.mod cal13_ms.mod caldyn_ms.mod can_fs.mod can_ms.mod caq_fs.mod caq_ms.mod car_fs.mod car_ms.mod cat32_ms.mod cat33_ms.mod concACh_ms.mod concDA_ms.mod Im_ms.mod kaf_fs.mod kaf_ms.mod kas_fs.mod kas_ms.mod kdr_fs.mod kdr_ms.mod kir_fs.mod kir_ms.mod naf_fs.mod naf_ms.mod par_ggap.mod sk_fs.mod sk_ms.mod tmgabaa.mod tmglut_M1RH_D1.mod tmglut.mod vecevent.mod\n",
      "\"/usr/local/nrn/share/nrn/libtool\" --tag=CC --mode=compile mpicc -DHAVE_CONFIG_H  -I. -I.. -I\"/usr/local/nrn/include/nrn\" -I\"/usr/local/nrn/x86_64/lib\"      -g -O2 -c -o mod_func.lo mod_func.c\n",
      "libtool: compile:  mpicc -DHAVE_CONFIG_H -I. -I.. -I/usr/local/nrn/include/nrn -I/usr/local/nrn/x86_64/lib -g -O2 -c mod_func.c  -fPIC -DPIC -o .libs/mod_func.o\n",
      "\"/usr/local/nrn/share/nrn/libtool\" --tag=CC --mode=link mpicc -module  -g -O2    -o libnrnmech.la -rpath \"/usr/local/nrn/x86_64/lib\"  bk_fs.lo bk_ms.lo cadyn_fs.lo cadyn_ms.lo cal12_ms.lo cal13_ms.lo caldyn_ms.lo can_fs.lo can_ms.lo caq_fs.lo caq_ms.lo car_fs.lo car_ms.lo cat32_ms.lo cat33_ms.lo concACh_ms.lo concDA_ms.lo Im_ms.lo kaf_fs.lo kaf_ms.lo kas_fs.lo kas_ms.lo kdr_fs.lo kdr_ms.lo kir_fs.lo kir_ms.lo naf_fs.lo naf_ms.lo par_ggap.lo sk_fs.lo sk_ms.lo tmgabaa.lo tmglut_M1RH_D1.lo tmglut.lo vecevent.lo mod_func.lo  -L\"/usr/local/nrn/x86_64/lib\" -lnrnoc -loc -lmemacs -lnrnmpi -lscopmath -lsparse13 -lreadline -lncurses -ltinfo -L\"/usr/local/nrn/x86_64/lib\" -lnrniv -livoc -lneuron_gnu -lmeschach -lsundials       -lm -ldl\n",
      "libtool: link: rm -fr  .libs/libnrnmech.la .libs/libnrnmech.lai .libs/libnrnmech.so .libs/libnrnmech.so.0 .libs/libnrnmech.so.0.0.0\n",
      "libtool: link: mpicc -shared  -fPIC -DPIC  .libs/bk_fs.o .libs/bk_ms.o .libs/cadyn_fs.o .libs/cadyn_ms.o .libs/cal12_ms.o .libs/cal13_ms.o .libs/caldyn_ms.o .libs/can_fs.o .libs/can_ms.o .libs/caq_fs.o .libs/caq_ms.o .libs/car_fs.o .libs/car_ms.o .libs/cat32_ms.o .libs/cat33_ms.o .libs/concACh_ms.o .libs/concDA_ms.o .libs/Im_ms.o .libs/kaf_fs.o .libs/kaf_ms.o .libs/kas_fs.o .libs/kas_ms.o .libs/kdr_fs.o .libs/kdr_ms.o .libs/kir_fs.o .libs/kir_ms.o .libs/naf_fs.o .libs/naf_ms.o .libs/par_ggap.o .libs/sk_fs.o .libs/sk_ms.o .libs/tmgabaa.o .libs/tmglut_M1RH_D1.o .libs/tmglut.o .libs/vecevent.o .libs/mod_func.o   -Wl,-rpath -Wl,/usr/local/nrn/x86_64/lib -Wl,-rpath -Wl,/usr/local/nrn/x86_64/lib -L/usr/local/nrn/x86_64/lib /usr/local/nrn/x86_64/lib/libnrnoc.so /usr/local/nrn/x86_64/lib/liboc.so -lX11 /usr/local/nrn/x86_64/lib/libmemacs.so /usr/local/nrn/x86_64/lib/libnrnmpi.so /usr/local/nrn/x86_64/lib/libscopmath.so /usr/local/nrn/x86_64/lib/libsparse13.so /usr/local/nrn/x86_64/lib/libreadline.so -lncurses -ltinfo /usr/local/nrn/x86_64/lib/libnrniv.so /usr/local/nrn/x86_64/lib/libivoc.so /usr/local/nrn/x86_64/lib/libneuron_gnu.so /usr/local/nrn/x86_64/lib/libmeschach.so /usr/local/nrn/x86_64/lib/libsundials.so -lm -ldl  -g -O2   -Wl,-soname -Wl,libnrnmech.so.0 -o .libs/libnrnmech.so.0.0.0\n",
      "libtool: link: (cd \".libs\" && rm -f \"libnrnmech.so.0\" && ln -s \"libnrnmech.so.0.0.0\" \"libnrnmech.so.0\")\n",
      "libtool: link: (cd \".libs\" && rm -f \"libnrnmech.so\" && ln -s \"libnrnmech.so.0.0.0\" \"libnrnmech.so\")\n",
      "libtool: link: ( cd \".libs\" && rm -f \"libnrnmech.la\" && ln -s \"../libnrnmech.la\" \"libnrnmech.la\" )\n",
      "Successfully created x86_64/special\n"
     ]
    }
   ],
   "source": [
    "!nrnivmodl ../mechanisms-modulation/"
   ]
  },
  {
   "cell_type": "code",
   "execution_count": 3,
   "metadata": {},
   "outputs": [
    {
     "name": "stdout",
     "output_type": "stream",
     "text": [
      "Writing spikes to Dopamine-delays-network/input-spikes.hdf5\n"
     ]
    }
   ],
   "source": [
    "import os\n",
    "from snudda.input import SnuddaInput\n",
    "\n",
    "network_path = 'Dopamine-delays-network'\n",
    "\n",
    "si = SnuddaInput(network_path=network_path, \n",
    "                 input_config_file=os.path.join(\"../../network_parameters/external_input\",\"external-input-dSTR-scaled-level6.json\"),\n",
    "                 verbose=False)\n",
    "si.generate()"
   ]
  },
  {
   "cell_type": "code",
   "execution_count": 10,
   "metadata": {},
   "outputs": [],
   "source": [
    "network_name = 'Dopamine-delays-network'\n",
    "modulations = '../../network_parameters/modulation/dopamine_alpha_delay1.json'\n",
    "duration = 3000\n",
    "simulation_name = 'Dopamine-delays1-network'"
   ]
  },
  {
   "cell_type": "code",
   "execution_count": 11,
   "metadata": {},
   "outputs": [
    {
     "name": "stdout",
     "output_type": "stream",
     "text": [
      "numprocs=4\n",
      "Loading 30 neurons with 441 synapses and 0 gap junctions\n",
      "Loading 30 neurons with 441 synapses and 0 gap junctions\n",
      "Loading 30 neurons with 441 synapses and 0 gap junctions\n",
      "Loading 30 neurons with 441 synapses and 0 gap junctions\n",
      "Loading 30 neurons with 441 synapses and 0 gap junctions\n",
      "Loading 30 neurons with 441 synapses and 0 gap junctions\n",
      "Loading 30 neurons with 441 synapses and 0 gap junctions\n",
      "Loading 30 neurons with 441 synapses and 0 gap junctions\n",
      "Running simulation for 3.0 s\n",
      "Running simulation for 3.0 s\n",
      "Running simulation for 3.0 s\n",
      "Running simulation for 3.0 s\n",
      "1% done. Elapsed: 11.6 s, estimated time left: 1147.1 s\n",
      "10% done. Elapsed: 120.2 s, estimated time left: 1082.0 s\n",
      "19% done. Elapsed: 226.9 s, estimated time left: 967.3 s\n",
      "27% done. Elapsed: 332.6 s, estimated time left: 899.2 s\n",
      "35% done. Elapsed: 435.0 s, estimated time left: 807.8 s\n",
      "43% done. Elapsed: 535.9 s, estimated time left: 710.4 s\n",
      "52% done. Elapsed: 644.9 s, estimated time left: 595.3 s\n",
      "60% done. Elapsed: 757.1 s, estimated time left: 504.7 s\n",
      "68% done. Elapsed: 865.2 s, estimated time left: 407.2 s\n",
      "76% done. Elapsed: 973.5 s, estimated time left: 307.4 s\n",
      "82% done. Elapsed: 1095.7 s, estimated time left: 240.5 s\n",
      "86% done. Elapsed: 1203.4 s, estimated time left: 195.9 s\n",
      "90% done. Elapsed: 1316.0 s, estimated time left: 146.2 s\n",
      "94% done. Elapsed: 1436.2 s, estimated time left: 91.7 s\n",
      "Simulation run time: 1544.3 s\n",
      "Writing spike times to Dopamine-delays-network/simulation/network-output-spikes-Dopamine-delays1-network.txt\n",
      "Simulation run time: 1544.3 s\n",
      "Simulation run time: 1544.5 s\n",
      "Simulation run time: 1544.4 s\n",
      "Writing spike times to Dopamine-delays-network/simulation/network-output-spikes-Dopamine-delays1-network.txt\n",
      "Writing spike times to Dopamine-delays-network/simulation/network-output-spikes-Dopamine-delays1-network.txt\n",
      "Writing spike times to Dopamine-delays-network/simulation/network-output-spikes-Dopamine-delays1-network.txt\n",
      "Program run time: 1548.8096244010012\n",
      "/home/jofrony/miniconda3/envs/py37/lib/python3.7/site-packages/bluepyopt/ephys/simulators.py:74: UserWarning: Unable to find Neuron hoc shared library in /usr/local/nrn/lib/python/neuron, not disabling banner\n",
      "  'not disabling banner' % nrnpy_path)\n",
      "/home/jofrony/miniconda3/envs/py37/lib/python3.7/site-packages/bluepyopt/ephys/simulators.py:74: UserWarning: Unable to find Neuron hoc shared library in /usr/local/nrn/lib/python/neuron, not disabling banner\n",
      "  'not disabling banner' % nrnpy_path)\n",
      "/home/jofrony/miniconda3/envs/py37/lib/python3.7/site-packages/bluepyopt/ephys/simulators.py:74: UserWarning: Unable to find Neuron hoc shared library in /usr/local/nrn/lib/python/neuron, not disabling banner\n",
      "  'not disabling banner' % nrnpy_path)\n",
      "/home/jofrony/miniconda3/envs/py37/lib/python3.7/site-packages/bluepyopt/ephys/simulators.py:74: UserWarning: Unable to find Neuron hoc shared library in /usr/local/nrn/lib/python/neuron, not disabling banner\n",
      "  'not disabling banner' % nrnpy_path)\n",
      "\u001b[0m\u001b[0m\u001b[0m\u001b[0m"
     ]
    }
   ],
   "source": [
    "!mpiexec -n 4 python simulation.py $network_name $modulations $duration $simulation_name "
   ]
  },
  {
   "cell_type": "code",
   "execution_count": 12,
   "metadata": {},
   "outputs": [],
   "source": [
    "network_name = 'Dopamine-delays-network'\n",
    "modulations = '../../network_parameters/modulation/dopamine_alpha_delay3.json'\n",
    "duration = 3000\n",
    "simulation_name = 'Dopamine-delays3-network'"
   ]
  },
  {
   "cell_type": "code",
   "execution_count": null,
   "metadata": {},
   "outputs": [
    {
     "name": "stdout",
     "output_type": "stream",
     "text": [
      "numprocs=4\n",
      "Loading 30 neurons with 441 synapses and 0 gap junctions\n",
      "Loading 30 neurons with 441 synapses and 0 gap junctions\n",
      "Loading 30 neurons with 441 synapses and 0 gap junctions\n",
      "Loading 30 neurons with 441 synapses and 0 gap junctions\n",
      "Loading 30 neurons with 441 synapses and 0 gap junctions\n",
      "Loading 30 neurons with 441 synapses and 0 gap junctions\n",
      "Loading 30 neurons with 441 synapses and 0 gap junctions\n",
      "Loading 30 neurons with 441 synapses and 0 gap junctions\n",
      "Running simulation for 3.0 s\n",
      "Running simulation for 3.0 s\n",
      "Running simulation for 3.0 s\n",
      "Running simulation for 3.0 s\n",
      "1% done. Elapsed: 19.5 s, estimated time left: 1926.4 s\n",
      "7% done. Elapsed: 129.1 s, estimated time left: 1714.5 s\n",
      "13% done. Elapsed: 234.2 s, estimated time left: 1567.4 s\n"
     ]
    }
   ],
   "source": [
    "!mpiexec -n 4 python simulation.py $network_name $modulations $duration $simulation_name "
   ]
  },
  {
   "cell_type": "code",
   "execution_count": null,
   "metadata": {},
   "outputs": [],
   "source": [
    "network_name = 'Dopamine-delays-network'\n",
    "modulations = '../../network_parameters/modulation/dopamine_alpha_delay8.json'\n",
    "duration = 3000\n",
    "simulation_name = 'Dopamine-delays8-network'"
   ]
  },
  {
   "cell_type": "code",
   "execution_count": null,
   "metadata": {},
   "outputs": [],
   "source": [
    "!mpiexec -n 4 python simulation.py $network_name $modulations $duration $simulation_name "
   ]
  },
  {
   "cell_type": "markdown",
   "metadata": {},
   "source": [
    "##### network_name = 'Dopamine-dSPN-network'\n",
    "modulations = '../../network_parameters/modulation/dopamine_alpha_delay1.json'\n",
    "duration = 3000\n",
    "simulation_name = 'Dopamine-delays1-network'\n",
    "\n",
    "!mpiexec -n 4 python simulation.py $network_name $modulations $duration $simulation_name "
   ]
  },
  {
   "cell_type": "code",
   "execution_count": null,
   "metadata": {},
   "outputs": [],
   "source": [
    "network_name = 'Dopamine-dSPN-network'\n",
    "modulations = '../../network_parameters/modulation/dopamine_control.json'\n",
    "duration = 3000\n",
    "simulation_name = 'Dopamine-control-network'\n",
    "\n",
    "!mpiexec -n 4 python simulation.py $network_name $modulations $duration $simulation_name "
   ]
  }
 ],
 "metadata": {
  "kernelspec": {
   "display_name": "Python 3",
   "language": "python",
   "name": "python3"
  },
  "language_info": {
   "codemirror_mode": {
    "name": "ipython",
    "version": 3
   },
   "file_extension": ".py",
   "mimetype": "text/x-python",
   "name": "python",
   "nbconvert_exporter": "python",
   "pygments_lexer": "ipython3",
   "version": "3.7.9"
  }
 },
 "nbformat": 4,
 "nbformat_minor": 4
}
