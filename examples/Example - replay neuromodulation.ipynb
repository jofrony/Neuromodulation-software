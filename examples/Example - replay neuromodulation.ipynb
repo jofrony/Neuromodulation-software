{
 "cells": [
  {
   "cell_type": "markdown",
   "metadata": {},
   "source": [
    "# Neuromodulation dopamine - replay (single neuromodulator)"
   ]
  },
  {
   "cell_type": "markdown",
   "metadata": {},
   "source": [
    "To simulate single neuromodulator in Snudda, firstly, the parameters from Neuromodcell have to been saved in modulations.json and placed in the model dircetory. \n",
    "\n",
    "\n",
    "To install snudda, follow the instructions at https://github.com/Hjorthmedh/Snudda/wiki/1.-User-installation\n",
    "\n",
    "Following installation, the code below will set up the network and the neuromodulatory modulation.\n"
   ]
  },
  {
   "cell_type": "markdown",
   "metadata": {},
   "source": [
    "To set the $DATA parameter for snudda, "
   ]
  },
  {
   "cell_type": "code",
   "execution_count": null,
   "metadata": {},
   "outputs": [],
   "source": [
    "import os\n",
    "os.environ[\"SNUDDA_DATA\"] = 'data'"
   ]
  },
  {
   "cell_type": "markdown",
   "metadata": {},
   "source": [
    "This should be set to the directory where neurons, synapses and other parameters for the network have been placed. Look at the 'data' directory for referenece"
   ]
  },
  {
   "cell_type": "markdown",
   "metadata": {},
   "source": [
    "Set the directory for where the neurons for the striatum (in this example) are saved"
   ]
  },
  {
   "cell_type": "code",
   "execution_count": null,
   "metadata": {},
   "outputs": [],
   "source": [
    "neurons_dir = os.path.abspath('data/neurons/')"
   ]
  },
  {
   "cell_type": "markdown",
   "metadata": {},
   "source": [
    "We wrote a specific neuromodulation init (based on snuddas init.py), to load the synapses which have had the modulation parameters included into the parameter sets."
   ]
  },
  {
   "cell_type": "code",
   "execution_count": null,
   "metadata": {},
   "outputs": [],
   "source": [
    "from neuromodulationInit import neuromodulationInit\n",
    "import os\n",
    "\n",
    "network_path = 'dopamine-trial-network'\n",
    "config_name= os.path.join(network_path,\"network-config.json\")\n",
    "cnc = neuromodulationInit(config_file=config_name,random_seed=12345)\n",
    "\n",
    "cnc.define_striatum_neuromodulation(num_dSPN=10,num_iSPN=10,num_FS=1,volume_type=\"cube\",neurons_dir=neurons_dir)  \n",
    "dirName = os.path.dirname(config_name)\n",
    "\n",
    "if not os.path.exists(dirName):\n",
    "    os.makedirs(dirName)\n",
    "\n",
    "cnc.write_json(config_name)"
   ]
  },
  {
   "cell_type": "markdown",
   "metadata": {},
   "source": [
    "Then we place the neurons within the network (as we are running this locally we are limiting the network to 21 neurons). We then detect the potential synapses (by appositions between axons and dendrites) and then remove (prune) to reproduce the reported connectivity.  "
   ]
  },
  {
   "cell_type": "code",
   "execution_count": null,
   "metadata": {},
   "outputs": [],
   "source": [
    "from snudda.place import SnuddaPlace\n",
    "sp = SnuddaPlace(network_path=network_path)\n",
    "sp.parse_config()\n",
    "sp.write_data()"
   ]
  },
  {
   "cell_type": "code",
   "execution_count": null,
   "metadata": {},
   "outputs": [],
   "source": [
    "from snudda.detect import SnuddaDetect\n",
    "\n",
    "sd = SnuddaDetect(network_path=network_path)\n",
    "sd.detect()"
   ]
  },
  {
   "cell_type": "code",
   "execution_count": null,
   "metadata": {},
   "outputs": [],
   "source": [
    "from snudda.prune import SnuddaPrune\n",
    "\n",
    "sp = SnuddaPrune(network_path=network_path)\n",
    "sp.prune()"
   ]
  },
  {
   "cell_type": "code",
   "execution_count": null,
   "metadata": {},
   "outputs": [],
   "source": [
    "from snudda.plotting.plot_network import PlotNetwork\n",
    "pn = PlotNetwork(network_path)\n",
    "pn.plot()\n",
    "pn.close()"
   ]
  },
  {
   "cell_type": "markdown",
   "metadata": {},
   "source": [
    "Following the assembly of the circuit, we set up the neuromodulatory transient which will be played through the network. Here, we simulate a dopamine transient which starts after 700 ms in the shape of an alpha function with time constant 300 ms and maximum modulation 1 (i.e 100%). We then have to add the names of the ion channels which are modulated by dSPN, iSPN and FSN. The control simulation uses a bath application with modulation level at 0. "
   ]
  },
  {
   "cell_type": "code",
   "execution_count": null,
   "metadata": {},
   "outputs": [],
   "source": [
    "from snudda.neuromodulation.modulation_network import Neuromodulation\n",
    "\n",
    "nl = Neuromodulation()\n",
    "nl.set_timestep(dt=0.025)\n",
    "nl.set_modulation(neurotransmitter = 'dopamine', neurotransmitter_key = 'DA')\n",
    "nl.transient(neurotransmitter='dopamine',\\\n",
    "             method='alpha',\\\n",
    "             duration= 3000,\\\n",
    "             parameters={\"tstart\" : 700, \"gmax\" : 1, \"tau\" : 300})\n",
    "\n",
    "\n",
    "nl.ion_channel_modulation(neurotransmitter = 'dopamine',\\\n",
    "                          cell_type = 'dSPN',\\\n",
    "                          section = 'soma',\\\n",
    "                          ion_channels = [\"cal12_ms\",\"cal13_ms\",\"kir_ms\",\"kas_ms\",\"naf_ms\",\"can_ms\"])\n",
    "nl.ion_channel_modulation(neurotransmitter = 'dopamine',\\\n",
    "                          cell_type = 'dSPN',\\\n",
    "                          section = 'dendrite',\\\n",
    "                          ion_channels = [\"kir_ms\",\"kas_ms\",\"kaf_ms\",\"cal12_ms\",\"cal13_ms\"])\n",
    "nl.ion_channel_modulation(neurotransmitter = 'dopamine',\\\n",
    "                          cell_type = 'dSPN',\\\n",
    "                          section = 'axon',\\\n",
    "                          ion_channels = [])\n",
    "\n",
    "nl.ion_channel_modulation(neurotransmitter = 'dopamine',\\\n",
    "                          cell_type = 'iSPN',\\\n",
    "                          section = 'soma',\\\n",
    "                          ion_channels = [\"kir_ms\",\"kas_ms\",\"kaf_ms\",\"naf_ms\",\"cal12_ms\",\"cal13_ms\", \"can_ms\",\"car_ms\"])\n",
    "nl.ion_channel_modulation(neurotransmitter = 'dopamine',\\\n",
    "                          cell_type = 'iSPN',\\\n",
    "                          section = 'dendrite',\\\n",
    "                          ion_channels = [\"kir_ms\",\"kas_ms\",\"kaf_ms\",\"naf_ms\",\"cal12_ms\",\"cal13_ms\", \"can_ms\",\"car_ms\"])\n",
    "nl.ion_channel_modulation(neurotransmitter = 'dopamine',\\\n",
    "                          cell_type = 'iSPN',\\\n",
    "                          section = 'axon',\\\n",
    "                          ion_channels = [\"kir_ms\",\"kas_ms\",\"kaf_ms\",\"naf_ms\",\"cal12_ms\",\"cal13_ms\", \"can_ms\",\"car_ms\"])\n",
    "\n",
    "nl.ion_channel_modulation(neurotransmitter = 'dopamine',\\\n",
    "                          cell_type = 'FSN',\\\n",
    "                          section = 'soma',\\\n",
    "                          ion_channels = ['kir_fs','kas_fs','kaf_fs','naf_fs'])\n",
    "nl.ion_channel_modulation(neurotransmitter = 'dopamine',\\\n",
    "                          cell_type = 'FSN',\\\n",
    "                          section = 'dendrite',\\\n",
    "                          ion_channels = ['kir_fs'])\n",
    "nl.ion_channel_modulation(neurotransmitter = 'dopamine',\\\n",
    "                          cell_type = 'FSN',\\\n",
    "                          section = 'axon',\\\n",
    "                          ion_channels = [])\n",
    "\n",
    "\n",
    "nl.save(dir_path='data/modulation',name='dopamine_modulation.json')"
   ]
  },
  {
   "cell_type": "code",
   "execution_count": null,
   "metadata": {},
   "outputs": [],
   "source": [
    "from snudda.neuromodulation.modulation_network import Neuromodulation\n",
    "\n",
    "nl = Neuromodulation()\n",
    "nl.set_timestep(dt=0.025)\n",
    "nl.set_modulation(neurotransmitter = 'dopamine', neurotransmitter_key = 'DA')\n",
    "nl.transient(neurotransmitter='dopamine',\\\n",
    "             method='bath_application',\\\n",
    "             duration= 3000,\\\n",
    "             parameters={\"gmax\" : 0})\n",
    "\n",
    "\n",
    "nl.ion_channel_modulation(neurotransmitter = 'dopamine',\\\n",
    "                          cell_type = 'dSPN',\\\n",
    "                          section = 'soma',\\\n",
    "                          ion_channels = [\"cal12_ms\",\"cal13_ms\",\"kir_ms\",\"kas_ms\",\"naf_ms\",\"can_ms\"])\n",
    "nl.ion_channel_modulation(neurotransmitter = 'dopamine',\\\n",
    "                          cell_type = 'dSPN',\\\n",
    "                          section = 'dendrite',\\\n",
    "                          ion_channels = [\"kir_ms\",\"kas_ms\",\"kaf_ms\",\"cal12_ms\",\"cal13_ms\"])\n",
    "nl.ion_channel_modulation(neurotransmitter = 'dopamine',\\\n",
    "                          cell_type = 'dSPN',\\\n",
    "                          section = 'axon',\\\n",
    "                          ion_channels = [])\n",
    "\n",
    "nl.ion_channel_modulation(neurotransmitter = 'dopamine',\\\n",
    "                          cell_type = 'iSPN',\\\n",
    "                          section = 'soma',\\\n",
    "                          ion_channels = [\"kir_ms\",\"kas_ms\",\"kaf_ms\",\"naf_ms\",\"cal12_ms\",\"cal13_ms\", \"can_ms\",\"car_ms\"])\n",
    "nl.ion_channel_modulation(neurotransmitter = 'dopamine',\\\n",
    "                          cell_type = 'iSPN',\\\n",
    "                          section = 'dendrite',\\\n",
    "                          ion_channels = [\"kir_ms\",\"kas_ms\",\"kaf_ms\",\"naf_ms\",\"cal12_ms\",\"cal13_ms\", \"can_ms\",\"car_ms\"])\n",
    "nl.ion_channel_modulation(neurotransmitter = 'dopamine',\\\n",
    "                          cell_type = 'iSPN',\\\n",
    "                          section = 'axon',\\\n",
    "                          ion_channels = [\"kir_ms\",\"kas_ms\",\"kaf_ms\",\"naf_ms\",\"cal12_ms\",\"cal13_ms\", \"can_ms\",\"car_ms\"])\n",
    "\n",
    "nl.ion_channel_modulation(neurotransmitter = 'dopamine',\\\n",
    "                          cell_type = 'FSN',\\\n",
    "                          section = 'soma',\\\n",
    "                          ion_channels = ['kir_fs','kas_fs','kaf_fs','naf_fs'])\n",
    "nl.ion_channel_modulation(neurotransmitter = 'dopamine',\\\n",
    "                          cell_type = 'FSN',\\\n",
    "                          section = 'dendrite',\\\n",
    "                          ion_channels = ['kir_fs'])\n",
    "nl.ion_channel_modulation(neurotransmitter = 'dopamine',\\\n",
    "                          cell_type = 'FSN',\\\n",
    "                          section = 'axon',\\\n",
    "                          ion_channels = [])\n",
    "\n",
    "\n",
    "nl.save(dir_path='data/modulation',name='dopamine_control.json')"
   ]
  },
  {
   "cell_type": "markdown",
   "metadata": {},
   "source": [
    "Compile the mechanisms used in the simulation"
   ]
  },
  {
   "cell_type": "code",
   "execution_count": null,
   "metadata": {},
   "outputs": [],
   "source": [
    "!nrnivmodl mechanisms-modulation/"
   ]
  },
  {
   "cell_type": "markdown",
   "metadata": {},
   "source": [
    "Restart the kernel (if the assembly and generation of input and simulation are in different notebooks - THIS STEP IS NOT NEEDED)"
   ]
  },
  {
   "cell_type": "code",
   "execution_count": null,
   "metadata": {},
   "outputs": [],
   "source": [
    "from IPython.display import display_html\n",
    "def restartkernel() :\n",
    "    display_html(\"<script>Jupyter.notebook.kernel.restart()</script>\",raw=True)\n",
    "restartkernel()"
   ]
  },
  {
   "cell_type": "code",
   "execution_count": null,
   "metadata": {},
   "outputs": [],
   "source": [
    "import os\n",
    "from snudda.input import SnuddaInput\n",
    "\n",
    "os.environ[\"SNUDDA_DATA\"] = 'data'\n",
    "\n",
    "network_path = 'dopamine-trial-network'\n",
    "\n",
    "si = SnuddaInput(network_path=network_path, \n",
    "                 input_config_file=os.path.join(\"data\",\"external_input\",\"external-input-trial.json\"),\n",
    "                 verbose=False)\n",
    "si.generate()"
   ]
  },
  {
   "cell_type": "markdown",
   "metadata": {},
   "source": [
    "We then simulate the dopamine and control case using Snudda"
   ]
  },
  {
   "cell_type": "code",
   "execution_count": null,
   "metadata": {},
   "outputs": [],
   "source": [
    "!mpiexec -n 4 snudda simulate dopamine-trial-network --time 3.0 --outputFile 'dopamine-trial-network/simulation/network-voltage-DA-trial.hdf5' --neuromodulation data/modulation/dopamine_modulation.json"
   ]
  },
  {
   "cell_type": "code",
   "execution_count": null,
   "metadata": {},
   "outputs": [],
   "source": [
    "!mpiexec -n 4 snudda simulate dopamine-trial-network --time 3.0 --voltOut 'dopamine-trial-network/simulation/network-voltage-DA-trial-control.csv' --neuromodulation data/modulation/dopamine_control.json"
   ]
  },
  {
   "cell_type": "markdown",
   "metadata": {},
   "source": [
    "Following the simulation, we plot the simulations individually using code from snudda. First, the dopamine modulated simulation"
   ]
  },
  {
   "cell_type": "code",
   "execution_count": null,
   "metadata": {},
   "outputs": [],
   "source": [
    "from snudda.plotting.plot_traces import PlotTraces\n",
    "import os\n",
    "\n",
    "plot_offset = 0  \n",
    "skip_time = 0  \n",
    "num_traces_max = 10\n",
    "\n",
    "network_path = 'dopamine-trial-network'\n",
    "network_file = os.path.join(network_path, \"network-synapses.hdf5\")\n",
    "volt_file_name = os.path.join(network_path, \"simulation\", \"network-voltage-DA-trial.csv\")\n",
    "\n",
    "pl = PlotTraces(file_name=volt_file_name,network_file=network_file)\n",
    "\n",
    "pl.plotTraceNeuronType(neuron_type=\"dSPN\", num_traces=num_traces_max, offset=plot_offset, skip_time=skip_time)\n",
    "pl.plotTraceNeuronType(neuron_type=\"iSPN\", num_traces=num_traces_max, offset=plot_offset, skip_time=skip_time)\n",
    "pl.plotTraceNeuronType(neuron_type=\"FSN\", num_traces=num_traces_max, offset=plot_offset, skip_time=skip_time)\n"
   ]
  },
  {
   "cell_type": "markdown",
   "metadata": {},
   "source": [
    "Second, we plot the control simulation. "
   ]
  },
  {
   "cell_type": "code",
   "execution_count": null,
   "metadata": {},
   "outputs": [],
   "source": [
    "from snudda.plotting.plot_traces import PlotTraces\n",
    "import os\n",
    "\n",
    "plot_offset = 0  \n",
    "skip_time = 0  \n",
    "num_traces_max = 10\n",
    "\n",
    "network_path = 'dopamine-trial-network'\n",
    "network_file = os.path.join(network_path, \"network-synapses.hdf5\")\n",
    "volt_file_name = os.path.join(network_path, \"simulation\", \"network-voltage-DA-trial-control.csv\")\n",
    "\n",
    "pl = PlotTraces(file_name=volt_file_name,network_file=network_file)\n",
    "\n",
    "pl.plotTraceNeuronType(neuron_type=\"dSPN\", num_traces=num_traces_max, offset=plot_offset, skip_time=skip_time)\n",
    "pl.plotTraceNeuronType(neuron_type=\"iSPN\", num_traces=num_traces_max, offset=plot_offset, skip_time=skip_time)\n",
    "pl.plotTraceNeuronType(neuron_type=\"FSN\", num_traces=num_traces_max, offset=plot_offset, skip_time=skip_time)\n"
   ]
  },
  {
   "cell_type": "markdown",
   "metadata": {},
   "source": [
    "We need load and plot control (black) and dopamine modulated (red). We see clear effect on dSPN, which should depolarise upon dopamine modulation, while iSPN do not have a clear effect (although this is expected as the experimental data from single cells do not show a large effect). FS have quite a large response to dopamine modulation, which is also seen in the network"
   ]
  },
  {
   "cell_type": "code",
   "execution_count": null,
   "metadata": {},
   "outputs": [],
   "source": [
    "from plot import plot_dopamine_control\n",
    "from compare import compareTraces"
   ]
  },
  {
   "cell_type": "code",
   "execution_count": null,
   "metadata": {},
   "outputs": [],
   "source": [
    "fn = ['dopamine-trial-network/simulation/network-voltage-DA-trial-control.csv',\\\n",
    "     'dopamine-trial-network/simulation/network-voltage-DA-trial.csv']\n",
    "\n",
    "nf = ['dopamine-trial-network/network-synapses.hdf5',\\\n",
    "     'dopamine-trial-network/network-synapses.hdf5']\n",
    "\n",
    "\n",
    "kl = compareTraces(fileNames=fn,\\\n",
    "                      networkFiles=nf,labels=['control', 'DA'],colours=['black','red'])"
   ]
  },
  {
   "cell_type": "code",
   "execution_count": null,
   "metadata": {},
   "outputs": [],
   "source": [
    "plot_dopamine_control(kl,type_cell='dSPN')"
   ]
  },
  {
   "cell_type": "code",
   "execution_count": null,
   "metadata": {},
   "outputs": [],
   "source": [
    "plot_dopamine_control(kl,type_cell='iSPN')"
   ]
  },
  {
   "cell_type": "code",
   "execution_count": null,
   "metadata": {},
   "outputs": [],
   "source": [
    "plot_dopamine_control(kl,type_cell='FSN')"
   ]
  },
  {
   "cell_type": "code",
   "execution_count": null,
   "metadata": {},
   "outputs": [],
   "source": []
  }
 ],
 "metadata": {
  "kernelspec": {
   "display_name": "Python 3",
   "language": "python",
   "name": "python3"
  },
  "language_info": {
   "codemirror_mode": {
    "name": "ipython",
    "version": 3
   },
   "file_extension": ".py",
   "mimetype": "text/x-python",
   "name": "python",
   "nbconvert_exporter": "python",
   "pygments_lexer": "ipython3",
   "version": "3.7.10"
  }
 },
 "nbformat": 4,
 "nbformat_minor": 4
}
