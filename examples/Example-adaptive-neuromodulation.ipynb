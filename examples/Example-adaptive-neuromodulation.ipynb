{
 "cells": [
  {
   "cell_type": "markdown",
   "metadata": {},
   "source": [
    "# Neuromodulation dopamine and acetylcholine - acetylcholine  - adaptive - spiking presynaptic neuron"
   ]
  },
  {
   "cell_type": "markdown",
   "metadata": {},
   "source": [
    "To simulate single neuromodulator in Snudda, firstly, the parameters from Neuromodcell have to been saved in modulations.json and placed in the model dircetory. \n",
    "\n",
    "\n",
    "To install snudda, follow the instructions at https://github.com/Hjorthmedh/Snudda/wiki/1.-User-installation\n",
    "\n",
    "Following installation, the code below will set up the network and the neuromodulatory modulation."
   ]
  },
  {
   "cell_type": "markdown",
   "metadata": {},
   "source": [
    "To set the $DATA parameter for snudda, "
   ]
  },
  {
   "cell_type": "code",
   "execution_count": 1,
   "metadata": {},
   "outputs": [],
   "source": [
    "import os\n",
    "\n",
    "os.environ[\"SNUDDA_DATA\"] = 'data'"
   ]
  },
  {
   "cell_type": "markdown",
   "metadata": {},
   "source": [
    "This should be set to the directory where neurons, synapses and other parameters for the network have been placed. Look at the 'data' directory for referenece"
   ]
  },
  {
   "cell_type": "markdown",
   "metadata": {},
   "source": [
    "Set the directory for where the neurons for the striatum (in this example) are saved"
   ]
  },
  {
   "cell_type": "code",
   "execution_count": 2,
   "metadata": {},
   "outputs": [],
   "source": [
    "neurons_dir = os.path.abspath('data/neurons/')"
   ]
  },
  {
   "cell_type": "markdown",
   "metadata": {},
   "source": [
    "We wrote a specific neuromodulation init (based on snuddas init.py), to load the synapses which have had the modulation parameters included into the parameter sets as well as add SNc and dopaminergic neurons to the simulation"
   ]
  },
  {
   "cell_type": "code",
   "execution_count": 3,
   "metadata": {},
   "outputs": [
    {
     "name": "stdout",
     "output_type": "stream",
     "text": [
      "Using cube for striatum\n",
      "Adding neurons: dSPN from dir /home/jofrony/Documents/Repositories/BasalGangliaPublications/Neuromodulation-software/examples/data/neurons/striatum/dspn\n",
      "Adding neurons: DopaminergicAxon from dir /home/jofrony/Documents/Repositories/BasalGangliaPublications/Neuromodulation-software/examples/data/neurons/SNc\n",
      "Writing dopamine-acetylcholine-adaptive-trial-network/network-config.json\n"
     ]
    }
   ],
   "source": [
    "from neuromodulationInitSNc import neuromodulationInit\n",
    "\n",
    "network_path = 'dopamine-acetylcholine-adaptive-trial-network'\n",
    "config_name= os.path.join(network_path,\"network-config.json\")\n",
    "cnc = neuromodulationInit(config_file=config_name,random_seed=12345)\n",
    "\n",
    "cnc.define_striatum_neuromodulation(num_dSPN=25,volume_type=\"cube\",neurons_dir=neurons_dir)\n",
    "cnc.define_snc(nNeurons=4,neuron_dir=neurons_dir)\n",
    "dirName = os.path.dirname(config_name)\n",
    "\n",
    "if not os.path.exists(dirName):\n",
    "    os.makedirs(dirName)\n",
    "    \n",
    "cnc.write_json(config_name)"
   ]
  },
  {
   "cell_type": "markdown",
   "metadata": {},
   "source": [
    "Then we place the neurons within the network (as we are running this locally we are limiting the network to 21 neurons). We then detect the potential synapses (by appositions between axons and dendrites) and then remove (prune) to reproduce the reported connectivity.  "
   ]
  },
  {
   "cell_type": "code",
   "execution_count": null,
   "metadata": {},
   "outputs": [
    {
     "name": "stdout",
     "output_type": "stream",
     "text": [
      "No d_view specified, running distribute neurons in serial\n",
      "Processing hyper voxel : 21/64 (29 neurons)\n",
      "Processing hyper voxel : 5/64 (29 neurons)\n",
      "Processing hyper voxel : 20/64 (28 neurons)\n",
      "Processing hyper voxel : 4/64 (27 neurons)\n",
      "Processing hyper voxel : 17/64 (27 neurons)\n",
      "Processing hyper voxel : 1/64 (25 neurons)\n",
      "Processing hyper voxel : 16/64 (25 neurons)\n",
      "Processing hyper voxel : 0/64 (19 neurons)\n",
      "Processing hyper voxel : 22/64 (13 neurons)\n",
      "Processing hyper voxel : 37/64 (12 neurons)\n",
      "Processing hyper voxel : 24/64 (11 neurons)\n",
      "Processing hyper voxel : 6/64 (10 neurons)\n",
      "Processing hyper voxel : 25/64 (10 neurons)\n",
      "Processing hyper voxel : 2/64 (7 neurons)\n",
      "Processing hyper voxel : 9/64 (7 neurons)\n",
      "Processing hyper voxel : 32/64 (7 neurons)\n",
      "Processing hyper voxel : 36/64 (7 neurons)\n",
      "Processing hyper voxel : 8/64 (6 neurons)\n",
      "Processing hyper voxel : 33/64 (6 neurons)\n",
      "Processing hyper voxel : 18/64 (5 neurons)\n"
     ]
    }
   ],
   "source": [
    "from snudda.place import SnuddaPlace\n",
    "sp = SnuddaPlace(network_path=network_path)\n",
    "sp.parse_config()\n",
    "sp.write_data()\n",
    "\n",
    "from snudda.detect import SnuddaDetect\n",
    "\n",
    "sd = SnuddaDetect(network_path=network_path)\n",
    "sd.detect()\n",
    "\n",
    "from snudda.prune import SnuddaPrune\n",
    "\n",
    "sp = SnuddaPrune(network_path=network_path)\n",
    "sp.prune()\n",
    "\n",
    "from snudda.plotting.plot_network import PlotNetwork\n",
    "pn = PlotNetwork(network_path)\n",
    "pn.plot()\n",
    "pn.close()"
   ]
  },
  {
   "cell_type": "markdown",
   "metadata": {},
   "source": [
    "Following the assembly of the circuit, we set up the neuromodulatory connections which are needed for adaptive neuromodulation. The user defines the connections which are needed and the name of the connector, here we chose concACh and concDA. For the control, we set the weight as 0, otherwise 1e-2"
   ]
  },
  {
   "cell_type": "code",
   "execution_count": null,
   "metadata": {},
   "outputs": [],
   "source": [
    "# Set up neuromodulation per synapse\n",
    "\n",
    "from snudda.neuromodulation.modulation_synapse import  NeuromodulationSynapse\n",
    "\n",
    "sw = NeuromodulationSynapse()\n",
    "sw.set_weight(weight=1e-2)\n",
    "\n",
    "# Acetylcholine\n",
    "\n",
    "sw.set_connection_type(connector=\"concACh\", neuromodulation_key=\"ACh\")\n",
    "\n",
    "sw.add_cell_modulation(neuromodulation_key=\"ACh\",\n",
    "                       cell=\"dSPN\",\n",
    "                       ion_channels={\n",
    "                           \"soma\": [\"kir_ms\", \"cal12_ms\", \"cal13_ms\", \"can_ms\", \"Im_ms\"],\n",
    "                           \"dendrite\": [\"kir_ms\", \"cal12_ms\", \"cal13_ms\"]},\n",
    "                       type_connection=\"spiking-concentration\")\n",
    "\n",
    "# Dopamine\n",
    "\n",
    "sw.set_connection_type(connector=\"concDA\", neuromodulation_key=\"DA\")\n",
    "\n",
    "sw.add_cell_modulation(neuromodulation_key=\"DA\",\n",
    "                       cell=\"dSPN\",\n",
    "                       ion_channels={\n",
    "                           \"soma\": [\"kas_ms\", \"kaf_ms\", \"can_ms\"],\n",
    "                           \"dendrite\": [\"kaf_ms\", \"kas_ms\"],\n",
    "                           \"axon\": []},\n",
    "                       receptors={\"tmGabaA\": {\"maxMod\": 0.8},\n",
    "                                  \"tmGlut\": {\"maxMod_AMPA\": 1.2,\n",
    "                                             \"maxMod_NMDA\": 1.3,\n",
    "                                             \"failRate\": 0.7}},\n",
    "                       extrinsic=[\"CorticalBase\", \"CorticalSignal\", \"Thalamic\"],\n",
    "                       type_connection=\"spiking-concentration\")\n",
    "\n",
    "sw.save(dir_path='data/modulation',name='DA-ACh.json')\n"
   ]
  },
  {
   "cell_type": "code",
   "execution_count": null,
   "metadata": {},
   "outputs": [],
   "source": [
    "# Set up neuromodulation per synapse\n",
    "\n",
    "from snudda.neuromodulation.modulation_synapse import  NeuromodulationSynapse\n",
    "\n",
    "sw = NeuromodulationSynapse()\n",
    "sw.set_weight(weight=0)\n",
    "\n",
    "# Acetylcholine\n",
    "\n",
    "sw.set_connection_type(connector=\"concACh\", neuromodulation_key=\"ACh\")\n",
    "\n",
    "sw.add_cell_modulation(neuromodulation_key=\"ACh\",\n",
    "                       cell=\"dSPN\",\n",
    "                       ion_channels={\n",
    "                           \"soma\": [\"kir_ms\", \"cal12_ms\", \"cal13_ms\", \"can_ms\", \"Im_ms\"],\n",
    "                           \"dendrite\": [\"kir_ms\", \"cal12_ms\", \"cal13_ms\"]},\n",
    "                       type_connection=\"spiking-concentration\")\n",
    "\n",
    "# Dopamine\n",
    "\n",
    "sw.set_connection_type(connector=\"concDA\", neuromodulation_key=\"DA\")\n",
    "\n",
    "sw.add_cell_modulation(neuromodulation_key=\"DA\",\n",
    "                       cell=\"dSPN\",\n",
    "                       ion_channels={\n",
    "                           \"soma\": [\"kas_ms\", \"kaf_ms\", \"can_ms\"],\n",
    "                           \"dendrite\": [\"kaf_ms\", \"kas_ms\"],\n",
    "                           \"axon\": []},\n",
    "                       receptors={\"tmGabaA\": {\"maxMod\": 0.8},\n",
    "                                  \"tmGlut\": {\"maxMod_AMPA\": 1.2,\n",
    "                                             \"maxMod_NMDA\": 1.3,\n",
    "                                             \"failRate\": 0.7}},\n",
    "                       extrinsic=[\"CorticalBase\", \"CorticalSignal\", \"Thalamic\"],\n",
    "                       type_connection=\"spiking-concentration\")\n",
    "\n",
    "sw.save(dir_path='data/modulation',name='DA-ACh-control.json')"
   ]
  },
  {
   "cell_type": "markdown",
   "metadata": {},
   "source": [
    "Compile the mechanisms used in the simulation"
   ]
  },
  {
   "cell_type": "code",
   "execution_count": null,
   "metadata": {
    "scrolled": true,
    "tags": []
   },
   "outputs": [],
   "source": [
    "!rm -r x86_64/\n",
    "!nrnivmodl mechanisms-modulation-ptr/"
   ]
  },
  {
   "cell_type": "markdown",
   "metadata": {},
   "source": [
    "Restart the kernel (if the assembly and generation of input and simulation are in different notebooks - THIS STEP IS NOT NEEDED)"
   ]
  },
  {
   "cell_type": "code",
   "execution_count": null,
   "metadata": {},
   "outputs": [],
   "source": [
    "from IPython.display import display_html\n",
    "def restartkernel() :\n",
    "    display_html(\"<script>Jupyter.notebook.kernel.restart()</script>\",raw=True)\n",
    "restartkernel()\n"
   ]
  },
  {
   "cell_type": "code",
   "execution_count": null,
   "metadata": {},
   "outputs": [],
   "source": [
    "from snudda.input import SnuddaInput\n",
    "import os\n",
    "\n",
    "os.environ[\"SNUDDA_DATA\"] = 'data'\n",
    "\n",
    "network_path = 'dopamine-acetylcholine-adaptive-trial-network'\n",
    "\n",
    "si = SnuddaInput(network_path=network_path, \n",
    "                 input_config_file=os.path.join(\"data\",\"external_input\",\"external-input-trial.json\"),\n",
    "                 verbose=False)\n",
    "si.generate()"
   ]
  },
  {
   "cell_type": "markdown",
   "metadata": {},
   "source": [
    "We then simulate the dopamine-acetylcholine and control case using Snudda"
   ]
  },
  {
   "cell_type": "code",
   "execution_count": null,
   "metadata": {},
   "outputs": [],
   "source": [
    "import os\n",
    "\n",
    "os.environ[\"SNUDDA_DATA\"] = 'data'"
   ]
  },
  {
   "cell_type": "code",
   "execution_count": null,
   "metadata": {
    "scrolled": true,
    "tags": []
   },
   "outputs": [],
   "source": [
    "!mpiexec -n 4 snudda simulate dopamine-acetylcholine-adaptive-trial-network --time 3.0 --outputFile 'dopamine-acetylcholine-adaptive-trial-network/simulation/network-voltage-DA-ACh-trial.hdf5' --neuromodulation \"data/modulation/DA-ACh.json\""
   ]
  },
  {
   "cell_type": "code",
   "execution_count": null,
   "metadata": {},
   "outputs": [],
   "source": [
    "!mpiexec -n 4 snudda simulate dopamine-acetylcholine-adaptive-trial-network --time 3.0 --outputFile 'dopamine-acetylcholine-adaptive-trial-network/simulation/network-voltage-DA-ACh-trial-control.hdf5' --neuromodulation data/modulation/DA-ACh-control.json"
   ]
  },
  {
   "cell_type": "markdown",
   "metadata": {},
   "source": [
    "Following the simulation, we plot the simulations individually using code from snudda. First, the dopamine-acetylcholine modulated simulation"
   ]
  },
  {
   "cell_type": "code",
   "execution_count": null,
   "metadata": {},
   "outputs": [],
   "source": [
    "from snudda.plotting.plot_traces import PlotTraces\n",
    "import os\n",
    "\n",
    "plot_offset = 0  \n",
    "skip_time = 0  \n",
    "num_traces_max = 10\n",
    "\n",
    "network_path = 'dopamine-acetylcholine-adaptive-trial-network'\n",
    "network_file = os.path.join(network_path, \"network-synapses.hdf5\")\n",
    "volt_file_name = os.path.join(network_path, \"simulation\", \"network-voltage-DA-ACh-trial.csv\")\n",
    "\n",
    "pl = PlotTraces(file_name=volt_file_name,network_file=network_file)\n",
    "\n",
    "pl.plotTraceNeuronType(neuron_type=\"dSPN\", num_traces=num_traces_max, offset=plot_offset, skip_time=skip_time)\n",
    "pl.plotTraceNeuronType(neuron_type=\"iSPN\", num_traces=num_traces_max, offset=plot_offset, skip_time=skip_time)\n",
    "pl.plotTraceNeuronType(neuron_type=\"FSN\", num_traces=num_traces_max, offset=plot_offset, skip_time=skip_time)\n"
   ]
  },
  {
   "cell_type": "markdown",
   "metadata": {},
   "source": [
    "Second, we plot the control simulation. "
   ]
  },
  {
   "cell_type": "code",
   "execution_count": null,
   "metadata": {},
   "outputs": [],
   "source": [
    "from snudda.plotting.plot_traces import PlotTraces\n",
    "import os\n",
    "\n",
    "plot_offset = 0  \n",
    "skip_time = 0  \n",
    "num_traces_max = 10\n",
    "\n",
    "network_path = 'dopamine-acetylcholine-adaptive-trial-network'\n",
    "network_file = os.path.join(network_path, \"network-synapses.hdf5\")\n",
    "volt_file_name = os.path.join(network_path, \"simulation\", \"network-voltage-DA-ACh-trial-control.csv\")\n",
    "\n",
    "pl = PlotTraces(file_name=volt_file_name,network_file=network_file)\n",
    "\n",
    "pl.plotTraceNeuronType(neuron_type=\"dSPN\", num_traces=num_traces_max, offset=plot_offset, skip_time=skip_time)\n",
    "pl.plotTraceNeuronType(neuron_type=\"iSPN\", num_traces=num_traces_max, offset=plot_offset, skip_time=skip_time)\n",
    "pl.plotTraceNeuronType(neuron_type=\"FSN\", num_traces=num_traces_max, offset=plot_offset, skip_time=skip_time)\n"
   ]
  },
  {
   "cell_type": "markdown",
   "metadata": {},
   "source": [
    "We need load and plot control (black) and dopamine/acetylcholine modulated (red). We see clear effect on dSPN, which should depolarise upon dopamine modulation and the tonic depolarisation following muscarinic modulation, while iSPN do not have a clear effect from dopamine, but muscarinic modulation is tonic and depolarises the cell. FS have quite a large response to dopamine modulation, which is also seen in the network"
   ]
  },
  {
   "cell_type": "code",
   "execution_count": null,
   "metadata": {},
   "outputs": [],
   "source": [
    "from plot import plot_dopamine_acetylcholine_control\n",
    "from compare import compareTraces\n",
    "\n",
    "fn = ['dopamine-acetylcholine-adaptive-trial-network/simulation/network-voltage-DA-ACh-trial-control.csv',\\\n",
    "     'dopamine-acetylcholine-adaptive-trial-network/simulation/network-voltage-DA-ACh-trial.csv']\n",
    "\n",
    "nf = ['dopamine-acetylcholine-adaptive-trial-network/network-synapses.hdf5',\\\n",
    "     'dopamine-acetylcholine-adaptive-trial-network/network-synapses.hdf5']\n",
    "\n",
    "\n",
    "kl = compareTraces(fileNames=fn,\\\n",
    "                      networkFiles=nf,labels=['control', 'DA','DA-ACh'],colours=['black','purple'])\n"
   ]
  },
  {
   "cell_type": "code",
   "execution_count": null,
   "metadata": {},
   "outputs": [],
   "source": [
    "plot_dopamine_acetylcholine_control(kl,type_cell='dSPN')\n"
   ]
  },
  {
   "cell_type": "code",
   "execution_count": null,
   "metadata": {},
   "outputs": [],
   "source": []
  }
 ],
 "metadata": {
  "kernelspec": {
   "display_name": "Python 3",
   "language": "python",
   "name": "python3"
  },
  "language_info": {
   "codemirror_mode": {
    "name": "ipython",
    "version": 3
   },
   "file_extension": ".py",
   "mimetype": "text/x-python",
   "name": "python",
   "nbconvert_exporter": "python",
   "pygments_lexer": "ipython3",
   "version": "3.7.10"
  }
 },
 "nbformat": 4,
 "nbformat_minor": 4
}
