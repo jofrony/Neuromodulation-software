{
 "cells": [
  {
   "cell_type": "markdown",
   "metadata": {},
   "source": [
    "### Set the modulation : Muscarinic (M1 (mainly) and M4 receptor)"
   ]
  },
  {
   "cell_type": "code",
   "execution_count": 7,
   "metadata": {},
   "outputs": [],
   "source": [
    "from neuromodulation.modulation_set import defineModulation"
   ]
  },
  {
   "cell_type": "markdown",
   "metadata": {},
   "source": [
    "### Neuromodulation set up"
   ]
  },
  {
   "cell_type": "markdown",
   "metadata": {},
   "source": [
    "#### parameter ID : 0"
   ]
  },
  {
   "cell_type": "code",
   "execution_count": 8,
   "metadata": {},
   "outputs": [
    {
     "data": {
      "text/plain": [
       "PosixPath('dspn/str-dspn-e150917_c6_D1-m21-6-DE-v20210212/acetylcholine/ID_0')"
      ]
     },
     "execution_count": 8,
     "metadata": {},
     "output_type": "execute_result"
    }
   ],
   "source": [
    "cellTypefolder = '../../single_cell_models/HBP-2021Q1/striatum/dspn/str-dspn-e150917_c6_D1-m21-6-DE-v20210212/'\n",
    "out_put_dir = 'dspn/str-dspn-e150917_c6_D1-m21-6-DE-v20210212/'\n",
    "\n",
    "parameterID = 0\n",
    "ModSet = defineModulation(parameterID = parameterID)\n",
    "ModSet.cell_name('dSPN')\n",
    "ModSet.define_neuromodulation(modulationB = \"acetylcholine\")\n",
    "ModSet.new_modulation_dir(out_put_dir)\n",
    "ModSet.tstop = 1000\n",
    "ModSet.set_time_step(dt=0.025)\n",
    "ModSet.population = 1000\n",
    "ModSet.cellDir = cellTypefolder\n",
    "\n",
    "ModSet.define_modulation_parameter('naf','acetylcholine','all', [1,1.2])\n",
    "\n",
    "\n",
    "ModSet.define_modulation_parameter('kaf','acetylcholine','basal', [-10,0])\n",
    "ModSet.define_modulation_parameter('kir','acetylcholine','basal', [0.8,1])\n",
    "ModSet.define_modulation_parameter('cal12','acetylcholine','basal', [0.3,0.7])\n",
    "ModSet.define_modulation_parameter('cal13','acetylcholine','basal', [0.3,0.7])\n",
    "\n",
    "\n",
    "\n",
    "ModSet.define_modulation_parameter('kaf','acetylcholine','somatic', [-10,0])\n",
    "ModSet.define_modulation_parameter('kir','acetylcholine','somatic', [0.8,1])\n",
    "ModSet.define_modulation_parameter('cal12','acetylcholine','somatic', [0.3,0.7])\n",
    "ModSet.define_modulation_parameter('cal13','acetylcholine','somatic', [0.3,0.7])\n",
    "ModSet.define_modulation_parameter('can','acetylcholine','somatic', [0.65,0.85])\n",
    "ModSet.define_modulation_parameter('Im','acetylcholine','axonal', [0,0.4])\n",
    "\n",
    "ModSet.define_modulation_function(modulation_function = {\"function\" : \"bath_application\",\"gmax\" : 1})\n",
    "ModSet.define_protocol(typeEx = 'current_clamp', parameters = {\"start\" : 0,\"duration\" : 1000 , \"amp\" : 0.01})\n",
    "ModSet.define_protocol(typeEx = 'current_clamp', parameters = {\"start\" : 200,\"duration\" : 500 , \"amp\" : 0.356})\n",
    "ModSet.define_selection_criteria(function = \"number_AP_increase\", criteria ={ \"selection\" : {\"mean\" : 6, \"std\" : 3, \"threshold\":1.5}, \"parameters\" : { \"tstart\":200,\"tstop\": 700}})\n",
    "ModSet.save_modulation_setup()\n",
    "ModSet.save_modulation()\n",
    "ModSet.neuromodulationDir"
   ]
  },
  {
   "cell_type": "markdown",
   "metadata": {},
   "source": [
    "#### parameter ID : 1"
   ]
  },
  {
   "cell_type": "code",
   "execution_count": 9,
   "metadata": {},
   "outputs": [
    {
     "data": {
      "text/plain": [
       "PosixPath('dspn/str-dspn-e150917_c6_D1-m21-6-DE-v20210212/acetylcholine/ID_1')"
      ]
     },
     "execution_count": 9,
     "metadata": {},
     "output_type": "execute_result"
    }
   ],
   "source": [
    "cellTypefolder = '../../single_cell_models/HBP-2021Q1/striatum/dspn/str-dspn-e150917_c6_D1-m21-6-DE-v20210212/'\n",
    "out_put_dir = 'dspn/str-dspn-e150917_c6_D1-m21-6-DE-v20210212/'\n",
    "\n",
    "parameterID = 1\n",
    "ModSet = defineModulation(parameterID = parameterID)\n",
    "ModSet.cell_name('dSPN')\n",
    "ModSet.define_neuromodulation(modulationB = \"acetylcholine\")\n",
    "ModSet.new_modulation_dir(out_put_dir)\n",
    "ModSet.tstop = 1000\n",
    "ModSet.set_time_step(dt=0.025)\n",
    "ModSet.population = 1000\n",
    "ModSet.cellDir = cellTypefolder\n",
    "\n",
    "ModSet.define_modulation_parameter('naf','acetylcholine','all', [1,1.2])\n",
    "\n",
    "\n",
    "ModSet.define_modulation_parameter('kaf','acetylcholine','basal', [-10,0])\n",
    "ModSet.define_modulation_parameter('kir','acetylcholine','basal', [0.8,1])\n",
    "ModSet.define_modulation_parameter('cal12','acetylcholine','basal', [0.3,0.7])\n",
    "ModSet.define_modulation_parameter('cal13','acetylcholine','basal', [0.3,0.7])\n",
    "\n",
    "\n",
    "\n",
    "ModSet.define_modulation_parameter('kaf','acetylcholine','somatic', [-10,0])\n",
    "ModSet.define_modulation_parameter('kir','acetylcholine','somatic', [0.8,1])\n",
    "ModSet.define_modulation_parameter('cal12','acetylcholine','somatic', [0.3,0.7])\n",
    "ModSet.define_modulation_parameter('cal13','acetylcholine','somatic', [0.3,0.7])\n",
    "ModSet.define_modulation_parameter('can','acetylcholine','somatic', [0.65,0.85])\n",
    "ModSet.define_modulation_parameter('Im','acetylcholine','axonal', [0,0.4])\n",
    "\n",
    "ModSet.define_modulation_function(modulation_function = {\"function\" : \"bath_application\",\"gmax\" : 1})\n",
    "ModSet.define_protocol(typeEx = 'current_clamp', parameters = {\"start\" : 0,\"duration\" : 1000 , \"amp\" : 0.01})\n",
    "ModSet.define_protocol(typeEx = 'current_clamp', parameters = {\"start\" : 200,\"duration\" : 500 , \"amp\" : 0.356})\n",
    "ModSet.define_selection_criteria(function = \"number_AP_increase\", criteria ={ \"selection\" : {\"mean\" : 6, \"std\" : 3, \"threshold\":1.5}, \"parameters\" : { \"tstart\":200,\"tstop\": 700}})\n",
    "ModSet.save_modulation_setup()\n",
    "ModSet.save_modulation()\n",
    "ModSet.neuromodulationDir"
   ]
  },
  {
   "cell_type": "markdown",
   "metadata": {},
   "source": [
    "## Optimise the modulated models "
   ]
  },
  {
   "cell_type": "code",
   "execution_count": 5,
   "metadata": {},
   "outputs": [],
   "source": [
    "# !nrnivmodl mechanisms-dspn/"
   ]
  },
  {
   "cell_type": "code",
   "execution_count": 5,
   "metadata": {},
   "outputs": [],
   "source": [
    "parameterIDmodel = 'dspn/str-dspn-e150917_c6_D1-m21-6-DE-v20210212/acetylcholine/ID_' + str(parameterID)\n",
    "seed = 12345"
   ]
  },
  {
   "cell_type": "code",
   "execution_count": 6,
   "metadata": {},
   "outputs": [
    {
     "name": "stdout",
     "output_type": "stream",
     "text": [
      "numprocs=4\n",
      "Seconds = 112.71531701087952\n",
      "Seconds = 112.71500325202942\n",
      "Seconds = 112.715322971344\n",
      "/home/jofrony/miniconda3/envs/py37/lib/python3.7/site-packages/bluepyopt/ephys/simulators.py:74: UserWarning: Unable to find Neuron hoc shared library in /usr/local/nrn/lib/python/neuron, not disabling banner\n",
      "  'not disabling banner' % nrnpy_path)\n",
      "/home/jofrony/miniconda3/envs/py37/lib/python3.7/site-packages/bluepyopt/ephys/simulators.py:74: UserWarning: Unable to find Neuron hoc shared library in /usr/local/nrn/lib/python/neuron, not disabling banner\n",
      "  'not disabling banner' % nrnpy_path)\n",
      "/home/jofrony/miniconda3/envs/py37/lib/python3.7/site-packages/bluepyopt/ephys/simulators.py:74: UserWarning: Unable to find Neuron hoc shared library in /usr/local/nrn/lib/python/neuron, not disabling banner\n",
      "  'not disabling banner' % nrnpy_path)\n",
      "Models passed   0\n",
      "/home/jofrony/miniconda3/envs/py37/lib/python3.7/site-packages/bluepyopt/ephys/simulators.py:74: UserWarning: Unable to find Neuron hoc shared library in /usr/local/nrn/lib/python/neuron, not disabling banner\n",
      "  'not disabling banner' % nrnpy_path)\n",
      "Seconds = 113.30603575706482\n"
     ]
    }
   ],
   "source": [
    "!mpiexec -n 4 python optimise_dspn.py $parameterIDmodel $seed"
   ]
  },
  {
   "cell_type": "code",
   "execution_count": null,
   "metadata": {},
   "outputs": [],
   "source": []
  },
  {
   "cell_type": "code",
   "execution_count": null,
   "metadata": {},
   "outputs": [],
   "source": []
  },
  {
   "cell_type": "code",
   "execution_count": null,
   "metadata": {},
   "outputs": [],
   "source": []
  },
  {
   "cell_type": "code",
   "execution_count": null,
   "metadata": {},
   "outputs": [],
   "source": []
  },
  {
   "cell_type": "code",
   "execution_count": null,
   "metadata": {},
   "outputs": [],
   "source": []
  },
  {
   "cell_type": "code",
   "execution_count": null,
   "metadata": {},
   "outputs": [],
   "source": []
  },
  {
   "cell_type": "code",
   "execution_count": null,
   "metadata": {},
   "outputs": [],
   "source": []
  },
  {
   "cell_type": "code",
   "execution_count": null,
   "metadata": {},
   "outputs": [],
   "source": []
  },
  {
   "cell_type": "code",
   "execution_count": null,
   "metadata": {},
   "outputs": [],
   "source": []
  },
  {
   "cell_type": "code",
   "execution_count": null,
   "metadata": {},
   "outputs": [],
   "source": []
  },
  {
   "cell_type": "code",
   "execution_count": null,
   "metadata": {},
   "outputs": [],
   "source": []
  }
 ],
 "metadata": {
  "kernelspec": {
   "display_name": "Python 3",
   "language": "python",
   "name": "python3"
  },
  "language_info": {
   "codemirror_mode": {
    "name": "ipython",
    "version": 3
   },
   "file_extension": ".py",
   "mimetype": "text/x-python",
   "name": "python",
   "nbconvert_exporter": "python",
   "pygments_lexer": "ipython3",
   "version": "3.7.9"
  }
 },
 "nbformat": 4,
 "nbformat_minor": 4
}
