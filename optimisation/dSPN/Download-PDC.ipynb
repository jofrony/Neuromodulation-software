{
 "cells": [
  {
   "cell_type": "markdown",
   "metadata": {},
   "source": [
    "# Pack and download from PDC\n",
    "\n",
    "run....  tar -czvf folder.tar.gz folder/ "
   ]
  },
  {
   "cell_type": "markdown",
   "metadata": {},
   "source": [
    "# dSPN"
   ]
  },
  {
   "cell_type": "code",
   "execution_count": 3,
   "metadata": {},
   "outputs": [
    {
     "name": "stdout",
     "output_type": "stream",
     "text": [
      "dspnc10.tar.gz                                100% 2121MB  10.0MB/s   03:32    \n"
     ]
    }
   ],
   "source": [
    "!scp jofn@t04n27.pdc.kth.se:/cfs/klemming/nobackup/j/jofn/BasalGangliaExperiments/Neuromodulation/optimisation/dspnc10.tar.gz pdc/"
   ]
  },
  {
   "cell_type": "code",
   "execution_count": 4,
   "metadata": {},
   "outputs": [
    {
     "name": "stdout",
     "output_type": "stream",
     "text": [
      "dSPN/dspn/str-dspn-e150917_c10_D1-mWT-P270-20-v20210212/\n",
      "dSPN/dspn/str-dspn-e150917_c10_D1-mWT-P270-20-v20210212/acetylcholine/\n",
      "dSPN/dspn/str-dspn-e150917_c10_D1-mWT-P270-20-v20210212/acetylcholine/ID_0/\n",
      "dSPN/dspn/str-dspn-e150917_c10_D1-mWT-P270-20-v20210212/acetylcholine/ID_0/modulation.json\n",
      "dSPN/dspn/str-dspn-e150917_c10_D1-mWT-P270-20-v20210212/acetylcholine/ID_0/receptor_modulation_pass.json\n",
      "dSPN/dspn/str-dspn-e150917_c10_D1-mWT-P270-20-v20210212/acetylcholine/ID_0/modulation_setup.json\n",
      "dSPN/dspn/str-dspn-e150917_c10_D1-mWT-P270-20-v20210212/acetylcholine/ID_0/voltage_modulation_pass.csv\n",
      "dSPN/dspn/str-dspn-e150917_c10_D1-mWT-P270-20-v20210212/acetylcholine/ID_0/modulation_pass.json\n",
      "dSPN/dspn/str-dspn-e150917_c10_D1-mWT-P270-20-v20210212/acetylcholine/ID_0/voltages.csv\n",
      "dSPN/dspn/str-dspn-e150917_c10_D1-mWT-P270-20-v20210212/acetylcholine/ID_0/modulations.json\n",
      "dSPN/dspn/str-dspn-e150917_c10_D1-mWT-P270-20-v20210212/acetylcholine/ID_1/\n",
      "dSPN/dspn/str-dspn-e150917_c10_D1-mWT-P270-20-v20210212/acetylcholine/ID_1/modulation.json\n",
      "dSPN/dspn/str-dspn-e150917_c10_D1-mWT-P270-20-v20210212/acetylcholine/ID_1/receptor_modulation_pass.json\n",
      "dSPN/dspn/str-dspn-e150917_c10_D1-mWT-P270-20-v20210212/acetylcholine/ID_1/control_1.pdf\n",
      "dSPN/dspn/str-dspn-e150917_c10_D1-mWT-P270-20-v20210212/acetylcholine/ID_1/modulation_setup.json\n",
      "dSPN/dspn/str-dspn-e150917_c10_D1-mWT-P270-20-v20210212/acetylcholine/ID_1/voltage_modulation_pass.csv\n",
      "dSPN/dspn/str-dspn-e150917_c10_D1-mWT-P270-20-v20210212/acetylcholine/ID_1/modulation_pass.json\n",
      "dSPN/dspn/str-dspn-e150917_c10_D1-mWT-P270-20-v20210212/acetylcholine/ID_1/voltages.csv\n",
      "dSPN/dspn/str-dspn-e150917_c10_D1-mWT-P270-20-v20210212/acetylcholine/ID_1/modulations.json\n",
      "dSPN/dspn/str-dspn-e150917_c10_D1-mWT-P270-20-v20210212/acetylcholine/ID_1/example_1.pdf\n",
      "dSPN/dspn/str-dspn-e150917_c10_D1-mWT-P270-20-v20210212/acetylcholine/ID_2/\n",
      "dSPN/dspn/str-dspn-e150917_c10_D1-mWT-P270-20-v20210212/acetylcholine/ID_2/modulation.json\n",
      "dSPN/dspn/str-dspn-e150917_c10_D1-mWT-P270-20-v20210212/acetylcholine/ID_2/receptor_modulation_pass.json\n",
      "dSPN/dspn/str-dspn-e150917_c10_D1-mWT-P270-20-v20210212/acetylcholine/ID_2/validated_2.pdf\n",
      "dSPN/dspn/str-dspn-e150917_c10_D1-mWT-P270-20-v20210212/acetylcholine/ID_2/modulation_setup.json\n",
      "dSPN/dspn/str-dspn-e150917_c10_D1-mWT-P270-20-v20210212/acetylcholine/ID_2/voltage_modulation_pass.csv\n",
      "dSPN/dspn/str-dspn-e150917_c10_D1-mWT-P270-20-v20210212/acetylcholine/ID_2/example_2.pdf\n",
      "dSPN/dspn/str-dspn-e150917_c10_D1-mWT-P270-20-v20210212/acetylcholine/ID_2/modulation_pass.json\n",
      "dSPN/dspn/str-dspn-e150917_c10_D1-mWT-P270-20-v20210212/acetylcholine/ID_2/control_2.pdf\n",
      "dSPN/dspn/str-dspn-e150917_c10_D1-mWT-P270-20-v20210212/acetylcholine/ID_2/voltages.csv\n",
      "dSPN/dspn/str-dspn-e150917_c10_D1-mWT-P270-20-v20210212/acetylcholine/ID_2/modulations.json\n",
      "dSPN/dspn/str-dspn-e150917_c10_D1-mWT-P270-20-v20210212/dopamine/\n",
      "dSPN/dspn/str-dspn-e150917_c10_D1-mWT-P270-20-v20210212/dopamine/ID_0/\n",
      "dSPN/dspn/str-dspn-e150917_c10_D1-mWT-P270-20-v20210212/dopamine/ID_0/modulation.json\n",
      "dSPN/dspn/str-dspn-e150917_c10_D1-mWT-P270-20-v20210212/dopamine/ID_0/receptor_modulation_pass.json\n",
      "dSPN/dspn/str-dspn-e150917_c10_D1-mWT-P270-20-v20210212/dopamine/ID_0/modulation_setup.json\n",
      "dSPN/dspn/str-dspn-e150917_c10_D1-mWT-P270-20-v20210212/dopamine/ID_0/voltage_modulation_pass.csv\n",
      "dSPN/dspn/str-dspn-e150917_c10_D1-mWT-P270-20-v20210212/dopamine/ID_0/modulation_pass.json\n",
      "dSPN/dspn/str-dspn-e150917_c10_D1-mWT-P270-20-v20210212/dopamine/ID_0/voltages.csv\n",
      "dSPN/dspn/str-dspn-e150917_c10_D1-mWT-P270-20-v20210212/dopamine/ID_0/modulations.json\n",
      "dSPN/dspn/str-dspn-e150917_c10_D1-mWT-P270-20-v20210212/dopamine/ID_1/\n",
      "dSPN/dspn/str-dspn-e150917_c10_D1-mWT-P270-20-v20210212/dopamine/ID_1/modulation.json\n",
      "dSPN/dspn/str-dspn-e150917_c10_D1-mWT-P270-20-v20210212/dopamine/ID_1/receptor_modulation_pass.json\n",
      "dSPN/dspn/str-dspn-e150917_c10_D1-mWT-P270-20-v20210212/dopamine/ID_1/modulation_setup.json\n",
      "dSPN/dspn/str-dspn-e150917_c10_D1-mWT-P270-20-v20210212/dopamine/ID_1/voltage_modulation_pass.csv\n",
      "dSPN/dspn/str-dspn-e150917_c10_D1-mWT-P270-20-v20210212/dopamine/ID_1/modulation_pass.json\n",
      "dSPN/dspn/str-dspn-e150917_c10_D1-mWT-P270-20-v20210212/dopamine/ID_1/voltages.csv\n",
      "dSPN/dspn/str-dspn-e150917_c10_D1-mWT-P270-20-v20210212/dopamine/ID_1/modulations.json\n",
      "dSPN/dspn/str-dspn-e150917_c10_D1-mWT-P270-20-v20210212/dopamine/ID_2/\n",
      "dSPN/dspn/str-dspn-e150917_c10_D1-mWT-P270-20-v20210212/dopamine/ID_2/modulation.json\n",
      "dSPN/dspn/str-dspn-e150917_c10_D1-mWT-P270-20-v20210212/dopamine/ID_2/receptor_modulation_pass.json\n",
      "dSPN/dspn/str-dspn-e150917_c10_D1-mWT-P270-20-v20210212/dopamine/ID_2/validated_2.pdf\n",
      "dSPN/dspn/str-dspn-e150917_c10_D1-mWT-P270-20-v20210212/dopamine/ID_2/modulation_setup.json\n",
      "dSPN/dspn/str-dspn-e150917_c10_D1-mWT-P270-20-v20210212/dopamine/ID_2/voltage_modulation_pass.csv\n",
      "dSPN/dspn/str-dspn-e150917_c10_D1-mWT-P270-20-v20210212/dopamine/ID_2/example_2.pdf\n",
      "dSPN/dspn/str-dspn-e150917_c10_D1-mWT-P270-20-v20210212/dopamine/ID_2/modulation_pass.json\n",
      "dSPN/dspn/str-dspn-e150917_c10_D1-mWT-P270-20-v20210212/dopamine/ID_2/control_2.pdf\n",
      "dSPN/dspn/str-dspn-e150917_c10_D1-mWT-P270-20-v20210212/dopamine/ID_2/voltages.csv\n",
      "dSPN/dspn/str-dspn-e150917_c10_D1-mWT-P270-20-v20210212/dopamine/ID_2/modulations.json\n",
      "dSPN/dspn/str-dspn-e150917_c10_D1-mWT-P270-20-v20210212/dopamine/ID_3/\n",
      "dSPN/dspn/str-dspn-e150917_c10_D1-mWT-P270-20-v20210212/dopamine/ID_3/modulation.json\n",
      "dSPN/dspn/str-dspn-e150917_c10_D1-mWT-P270-20-v20210212/dopamine/ID_3/modulation_setup.json\n"
     ]
    }
   ],
   "source": [
    "!tar -xzvf pdc/dspnc10.tar.gz -C pdc/"
   ]
  },
  {
   "cell_type": "code",
   "execution_count": null,
   "metadata": {},
   "outputs": [],
   "source": []
  }
 ],
 "metadata": {
  "kernelspec": {
   "display_name": "Python 3",
   "language": "python",
   "name": "python3"
  },
  "language_info": {
   "codemirror_mode": {
    "name": "ipython",
    "version": 3
   },
   "file_extension": ".py",
   "mimetype": "text/x-python",
   "name": "python",
   "nbconvert_exporter": "python",
   "pygments_lexer": "ipython3",
   "version": "3.7.9"
  }
 },
 "nbformat": 4,
 "nbformat_minor": 4
}
