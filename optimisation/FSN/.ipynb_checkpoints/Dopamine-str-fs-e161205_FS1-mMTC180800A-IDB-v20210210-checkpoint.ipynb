{
 "cells": [
  {
   "cell_type": "markdown",
   "metadata": {},
   "source": [
    "### Set the modulation : Dopamine ( D1 receptor)"
   ]
  },
  {
   "cell_type": "code",
   "execution_count": 1,
   "metadata": {},
   "outputs": [],
   "source": [
    "from neuromodulation.modulation_set import defineModulation"
   ]
  },
  {
   "cell_type": "markdown",
   "metadata": {},
   "source": [
    "### Neuromodulation set up"
   ]
  },
  {
   "cell_type": "markdown",
   "metadata": {},
   "source": [
    "#### parameter ID : 0"
   ]
  },
  {
   "cell_type": "code",
   "execution_count": 2,
   "metadata": {},
   "outputs": [
    {
     "data": {
      "text/plain": [
       "PosixPath('fsn/str-fs-e161205_FS1-mMTC180800A-IDB-v20210210/dopamine/ID_0')"
      ]
     },
     "execution_count": 2,
     "metadata": {},
     "output_type": "execute_result"
    }
   ],
   "source": [
    "cellTypefolder = '../../single_cell_models/HBP-2021Q1/FSN/str-fs-e161205_FS1-mMTC180800A-IDB-v20210210/'\n",
    "out_put_dir = 'fsn/str-fs-e161205_FS1-mMTC180800A-IDB-v20210210/'\n",
    "parameterID = 0\n",
    "ModSet = defineModulation(parameterID = parameterID)\n",
    "ModSet.cell_name('FSN')\n",
    "ModSet.define_neuromodulation(modulationA = \"dopamine\")\n",
    "ModSet.new_modulation_dir(out_put_dir)\n",
    "ModSet.tstop = 1000\n",
    "ModSet.set_time_step(dt=0.025)\n",
    "ModSet.population = 200\n",
    "ModSet.cellDir = cellTypefolder\n",
    "\n",
    "ModSet.define_modulation_parameter('kir',\"dopamine\",'somatic', [0.7,0.9])\n",
    "ModSet.define_modulation_parameter('kir',\"dopamine\",'basal', [0.7,0.9])\n",
    "ModSet.define_modulation_parameter('kas',\"dopamine\",'somatic', [0.7,1.0])\n",
    "ModSet.define_modulation_parameter('kaf',\"dopamine\",'somatic', [0.95,1.05])\n",
    "ModSet.define_modulation_parameter('naf',\"dopamine\",'somatic', [0.95,1.05])\n",
    "\n",
    "ModSet.define_modulation_function(modulation_function = {\"function\" : \"step\",\"gmax\" : 1,'tstart' : 200, 'duration' :600})\n",
    "ModSet.define_protocol(typeEx = 'current_clamp', parameters = {\"start\" : 0,\"duration\" : 1000 , \"amp\" : 0.2})\n",
    "\n",
    "ModSet.define_selection_criteria(function = \"membrane_amplitude_increase\", criteria ={ \"selection\" : {\"mean\" : 7, \"std\" : 2.5, \"threshold\":1.5}, \"parameters\" : {'start_base' : 50, 'stop_base': 100, 'start_measure' : 300, 'stop_measure' : 500}})\n",
    "\n",
    "ModSet.save_modulation_setup()\n",
    "ModSet.save_modulation()\n",
    "ModSet.neuromodulationDir"
   ]
  },
  {
   "cell_type": "markdown",
   "metadata": {},
   "source": [
    "#### parameter ID : 1"
   ]
  },
  {
   "cell_type": "code",
   "execution_count": 3,
   "metadata": {},
   "outputs": [
    {
     "data": {
      "text/plain": [
       "PosixPath('fsn/str-fs-e161205_FS1-mMTC180800A-IDB-v20210210/dopamine/ID_1')"
      ]
     },
     "execution_count": 3,
     "metadata": {},
     "output_type": "execute_result"
    }
   ],
   "source": [
    "cellTypefolder = '../../single_cell_models/HBP-2021Q1/FSN/str-fs-e161205_FS1-mMTC180800A-IDB-v20210210/'\n",
    "out_put_dir = 'fsn/str-fs-e161205_FS1-mMTC180800A-IDB-v20210210/'\n",
    "parameterID = 1\n",
    "ModSet = defineModulation(parameterID = parameterID)\n",
    "ModSet.cell_name('FSN')\n",
    "ModSet.define_neuromodulation(modulationA = \"dopamine\")\n",
    "ModSet.new_modulation_dir(out_put_dir)\n",
    "ModSet.tstop = 1000\n",
    "ModSet.set_time_step(dt=0.025)\n",
    "ModSet.population = 200\n",
    "ModSet.cellDir = cellTypefolder\n",
    "\n",
    "ModSet.define_modulation_parameter('kir',\"dopamine\",'somatic', [0.7,0.9])\n",
    "ModSet.define_modulation_parameter('kir',\"dopamine\",'basal', [0.7,0.9])\n",
    "ModSet.define_modulation_parameter('kas',\"dopamine\",'somatic', [0.7,1.0])\n",
    "ModSet.define_modulation_parameter('kaf',\"dopamine\",'somatic', [0.95,1.05])\n",
    "ModSet.define_modulation_parameter('naf',\"dopamine\",'somatic', [0.95,1.05])\n",
    "\n",
    "ModSet.define_modulation_function(modulation_function = {\"function\" : \"step\",\"gmax\" : 1,'tstart' : 200, 'duration' :600})\n",
    "ModSet.define_protocol(typeEx = 'current_clamp', parameters = {\"start\" : 0,\"duration\" : 1000 , \"amp\" : 0.2})\n",
    "\n",
    "ModSet.define_selection_criteria(function = \"membrane_amplitude_increase\", criteria ={ \"selection\" : {\"mean\" : 7, \"std\" : 2.5, \"threshold\":1.5}, \"parameters\" : {'start_base' : 50, 'stop_base': 100, 'start_measure' : 300, 'stop_measure' : 500}})\n",
    "\n",
    "ModSet.save_modulation_setup()\n",
    "ModSet.save_modulation()\n",
    "ModSet.neuromodulationDir"
   ]
  },
  {
   "cell_type": "markdown",
   "metadata": {},
   "source": [
    "#### parameter ID : 2"
   ]
  },
  {
   "cell_type": "code",
   "execution_count": 4,
   "metadata": {},
   "outputs": [
    {
     "data": {
      "text/plain": [
       "PosixPath('fsn/str-fs-e161205_FS1-mMTC180800A-IDB-v20210210/dopamine/ID_2')"
      ]
     },
     "execution_count": 4,
     "metadata": {},
     "output_type": "execute_result"
    }
   ],
   "source": [
    "cellTypefolder = '../../single_cell_models/HBP-2021Q1/FSN/str-fs-e161205_FS1-mMTC180800A-IDB-v20210210/'\n",
    "out_put_dir = 'fsn/str-fs-e161205_FS1-mMTC180800A-IDB-v20210210/'\n",
    "parameterID = 2\n",
    "ModSet = defineModulation(parameterID = parameterID)\n",
    "ModSet.cell_name('FSN')\n",
    "ModSet.define_neuromodulation(modulationA = \"dopamine\")\n",
    "ModSet.new_modulation_dir(out_put_dir)\n",
    "ModSet.tstop = 1000\n",
    "ModSet.set_time_step(dt=0.025)\n",
    "ModSet.population = 200\n",
    "ModSet.cellDir = cellTypefolder\n",
    "\n",
    "ModSet.define_modulation_parameter('kir',\"dopamine\",'somatic', [0.7,0.9])\n",
    "ModSet.define_modulation_parameter('kir',\"dopamine\",'basal', [0.7,0.9])\n",
    "ModSet.define_modulation_parameter('kas',\"dopamine\",'somatic', [0.7,1.0])\n",
    "ModSet.define_modulation_parameter('kaf',\"dopamine\",'somatic', [0.95,1.05])\n",
    "ModSet.define_modulation_parameter('naf',\"dopamine\",'somatic', [0.95,1.05])\n",
    "\n",
    "ModSet.define_modulation_function(modulation_function = {\"function\" : \"step\",\"gmax\" : 1,'tstart' : 200, 'duration' :600})\n",
    "ModSet.define_protocol(typeEx = 'current_clamp', parameters = {\"start\" : 0,\"duration\" : 1000 , \"amp\" : 0.2})\n",
    "\n",
    "ModSet.define_selection_criteria(function = \"membrane_amplitude_increase\", criteria ={ \"selection\" : {\"mean\" : 7, \"std\" : 2.5, \"threshold\":1.5}, \"parameters\" : {'start_base' : 50, 'stop_base': 100, 'start_measure' : 300, 'stop_measure' : 500}})\n",
    "\n",
    "ModSet.save_modulation_setup()\n",
    "ModSet.save_modulation()\n",
    "ModSet.neuromodulationDir"
   ]
  },
  {
   "cell_type": "markdown",
   "metadata": {},
   "source": [
    "#### parameter ID : 3"
   ]
  },
  {
   "cell_type": "code",
   "execution_count": 5,
   "metadata": {},
   "outputs": [
    {
     "data": {
      "text/plain": [
       "PosixPath('fsn/str-fs-e161205_FS1-mMTC180800A-IDB-v20210210/dopamine/ID_3')"
      ]
     },
     "execution_count": 5,
     "metadata": {},
     "output_type": "execute_result"
    }
   ],
   "source": [
    "cellTypefolder = '../../single_cell_models/HBP-2021Q1/FSN/str-fs-e161205_FS1-mMTC180800A-IDB-v20210210/'\n",
    "out_put_dir = 'fsn/str-fs-e161205_FS1-mMTC180800A-IDB-v20210210/'\n",
    "parameterID = 3\n",
    "ModSet = defineModulation(parameterID = parameterID)\n",
    "ModSet.cell_name('FSN')\n",
    "ModSet.define_neuromodulation(modulationA = \"dopamine\")\n",
    "ModSet.new_modulation_dir(out_put_dir)\n",
    "ModSet.tstop = 1000\n",
    "ModSet.set_time_step(dt=0.025)\n",
    "ModSet.population = 200\n",
    "ModSet.cellDir = cellTypefolder\n",
    "\n",
    "ModSet.define_modulation_parameter('kir',\"dopamine\",'somatic', [0.7,0.9])\n",
    "ModSet.define_modulation_parameter('kir',\"dopamine\",'basal', [0.7,0.9])\n",
    "ModSet.define_modulation_parameter('kas',\"dopamine\",'somatic', [0.7,1.0])\n",
    "ModSet.define_modulation_parameter('kaf',\"dopamine\",'somatic', [0.95,1.05])\n",
    "ModSet.define_modulation_parameter('naf',\"dopamine\",'somatic', [0.95,1.05])\n",
    "\n",
    "ModSet.define_modulation_function(modulation_function = {\"function\" : \"step\",\"gmax\" : 1,'tstart' : 200, 'duration' :600})\n",
    "ModSet.define_protocol(typeEx = 'current_clamp', parameters = {\"start\" : 0,\"duration\" : 1000 , \"amp\" : 0.2})\n",
    "\n",
    "ModSet.define_selection_criteria(function = \"membrane_amplitude_increase\", criteria ={ \"selection\" : {\"mean\" : 7, \"std\" : 2.5, \"threshold\":1.5}, \"parameters\" : {'start_base' : 50, 'stop_base': 100, 'start_measure' : 300, 'stop_measure' : 500}})\n",
    "\n",
    "ModSet.save_modulation_setup()\n",
    "ModSet.save_modulation()\n",
    "ModSet.neuromodulationDir"
   ]
  },
  {
   "cell_type": "markdown",
   "metadata": {},
   "source": [
    "#### parameter ID : 4"
   ]
  },
  {
   "cell_type": "code",
   "execution_count": 6,
   "metadata": {},
   "outputs": [
    {
     "data": {
      "text/plain": [
       "PosixPath('fsn/str-fs-e161205_FS1-mMTC180800A-IDB-v20210210/dopamine/ID_4')"
      ]
     },
     "execution_count": 6,
     "metadata": {},
     "output_type": "execute_result"
    }
   ],
   "source": [
    "cellTypefolder = '../../single_cell_models/HBP-2021Q1/FSN/str-fs-e161205_FS1-mMTC180800A-IDB-v20210210/'\n",
    "out_put_dir = 'fsn/str-fs-e161205_FS1-mMTC180800A-IDB-v20210210/'\n",
    "parameterID = 4\n",
    "ModSet = defineModulation(parameterID = parameterID)\n",
    "ModSet.cell_name('FSN')\n",
    "ModSet.define_neuromodulation(modulationA = \"dopamine\")\n",
    "ModSet.new_modulation_dir(out_put_dir)\n",
    "ModSet.tstop = 1000\n",
    "ModSet.set_time_step(dt=0.025)\n",
    "ModSet.population = 200\n",
    "ModSet.cellDir = cellTypefolder\n",
    "\n",
    "ModSet.define_modulation_parameter('kir',\"dopamine\",'somatic', [0.7,0.9])\n",
    "ModSet.define_modulation_parameter('kir',\"dopamine\",'basal', [0.7,0.9])\n",
    "ModSet.define_modulation_parameter('kas',\"dopamine\",'somatic', [0.7,1.0])\n",
    "ModSet.define_modulation_parameter('kaf',\"dopamine\",'somatic', [0.95,1.05])\n",
    "ModSet.define_modulation_parameter('naf',\"dopamine\",'somatic', [0.95,1.05])\n",
    "\n",
    "ModSet.define_modulation_function(modulation_function = {\"function\" : \"step\",\"gmax\" : 1,'tstart' : 200, 'duration' :600})\n",
    "ModSet.define_protocol(typeEx = 'current_clamp', parameters = {\"start\" : 0,\"duration\" : 1000 , \"amp\" : 0.2})\n",
    "\n",
    "ModSet.define_selection_criteria(function = \"membrane_amplitude_increase\", criteria ={ \"selection\" : {\"mean\" : 7, \"std\" : 2.5, \"threshold\":1.5}, \"parameters\" : {'start_base' : 50, 'stop_base': 100, 'start_measure' : 300, 'stop_measure' : 500}})\n",
    "\n",
    "ModSet.save_modulation_setup()\n",
    "ModSet.save_modulation()\n",
    "ModSet.neuromodulationDir"
   ]
  },
  {
   "cell_type": "code",
   "execution_count": null,
   "metadata": {},
   "outputs": [],
   "source": []
  },
  {
   "cell_type": "markdown",
   "metadata": {},
   "source": [
    "## Optimise the modulated models "
   ]
  },
  {
   "cell_type": "code",
   "execution_count": 7,
   "metadata": {},
   "outputs": [
    {
     "name": "stdout",
     "output_type": "stream",
     "text": [
      "/home/jofrony/Documents/Repositories/BasalGangliaExperiments/Neuromodulation/optimisation/FSN\n",
      "ls: cannot access 'mechanisms-fsn//*.inc': No such file or directory\n",
      "mechanisms-fsn//bk.mod mechanisms-fsn//cadyn.mod mechanisms-fsn//can.mod mechanisms-fsn//caq.mod mechanisms-fsn//car.mod mechanisms-fsn//kaf.mod mechanisms-fsn//kas.mod mechanisms-fsn//kdr.mod mechanisms-fsn//kir.mod mechanisms-fsn//naf.mod mechanisms-fsn//sk.mod mechanisms-fsn//tmgabaa.mod mechanisms-fsn//tmglut_M1RH_D1.mod mechanisms-fsn//tmglut.mod mechanisms-fsn//vecevent.mod\n",
      "bk.mod cadyn.mod can.mod caq.mod car.mod kaf.mod kas.mod kdr.mod kir.mod naf.mod sk.mod tmgabaa.mod tmglut_M1RH_D1.mod tmglut.mod vecevent.mod\n",
      "\"/usr/local/nrn/share/nrn/libtool\" --tag=CC --mode=compile mpicc -DHAVE_CONFIG_H  -I. -I.. -I\"/usr/local/nrn/include/nrn\" -I\"/usr/local/nrn/x86_64/lib\"      -g -O2 -c -o mod_func.lo mod_func.c\n",
      "libtool: compile:  mpicc -DHAVE_CONFIG_H -I. -I.. -I/usr/local/nrn/include/nrn -I/usr/local/nrn/x86_64/lib -g -O2 -c mod_func.c  -fPIC -DPIC -o .libs/mod_func.o\n",
      "\"/usr/local/nrn/share/nrn/libtool\" --tag=CC --mode=link mpicc -module  -g -O2    -o libnrnmech.la -rpath \"/usr/local/nrn/x86_64/lib\"  bk.lo cadyn.lo can.lo caq.lo car.lo kaf.lo kas.lo kdr.lo kir.lo naf.lo sk.lo tmgabaa.lo tmglut_M1RH_D1.lo tmglut.lo vecevent.lo mod_func.lo  -L\"/usr/local/nrn/x86_64/lib\" -lnrnoc -loc -lmemacs -lnrnmpi -lscopmath -lsparse13 -lreadline -lncurses -ltinfo -L\"/usr/local/nrn/x86_64/lib\" -lnrniv -livoc -lneuron_gnu -lmeschach -lsundials       -lm -ldl\n",
      "libtool: link: rm -fr  .libs/libnrnmech.la .libs/libnrnmech.lai .libs/libnrnmech.so .libs/libnrnmech.so.0 .libs/libnrnmech.so.0.0.0\n",
      "libtool: link: mpicc -shared  -fPIC -DPIC  .libs/bk.o .libs/cadyn.o .libs/can.o .libs/caq.o .libs/car.o .libs/kaf.o .libs/kas.o .libs/kdr.o .libs/kir.o .libs/naf.o .libs/sk.o .libs/tmgabaa.o .libs/tmglut_M1RH_D1.o .libs/tmglut.o .libs/vecevent.o .libs/mod_func.o   -Wl,-rpath -Wl,/usr/local/nrn/x86_64/lib -Wl,-rpath -Wl,/usr/local/nrn/x86_64/lib -L/usr/local/nrn/x86_64/lib /usr/local/nrn/x86_64/lib/libnrnoc.so /usr/local/nrn/x86_64/lib/liboc.so -lX11 /usr/local/nrn/x86_64/lib/libmemacs.so /usr/local/nrn/x86_64/lib/libnrnmpi.so /usr/local/nrn/x86_64/lib/libscopmath.so /usr/local/nrn/x86_64/lib/libsparse13.so /usr/local/nrn/x86_64/lib/libreadline.so -lncurses -ltinfo /usr/local/nrn/x86_64/lib/libnrniv.so /usr/local/nrn/x86_64/lib/libivoc.so /usr/local/nrn/x86_64/lib/libneuron_gnu.so /usr/local/nrn/x86_64/lib/libmeschach.so /usr/local/nrn/x86_64/lib/libsundials.so -lm -ldl  -g -O2   -Wl,-soname -Wl,libnrnmech.so.0 -o .libs/libnrnmech.so.0.0.0\n",
      "libtool: link: (cd \".libs\" && rm -f \"libnrnmech.so.0\" && ln -s \"libnrnmech.so.0.0.0\" \"libnrnmech.so.0\")\n",
      "libtool: link: (cd \".libs\" && rm -f \"libnrnmech.so\" && ln -s \"libnrnmech.so.0.0.0\" \"libnrnmech.so\")\n",
      "libtool: link: ( cd \".libs\" && rm -f \"libnrnmech.la\" && ln -s \"../libnrnmech.la\" \"libnrnmech.la\" )\n",
      "Successfully created x86_64/special\n"
     ]
    }
   ],
   "source": [
    "!nrnivmodl mechanisms-fsn/"
   ]
  },
  {
   "cell_type": "code",
   "execution_count": 8,
   "metadata": {},
   "outputs": [],
   "source": [
    "parameterIDmodel = 'fsn/str-fs-e161205_FS1-mMTC180800A-IDB-v20210210/dopamine/ID_' + str(parameterID)\n",
    "seed = 12345"
   ]
  },
  {
   "cell_type": "code",
   "execution_count": 9,
   "metadata": {},
   "outputs": [
    {
     "name": "stdout",
     "output_type": "stream",
     "text": [
      "numprocs=4\n",
      "Seconds = 8.456484317779541\n",
      "/home/jofrony/miniconda3/envs/py37/lib/python3.7/site-packages/bluepyopt/ephys/simulators.py:74: UserWarning: Unable to find Neuron hoc shared library in /usr/local/nrn/lib/python/neuron, not disabling banner\n",
      "  'not disabling banner' % nrnpy_path)\n",
      "Seconds = 8.749094724655151\n",
      "Seconds = 8.491734504699707\n",
      "/home/jofrony/miniconda3/envs/py37/lib/python3.7/site-packages/bluepyopt/ephys/simulators.py:74: UserWarning: Unable to find Neuron hoc shared library in /usr/local/nrn/lib/python/neuron, not disabling banner\n",
      "  'not disabling banner' % nrnpy_path)\n",
      "/home/jofrony/miniconda3/envs/py37/lib/python3.7/site-packages/bluepyopt/ephys/simulators.py:74: UserWarning: Unable to find Neuron hoc shared library in /usr/local/nrn/lib/python/neuron, not disabling banner\n",
      "  'not disabling banner' % nrnpy_path)\n",
      "Models passed   3\n",
      "Seconds = 9.40052318572998\n",
      "/home/jofrony/miniconda3/envs/py37/lib/python3.7/site-packages/bluepyopt/ephys/simulators.py:74: UserWarning: Unable to find Neuron hoc shared library in /usr/local/nrn/lib/python/neuron, not disabling banner\n",
      "  'not disabling banner' % nrnpy_path)\n"
     ]
    }
   ],
   "source": [
    "!mpiexec -n 4 python optimise_fsn.py $parameterIDmodel $seed"
   ]
  },
  {
   "cell_type": "code",
   "execution_count": null,
   "metadata": {},
   "outputs": [],
   "source": []
  },
  {
   "cell_type": "code",
   "execution_count": null,
   "metadata": {},
   "outputs": [],
   "source": []
  }
 ],
 "metadata": {
  "kernelspec": {
   "display_name": "Python 3",
   "language": "python",
   "name": "python3"
  },
  "language_info": {
   "codemirror_mode": {
    "name": "ipython",
    "version": 3
   },
   "file_extension": ".py",
   "mimetype": "text/x-python",
   "name": "python",
   "nbconvert_exporter": "python",
   "pygments_lexer": "ipython3",
   "version": "3.7.9"
  }
 },
 "nbformat": 4,
 "nbformat_minor": 4
}
