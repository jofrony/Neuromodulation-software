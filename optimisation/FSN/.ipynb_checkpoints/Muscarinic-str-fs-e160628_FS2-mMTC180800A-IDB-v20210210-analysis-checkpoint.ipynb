{
 "cells": [
  {
   "cell_type": "code",
   "execution_count": 2,
   "metadata": {
    "scrolled": true
   },
   "outputs": [
    {
     "name": "stderr",
     "output_type": "stream",
     "text": [
      "/home/jofrony/miniconda3/envs/py37/lib/python3.7/site-packages/neuromodulation/analysis.py:37: UserWarning: loadtxt: Empty input file: \"fsn/str-fs-e160628_FS2-mMTC180800A-IDB-v20210210/dopamine/ID_0/voltage_modulation_pass.csv\"\n",
      "  self.voltage_modulation_pass = np.loadtxt(self.dir_path /  'voltage_modulation_pass.csv')\n"
     ]
    }
   ],
   "source": [
    "from fsn_analysis import FSNanalysis\n",
    "\n",
    "dl = FSNanalysis('fsn/str-fs-e160628_FS2-mMTC180800A-IDB-v20210210/acetylcholine/ID_0')\n",
    "dl.load()"
   ]
  },
  {
   "cell_type": "markdown",
   "metadata": {},
   "source": [
    "# Number of Action potentials"
   ]
  },
  {
   "cell_type": "markdown",
   "metadata": {},
   "source": [
    "### Control"
   ]
  },
  {
   "cell_type": "code",
   "execution_count": 3,
   "metadata": {},
   "outputs": [],
   "source": [
    "criteria = {\"tstart\":200,\"tstop\": 700}\n",
    "dl.num_ap_control(criteria=criteria)"
   ]
  },
  {
   "cell_type": "markdown",
   "metadata": {},
   "source": [
    "### Number of Action Potentials"
   ]
  },
  {
   "cell_type": "code",
   "execution_count": 4,
   "metadata": {},
   "outputs": [],
   "source": [
    "criteria ={ \"selection\" : \\\n",
    "           {\"mean\" : 6.44,\\\n",
    "            \"std\" : 2.8,\\\n",
    "            \"threshold\":1.5},\\\n",
    "           \"parameters\" : { \"tstart\":200,\\\n",
    "                           \"tstop\": 700}}\n",
    "\n",
    "dl.num_ap_pass_analysis(criteria=criteria)\n"
   ]
  },
  {
   "cell_type": "markdown",
   "metadata": {},
   "source": [
    "### Number of Action Potentials - models which passed (voltage_modulation_pass.csv)"
   ]
  },
  {
   "cell_type": "code",
   "execution_count": 5,
   "metadata": {},
   "outputs": [],
   "source": [
    "criteria = {\"tstart\":200,\"tstop\": 700}\n",
    "dl.num_ap_passing_traces(criteria=criteria)"
   ]
  },
  {
   "cell_type": "markdown",
   "metadata": {},
   "source": []
  },
  {
   "cell_type": "markdown",
   "metadata": {},
   "source": [
    "# Experimental data"
   ]
  },
  {
   "cell_type": "code",
   "execution_count": 6,
   "metadata": {},
   "outputs": [],
   "source": [
    "from neuromodulation.experimental_data import experimental"
   ]
  },
  {
   "cell_type": "code",
   "execution_count": 7,
   "metadata": {},
   "outputs": [],
   "source": [
    "dSPNmodulation = experimental()\n",
    "dSPNmodulation.define_exp(control = { \"mean\" : 3.56, \"std\" : 0.88})\n",
    "dSPNmodulation.define_exp(modulated = { \"mean\" : 10.00, \"std\" : 4.73})\n",
    "dSPNmodulation.define_exp(control_sim = [dl.num_AP_control])\n",
    "dSPNmodulation.define_exp(modulated_sim = [dl.num_AP])"
   ]
  },
  {
   "cell_type": "code",
   "execution_count": 8,
   "metadata": {},
   "outputs": [
    {
     "name": "stdout",
     "output_type": "stream",
     "text": [
      "[]\n"
     ]
    },
    {
     "name": "stderr",
     "output_type": "stream",
     "text": [
      "/home/jofrony/miniconda3/envs/py37/lib/python3.7/site-packages/neuromodulation/plotting.py:75: MatplotlibDeprecationWarning: savefig() got unexpected keyword argument \"papertype\" which is no longer supported as of 3.3 and will become an error two minor releases later\n",
      "  frameon=None, metadata=None)\n",
      "/home/jofrony/miniconda3/envs/py37/lib/python3.7/site-packages/neuromodulation/plotting.py:75: MatplotlibDeprecationWarning: savefig() got unexpected keyword argument \"frameon\" which is no longer supported as of 3.3 and will become an error two minor releases later\n",
      "  frameon=None, metadata=None)\n"
     ]
    },
    {
     "data": {
      "image/png": "[encoded data removed]",
      "text/plain": [
       "<Figure size 504x648 with 1 Axes>"
      ]
     },
     "metadata": {
      "needs_background": "light"
     },
     "output_type": "display_data"
    }
   ],
   "source": [
    "dl.plot_comparison(dSPNmodulation.experimental_data['control'],dSPNmodulation.experimental_data['control_sim'],dSPNmodulation.experimental_data['modulated'], dSPNmodulation.experimental_data['modulated_sim'],x_ticks=['Model 1'],ylabel='Number of APs',title='Dopamine modulation',num_models=1,save=True,filename='model_1.pdf' )"
   ]
  },
  {
   "cell_type": "code",
   "execution_count": null,
   "metadata": {},
   "outputs": [],
   "source": []
  }
 ],
 "metadata": {
  "kernelspec": {
   "display_name": "Python 3",
   "language": "python",
   "name": "python3"
  },
  "language_info": {
   "codemirror_mode": {
    "name": "ipython",
    "version": 3
   },
   "file_extension": ".py",
   "mimetype": "text/x-python",
   "name": "python",
   "nbconvert_exporter": "python",
   "pygments_lexer": "ipython3",
   "version": "3.7.9"
  }
 },
 "nbformat": 4,
 "nbformat_minor": 4
}
