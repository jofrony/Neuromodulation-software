{
 "cells": [
  {
   "cell_type": "markdown",
   "metadata": {},
   "source": [
    "### Set the modulation : Muscarinic ( M2/4 receptor) Presynaptic"
   ]
  },
  {
   "cell_type": "code",
   "execution_count": 1,
   "metadata": {},
   "outputs": [],
   "source": [
    "from neuromodulation.modulation_set import defineModulation"
   ]
  },
  {
   "cell_type": "markdown",
   "metadata": {},
   "source": [
    "### Neuromodulation set up"
   ]
  },
  {
   "cell_type": "markdown",
   "metadata": {},
   "source": [
    "#### parameter ID : 0"
   ]
  },
  {
   "cell_type": "code",
   "execution_count": 2,
   "metadata": {},
   "outputs": [
    {
     "data": {
      "text/plain": [
       "PosixPath('fsn/str-fs-e160628_FS2-mMTC180800A-IDB-v20210210/acetylcholine/ID_0')"
      ]
     },
     "execution_count": 2,
     "metadata": {},
     "output_type": "execute_result"
    }
   ],
   "source": [
    "cellTypefolder = '../../single_cell_models/HBP-2021Q1/FSN/str-fs-e160628_FS2-mMTC180800A-IDB-v20210210/'\n",
    "out_put_dir = 'fsn/str-fs-e160628_FS2-mMTC180800A-IDB-v20210210/'\n",
    "parameterID = 0\n",
    "ModSet = defineModulation(parameterID = parameterID)\n",
    "ModSet.cell_name('FSN')\n",
    "ModSet.define_neuromodulation(modulationB = \"acetylcholine\")\n",
    "ModSet.new_modulation_dir(out_put_dir)\n",
    "ModSet.tstop = 1000\n",
    "ModSet.set_time_step(dt=0.025)\n",
    "ModSet.population = 4\n",
    "ModSet.cellDir = cellTypefolder\n",
    "ModSet.define_modulation_receptor('tmGabaA','acetylcholine', { \"U\": 0.7074110001746147,\\\n",
    "                                                              \"tauR\": 0.07801201247770584,\\\n",
    "                                                              \"tauF\": 1.0604755473597662,\\\n",
    "                                                              \"tau\": 0.040445568978538834},\\\n",
    "                                  {\"failRate\": [0.8,0.95], \"maxMod\" : [0.5,0.7]})\n",
    "\n",
    "ModSet.define_protocol(typeEx = 'current_clamp', parameters = {\"start\" : 150,\"duration\" : 700 , \"amp\" : 0.1})\n",
    "\n",
    "ModSet.define_protocol(typeEx = 'synaptic_input', parameters = {\"conductance\" : 1e-3, \"delay\": 0, \\\n",
    "                                                                \"threshold\": 0, \\\n",
    "                                                                \"spiketimes\" : [300,350,400,450,500,550,600,650,700]})\n",
    "ModSet.define_modulation_function(modulation_function = {\"function\" : \"bath_application\",\"gmax\" : 1})\n",
    "ModSet.define_protocol(typeEx = 'current_clamp', parameters = {\"start\" : 100,\"duration\" : 500 , \"amp\" : 0.2})\n",
    "ModSet.define_protocol(typeEx = 'current_clamp', parameters = {\"start\" : 100,\"duration\" : 500 , \"amp\" : 0.4})\n",
    "ModSet.define_selection_criteria(function = \"number_AP_increase\", criteria ={ \"selection\" : {\"mean\" : 6.44, \"std\" : 2.8, \"threshold\":1.5}, \"parameters\" : { \"tstart\":200,\"tstop\": 700}})\n",
    "\n",
    "ModSet.save_modulation_setup()\n",
    "ModSet.save_modulation()\n",
    "ModSet.neuromodulationDir"
   ]
  },
  {
   "cell_type": "markdown",
   "metadata": {},
   "source": [
    "## Optimise the modulated models "
   ]
  },
  {
   "cell_type": "code",
   "execution_count": 3,
   "metadata": {},
   "outputs": [
    {
     "name": "stdout",
     "output_type": "stream",
     "text": [
      "/home/jofrony/Documents/Repositories/BasalGangliaExperiments/Neuromodulation/optimisation/FSN\n",
      "ls: cannot access 'mechanisms-fsn//*.inc': No such file or directory\n",
      "mechanisms-fsn//bk.mod mechanisms-fsn//cadyn.mod mechanisms-fsn//can.mod mechanisms-fsn//caq.mod mechanisms-fsn//car.mod mechanisms-fsn//kaf.mod mechanisms-fsn//kas.mod mechanisms-fsn//kdr.mod mechanisms-fsn//kir.mod mechanisms-fsn//naf.mod mechanisms-fsn//sk.mod mechanisms-fsn//tmgabaa.mod mechanisms-fsn//tmglut_M1RH_D1.mod mechanisms-fsn//tmglut.mod mechanisms-fsn//vecevent.mod\n",
      "bk.mod cadyn.mod can.mod caq.mod car.mod kaf.mod kas.mod kdr.mod kir.mod naf.mod sk.mod tmgabaa.mod tmglut_M1RH_D1.mod tmglut.mod vecevent.mod\n",
      "\"/usr/local/nrn/share/nrn/libtool\" --tag=CC --mode=compile mpicc -DHAVE_CONFIG_H  -I. -I.. -I\"/usr/local/nrn/include/nrn\" -I\"/usr/local/nrn/x86_64/lib\"      -g -O2 -c -o mod_func.lo mod_func.c\n",
      "libtool: compile:  mpicc -DHAVE_CONFIG_H -I. -I.. -I/usr/local/nrn/include/nrn -I/usr/local/nrn/x86_64/lib -g -O2 -c mod_func.c  -fPIC -DPIC -o .libs/mod_func.o\n",
      "\"/usr/local/nrn/share/nrn/libtool\" --tag=CC --mode=link mpicc -module  -g -O2    -o libnrnmech.la -rpath \"/usr/local/nrn/x86_64/lib\"  bk.lo cadyn.lo can.lo caq.lo car.lo kaf.lo kas.lo kdr.lo kir.lo naf.lo sk.lo tmgabaa.lo tmglut_M1RH_D1.lo tmglut.lo vecevent.lo mod_func.lo  -L\"/usr/local/nrn/x86_64/lib\" -lnrnoc -loc -lmemacs -lnrnmpi -lscopmath -lsparse13 -lreadline -lncurses -ltinfo -L\"/usr/local/nrn/x86_64/lib\" -lnrniv -livoc -lneuron_gnu -lmeschach -lsundials       -lm -ldl\n",
      "libtool: link: rm -fr  .libs/libnrnmech.la .libs/libnrnmech.lai .libs/libnrnmech.so .libs/libnrnmech.so.0 .libs/libnrnmech.so.0.0.0\n",
      "libtool: link: mpicc -shared  -fPIC -DPIC  .libs/bk.o .libs/cadyn.o .libs/can.o .libs/caq.o .libs/car.o .libs/kaf.o .libs/kas.o .libs/kdr.o .libs/kir.o .libs/naf.o .libs/sk.o .libs/tmgabaa.o .libs/tmglut_M1RH_D1.o .libs/tmglut.o .libs/vecevent.o .libs/mod_func.o   -Wl,-rpath -Wl,/usr/local/nrn/x86_64/lib -Wl,-rpath -Wl,/usr/local/nrn/x86_64/lib -L/usr/local/nrn/x86_64/lib /usr/local/nrn/x86_64/lib/libnrnoc.so /usr/local/nrn/x86_64/lib/liboc.so -lX11 /usr/local/nrn/x86_64/lib/libmemacs.so /usr/local/nrn/x86_64/lib/libnrnmpi.so /usr/local/nrn/x86_64/lib/libscopmath.so /usr/local/nrn/x86_64/lib/libsparse13.so /usr/local/nrn/x86_64/lib/libreadline.so -lncurses -ltinfo /usr/local/nrn/x86_64/lib/libnrniv.so /usr/local/nrn/x86_64/lib/libivoc.so /usr/local/nrn/x86_64/lib/libneuron_gnu.so /usr/local/nrn/x86_64/lib/libmeschach.so /usr/local/nrn/x86_64/lib/libsundials.so -lm -ldl  -g -O2   -Wl,-soname -Wl,libnrnmech.so.0 -o .libs/libnrnmech.so.0.0.0\n",
      "libtool: link: (cd \".libs\" && rm -f \"libnrnmech.so.0\" && ln -s \"libnrnmech.so.0.0.0\" \"libnrnmech.so.0\")\n",
      "libtool: link: (cd \".libs\" && rm -f \"libnrnmech.so\" && ln -s \"libnrnmech.so.0.0.0\" \"libnrnmech.so\")\n",
      "libtool: link: ( cd \".libs\" && rm -f \"libnrnmech.la\" && ln -s \"../libnrnmech.la\" \"libnrnmech.la\" )\n",
      "Successfully created x86_64/special\n"
     ]
    }
   ],
   "source": [
    "!nrnivmodl mechanisms-fsn/"
   ]
  },
  {
   "cell_type": "code",
   "execution_count": 4,
   "metadata": {},
   "outputs": [],
   "source": [
    "parameterIDmodel = 'fsn/str-fs-e160628_FS2-mMTC180800A-IDB-v20210210/acetylcholine/ID_' + str(parameterID)\n",
    "seed = 12345"
   ]
  },
  {
   "cell_type": "code",
   "execution_count": null,
   "metadata": {},
   "outputs": [
    {
     "name": "stdout",
     "output_type": "stream",
     "text": [
      "numprocs=4\r\n"
     ]
    }
   ],
   "source": [
    "!mpiexec -n 4 python optimise_fsn.py $parameterIDmodel $seed"
   ]
  },
  {
   "cell_type": "code",
   "execution_count": null,
   "metadata": {},
   "outputs": [],
   "source": []
  },
  {
   "cell_type": "code",
   "execution_count": null,
   "metadata": {},
   "outputs": [],
   "source": []
  },
  {
   "cell_type": "code",
   "execution_count": null,
   "metadata": {},
   "outputs": [],
   "source": []
  },
  {
   "cell_type": "code",
   "execution_count": null,
   "metadata": {},
   "outputs": [],
   "source": []
  },
  {
   "cell_type": "code",
   "execution_count": null,
   "metadata": {},
   "outputs": [],
   "source": []
  }
 ],
 "metadata": {
  "kernelspec": {
   "display_name": "Python 3",
   "language": "python",
   "name": "python3"
  },
  "language_info": {
   "codemirror_mode": {
    "name": "ipython",
    "version": 3
   },
   "file_extension": ".py",
   "mimetype": "text/x-python",
   "name": "python",
   "nbconvert_exporter": "python",
   "pygments_lexer": "ipython3",
   "version": "3.7.9"
  }
 },
 "nbformat": 4,
 "nbformat_minor": 4
}
