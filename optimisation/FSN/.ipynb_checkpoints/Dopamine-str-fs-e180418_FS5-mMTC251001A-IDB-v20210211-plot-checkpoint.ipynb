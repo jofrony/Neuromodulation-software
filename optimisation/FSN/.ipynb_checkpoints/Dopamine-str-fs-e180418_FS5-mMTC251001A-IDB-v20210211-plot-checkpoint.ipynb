{
 "cells": [
  {
   "cell_type": "code",
   "execution_count": null,
   "metadata": {},
   "outputs": [],
   "source": [
    "from fsn_analysis import FSNanalysis\n",
    "optR = FSNanalysis('fsn/str-fs-e180418_FS5-mMTC251001A-IDB-v20210211/dopamine/ID_0')\n",
    "optR.load()\n",
    "parameterID = optR.modulation_setup['parameterID']"
   ]
  },
  {
   "cell_type": "code",
   "execution_count": null,
   "metadata": {
    "scrolled": true
   },
   "outputs": [],
   "source": [
    "optR.plot_control(title='D1 modulation FSN',save=True,filename='control_' + str(parameterID)+'.pdf')"
   ]
  },
  {
   "cell_type": "code",
   "execution_count": null,
   "metadata": {},
   "outputs": [],
   "source": [
    "\n",
    "optR.plot_all_traces(title='D1 modulation FSN',save=True,filename='example_' + str(parameterID)+'.pdf')"
   ]
  },
  {
   "cell_type": "code",
   "execution_count": null,
   "metadata": {},
   "outputs": [],
   "source": [
    "optR.plot_validated_traces_with_control(title='D1 modulation FSN',save=True,filename='validated_' + str(parameterID)+'.pdf')"
   ]
  },
  {
   "cell_type": "code",
   "execution_count": null,
   "metadata": {},
   "outputs": [],
   "source": [
    "from fsn_analysis import FSNanalysis\n",
    "optR = FSNanalysis('fsn/str-fs-e180418_FS5-mMTC251001A-IDB-v20210211/dopamine/ID_1')\n",
    "optR.load()\n",
    "parameterID = optR.modulation_setup['parameterID']"
   ]
  },
  {
   "cell_type": "code",
   "execution_count": null,
   "metadata": {
    "scrolled": true
   },
   "outputs": [],
   "source": [
    "optR.plot_control(title='D1 modulation FSN',save=True,filename='control_' + str(parameterID)+'.pdf')"
   ]
  },
  {
   "cell_type": "code",
   "execution_count": null,
   "metadata": {},
   "outputs": [],
   "source": [
    "\n",
    "optR.plot_all_traces(title='D1 modulation FSN',save=True,filename='example_' + str(parameterID)+'.pdf')"
   ]
  },
  {
   "cell_type": "code",
   "execution_count": null,
   "metadata": {},
   "outputs": [],
   "source": [
    "optR.plot_validated_traces_with_control(title='D1 modulation FSN',save=True,filename='validated_' + str(parameterID)+'.pdf')"
   ]
  },
  {
   "cell_type": "code",
   "execution_count": null,
   "metadata": {},
   "outputs": [],
   "source": [
    "from fsn_analysis import FSNanalysis\n",
    "optR = FSNanalysis('fsn/str-fs-e180418_FS5-mMTC251001A-IDB-v20210211/dopamine/ID_2')\n",
    "optR.load()\n",
    "parameterID = optR.modulation_setup['parameterID']"
   ]
  },
  {
   "cell_type": "code",
   "execution_count": null,
   "metadata": {
    "scrolled": true
   },
   "outputs": [],
   "source": [
    "optR.plot_control(title='D1 modulation FSN',save=True,filename='control_' + str(parameterID)+'.pdf')"
   ]
  },
  {
   "cell_type": "code",
   "execution_count": null,
   "metadata": {},
   "outputs": [],
   "source": [
    "\n",
    "optR.plot_all_traces(title='D1 modulation FSN',save=True,filename='example_' + str(parameterID)+'.pdf')"
   ]
  },
  {
   "cell_type": "code",
   "execution_count": null,
   "metadata": {},
   "outputs": [],
   "source": [
    "optR.plot_validated_traces_with_control(title='D1 modulation FSN',save=True,filename='validated_' + str(parameterID)+'.pdf')"
   ]
  },
  {
   "cell_type": "code",
   "execution_count": null,
   "metadata": {},
   "outputs": [],
   "source": [
    "from fsn_analysis import FSNanalysis\n",
    "optR = FSNanalysis('fsn/str-fs-e180418_FS5-mMTC251001A-IDB-v20210211/dopamine/ID_3')\n",
    "optR.load()\n",
    "parameterID = optR.modulation_setup['parameterID']"
   ]
  },
  {
   "cell_type": "code",
   "execution_count": null,
   "metadata": {
    "scrolled": true
   },
   "outputs": [],
   "source": [
    "optR.plot_control(title='D1 modulation FSN',save=True,filename='control_' + str(parameterID)+'.pdf')"
   ]
  },
  {
   "cell_type": "code",
   "execution_count": null,
   "metadata": {},
   "outputs": [],
   "source": [
    "\n",
    "optR.plot_all_traces(title='D1 modulation FSN',save=True,filename='example_' + str(parameterID)+'.pdf')"
   ]
  },
  {
   "cell_type": "code",
   "execution_count": null,
   "metadata": {},
   "outputs": [],
   "source": [
    "optR.plot_validated_traces_with_control(title='D1 modulation FSN',save=True,filename='validated_' + str(parameterID)+'.pdf')"
   ]
  },
  {
   "cell_type": "code",
   "execution_count": null,
   "metadata": {},
   "outputs": [],
   "source": [
    "from fsn_analysis import FSNanalysis\n",
    "optR = FSNanalysis('fsn/str-fs-e180418_FS5-mMTC251001A-IDB-v20210211/dopamine/ID_4')\n",
    "optR.load()\n",
    "parameterID = optR.modulation_setup['parameterID']"
   ]
  },
  {
   "cell_type": "code",
   "execution_count": null,
   "metadata": {
    "scrolled": true
   },
   "outputs": [],
   "source": [
    "optR.plot_control(title='D1 modulation FSN',save=True,filename='control_' + str(parameterID)+'.pdf')"
   ]
  },
  {
   "cell_type": "code",
   "execution_count": null,
   "metadata": {},
   "outputs": [],
   "source": [
    "\n",
    "optR.plot_all_traces(title='D1 modulation FSN',save=True,filename='example_' + str(parameterID)+'.pdf')"
   ]
  },
  {
   "cell_type": "code",
   "execution_count": null,
   "metadata": {},
   "outputs": [],
   "source": [
    "optR.plot_validated_traces_with_control(title='D1 modulation FSN',save=True,filename='validated_' + str(parameterID)+'.pdf')"
   ]
  },
  {
   "cell_type": "code",
   "execution_count": null,
   "metadata": {},
   "outputs": [],
   "source": [
    "from fsn_analysis import FSNanalysis\n",
    "optR = FSNanalysis('fsn/str-fs-e180418_FS5-mMTC251001A-IDB-v20210211/dopamine/ID_5')\n",
    "optR.load()\n",
    "parameterID = optR.modulation_setup['parameterID']"
   ]
  },
  {
   "cell_type": "code",
   "execution_count": null,
   "metadata": {
    "scrolled": true
   },
   "outputs": [],
   "source": [
    "optR.plot_control(title='D1 modulation FSN',save=True,filename='control_' + str(parameterID)+'.pdf')"
   ]
  },
  {
   "cell_type": "code",
   "execution_count": null,
   "metadata": {},
   "outputs": [],
   "source": [
    "\n",
    "optR.plot_all_traces(title='D1 modulation FSN',save=True,filename='example_' + str(parameterID)+'.pdf')"
   ]
  },
  {
   "cell_type": "code",
   "execution_count": null,
   "metadata": {},
   "outputs": [],
   "source": [
    "optR.plot_validated_traces_with_control(title='D1 modulation FSN',save=True,filename='validated_' + str(parameterID)+'.pdf')"
   ]
  },
  {
   "cell_type": "code",
   "execution_count": null,
   "metadata": {},
   "outputs": [],
   "source": [
    "from fsn_analysis import FSNanalysis\n",
    "optR = FSNanalysis('fsn/str-fs-e180418_FS5-mMTC251001A-IDB-v20210211/dopamine/ID_6')\n",
    "optR.load()\n",
    "parameterID = optR.modulation_setup['parameterID']"
   ]
  },
  {
   "cell_type": "code",
   "execution_count": null,
   "metadata": {
    "scrolled": true
   },
   "outputs": [],
   "source": [
    "optR.plot_control(title='D1 modulation FSN',save=True,filename='control_' + str(parameterID)+'.pdf')"
   ]
  },
  {
   "cell_type": "code",
   "execution_count": null,
   "metadata": {},
   "outputs": [],
   "source": [
    "\n",
    "optR.plot_all_traces(title='D1 modulation FSN',save=True,filename='example_' + str(parameterID)+'.pdf')"
   ]
  },
  {
   "cell_type": "code",
   "execution_count": null,
   "metadata": {},
   "outputs": [],
   "source": [
    "optR.plot_validated_traces_with_control(title='D1 modulation FSN',save=True,filename='validated_' + str(parameterID)+'.pdf')"
   ]
  },
  {
   "cell_type": "code",
   "execution_count": null,
   "metadata": {},
   "outputs": [],
   "source": []
  }
 ],
 "metadata": {
  "kernelspec": {
   "display_name": "Python 3",
   "language": "python",
   "name": "python3"
  },
  "language_info": {
   "codemirror_mode": {
    "name": "ipython",
    "version": 3
   },
   "file_extension": ".py",
   "mimetype": "text/x-python",
   "name": "python",
   "nbconvert_exporter": "python",
   "pygments_lexer": "ipython3",
   "version": "3.7.9"
  }
 },
 "nbformat": 4,
 "nbformat_minor": 4
}
