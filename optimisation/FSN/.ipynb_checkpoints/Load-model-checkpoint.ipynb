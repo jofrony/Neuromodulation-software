{
 "cells": [
  {
   "cell_type": "code",
   "execution_count": 1,
   "metadata": {},
   "outputs": [],
   "source": [
    "import pathlib\n",
    "import shutil\n",
    "from optimisation.split_into_models import combine_optimised_models"
   ]
  },
  {
   "cell_type": "code",
   "execution_count": 2,
   "metadata": {},
   "outputs": [],
   "source": [
    "optimisation_model = '../../../../bgmod/models/optim/HBP-2021Q1/'\n",
    "destination = '../../single_cell_models/HBP-2021Q1/FSN/'"
   ]
  },
  {
   "cell_type": "code",
   "execution_count": 3,
   "metadata": {},
   "outputs": [],
   "source": [
    "def list_validated_ID(filename,morphology_var):\n",
    "    \n",
    "    import json\n",
    "    \n",
    "    validated = json.load(open(filename,'r'))\n",
    "    \n",
    "    val_IDs = list()\n",
    "    \n",
    "    for model in validated:\n",
    "        \n",
    "        if morphology_var in model['morph']:\n",
    "            \n",
    "            val_IDs.append(model['par'])\n",
    "            \n",
    "    return val_IDs\n",
    "            "
   ]
  },
  {
   "cell_type": "code",
   "execution_count": 4,
   "metadata": {},
   "outputs": [],
   "source": [
    "p = pathlib.Path(optimisation_model)\n",
    "k = pathlib.Path(destination)\n",
    "\n",
    "morph_var = 'var0'\n",
    "\n",
    "for child in p.iterdir(): \n",
    "    if 'fs' in str(child):\n",
    "        dest = shutil.copytree(child / 'morphology', k / child.name / 'morphology')\n",
    "        \n",
    "        params = child / 'config' / 'parameters.json'\n",
    "        best_models = child / 'hall_of_fame.json'\n",
    "        \n",
    "        validated = child / 'val_models.json'\n",
    "        \n",
    "        valIDs = list_validated_ID(validated,'var0')\n",
    "\n",
    "        combine_optimised_models(parameters=params,valIDs=valIDs,best_models=best_models,dir_path=k / child.name)\n",
    "        \n",
    "        shutil.copyfile(child / 'config' / 'mechanisms.json', k / child.name  / 'mechanisms.json')\n"
   ]
  },
  {
   "cell_type": "code",
   "execution_count": null,
   "metadata": {},
   "outputs": [],
   "source": []
  },
  {
   "cell_type": "code",
   "execution_count": null,
   "metadata": {},
   "outputs": [],
   "source": []
  }
 ],
 "metadata": {
  "kernelspec": {
   "display_name": "Python 3",
   "language": "python",
   "name": "python3"
  },
  "language_info": {
   "codemirror_mode": {
    "name": "ipython",
    "version": 3
   },
   "file_extension": ".py",
   "mimetype": "text/x-python",
   "name": "python",
   "nbconvert_exporter": "python",
   "pygments_lexer": "ipython3",
   "version": "3.7.9"
  }
 },
 "nbformat": 4,
 "nbformat_minor": 4
}
