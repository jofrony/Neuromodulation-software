{
 "cells": [
  {
   "cell_type": "markdown",
   "metadata": {},
   "source": [
    "### Set the modulation : Dopamine ( D1 receptor)"
   ]
  },
  {
   "cell_type": "code",
   "execution_count": null,
   "metadata": {},
   "outputs": [],
   "source": [
    "from neuromodulation.modulation_set import defineModulation"
   ]
  },
  {
   "cell_type": "markdown",
   "metadata": {},
   "source": [
    "### Neuromodulation set up"
   ]
  },
  {
   "cell_type": "markdown",
   "metadata": {},
   "source": [
    "#### parameter ID : 0"
   ]
  },
  {
   "cell_type": "code",
   "execution_count": null,
   "metadata": {},
   "outputs": [],
   "source": [
    "cellTypefolder = '../../single_cell_models/HBP-2021Q1/FSN/str-fs-e161205_FS1-mBE104E-v20210209/'\n",
    "out_put_dir = 'fsn/str-fs-e161205_FS1-mBE104E-v20210209/'\n",
    "parameterID = 0\n",
    "ModSet = defineModulation(parameterID = parameterID)\n",
    "ModSet.cell_name('FSN')\n",
    "ModSet.define_neuromodulation(modulationA = \"dopamine\")\n",
    "ModSet.new_modulation_dir(out_put_dir)\n",
    "ModSet.tstop = 1000\n",
    "ModSet.set_time_step(dt=0.025)\n",
    "ModSet.population = 200\n",
    "ModSet.cellDir = cellTypefolder\n",
    "\n",
    "ModSet.define_modulation_parameter('kir',\"dopamine\",'somatic', [0.7,0.9])\n",
    "ModSet.define_modulation_parameter('kir',\"dopamine\",'basal', [0.7,0.9])\n",
    "ModSet.define_modulation_parameter('kas',\"dopamine\",'somatic', [0.7,1.0])\n",
    "ModSet.define_modulation_parameter('kaf',\"dopamine\",'somatic', [0.95,1.05])\n",
    "ModSet.define_modulation_parameter('naf',\"dopamine\",'somatic', [0.95,1.05])\n",
    "\n",
    "ModSet.define_modulation_function(modulation_function = {\"function\" : \"step\",\"gmax\" : 1,'tstart' : 200, 'duration' :600})\n",
    "ModSet.define_protocol(typeEx = 'current_clamp', parameters = {\"start\" : 0,\"duration\" : 1000 , \"amp\" : 0.2})\n",
    "\n",
    "ModSet.define_selection_criteria(function = \"membrane_amplitude_increase\", criteria ={ \"selection\" : {\"mean\" : 7, \"std\" : 2.5, \"threshold\":1.5}, \"parameters\" : {'start_base' : 50, 'stop_base': 100, 'start_measure' : 300, 'stop_measure' : 500}})\n",
    "\n",
    "\n",
    "ModSet.save_modulation_setup()\n",
    "ModSet.save_modulation()\n",
    "ModSet.neuromodulationDir"
   ]
  },
  {
   "cell_type": "markdown",
   "metadata": {},
   "source": [
    "#### parameter ID : 1"
   ]
  },
  {
   "cell_type": "code",
   "execution_count": null,
   "metadata": {},
   "outputs": [],
   "source": [
    "cellTypefolder = '../../single_cell_models/HBP-2021Q1/FSN/str-fs-e161205_FS1-mBE104E-v20210209/'\n",
    "out_put_dir = 'fsn/str-fs-e161205_FS1-mBE104E-v20210209/'\n",
    "parameterID = 1\n",
    "ModSet = defineModulation(parameterID = parameterID)\n",
    "ModSet.cell_name('FSN')\n",
    "ModSet.define_neuromodulation(modulationA = \"dopamine\")\n",
    "ModSet.new_modulation_dir(out_put_dir)\n",
    "ModSet.tstop = 1000\n",
    "ModSet.set_time_step(dt=0.025)\n",
    "ModSet.population = 200\n",
    "ModSet.cellDir = cellTypefolder\n",
    "\n",
    "ModSet.define_modulation_parameter('kir',\"dopamine\",'somatic', [0.7,0.9])\n",
    "ModSet.define_modulation_parameter('kir',\"dopamine\",'basal', [0.7,0.9])\n",
    "ModSet.define_modulation_parameter('kas',\"dopamine\",'somatic', [0.7,1.0])\n",
    "ModSet.define_modulation_parameter('kaf',\"dopamine\",'somatic', [0.95,1.05])\n",
    "ModSet.define_modulation_parameter('naf',\"dopamine\",'somatic', [0.95,1.05])\n",
    "\n",
    "ModSet.define_modulation_function(modulation_function = {\"function\" : \"step\",\"gmax\" : 1,'tstart' : 200, 'duration' :600})\n",
    "ModSet.define_protocol(typeEx = 'current_clamp', parameters = {\"start\" : 0,\"duration\" : 1000 , \"amp\" : 0.2})\n",
    "\n",
    "ModSet.define_selection_criteria(function = \"membrane_amplitude_increase\", criteria ={ \"selection\" : {\"mean\" : 7, \"std\" : 2.5, \"threshold\":1.5}, \"parameters\" : {'start_base' : 50, 'stop_base': 100, 'start_measure' : 300, 'stop_measure' : 500}})\n",
    "\n",
    "\n",
    "ModSet.save_modulation_setup()\n",
    "ModSet.save_modulation()\n",
    "ModSet.neuromodulationDir"
   ]
  },
  {
   "cell_type": "markdown",
   "metadata": {},
   "source": [
    "#### parameter ID : 2"
   ]
  },
  {
   "cell_type": "code",
   "execution_count": null,
   "metadata": {},
   "outputs": [],
   "source": [
    "cellTypefolder = '../../single_cell_models/HBP-2021Q1/FSN/str-fs-e161205_FS1-mBE104E-v20210209/'\n",
    "out_put_dir = 'fsn/str-fs-e161205_FS1-mBE104E-v20210209/'\n",
    "parameterID = 2\n",
    "ModSet = defineModulation(parameterID = parameterID)\n",
    "ModSet.cell_name('FSN')\n",
    "ModSet.define_neuromodulation(modulationA = \"dopamine\")\n",
    "ModSet.new_modulation_dir(out_put_dir)\n",
    "ModSet.tstop = 1000\n",
    "ModSet.set_time_step(dt=0.025)\n",
    "ModSet.population = 200\n",
    "ModSet.cellDir = cellTypefolder\n",
    "\n",
    "ModSet.define_modulation_parameter('kir',\"dopamine\",'somatic', [0.7,0.9])\n",
    "ModSet.define_modulation_parameter('kir',\"dopamine\",'basal', [0.7,0.9])\n",
    "ModSet.define_modulation_parameter('kas',\"dopamine\",'somatic', [0.7,1.0])\n",
    "ModSet.define_modulation_parameter('kaf',\"dopamine\",'somatic', [0.95,1.05])\n",
    "ModSet.define_modulation_parameter('naf',\"dopamine\",'somatic', [0.95,1.05])\n",
    "\n",
    "ModSet.define_modulation_function(modulation_function = {\"function\" : \"step\",\"gmax\" : 1,'tstart' : 200, 'duration' :600})\n",
    "ModSet.define_protocol(typeEx = 'current_clamp', parameters = {\"start\" : 0,\"duration\" : 1000 , \"amp\" : 0.2})\n",
    "\n",
    "ModSet.define_selection_criteria(function = \"membrane_amplitude_increase\", criteria ={ \"selection\" : {\"mean\" : 7, \"std\" : 2.5, \"threshold\":1.5}, \"parameters\" : {'start_base' : 50, 'stop_base': 100, 'start_measure' : 300, 'stop_measure' : 500}})\n",
    "\n",
    "\n",
    "ModSet.save_modulation_setup()\n",
    "ModSet.save_modulation()\n",
    "ModSet.neuromodulationDir"
   ]
  },
  {
   "cell_type": "markdown",
   "metadata": {},
   "source": [
    "#### parameter ID : 3"
   ]
  },
  {
   "cell_type": "code",
   "execution_count": null,
   "metadata": {},
   "outputs": [],
   "source": [
    "cellTypefolder = '../../single_cell_models/HBP-2021Q1/FSN/str-fs-e161205_FS1-mBE104E-v20210209/'\n",
    "out_put_dir = 'fsn/str-fs-e161205_FS1-mBE104E-v20210209/'\n",
    "parameterID = 3\n",
    "ModSet = defineModulation(parameterID = parameterID)\n",
    "ModSet.cell_name('FSN')\n",
    "ModSet.define_neuromodulation(modulationA = \"dopamine\")\n",
    "ModSet.new_modulation_dir(out_put_dir)\n",
    "ModSet.tstop = 1000\n",
    "ModSet.set_time_step(dt=0.025)\n",
    "ModSet.population = 200\n",
    "ModSet.cellDir = cellTypefolder\n",
    "\n",
    "ModSet.define_modulation_parameter('kir',\"dopamine\",'somatic', [0.7,0.9])\n",
    "ModSet.define_modulation_parameter('kir',\"dopamine\",'basal', [0.7,0.9])\n",
    "ModSet.define_modulation_parameter('kas',\"dopamine\",'somatic', [0.7,1.0])\n",
    "ModSet.define_modulation_parameter('kaf',\"dopamine\",'somatic', [0.95,1.05])\n",
    "ModSet.define_modulation_parameter('naf',\"dopamine\",'somatic', [0.95,1.05])\n",
    "\n",
    "ModSet.define_modulation_function(modulation_function = {\"function\" : \"step\",\"gmax\" : 1,'tstart' : 200, 'duration' :600})\n",
    "ModSet.define_protocol(typeEx = 'current_clamp', parameters = {\"start\" : 0,\"duration\" : 1000 , \"amp\" : 0.2})\n",
    "\n",
    "ModSet.define_selection_criteria(function = \"membrane_amplitude_increase\", criteria ={ \"selection\" : {\"mean\" : 7, \"std\" : 2.5, \"threshold\":1.5}, \"parameters\" : {'start_base' : 50, 'stop_base': 100, 'start_measure' : 300, 'stop_measure' : 500}})\n",
    "\n",
    "\n",
    "ModSet.save_modulation_setup()\n",
    "ModSet.save_modulation()\n",
    "ModSet.neuromodulationDir"
   ]
  },
  {
   "cell_type": "markdown",
   "metadata": {},
   "source": [
    "#### parameter ID : 4"
   ]
  },
  {
   "cell_type": "code",
   "execution_count": null,
   "metadata": {},
   "outputs": [],
   "source": [
    "cellTypefolder = '../../single_cell_models/HBP-2021Q1/FSN/str-fs-e161205_FS1-mBE104E-v20210209/'\n",
    "out_put_dir = 'fsn/str-fs-e161205_FS1-mBE104E-v20210209/'\n",
    "parameterID = 4\n",
    "ModSet = defineModulation(parameterID = parameterID)\n",
    "ModSet.cell_name('FSN')\n",
    "ModSet.define_neuromodulation(modulationA = \"dopamine\")\n",
    "ModSet.new_modulation_dir(out_put_dir)\n",
    "ModSet.tstop = 1000\n",
    "ModSet.set_time_step(dt=0.025)\n",
    "ModSet.population = 200\n",
    "ModSet.cellDir = cellTypefolder\n",
    "\n",
    "ModSet.define_modulation_parameter('kir',\"dopamine\",'somatic', [0.7,0.9])\n",
    "ModSet.define_modulation_parameter('kir',\"dopamine\",'basal', [0.7,0.9])\n",
    "ModSet.define_modulation_parameter('kas',\"dopamine\",'somatic', [0.7,1.0])\n",
    "ModSet.define_modulation_parameter('kaf',\"dopamine\",'somatic', [0.95,1.05])\n",
    "ModSet.define_modulation_parameter('naf',\"dopamine\",'somatic', [0.95,1.05])\n",
    "\n",
    "ModSet.define_modulation_function(modulation_function = {\"function\" : \"step\",\"gmax\" : 1,'tstart' : 200, 'duration' :600})\n",
    "ModSet.define_protocol(typeEx = 'current_clamp', parameters = {\"start\" : 0,\"duration\" : 1000 , \"amp\" : 0.2})\n",
    "\n",
    "ModSet.define_selection_criteria(function = \"membrane_amplitude_increase\", criteria ={ \"selection\" : {\"mean\" : 7, \"std\" : 2.5, \"threshold\":1.5}, \"parameters\" : {'start_base' : 50, 'stop_base': 100, 'start_measure' : 300, 'stop_measure' : 500}})\n",
    "\n",
    "\n",
    "ModSet.save_modulation_setup()\n",
    "ModSet.save_modulation()\n",
    "ModSet.neuromodulationDir"
   ]
  },
  {
   "cell_type": "markdown",
   "metadata": {},
   "source": [
    "## Optimise the modulated models "
   ]
  },
  {
   "cell_type": "code",
   "execution_count": null,
   "metadata": {},
   "outputs": [],
   "source": [
    "!nrnivmodl mechanisms-fsn/"
   ]
  },
  {
   "cell_type": "code",
   "execution_count": null,
   "metadata": {},
   "outputs": [],
   "source": [
    "parameterIDmodel = 'fsn/str-fs-e161205_FS1-mBE104E-v20210209/dopamine/ID_' + str(parameterID)\n",
    "seed = 12345"
   ]
  },
  {
   "cell_type": "code",
   "execution_count": null,
   "metadata": {},
   "outputs": [],
   "source": [
    "!mpiexec -n 4 python optimise_fsn.py $parameterIDmodel $seed"
   ]
  },
  {
   "cell_type": "code",
   "execution_count": null,
   "metadata": {},
   "outputs": [],
   "source": []
  },
  {
   "cell_type": "code",
   "execution_count": null,
   "metadata": {},
   "outputs": [],
   "source": []
  }
 ],
 "metadata": {
  "kernelspec": {
   "display_name": "Python 3",
   "language": "python",
   "name": "python3"
  },
  "language_info": {
   "codemirror_mode": {
    "name": "ipython",
    "version": 3
   },
   "file_extension": ".py",
   "mimetype": "text/x-python",
   "name": "python",
   "nbconvert_exporter": "python",
   "pygments_lexer": "ipython3",
   "version": "3.7.9"
  }
 },
 "nbformat": 4,
 "nbformat_minor": 4
}
