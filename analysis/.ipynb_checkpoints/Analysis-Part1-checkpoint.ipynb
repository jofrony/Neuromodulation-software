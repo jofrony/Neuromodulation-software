{
 "cells": [
  {
   "cell_type": "code",
   "execution_count": 1,
   "metadata": {},
   "outputs": [],
   "source": [
    "from project_wide.compare_plot_traces import comparePlotTraces\n",
    "from project_wide.compare_activity_analyse import compareTraces"
   ]
  },
  {
   "cell_type": "code",
   "execution_count": 2,
   "metadata": {},
   "outputs": [
    {
     "name": "stdout",
     "output_type": "stream",
     "text": [
      "Loading 10100 neurons with 3191618 synapses and 387 gap junctions\n",
      "Loading 10100 neurons with 3191618 synapses and 387 gap junctions\n",
      "Loading 10100 neurons with 3191618 synapses and 387 gap junctions\n",
      "Loading 10100 neurons with 3191618 synapses and 387 gap junctions\n"
     ]
    }
   ],
   "source": [
    "simroot = 'pdc/Level4/pdc_network/simulation/'\n",
    "fn = [simroot + 'network-voltage-ACh-burst-network-level4.csv',\\\n",
    "      simroot + 'network-voltage-ACh-pause-network-level4.csv',\\\n",
    "      simroot + 'network-voltage-DA-ACh-burst-network-level4.csv',\\\n",
    "      simroot + 'network-voltage-DA-network-level4.csv']\n",
    "\n",
    "\n",
    "\n",
    "\n",
    "root = 'pdc/Level4/pdc_network/'\n",
    "nf = [root + 'network-synapses.hdf5',\\\n",
    "     root + 'network-synapses.hdf5',\\\n",
    "     root + 'network-synapses.hdf5',\\\n",
    "     root + 'network-synapses.hdf5']\n",
    "kl = compareTraces(fileNames=fn,\\\n",
    "                      networkFiles=nf,labels=['ACh burst', 'ACh pause','DA-ACh burst', 'DA'],colours=['red','green', 'purple', 'blue'])\n",
    "\n"
   ]
  },
  {
   "cell_type": "code",
   "execution_count": null,
   "metadata": {},
   "outputs": [],
   "source": [
    "nl = comparePlotTraces(fileNames=fn,\\\n",
    "                      networkFiles=nf,labels=['ACh burst', 'ACh pause','DA-ACh burst', 'DA'],colours=['red','green', 'purple', 'blue'],save_dir='Compare-network/')"
   ]
  },
  {
   "cell_type": "markdown",
   "metadata": {},
   "source": [
    "## <span style=\"color:red\" >  **ACh burst**</span>\n",
    "## <span style=\"color:black\" >  **ACh pause**</span>"
   ]
  },
  {
   "cell_type": "code",
   "execution_count": null,
   "metadata": {},
   "outputs": [],
   "source": [
    "%matplotlib notebook\n",
    "plot_offset = 0  # -0.2\n",
    "skip_time = 0  # 0.5\n",
    "num_traces_max = 10\n",
    "\n",
    "nl.plotTraceNeuronType(neuronType=\"dSPN\", nTraces=100, offset=plot_offset, skipTime=skip_time)\n"
   ]
  },
  {
   "cell_type": "code",
   "execution_count": 51,
   "metadata": {},
   "outputs": [],
   "source": [
    "import elephant as elp\n",
    "import neo\n",
    "import quantities as pq\n",
    "import numpy as np\n",
    "import matplotlib.pyplot as plt"
   ]
  },
  {
   "cell_type": "code",
   "execution_count": null,
   "metadata": {},
   "outputs": [],
   "source": [
    "def firing_frequency(obj_loaded_traces,type_cell='dSPN'):\n",
    "\n",
    "    data = obj_loaded_traces.get_traces(neuronType=type_cell)\n",
    "    data_spikes = dict()\n",
    "    data_average = dict()\n",
    "    for ctr, network in data.items():\n",
    "        data_spikes.update({ctr : dict()})\n",
    "        data_average.update({ctr : dict()})\n",
    "        for k, volt in network.items():\n",
    "            neov = neo.AnalogSignal(volt, units='V',sampling_period = 5e-4 * pq.s)\n",
    "            spike = elp.spike_train_generation.threshold_detection(neov)\n",
    "            data_spikes[ctr].update({k : spike})\n",
    "\n",
    "            if len(spike) != 0:\n",
    "                av = elp.statistics.mean_firing_rate(spike,t_start=0.5 * pq.s, t_stop= 2 *pq.s)\n",
    "                \n",
    "                data_average[ctr].update({k : av})\n",
    "            \n",
    "    return data_spikes, data_average"
   ]
  },
  {
   "cell_type": "code",
   "execution_count": null,
   "metadata": {},
   "outputs": [],
   "source": [
    "def spike_delays(data_spikes,start_stim):\n",
    "    \n",
    "    delays_dict = dict()\n",
    "    for r, data in data_spikes.items():\n",
    "        delays = list()\n",
    "        for k, st in data.items():\n",
    "            if len(st.tolist()) > 0 and len(st.tolist())>0:\n",
    "                delay = min(st.tolist()) - start_stim *pq.s\n",
    "                delays.append(delay)\n",
    "        delays_dict.update({r : delays}) \n",
    "                \n",
    "    return delays_dict\n",
    "\n",
    "def plot_spike_delays(delays_dict,labels_v=['V0', 'V1'],exp_title=None):\n",
    "\n",
    "    fig, ax = plt.subplots()\n",
    "    pos = 0\n",
    "    for k, delays in delays_dict.items():\n",
    "        ax.bar([pos], np.array(delays).mean(),yerr=np.array(delays).std(), align='center',alpha=0.5, ecolor='black', capsize=10,width=0.5)\n",
    "        #ax.scatter(np.random.rand(len(delays))*0.01 -0.005 + pos ,delays)\n",
    "        pos=pos+1\n",
    "\n",
    "    ax.set_ylabel('Delays (s)')\n",
    "    ax.set_title('Delays (s)')\n",
    "    ax.set_xticks([*delays_dict.keys()])\n",
    "    #ax.set_xticklabels(labels_v)\n",
    "    plt.title(exp_title)\n",
    "    plt.tight_layout()\n",
    "    plt.savefig(exp_title+'_delays.svg')\n",
    "    plt.show()"
   ]
  },
  {
   "cell_type": "code",
   "execution_count": null,
   "metadata": {},
   "outputs": [],
   "source": [
    "def plot_mean_frequency(data_average,labels_v=['V0', 'V1'],exp_title=None):\n",
    "    \n",
    "    fig, ax = plt.subplots()\n",
    "    pos = 0\n",
    "    for k, average in data_average.items():\n",
    "        ax.bar([pos], [np.array([*average.values()]).mean()],yerr=[np.array([*average.values()]).std()], align='center', alpha=0.5, ecolor='black', capsize=10)\n",
    "        #ax.scatter(np.random.rand(len([*average.values()]))*0.01 -0.005 + pos ,[*average.values()])\n",
    "        pos=pos+1\n",
    "        \n",
    "    ax.set_ylabel('Mean frequency (Hz)')\n",
    "    ax.set_title('Mean frequency (Hz)')\n",
    "    ax.set_xticks([*data_average.keys()])\n",
    "    ax.set_xticklabels(labels_v)\n",
    "\n",
    "\n",
    "    plt.tight_layout()\n",
    "    plt.title(exp_title)\n",
    "    plt.savefig(exp_title+'_mean_freuquency.svg')\n",
    "    plt.show()"
   ]
  },
  {
   "cell_type": "code",
   "execution_count": null,
   "metadata": {},
   "outputs": [],
   "source": [
    "spikes_dSPN, average_dSPN = firing_frequency(kl,type_cell='dSPN')\n",
    "delays_dSPN = spike_delays(spikes_dSPN,start_stim=1)\n",
    "plot_spike_delays(delays_dSPN,labels_v=['ACh burst', 'ACh pause','DA-ACh burst', 'DA'],exp_title='dSPN delays')\n",
    "\n",
    "spikes_iSPN, average_iSPN = firing_frequency(kl,type_cell='iSPN')\n",
    "delays_iSPN = spike_delays(spikes_iSPN,start_stim=1)\n",
    "plot_spike_delays(delays_iSPN,labels_v=['ACh burst', 'ACh pause','DA-ACh burst', 'DA'],exp_title='iSPN delays')\n",
    "\n",
    "spikes_FSN, average_FSN = firing_frequency(kl,type_cell='FSN')\n",
    "delays_FSN = spike_delays(spikes_FSN,start_stim=1)\n",
    "plot_spike_delays(delays_FSN,labels_v=['ACh burst', 'ACh pause','DA-ACh burst', 'DA'],exp_title='FSN delays')"
   ]
  },
  {
   "cell_type": "code",
   "execution_count": null,
   "metadata": {},
   "outputs": [],
   "source": [
    "plot_mean_frequency(average_dSPN,labels_v=['ACh burst', 'ACh pause','DA-ACh burst', 'DA'],exp_title='dSPN Mean frequency during activation')\n",
    "plot_mean_frequency(average_iSPN,labels_v=['ACh burst', 'ACh pause','DA-ACh burst', 'DA'],exp_title='iSPN Mean frequency during activation')\n",
    "plot_mean_frequency(average_FSN,labels_v=['ACh burst', 'ACh pause','DA-ACh burst', 'DA'],exp_title='FSN Mean frequency during activation')"
   ]
  },
  {
   "cell_type": "code",
   "execution_count": null,
   "metadata": {},
   "outputs": [],
   "source": [
    "import quantities as pq\n",
    "from elephant import statistics, kernels\n",
    "import matplotlib.pyplot as plt\n",
    "from elephant.spike_train_generation import homogeneous_poisson_process\n",
    "from viziphant.statistics import plot_instantaneous_rates_colormesh\n",
    "\n",
    "def plot_colormap_frequency(data_spikes):\n",
    "    np.random.seed(6)\n",
    "    for k, data in data_spikes.items():\n",
    "        spiketrains = [*data.values()]\n",
    "        kernel = kernels.GaussianKernel(sigma=100 * pq.ms)\n",
    "        rates = statistics.instantaneous_rate(spiketrains,\n",
    "                                      sampling_period=5e-4 * pq.s,\n",
    "                                      kernel=kernel)\n",
    "        plot_instantaneous_rates_colormesh(rates)\n",
    "    plt.show()"
   ]
  },
  {
   "cell_type": "code",
   "execution_count": null,
   "metadata": {},
   "outputs": [],
   "source": [
    "plot_colormap_frequency(spikes_dSPN)"
   ]
  },
  {
   "cell_type": "code",
   "execution_count": null,
   "metadata": {},
   "outputs": [],
   "source": [
    "plot_colormap_frequency(spikes_iSPN)"
   ]
  },
  {
   "cell_type": "code",
   "execution_count": null,
   "metadata": {},
   "outputs": [],
   "source": [
    "def depolarisation_response(obj_loaded_traces,type_cell,start=1,end=2):\n",
    "    data_dict = obj_loaded_traces.get_traces(neuronType=type_cell)\n",
    "    depol = dict()\n",
    "    for k, data in data_dict.items():\n",
    "        for t, voltages in data.items():\n",
    "            depolarisation = list()\n",
    "            if max(voltages) < 0:\n",
    "                depolarisation.append(voltages[int(start/5e-4) : int(end/5e-4)] - data_dict[0][t][int(start/5e-4) : int(end/5e-4)])\n",
    "                \n",
    "        depol.update({k : depolarisation})\n",
    "                \n",
    "    return depol\n"
   ]
  },
  {
   "cell_type": "code",
   "execution_count": null,
   "metadata": {},
   "outputs": [],
   "source": [
    "def plot_membrane_potentials(obj_loaded_traces,type_cell,exp_title,start=1,end=2,labels=None,colors=None):\n",
    "    fig, ax = plt.subplots()\n",
    "    data_dict = obj_loaded_traces.get_traces(neuronType=type_cell)\n",
    "    depol = dict()\n",
    "    for k, data in data_dict.items():\n",
    "        ax.plot([],c=colors[k],label=labels[k])\n",
    "        for t, voltages in data.items():\n",
    "            if max(voltages)<-0.04:\n",
    "                ax.plot(voltages,c=colors[k])\n",
    "    plt.tight_layout()\n",
    "    plt.savefig(exp_title+'_voltages.svg')\n",
    "    plt.show()\n",
    "            "
   ]
  },
  {
   "cell_type": "code",
   "execution_count": null,
   "metadata": {},
   "outputs": [],
   "source": []
  },
  {
   "cell_type": "code",
   "execution_count": null,
   "metadata": {},
   "outputs": [],
   "source": [
    "plot_membrane_potentials(kl,type_cell='dSPN',start=1,end=2,exp_title='dSPN',labels=['ACh burst', 'ACh pause','DA-ACh burst', 'DA'],colors=['red','green', 'purple', 'blue'])"
   ]
  },
  {
   "cell_type": "code",
   "execution_count": null,
   "metadata": {},
   "outputs": [],
   "source": [
    "depol_dSPN = depolarisation_response(kl,type_cell='dSPN')"
   ]
  },
  {
   "cell_type": "code",
   "execution_count": 26,
   "metadata": {},
   "outputs": [],
   "source": [
    "def ratio_spike_nonspike(obj_loaded_traces,type_cell='dSPN'):\n",
    "    \n",
    "    ratio = dict()\n",
    "    \n",
    "    data_dict = obj_loaded_traces.get_traces(neuronType=type_cell)\n",
    "    for k, data in data_dict.items():\n",
    "        \n",
    "        depol = 0\n",
    "        spike = 0\n",
    "        \n",
    "        for t, voltages in data.items():\n",
    "            if max(voltages)<-0.04:\n",
    "                depol=depol+1\n",
    "            else:\n",
    "                spike=spike+1\n",
    "                \n",
    "        ratio.update({k : {'spike': spike, 'pol' : depol, 'ratio': spike/depol}})\n",
    "        \n",
    "    return ratio\n",
    "                \n",
    "        \n",
    "    "
   ]
  },
  {
   "cell_type": "code",
   "execution_count": 77,
   "metadata": {},
   "outputs": [],
   "source": [
    "def percentage_spike(obj_loaded_traces,type_cell='dSPN',total=None):\n",
    "    \n",
    "    ratio = dict()\n",
    "    \n",
    "    data_dict = obj_loaded_traces.get_traces(neuronType=type_cell)\n",
    "    for k, data in data_dict.items():\n",
    "        \n",
    "        depol = 0\n",
    "        spike = 0\n",
    "        \n",
    "        for t, voltages in data.items():\n",
    "            if max(voltages)<0:\n",
    "                depol=depol+1\n",
    "            else:\n",
    "                spike=spike+1\n",
    "                \n",
    "        ratio.update({k : {'spike': spike, 'pol' : depol, 'percentage': spike/total*100}})\n",
    "        \n",
    "    return ratio\n",
    "                \n",
    "        \n",
    "    "
   ]
  },
  {
   "cell_type": "code",
   "execution_count": 102,
   "metadata": {},
   "outputs": [],
   "source": [
    "def bias_index(obj_loaded_traces,type_cell=['dSPN','iSPN'],total=None):\n",
    "    \n",
    "    index = dict()\n",
    "    \n",
    "    data_dict1 = obj_loaded_traces.get_traces(neuronType=type_cell[0])\n",
    "    data_dict2 = obj_loaded_traces.get_traces(neuronType=type_cell[1])\n",
    "    \n",
    "    index1 = dict()\n",
    "    index2 = dict()\n",
    "    for k, data in data_dict1.items():\n",
    "\n",
    "        spike1 = 0\n",
    "\n",
    "        for t, voltages in data.items():\n",
    "            if max(voltages)>-0.04:\n",
    "                spike1=spike1+1\n",
    "                \n",
    "        index1.update({k : {'spike': spike1}})\n",
    "        \n",
    "    for k, data in data_dict2.items():\n",
    "\n",
    "        spike2 = 0\n",
    "\n",
    "        for t, voltages in data.items():\n",
    "            if max(voltages)>-0.04:\n",
    "                spike2=spike2+1\n",
    "                \n",
    "        index2.update({k : {'spike': spike2}})\n",
    "\n",
    "    for r, info in index1.items():\n",
    "        \n",
    "        index.update({r : ((info['spike']/262) - (index2[k]['spike']/3044))/total})\n",
    "        \n",
    "    return index"
   ]
  },
  {
   "cell_type": "code",
   "execution_count": 116,
   "metadata": {},
   "outputs": [],
   "source": [
    "dSPN_iSPN = bias_index(kl,total=2)"
   ]
  },
  {
   "cell_type": "code",
   "execution_count": 147,
   "metadata": {},
   "outputs": [],
   "source": [
    "def plot_bias_index(biases,labels_v,exp_title):\n",
    "    fig, ax = plt.subplots()\n",
    "    \n",
    "    ax.scatter([*biases.keys()],[*biases.values()],c='black')\n",
    "    ax.plot([*biases.keys()],[*biases.values()],c='grey')\n",
    "    ax.set_ylim([-1, 1])\n",
    "    ax.set_ylabel('      Pathway bias index      ')\n",
    "    ax.set_xticks([*biases.keys()])\n",
    "    ax.set_xticklabels(labels_v)\n",
    "    t = (\"iSPN\")\n",
    "    plt.text(-0.75, -1, t, ha='left', rotation=90, wrap=True,c='red')\n",
    "    t = (\">\")\n",
    "    plt.text(-0.75, -0.75, t, ha='left', rotation=90, wrap=True,c='black')\n",
    "    t = (\"dSPN\")\n",
    "    plt.text(-0.75, -0.6, t, ha='left', rotation=90, wrap=True,c='green')\n",
    "        \n",
    "        \n",
    "    t = (\"iSPN\")\n",
    "    plt.text(-0.75, 0.75, t, ha='left', rotation=90, wrap=True,c='red')\n",
    "    t = (\">\")\n",
    "    plt.text(-0.75, 0.65, t, ha='left', rotation=90, wrap=True,c='black')\n",
    "    t = (\"dSPN\")\n",
    "    plt.text(-0.75, 0.4, t, ha='left', rotation=90, wrap=True,c='green')\n",
    "    plt.show()\n",
    "    "
   ]
  },
  {
   "cell_type": "code",
   "execution_count": 148,
   "metadata": {},
   "outputs": [
    {
     "data": {
      "image/png": "[encoded data removed]",
      "text/plain": [
       "<Figure size 432x288 with 1 Axes>"
      ]
     },
     "metadata": {
      "needs_background": "light"
     },
     "output_type": "display_data"
    }
   ],
   "source": [
    "plot_bias_index(dSPN_iSPN,labels_v=['ACh burst', 'ACh pause','DA-ACh burst', 'DA'],exp_title='dSPN delays')"
   ]
  },
  {
   "cell_type": "code",
   "execution_count": 111,
   "metadata": {},
   "outputs": [
    {
     "data": {
      "text/plain": [
       "{0: 0.1780075433088243,\n",
       " 1: 0.1665571616294349,\n",
       " 2: 0.7009083066676028,\n",
       " 3: 1.2314426578126407}"
      ]
     },
     "execution_count": 111,
     "metadata": {},
     "output_type": "execute_result"
    }
   ],
   "source": [
    "dSPN_iSPN"
   ]
  },
  {
   "cell_type": "code",
   "execution_count": 28,
   "metadata": {},
   "outputs": [
    {
     "data": {
      "text/plain": [
       "{0: {'spike': 265, 'pol': 4735, 'ratio': 0.0559662090813094},\n",
       " 1: {'spike': 262, 'pol': 4738, 'ratio': 0.05529759392148586},\n",
       " 2: {'spike': 402, 'pol': 4598, 'ratio': 0.08742931709438886},\n",
       " 3: {'spike': 541, 'pol': 4459, 'ratio': 0.12132765193989684}}"
      ]
     },
     "execution_count": 28,
     "metadata": {},
     "output_type": "execute_result"
    }
   ],
   "source": [
    "ratio_dSPN = ratio_spike_nonspike(kl,type_cell='dSPN')\n",
    "ratio_dSPN"
   ]
  },
  {
   "cell_type": "code",
   "execution_count": 78,
   "metadata": {},
   "outputs": [
    {
     "data": {
      "text/plain": [
       "{0: {'spike': 264, 'pol': 4736, 'percentage': 5.28},\n",
       " 1: {'spike': 262, 'pol': 4738, 'percentage': 5.24},\n",
       " 2: {'spike': 397, 'pol': 4603, 'percentage': 7.9399999999999995},\n",
       " 3: {'spike': 535, 'pol': 4465, 'percentage': 10.7}}"
      ]
     },
     "execution_count": 78,
     "metadata": {},
     "output_type": "execute_result"
    }
   ],
   "source": [
    "per_dSPN = percentage_spike(kl,type_cell='dSPN',total=5000)\n",
    "per_dSPN"
   ]
  },
  {
   "cell_type": "code",
   "execution_count": null,
   "metadata": {},
   "outputs": [],
   "source": [
    "ratio_iSPN = ratio_spike_nonspike(kl,type_cell='iSPN')"
   ]
  },
  {
   "cell_type": "code",
   "execution_count": 59,
   "metadata": {},
   "outputs": [
    {
     "data": {
      "text/plain": [
       "{0: {'spike': 3612, 'pol': 1388, 'percentage': 72.24000000000001},\n",
       " 1: {'spike': 3044, 'pol': 1956, 'percentage': 60.88},\n",
       " 2: {'spike': 3628, 'pol': 1372, 'percentage': 72.56},\n",
       " 3: {'spike': 2537, 'pol': 2463, 'percentage': 50.739999999999995}}"
      ]
     },
     "execution_count": 59,
     "metadata": {},
     "output_type": "execute_result"
    }
   ],
   "source": [
    "per_iSPN = percentage_spike(kl,type_cell='iSPN',total=5000)\n",
    "per_iSPN"
   ]
  },
  {
   "cell_type": "code",
   "execution_count": null,
   "metadata": {},
   "outputs": [],
   "source": [
    "ratio_FSN = ratio_spike_nonspike(kl,type_cell='FSN')"
   ]
  },
  {
   "cell_type": "code",
   "execution_count": 61,
   "metadata": {},
   "outputs": [
    {
     "data": {
      "text/plain": [
       "{0: {'spike': 56, 'pol': 44, 'percentage': 11.200000000000001},\n",
       " 1: {'spike': 56, 'pol': 44, 'percentage': 11.200000000000001},\n",
       " 2: {'spike': 77, 'pol': 23, 'percentage': 15.4},\n",
       " 3: {'spike': 83, 'pol': 17, 'percentage': 16.6}}"
      ]
     },
     "execution_count": 61,
     "metadata": {},
     "output_type": "execute_result"
    }
   ],
   "source": [
    "per_FSN = percentage_spike(kl,type_cell='FSN',total=500)\n",
    "per_FSN"
   ]
  },
  {
   "cell_type": "code",
   "execution_count": 57,
   "metadata": {},
   "outputs": [],
   "source": [
    "def plot_percentage(percentages,labels_v=['ACh burst', 'ACh pause','DA-ACh burst', 'DA'],exp_title='dSPN'):\n",
    "    fig, ax = plt.subplots()\n",
    "    pos = 0\n",
    "    for k, per in percentages.items():\n",
    "        ax.bar([k], [per['percentage']],align='center', alpha=0.5, ecolor='black', capsize=10)\n",
    "        \n",
    "    ax.set_ylabel('Percentage spiking (total) %')\n",
    "    ax.set_title('Ratio spike/pol')\n",
    "    ax.set_xticks([*percentages.keys()])\n",
    "    ax.set_xticklabels(labels_v)\n",
    "\n",
    "\n",
    "    plt.tight_layout()\n",
    "    plt.title(exp_title)\n",
    "    plt.savefig(exp_title+'_ratio.svg')\n",
    "    plt.show()"
   ]
  },
  {
   "cell_type": "code",
   "execution_count": null,
   "metadata": {},
   "outputs": [],
   "source": [
    "def plot_ratio(ratios,labels_v=['ACh burst', 'ACh pause','DA-ACh burst', 'DA'],exp_title='dSPN'):\n",
    "    fig, ax = plt.subplots()\n",
    "    pos = 0\n",
    "    for k, ratio in ratios.items():\n",
    "        ax.bar([k], [ratio['ratio']],align='center', alpha=0.5, ecolor='black', capsize=10)\n",
    "        \n",
    "    ax.set_ylabel('Ratio spike/pol')\n",
    "    ax.set_title('Ratio spike/pol')\n",
    "    ax.set_xticks([*ratios.keys()])\n",
    "    ax.set_xticklabels(labels_v)\n",
    "\n",
    "\n",
    "    plt.tight_layout()\n",
    "    plt.title(exp_title)\n",
    "    plt.savefig(exp_title+'_ratio.svg')\n",
    "    plt.show()"
   ]
  },
  {
   "cell_type": "code",
   "execution_count": null,
   "metadata": {},
   "outputs": [],
   "source": [
    "plot_ratio(ratio_dSPN,exp_title='dSPN')"
   ]
  },
  {
   "cell_type": "code",
   "execution_count": 58,
   "metadata": {},
   "outputs": [
    {
     "data": {
      "image/png": "[encoded data removed]",
      "text/plain": [
       "<Figure size 432x288 with 1 Axes>"
      ]
     },
     "metadata": {
      "needs_background": "light"
     },
     "output_type": "display_data"
    }
   ],
   "source": [
    "plot_percentage(per_dSPN,exp_title='dSPN')"
   ]
  },
  {
   "cell_type": "code",
   "execution_count": 60,
   "metadata": {},
   "outputs": [
    {
     "data": {
      "image/png": "[encoded data removed]",
      "text/plain": [
       "<Figure size 432x288 with 1 Axes>"
      ]
     },
     "metadata": {
      "needs_background": "light"
     },
     "output_type": "display_data"
    }
   ],
   "source": [
    "plot_percentage(per_iSPN,exp_title='iSPN')"
   ]
  },
  {
   "cell_type": "code",
   "execution_count": 62,
   "metadata": {},
   "outputs": [
    {
     "data": {
      "image/png": "[encoded data removed]",
      "text/plain": [
       "<Figure size 432x288 with 1 Axes>"
      ]
     },
     "metadata": {
      "needs_background": "light"
     },
     "output_type": "display_data"
    }
   ],
   "source": [
    "plot_percentage(per_FSN,exp_title='FSN')"
   ]
  },
  {
   "cell_type": "code",
   "execution_count": null,
   "metadata": {},
   "outputs": [],
   "source": [
    "plot_ratio(ratio_iSPN,exp_title='iSPN')"
   ]
  },
  {
   "cell_type": "code",
   "execution_count": null,
   "metadata": {},
   "outputs": [],
   "source": [
    "plot_ratio(ratio_FSN,exp_title='FSN')"
   ]
  },
  {
   "cell_type": "code",
   "execution_count": null,
   "metadata": {},
   "outputs": [],
   "source": [
    "def mean_depolarisation(depol):\n",
    "    average = dict()\n",
    "    for k, session_data in depol.items():\n",
    "        corrected = np.array(session_data)*1e3\n",
    "        mean = corrected.mean()\n",
    "        std = corrected.std()\n",
    "        average.update({k : {'mean' : mean, 'std' : std}})\n",
    "        \n",
    "    return average"
   ]
  },
  {
   "cell_type": "code",
   "execution_count": null,
   "metadata": {},
   "outputs": [],
   "source": [
    "def plot_membrane_potential(mean_depol,labels_v=['v1','v2'],exp_title=None):\n",
    "    fig, ax = plt.subplots()\n",
    "    pos = 0\n",
    "    for k, average in mean_depol.items():\n",
    "        ax.bar([k], [average['mean']],yerr=[average['std']], align='center', alpha=0.5, ecolor='black', capsize=10)\n",
    "        \n",
    "    ax.set_ylabel('Membrane potential change (mV)')\n",
    "    ax.set_title('Membrane potential change (mV)')\n",
    "    ax.set_xticks([*mean_depol.keys()])\n",
    "    ax.set_xticklabels(labels_v)\n",
    "\n",
    "\n",
    "    plt.tight_layout()\n",
    "    plt.title(exp_title)\n",
    "    plt.savefig(exp_title+'_mean_freuquency.svg')\n",
    "    plt.show()\n",
    "    \n",
    "    "
   ]
  },
  {
   "cell_type": "code",
   "execution_count": null,
   "metadata": {},
   "outputs": [],
   "source": [
    "mean_depol_dSPN = mean_depolarisation(depol_dSPN)"
   ]
  },
  {
   "cell_type": "code",
   "execution_count": null,
   "metadata": {},
   "outputs": [],
   "source": [
    "plot_membrane_potential(mean_depol_dSPN,labels_v=['ACh burst', 'ACh pause','DA-ACh burst', 'DA'],exp_title='dSPN delays')"
   ]
  },
  {
   "cell_type": "code",
   "execution_count": 5,
   "metadata": {},
   "outputs": [],
   "source": [
    "from snudda.utils.load import SnuddaLoad \n",
    "loadeddata =  SnuddaLoad(root + \"network-neuron-positions.hdf5\")"
   ]
  },
  {
   "cell_type": "code",
   "execution_count": 6,
   "metadata": {},
   "outputs": [],
   "source": [
    "posInfo = loadeddata.data\n",
    "cellpositions = posInfo['neuronPositions']"
   ]
  },
  {
   "cell_type": "code",
   "execution_count": 9,
   "metadata": {},
   "outputs": [],
   "source": [
    "def ratio_spike_nonspike_position(obj_loaded_traces,cell_positions,type_cell='dSPN'):\n",
    "    \n",
    "    ratio = dict()\n",
    "    \n",
    "    data_dict = obj_loaded_traces.get_traces(neuronType=type_cell)\n",
    "    for k, data in data_dict.items():\n",
    "        \n",
    "        depol = 0\n",
    "        spike = 0\n",
    "        depol_position = list()\n",
    "        spike_position = list()\n",
    "        \n",
    "        for t, voltages in data.items():\n",
    "            if max(voltages)<-0.04:\n",
    "                depol=depol+1\n",
    "                depol_position.append(cellpositions[t])\n",
    "            else:\n",
    "                spike=spike+1\n",
    "                spike_position.append(cellpositions[t])\n",
    "                \n",
    "        ratio.update({k : {'spike': spike, 'pol' : depol, 'ratio': spike/depol,'spike_position' :spike_position,\\\n",
    "                           'depol_position' : depol_position }})\n",
    "        \n",
    "    return ratio"
   ]
  },
  {
   "cell_type": "code",
   "execution_count": 40,
   "metadata": {},
   "outputs": [],
   "source": [
    "pos_ratio_dSPN = ratio_spike_nonspike_position(kl,cellpositions,type_cell='dSPN')\n",
    "pos_ratio_iSPN = ratio_spike_nonspike_position(kl,cellpositions,type_cell='iSPN')"
   ]
  },
  {
   "cell_type": "code",
   "execution_count": 29,
   "metadata": {},
   "outputs": [],
   "source": [
    "def plot_spike_pol_pos3d(pos_ratio,titles=None):\n",
    "    \n",
    "    from mpl_toolkits.mplot3d import Axes3D\n",
    "    import matplotlib.pyplot as plt\n",
    "    import numpy as np\n",
    "    \n",
    "    for k, info in pos_ratio.items():\n",
    "        \n",
    "        fig = plt.figure(k)\n",
    "        ax = fig.add_subplot(111, projection='3d')\n",
    "        \n",
    "        sp_pos = np.array(info['spike_position']).T\n",
    "        dp_pos = np.array(info['depol_position']).T\n",
    "        \n",
    "        ax.scatter(sp_pos[0][::10],sp_pos[1][::10], sp_pos[2][::10], c='red')\n",
    "        #ax.scatter(dp_pos[0][::10],dp_pos[1][::10], dp_pos[2][::10], c='blue')\n",
    "        ax.set_title(titles[k])\n",
    "\n",
    "        ax.set_xlabel('X Label')\n",
    "        ax.set_ylabel('Y Label')\n",
    "        ax.set_zlabel('Z Label')\n",
    "    \n",
    "\n",
    "        plt.show()"
   ]
  },
  {
   "cell_type": "code",
   "execution_count": 43,
   "metadata": {},
   "outputs": [],
   "source": [
    "def plot_spike_pol_pos(pos_ratio,titles=None,color=None):\n",
    "\n",
    "    import matplotlib.pyplot as plt\n",
    "    import numpy as np\n",
    "    \n",
    "    for k, info in pos_ratio.items():\n",
    "        \n",
    "        fig = plt.figure(k)\n",
    "        ax = fig.add_subplot(111)\n",
    "        \n",
    "        sp_pos = np.array(info['spike_position']).T\n",
    "        dp_pos = np.array(info['depol_position']).T\n",
    "        \n",
    "        ax.scatter(sp_pos[0][::10]*1e6,sp_pos[1][::10]*1e6, c=color)\n",
    "        #ax.scatter(dp_pos[0][::10],dp_pos[1][::10], dp_pos[2][::10], c='blue')\n",
    "        ax.set_title(titles[k] + ' ' + str(info['spike']))\n",
    "\n",
    "        ax.set_xlabel('X Label')\n",
    "        ax.set_ylabel('Y Label')\n",
    "\n",
    "    \n",
    "\n",
    "        plt.show()"
   ]
  },
  {
   "cell_type": "code",
   "execution_count": 44,
   "metadata": {},
   "outputs": [
    {
     "data": {
      "image/png": "[encoded data removed]",
      "text/plain": [
       "<Figure size 432x288 with 1 Axes>"
      ]
     },
     "metadata": {
      "needs_background": "light"
     },
     "output_type": "display_data"
    },
    {
     "data": {
      "image/png": "[encoded data removed]",
      "text/plain": [
       "<Figure size 432x288 with 1 Axes>"
      ]
     },
     "metadata": {
      "needs_background": "light"
     },
     "output_type": "display_data"
    },
    {
     "data": {
      "image/png": "[encoded data removed]",
      "text/plain": [
       "<Figure size 432x288 with 1 Axes>"
      ]
     },
     "metadata": {
      "needs_background": "light"
     },
     "output_type": "display_data"
    },
    {
     "data": {
      "image/png": "[encoded data removed]",
      "text/plain": [
       "<Figure size 432x288 with 1 Axes>"
      ]
     },
     "metadata": {
      "needs_background": "light"
     },
     "output_type": "display_data"
    }
   ],
   "source": [
    "plot_spike_pol_pos(pos_ratio_dSPN,titles=['ACh burst', 'ACh pause','DA-ACh burst', 'DA'],color='green')"
   ]
  },
  {
   "cell_type": "code",
   "execution_count": 45,
   "metadata": {},
   "outputs": [
    {
     "data": {
      "image/png": "[encoded data removed]",
      "text/plain": [
       "<Figure size 432x288 with 1 Axes>"
      ]
     },
     "metadata": {
      "needs_background": "light"
     },
     "output_type": "display_data"
    },
    {
     "data": {
      "image/png": "[encoded data removed]",
      "text/plain": [
       "<Figure size 432x288 with 1 Axes>"
      ]
     },
     "metadata": {
      "needs_background": "light"
     },
     "output_type": "display_data"
    },
    {
     "data": {
      "image/png": "[encoded data removed]",
      "text/plain": [
       "<Figure size 432x288 with 1 Axes>"
      ]
     },
     "metadata": {
      "needs_background": "light"
     },
     "output_type": "display_data"
    },
    {
     "data": {
      "image/png": "[encoded data removed]",
      "text/plain": [
       "<Figure size 432x288 with 1 Axes>"
      ]
     },
     "metadata": {
      "needs_background": "light"
     },
     "output_type": "display_data"
    }
   ],
   "source": [
    "plot_spike_pol_pos(pos_ratio_iSPN,titles=['ACh burst', 'ACh pause','DA-ACh burst', 'DA'],color='red')"
   ]
  },
  {
   "cell_type": "code",
   "execution_count": null,
   "metadata": {},
   "outputs": [],
   "source": []
  }
 ],
 "metadata": {
  "kernelspec": {
   "display_name": "Python 3",
   "language": "python",
   "name": "python3"
  },
  "language_info": {
   "codemirror_mode": {
    "name": "ipython",
    "version": 3
   },
   "file_extension": ".py",
   "mimetype": "text/x-python",
   "name": "python",
   "nbconvert_exporter": "python",
   "pygments_lexer": "ipython3",
   "version": "3.7.9"
  }
 },
 "nbformat": 4,
 "nbformat_minor": 4
}
