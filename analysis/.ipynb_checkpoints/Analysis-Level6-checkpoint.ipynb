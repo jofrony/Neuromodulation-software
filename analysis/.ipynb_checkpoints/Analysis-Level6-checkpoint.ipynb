{
 "cells": [
  {
   "cell_type": "markdown",
   "metadata": {},
   "source": [
    "# Level6"
   ]
  },
  {
   "cell_type": "code",
   "execution_count": null,
   "metadata": {},
   "outputs": [],
   "source": [
    "from project_wide.compare_plot_traces import comparePlotTraces\n",
    "simroot = 'pdc/Level6/pdc_network/simulation/'\n",
    "fn = [simroot + 'network-voltage-ACh-burst-network-level6.csv',\\\n",
    "      simroot + 'network-voltage-ACh-pause-network-level4.csv',\\\n",
    "      simroot + 'network-voltage-DA-ACh-burst-network-level4.csv',\\\n",
    "      simroot + 'network-voltage-DA-network-level4.csv']\n",
    "\n",
    "\n",
    "\n",
    "\n",
    "root = 'pdc/Level4/pdc_network/'\n",
    "nf = [root + 'network-synapses.hdf5',\\\n",
    "     root + 'network-synapses.hdf5',\\\n",
    "     root + 'network-synapses.hdf5',\\\n",
    "     root + 'network-synapses.hdf5']\n",
    "\n",
    "\n",
    "\n",
    "nl = comparePlotTraces(fileNames=fn,\\\n",
    "                      networkFiles=nf,labels=['ACh burst', 'ACh pause', 'DA ACh burst', 'DA'],colours=['red','green','blue','orange'],save_dir='Compare-network/')"
   ]
  },
  {
   "cell_type": "code",
   "execution_count": null,
   "metadata": {},
   "outputs": [],
   "source": [
    "%matplotlib notebook\n",
    "plot_offset = 0  # -0.2\n",
    "skip_time = 0  # 0.5\n",
    "num_traces_max = 10\n",
    "\n",
    "nl.plotTraceNeuronType(neuronType=\"dSPN\", nTraces=10, offset=plot_offset, skipTime=skip_time)\n",
    "nl.plotTraceNeuronType(neuronType=\"iSPN\", nTraces=10, offset=plot_offset, skipTime=skip_time)\n",
    "nl.plotTraceNeuronType(neuronType=\"FSN\", nTraces=10, offset=plot_offset, skipTime=skip_time)\n"
   ]
  },
  {
   "cell_type": "code",
   "execution_count": null,
   "metadata": {},
   "outputs": [],
   "source": []
  }
 ],
 "metadata": {
  "kernelspec": {
   "display_name": "Python 3",
   "language": "python",
   "name": "python3"
  },
  "language_info": {
   "codemirror_mode": {
    "name": "ipython",
    "version": 3
   },
   "file_extension": ".py",
   "mimetype": "text/x-python",
   "name": "python",
   "nbconvert_exporter": "python",
   "pygments_lexer": "ipython3",
   "version": "3.7.9"
  }
 },
 "nbformat": 4,
 "nbformat_minor": 4
}
