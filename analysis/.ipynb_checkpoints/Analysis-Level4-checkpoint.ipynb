{
 "cells": [
  {
   "cell_type": "markdown",
   "metadata": {},
   "source": [
    "# Level4"
   ]
  },
  {
   "cell_type": "code",
   "execution_count": null,
   "metadata": {},
   "outputs": [],
   "source": [
    "%matplotlib notebook\n",
    "\n",
    "from project_wide.compare_plot_traces import comparePlotTraces\n",
    "from project_wide.compare_activity_analyse import compareTraces"
   ]
  },
  {
   "cell_type": "code",
   "execution_count": null,
   "metadata": {},
   "outputs": [],
   "source": [
    "root = 'pdc/Level4/pdc_network/'"
   ]
  },
  {
   "cell_type": "markdown",
   "metadata": {},
   "source": [
    "## Plot neuron positions - soma"
   ]
  },
  {
   "cell_type": "code",
   "execution_count": null,
   "metadata": {},
   "outputs": [],
   "source": [
    "from snudda.utils.load import SnuddaLoad \n",
    "loadeddata =  SnuddaLoad(root + \"network-neuron-positions.hdf5\")\n",
    "\n",
    "posInfo = loadeddata.data\n",
    "cellpositions = posInfo['neuronPositions']\n",
    "type_n = [kion['name'].split('_')[0] for kion in posInfo['neurons']]\n"
   ]
  },
  {
   "cell_type": "code",
   "execution_count": null,
   "metadata": {},
   "outputs": [],
   "source": [
    "def plot_spike_pol_pos3d(neuron_pos,c={'dSPN' : 'lightblue','iSPN' : 'purple', 'FSN' : 'darkblue'},type_n=None,titles=None):\n",
    "    \n",
    "    from mpl_toolkits.mplot3d import Axes3D\n",
    "    import matplotlib.pyplot as plt\n",
    "    import numpy as np\n",
    "    legend_font = {'family' : 'Arial', 'weight' : 'normal', 'size': 12}\n",
    "    \n",
    "    fig = plt.figure()\n",
    "\n",
    "    ax = fig.add_subplot(111, projection='3d')\n",
    "    ax.grid(False)\n",
    "    fig.set_facecolor('white')\n",
    "    ax.set_facecolor('white')\n",
    "    ax.grid(False)\n",
    "    ax.set_aspect('auto')\n",
    "    ax.w_xaxis.set_pane_color((0.0, 0.0, 0.0, 0.0))\n",
    "    ax.w_yaxis.set_pane_color((0.0, 0.0, 0.0, 0.0))\n",
    "    ax.w_zaxis.set_pane_color((0.0, 0.0, 0.0, 0.0))\n",
    "    ax.set_axis_off()\n",
    "\n",
    "    for k,posi in enumerate(neuron_pos):\n",
    "        \n",
    "        if k%10==0:\n",
    "            \n",
    "\n",
    "            ax.scatter([posi[0]],[posi[1]], [posi[2]], c=c[type_n[k]])\n",
    "\n",
    "            \n",
    "    ax.plot(0.0039*np.ones_like(np.arange(10)),np.linspace(0.0045,0.0047,10),0.0048*np.ones_like(np.arange(10)),linewidth=3,c='black')\n",
    "    ax.text(0.0040,0.0045,0.0048,r'50  $\\mu$m',fontdict=legend_font)\n",
    "    \n",
    "    for cell, col in c.items():\n",
    "        ax.scatter([],[],[],c=col,label=cell)\n",
    "    plt.legend(frameon=False,prop=legend_font)\n",
    "    \n",
    "    plt.savefig('Level4/neuron_positions/neuronpositions.svg')\n",
    "    plt.show()"
   ]
  },
  {
   "cell_type": "code",
   "execution_count": null,
   "metadata": {},
   "outputs": [],
   "source": [
    "plot_spike_pol_pos3d(neuron_pos=cellpositions,type_n=type_n)"
   ]
  },
  {
   "cell_type": "markdown",
   "metadata": {},
   "source": [
    "## Plotting activity of dSPN, iSPN and FSN following dopamine modulation - transient 700 ms"
   ]
  },
  {
   "cell_type": "code",
   "execution_count": null,
   "metadata": {},
   "outputs": [],
   "source": [
    "root = 'pdc/Level4/pdc_network/'\n",
    "simroot = 'pdc/Level4/pdc_network/simulation/'\n",
    "fn = [simroot + 'network-voltage-control-level4.csv',\\\n",
    "          simroot + 'network-voltage-DA-network-level4.csv']\n",
    "\n",
    "nf = [root + 'network-synapses.hdf5',\\\n",
    "         root + 'network-synapses.hdf5']\n"
   ]
  },
  {
   "cell_type": "code",
   "execution_count": null,
   "metadata": {},
   "outputs": [],
   "source": [
    "kl = compareTraces(fileNames=fn,\\\n",
    "                      networkFiles=nf,labels = ['control','DA'],colours=['black','red'])\n"
   ]
  },
  {
   "cell_type": "code",
   "execution_count": null,
   "metadata": {},
   "outputs": [],
   "source": [
    "def plot_dopamine_control(obj_loaded_traces,type_cell=None,traces=10,sub_dir=None,skip=50):\n",
    "    \n",
    "    import matplotlib.pyplot as plt\n",
    "    import numpy as np\n",
    "        \n",
    "    data_dict = obj_loaded_traces.get_traces(neuronType=type_cell)\n",
    "    \n",
    "    control = np.array([*data_dict[0].values()])\n",
    "    da = np.array([*data_dict[1].values()])\n",
    "    \n",
    "    control_m = np.mean(control,axis=0)\n",
    "    control_std = np.std(control,axis=0)\n",
    "    \n",
    "    da_m = np.mean(da,axis=0)\n",
    "    da_std = np.std(da,axis=0)\n",
    "    \n",
    "    \n",
    "    time = np.arange(0,3000.5,0.5)[int(50/0.5):]\n",
    "    \n",
    "    for i in np.arange(1,len(control),int(len(control)/traces)):\n",
    "            fig = plt.figure()           \n",
    "            ax = fig.add_subplot(111)\n",
    "            ax.plot(time,control[i][int(50/0.5):]*1e3,c='black')\n",
    "            ax.plot(time,da[i][int(50/0.5):]*1e3,c='red')\n",
    "            ax.set_ylabel('Membrane potential (mV)')\n",
    "            ax.set_xlabel('Time(ms)')\n",
    "            \n",
    "            ax.spines['right'].set_visible(False)\n",
    "            ax.spines['top'].set_visible(False)\n",
    "            ax.yaxis.set_ticks_position('left')\n",
    "            ax.xaxis.set_ticks_position('bottom')\n",
    "            ax.plot(np.arange(2500,3000),np.ones_like(np.arange(2500,3000))*-75,c='black')\n",
    "            ax.text(2500,-74,'500 ms')\n",
    "\n",
    "            if max(da[i])>0:\n",
    "                ax.set_ylim([-110,40])\n",
    "                ax.plot(2500*np.ones_like(np.arange(-60,-40)),np.arange(-60,-40),c='black')\n",
    "                ax.text(2550,-40,'20 mV')\n",
    "            else:\n",
    "                ax.set_ylim([-110,-50])\n",
    "                ax.plot(2500*np.ones_like(np.arange(-100,-80)),np.arange(-100,-80),c='black',wi)\n",
    "                ax.text(2550,-78,'5 mV')\n",
    "                \n",
    "            ax.plot(700*np.ones_like(np.arange(-60,-40)),np.arange(-60,-40),c='black', linewidth=10)\n",
    "            \n",
    "            fig.savefig('/'.join(['Level4',sub_dir,'dopamine-control-traces-'+str(i)+'-'+type_cell+\".svg\"]))\n",
    "            \n",
    "    plt.show()"
   ]
  },
  {
   "cell_type": "code",
   "execution_count": null,
   "metadata": {},
   "outputs": [],
   "source": [
    "plot_dopamine_control(kl,type_cell='dSPN',traces=10,sub_dir='dSPN-dopamine')\n",
    "\n"
   ]
  },
  {
   "cell_type": "code",
   "execution_count": null,
   "metadata": {},
   "outputs": [],
   "source": [
    "plot_dopamine_control(kl,type_cell='iSPN',traces=10,sub_dir='iSPN-dopamine')"
   ]
  },
  {
   "cell_type": "code",
   "execution_count": null,
   "metadata": {},
   "outputs": [],
   "source": [
    "plot_dopamine_control(kl,type_cell='FSN',traces=10,sub_dir='FSN-dopamine')"
   ]
  },
  {
   "cell_type": "code",
   "execution_count": null,
   "metadata": {},
   "outputs": [],
   "source": [
    "root = 'pdc/Level4/pdc_network/'\n",
    "simroot = 'pdc/Level4/pdc_network/simulation/'\n",
    "fn = [simroot + 'network-voltage-ACh-burst-network-level4.csv',\\\n",
    "      simroot + 'network-voltage-ACh-pause-network-level4.csv',\\\n",
    "      simroot + 'network-voltage-DA-ACh-burst-network-level4.csv',\\\n",
    "      simroot + 'network-voltage-DA-ACh-pause-network-level4.csv',\\\n",
    "      simroot + 'network-voltage-DA-network-level4.csv',\\\n",
    "      simroot + 'network-voltage-control-level4.csv']\n",
    "\n",
    "\n",
    "\n",
    "\n",
    "root = 'pdc/Level4/pdc_network/'\n",
    "nf = [root + 'network-synapses.hdf5',\\\n",
    "      root + 'network-synapses.hdf5',\\\n",
    "     root + 'network-synapses.hdf5',\\\n",
    "     root + 'network-synapses.hdf5',\\\n",
    "     root + 'network-synapses.hdf5',\\\n",
    "     root + 'network-synapses.hdf5']\n",
    "\n",
    "\n",
    "\n"
   ]
  },
  {
   "cell_type": "code",
   "execution_count": null,
   "metadata": {},
   "outputs": [],
   "source": [
    "nl = comparePlotTraces(fileNames=fn,\\\n",
    "                      networkFiles=nf,labels=['ACh burst', 'ACh pause', 'DA and ACh burst', 'DA and ACh pause', 'DA', 'control'],colours=['red','green','blue','purple','orange','black'],save_dir='Compare-network/')"
   ]
  },
  {
   "cell_type": "code",
   "execution_count": null,
   "metadata": {},
   "outputs": [],
   "source": [
    "kl = compareTraces(fileNames=fn,\\\n",
    "                      networkFiles=nf,labels = ['ACh burst', 'ACh pause', 'DA and ACh burst', 'DA and ACh pause', 'DA', 'control'],colours=['red','green','blue','purple','orange','black'])\n"
   ]
  },
  {
   "cell_type": "code",
   "execution_count": null,
   "metadata": {},
   "outputs": [],
   "source": [
    "import elephant as elp\n",
    "import neo\n",
    "import quantities as pq\n",
    "import numpy as np\n",
    "import matplotlib.pyplot as plt\n",
    "\n",
    "def firing_frequency(obj_loaded_traces,type_cell='dSPN'):\n",
    "\n",
    "    data = obj_loaded_traces.get_traces(neuronType=type_cell)\n",
    "    data_spikes = dict()\n",
    "    data_average = dict()\n",
    "    for ctr, network in data.items():\n",
    "        data_spikes.update({ctr : dict()})\n",
    "        data_average.update({ctr : dict()})\n",
    "        for k, volt in network.items():\n",
    "            neov = neo.AnalogSignal(volt, units='V',sampling_period = 5e-4 * pq.s)\n",
    "            spike = elp.spike_train_generation.threshold_detection(neov)\n",
    "            data_spikes[ctr].update({k : spike})\n",
    "\n",
    "            if len(spike) >2:\n",
    "                print(spike)\n",
    "                av = elp.statistics.mean_firing_rate(spike,t_start=1 * pq.s, t_stop= 1.5 *pq.s)\n",
    "                \n",
    "                data_average[ctr].update({k : av})\n",
    "            \n",
    "    return data_spikes, data_average"
   ]
  },
  {
   "cell_type": "code",
   "execution_count": null,
   "metadata": {},
   "outputs": [],
   "source": [
    "def plot_mean_frequency(data_average,labels_v=['V0', 'V1'],exp_title=None):\n",
    "    \n",
    "    fig, ax = plt.subplots()\n",
    "    pos = 0\n",
    "    for k, average in data_average.items():\n",
    "        ax.bar([pos], [np.array([*average.values()]).mean()],yerr=[np.array([*average.values()]).std()], align='center', alpha=0.5, ecolor='black', capsize=10)\n",
    "        #ax.scatter(np.random.rand(len([*average.values()]))*0.01 -0.005 + pos ,[*average.values()])\n",
    "        pos=pos+1\n",
    "        \n",
    "    ax.set_ylabel('Mean frequency (Hz)')\n",
    "    ax.set_title('Mean frequency (Hz)')\n",
    "    ax.set_xticks([*data_average.keys()])\n",
    "    ax.set_xticklabels(labels_v)\n",
    "\n",
    "\n",
    "    plt.tight_layout()\n",
    "    plt.title(exp_title)\n",
    "    plt.savefig('Level4/'+exp_title+'_mean_freuquency.svg')\n",
    "    plt.show()"
   ]
  },
  {
   "cell_type": "code",
   "execution_count": null,
   "metadata": {},
   "outputs": [],
   "source": [
    "spikes_dSPN, average_dSPN = firing_frequency(kl,type_cell='dSPN')\n",
    "\n",
    "spikes_iSPN, average_iSPN = firing_frequency(kl,type_cell='iSPN')\n",
    "\n",
    "spikes_FSN, average_FSN = firing_frequency(kl,type_cell='FSN')"
   ]
  },
  {
   "cell_type": "code",
   "execution_count": null,
   "metadata": {},
   "outputs": [],
   "source": [
    "\n",
    "\n",
    "plot_mean_frequency(average_dSPN,labels_v=['ACh burst', 'ACh pause', 'DA and ACh burst', 'DA and ACh pause', 'DA', 'control'],exp_title='dSPN Mean frequency during activation')\n",
    "plot_mean_frequency(average_iSPN,labels_v=['ACh burst', 'ACh pause', 'DA and ACh burst', 'DA and ACh pause', 'DA', 'control'],exp_title='iSPN Mean frequency during activation')\n",
    "plot_mean_frequency(average_FSN,labels_v=['ACh burst', 'ACh pause', 'DA and ACh burst', 'DA and ACh pause', 'DA', 'control'],exp_title='FSN Mean frequency during activation')"
   ]
  },
  {
   "cell_type": "code",
   "execution_count": null,
   "metadata": {},
   "outputs": [],
   "source": [
    "import numpy as np\n",
    "import matplotlib.pyplot as plt"
   ]
  },
  {
   "cell_type": "code",
   "execution_count": null,
   "metadata": {},
   "outputs": [],
   "source": [
    "%matplotlib notebook\n",
    "plot_offset = 0  # -0.2\n",
    "skip_time = 0  # 0.5\n",
    "num_traces_max = 10\n",
    "\n",
    "nl.plotTraceNeuronType(neuronType=\"dSPN\", nTraces=10, offset=plot_offset, skipTime=skip_time)\n",
    "#nl.plotTraceNeuronType(neuronType=\"iSPN\", nTraces=10, offset=plot_offset, skipTime=skip_time)\n",
    "#nl.plotTraceNeuronType(neuronType=\"FSN\", nTraces=10, offset=plot_offset, skipTime=skip_time)\n"
   ]
  },
  {
   "cell_type": "code",
   "execution_count": null,
   "metadata": {},
   "outputs": [],
   "source": [
    "nl.plotTraceNeuronType(neuronType=\"iSPN\", nTraces=10, offset=plot_offset, skipTime=skip_time)\n"
   ]
  },
  {
   "cell_type": "code",
   "execution_count": null,
   "metadata": {},
   "outputs": [],
   "source": [
    "nl.plotTraceNeuronType(neuronType=\"FSN\", nTraces=10, offset=plot_offset, skipTime=skip_time)"
   ]
  },
  {
   "cell_type": "code",
   "execution_count": null,
   "metadata": {},
   "outputs": [],
   "source": []
  },
  {
   "cell_type": "code",
   "execution_count": null,
   "metadata": {},
   "outputs": [],
   "source": [
    "def plot_DA_ACh_P_control(obj_loaded_traces,type_cell='dSPN'):\n",
    "    data_dict = obj_loaded_traces.get_traces(neuronType=type_cell)\n",
    "    \n",
    "   \n",
    "    \n",
    "    control = np.array([*data_dict[5].values()])\n",
    "\n",
    "    da = np.array([*data_dict[3].values()])\n",
    "    \n",
    "    control_m = np.mean(control,axis=0)\n",
    "    control_std = np.std(control,axis=0)\n",
    "    \n",
    "    da_m = np.mean(da,axis=0)\n",
    "    da_std = np.std(da,axis=0)\n",
    "    \n",
    "    \n",
    "    time = np.arange(0,3000.5,0.5)\n",
    "    for i in np.arange(1,1000,10):\n",
    "            fig = plt.figure()           \n",
    "            ax = fig.add_subplot(111)\n",
    "            ax.plot(time,control[i]*1e3,c='black')\n",
    "            ax.plot(time,da[i]*1e3,c='red')\n",
    "            ax.set_ylabel('Membrane potential (mV)')\n",
    "            ax.set_xlabel('Time(ms)')\n",
    "            \n",
    "            ax.spines['right'].set_visible(False)\n",
    "            ax.spines['top'].set_visible(False)\n",
    "            ax.yaxis.set_ticks_position('left')\n",
    "            ax.xaxis.set_ticks_position('bottom')\n",
    "            ax.plot(np.arange(2500,3000),np.ones_like(np.arange(2500,3000))*-75,c='black')\n",
    "            ax.text(2500,-74,'500 ms')\n",
    "\n",
    "            if max(da[i])>0:\n",
    "                ax.set_ylim([-100,40])\n",
    "                ax.plot(2500*np.ones_like(np.arange(-60,-40)),np.arange(-60,-40),c='black')\n",
    "                ax.text(2550,-40,'20 mV')\n",
    "            else:\n",
    "                ax.set_ylim([-100,-70])\n",
    "                ax.plot(2500*np.ones_like(np.arange(-80,-75)),np.arange(-80,-75),c='black')\n",
    "                ax.text(2550,-78,'5 mV')\n",
    "            \n",
    "            fig.savefig('Level4/DA-P-control-traces'+str(i)+\".svg\")\n",
    "            \n",
    "    plt.figure()\n",
    "    \n",
    "    plt.plot(time,control_m,c='black')\n",
    "    plt.plot(time,da_m,c='red')\n",
    "    plt.fill_between(time,control_m-control_std,control_m+control_std,alpha=.1,color='black')\n",
    "    plt.fill_between(time,da_m-da_std,da_m+da_std,alpha=.1,color='red')      \n",
    "    \n",
    "    plt.show()"
   ]
  },
  {
   "cell_type": "code",
   "execution_count": null,
   "metadata": {},
   "outputs": [],
   "source": [
    "def plot_DA_ACh_B_control(obj_loaded_traces,type_cell='dSPN'):\n",
    "    data_dict = obj_loaded_traces.get_traces(neuronType=type_cell)\n",
    "    \n",
    "   \n",
    "    \n",
    "    control = np.array([*data_dict[5].values()])\n",
    "\n",
    "    da = np.array([*data_dict[2].values()])\n",
    "    \n",
    "    control_m = np.mean(control,axis=0)\n",
    "    control_std = np.std(control,axis=0)\n",
    "    \n",
    "    da_m = np.mean(da,axis=0)\n",
    "    da_std = np.std(da,axis=0)\n",
    "    \n",
    "    \n",
    "    time = np.arange(0,3000.5,0.5)\n",
    "    for i in np.arange(1,1000,10):\n",
    "            fig = plt.figure()           \n",
    "            ax = fig.add_subplot(111)\n",
    "            ax.plot(time,control[i]*1e3,c='black')\n",
    "            ax.plot(time,da[i]*1e3,c='red')\n",
    "            ax.set_ylabel('Membrane potential (mV)')\n",
    "            ax.set_xlabel('Time(ms)')\n",
    "            \n",
    "            ax.spines['right'].set_visible(False)\n",
    "            ax.spines['top'].set_visible(False)\n",
    "            ax.yaxis.set_ticks_position('left')\n",
    "            ax.xaxis.set_ticks_position('bottom')\n",
    "            ax.plot(np.arange(2500,3000),np.ones_like(np.arange(2500,3000))*-75,c='black')\n",
    "            ax.text(2500,-74,'500 ms')\n",
    "\n",
    "            if max(da[i])>0:\n",
    "                ax.set_ylim([-100,40])\n",
    "                ax.plot(2500*np.ones_like(np.arange(-60,-40)),np.arange(-60,-40),c='black')\n",
    "                ax.text(2550,-40,'20 mV')\n",
    "            else:\n",
    "                ax.set_ylim([-100,-70])\n",
    "                ax.plot(2500*np.ones_like(np.arange(-80,-75)),np.arange(-80,-75),c='black')\n",
    "                ax.text(2550,-78,'5 mV')\n",
    "            \n",
    "            fig.savefig('Level4/DA-B-control-traces'+str(i)+\".svg\")\n",
    "            \n",
    "    plt.figure()\n",
    "    \n",
    "    plt.plot(time,control_m,c='black')\n",
    "    plt.plot(time,da_m,c='red')\n",
    "    plt.fill_between(time,control_m-control_std,control_m+control_std,alpha=.1,color='black')\n",
    "    plt.fill_between(time,da_m-da_std,da_m+da_std,alpha=.1,color='red')      \n",
    "    \n",
    "    plt.show()"
   ]
  },
  {
   "cell_type": "code",
   "execution_count": null,
   "metadata": {},
   "outputs": [],
   "source": [
    "plot_DA_ACh_P_control(kl,type_cell='FSN')"
   ]
  },
  {
   "cell_type": "code",
   "execution_count": null,
   "metadata": {},
   "outputs": [],
   "source": [
    "plot_DA_ACh_P_control(kl,type_cell='dSPN')"
   ]
  },
  {
   "cell_type": "code",
   "execution_count": null,
   "metadata": {},
   "outputs": [],
   "source": [
    "plot_DA_ACh_B_control(kl,type_cell='dSPN')"
   ]
  },
  {
   "cell_type": "code",
   "execution_count": null,
   "metadata": {},
   "outputs": [],
   "source": [
    "plot_DA_ACh_B_control(kl,type_cell='FSN')"
   ]
  },
  {
   "cell_type": "code",
   "execution_count": null,
   "metadata": {},
   "outputs": [],
   "source": [
    "def plot_AChB_control(obj_loaded_traces,type_cell='dSPN'):\n",
    "    data_dict = obj_loaded_traces.get_traces(neuronType=type_cell)\n",
    "    \n",
    "   \n",
    "    \n",
    "    control = np.array([*data_dict[5].values()])\n",
    "\n",
    "    da = np.array([*data_dict[0].values()])\n",
    "    \n",
    "    control_m = np.mean(control,axis=0)\n",
    "    control_std = np.std(control,axis=0)\n",
    "    \n",
    "    da_m = np.mean(da,axis=0)\n",
    "    da_std = np.std(da,axis=0)\n",
    "    \n",
    "    \n",
    "    time = np.arange(0,3000.5,0.5)\n",
    "    for i in np.arange(1,1000,10):\n",
    "            fig = plt.figure(i)           \n",
    "            ax = fig.add_subplot(111)\n",
    "            ax.plot(time,control[i]*1e3,c='black')\n",
    "            ax.plot(time,da[i]*1e3,c='red')\n",
    "            ax.set_ylabel('Membrane potential (mV)')\n",
    "            ax.set_xlabel('Time(ms)')\n",
    "            \n",
    "            ax.spines['right'].set_visible(False)\n",
    "            ax.spines['top'].set_visible(False)\n",
    "            ax.yaxis.set_ticks_position('left')\n",
    "            ax.xaxis.set_ticks_position('bottom')\n",
    "            ax.plot(np.arange(2500,3000),np.ones_like(np.arange(2500,3000))*-75,c='black')\n",
    "            ax.text(2500,-74,'500 ms')\n",
    "\n",
    "            if max(da[i])>0:\n",
    "                ax.set_ylim([-100,40])\n",
    "                ax.plot(2500*np.ones_like(np.arange(-60,-40)),np.arange(-60,-40),c='black')\n",
    "                ax.text(2550,-40,'20 mV')\n",
    "            else:\n",
    "                ax.set_ylim([-100,-70])\n",
    "                ax.plot(2500*np.ones_like(np.arange(-80,-75)),np.arange(-80,-75),c='black')\n",
    "                ax.text(2550,-78,'5 mV')\n",
    "            \n",
    "            fig.savefig('Level4/AChB-control-traces'+str(i)+\".svg\")\n",
    "            \n",
    "    plt.figure(0)\n",
    "    \n",
    "    plt.plot(time,control_m,c='black')\n",
    "    plt.plot(time,da_m,c='red')\n",
    "    plt.fill_between(time,control_m-control_std,control_m+control_std,alpha=.1,color='black')\n",
    "    plt.fill_between(time,da_m-da_std,da_m+da_std,alpha=.1,color='red')      \n",
    "    \n",
    "    plt.show()"
   ]
  },
  {
   "cell_type": "code",
   "execution_count": null,
   "metadata": {},
   "outputs": [],
   "source": [
    "plot_AChB_control(kl,type_cell='dSPN')\n",
    "\n",
    "\n"
   ]
  },
  {
   "cell_type": "code",
   "execution_count": null,
   "metadata": {},
   "outputs": [],
   "source": [
    "plot_AChB_control(kl,type_cell='iSPN')"
   ]
  },
  {
   "cell_type": "code",
   "execution_count": null,
   "metadata": {},
   "outputs": [],
   "source": []
  },
  {
   "cell_type": "code",
   "execution_count": null,
   "metadata": {},
   "outputs": [],
   "source": []
  },
  {
   "cell_type": "code",
   "execution_count": null,
   "metadata": {},
   "outputs": [],
   "source": [
    "def percentage_spike(obj_loaded_traces,type_cell='dSPN',total=None):\n",
    "    \n",
    "    ratio = dict()\n",
    "    \n",
    "    data_dict = obj_loaded_traces.get_traces(neuronType=type_cell)\n",
    "    for k, data in data_dict.items():\n",
    "        \n",
    "        depol = 0\n",
    "        spike = 0\n",
    "        \n",
    "        for t, voltages in data.items():\n",
    "            if max(voltages)<0:\n",
    "                depol=depol+1\n",
    "            else:\n",
    "                spike=spike+1\n",
    "                \n",
    "        ratio.update({k : {'spike': spike, 'pol' : depol, 'percentage': spike/total*100}})\n",
    "        \n",
    "    return ratio"
   ]
  },
  {
   "cell_type": "code",
   "execution_count": null,
   "metadata": {},
   "outputs": [],
   "source": [
    "per_dSPN = percentage_spike(kl,type_cell='dSPN',total=5000)"
   ]
  },
  {
   "cell_type": "code",
   "execution_count": null,
   "metadata": {},
   "outputs": [],
   "source": [
    "per_iSPN = percentage_spike(kl,type_cell='iSPN',total=5000)"
   ]
  },
  {
   "cell_type": "code",
   "execution_count": null,
   "metadata": {},
   "outputs": [],
   "source": [
    "per_FSN = percentage_spike(kl,type_cell='FSN',total=100)"
   ]
  },
  {
   "cell_type": "code",
   "execution_count": null,
   "metadata": {},
   "outputs": [],
   "source": [
    "def plot_percentage(percentages,chosen=[3,4],labels_v=['control','DA'],c=['black','red'],exp_title='dSPN'):\n",
    "    fig, ax = plt.subplots()\n",
    "    pos = 3\n",
    "    for k, per in percentages.items():\n",
    "        if k in chosen:\n",
    "            ax.bar([k], [per['percentage']],align='center', alpha=0.5, ecolor='black', capsize=10,width=0.4,color=c[k])\n",
    "            \n",
    "    ax.set_ylabel('Percentage spiking neurons (total) %')\n",
    "    ax.set_title('Ratio spike/pol')\n",
    "    ax.set_xticks(range(len(chosen)))\n",
    "    ax.set_xticklabels(labels_v)\n",
    "    ax.spines['right'].set_visible(False)\n",
    "    ax.spines['top'].set_visible(False)\n",
    "    ax.yaxis.set_ticks_position('left')\n",
    "    ax.xaxis.set_ticks_position('bottom')\n",
    "\n",
    "\n",
    "    plt.tight_layout()\n",
    "    plt.title(exp_title)\n",
    "    plt.savefig('Level4/'+exp_title+'_precentage.svg')\n",
    "    plt.show()"
   ]
  },
  {
   "cell_type": "code",
   "execution_count": null,
   "metadata": {},
   "outputs": [],
   "source": [
    "plot_percentage(per_dSPN,exp_title='dSPN',labels_v=['ACh burst', 'ACh pause', 'DA ACh burst', 'DA and pause', 'DA', 'control'],chosen=[0,1,2,3,4,5],c=['red','green','blue','purple','orange','black'])"
   ]
  },
  {
   "cell_type": "code",
   "execution_count": null,
   "metadata": {},
   "outputs": [],
   "source": [
    "plot_percentage(per_iSPN,exp_title='iSPN',labels_v=['ACh burst', 'ACh pause', 'DA ACh burst', 'DA and pause', 'DA', 'control'],chosen=[0,1,2,3,4,5],c=['red','green','blue','purple','orange','black'])"
   ]
  },
  {
   "cell_type": "code",
   "execution_count": null,
   "metadata": {},
   "outputs": [],
   "source": [
    "plot_percentage(per_FSN,exp_title='FSN',labels_v=['ACh burst', 'ACh pause', 'DA ACh burst', 'DA and pause', 'DA', 'control'],chosen=[0,1,2,3,4,5],c=['red','green','blue','purple','orange','black'])"
   ]
  },
  {
   "cell_type": "code",
   "execution_count": null,
   "metadata": {},
   "outputs": [],
   "source": [
    "import snudda.neuromodulation.modulation as s\n",
    "import json\n",
    "import numpy as np\n",
    "import matplotlib.pyplot as plt"
   ]
  },
  {
   "cell_type": "code",
   "execution_count": null,
   "metadata": {
    "scrolled": false
   },
   "outputs": [],
   "source": [
    "%matplotlib notebook\n",
    "DA = json.load(open('../network_parameters/modulation/dopamine_alpha_transient.json','r'))\n",
    "DA_AChB = json.load(open('../network_parameters/modulation/acetylcholine_dopamine_alpha_transient.json','r'))\n",
    "DA_AChP = json.load(open('../network_parameters/modulation/acetylcholine_dopamine_pause_transient.json','r'))\n",
    "AChB = json.load(open('../network_parameters/modulation/acetylcholine_alpha_transient.json','r'))\n",
    "AChP = json.load(open('../network_parameters/modulation/acetylcholine_pause.json','r'))\n",
    "\n",
    "transient = [AChB,AChP,DA_AChB,DA_AChP,DA]\n",
    "\n",
    "colours={'DA' : 'red', 'ACh' : 'blue'}\n",
    "labels = ['AChB','AChP','DA-AChB','DA-AChP','DA']\n",
    "\n",
    "for i,k in enumerate(transient):\n",
    "    \n",
    "    fig = plt.figure(i,figsize=(8,3))\n",
    "    ax = fig.add_subplot(111)\n",
    "\n",
    "    for name, info in k.items(): \n",
    "        \n",
    "        method = getattr(s,info['method'])\n",
    "        time = np.arange(0,info['duration'],0.5)\n",
    "        info['parameters'].update({'time_step_array' : time})\n",
    "        ts = method(info['parameters'])\n",
    "        ax.plot(time,ts,color=colours[name],label=name,linewidth=4)\n",
    "        ax.set_ylabel('Modulation')\n",
    "        ax.set_xlabel('Time (ms)')\n",
    "        ax.plot(np.arange(2500,3000),np.ones_like(np.arange(2500,3000))*0.5,c='black')\n",
    "        ax.text(2500,0.5,'500 ms')\n",
    "        ax.set_yticks([0,1])\n",
    "        ax.set_yticklabels(['0','1'])\n",
    "        for axis in ['top','bottom','left','right']:\n",
    "          ax.spines[axis].set_linewidth(2)\n",
    "\n",
    "        ax.spines['right'].set_visible(False)\n",
    "        ax.spines['top'].set_visible(False)\n",
    "        ax.yaxis.set_ticks_position('left')\n",
    "        ax.xaxis.set_ticks_position('bottom')\n",
    "    fig.savefig('Level4/'+labels[i]+'transients.svg')\n",
    "    plt.legend()\n",
    "        \n",
    "    plt.show()\n"
   ]
  },
  {
   "cell_type": "code",
   "execution_count": null,
   "metadata": {},
   "outputs": [],
   "source": []
  }
 ],
 "metadata": {
  "kernelspec": {
   "display_name": "Python 3",
   "language": "python",
   "name": "python3"
  },
  "language_info": {
   "codemirror_mode": {
    "name": "ipython",
    "version": 3
   },
   "file_extension": ".py",
   "mimetype": "text/x-python",
   "name": "python",
   "nbconvert_exporter": "python",
   "pygments_lexer": "ipython3",
   "version": "3.7.9"
  }
 },
 "nbformat": 4,
 "nbformat_minor": 4
}
